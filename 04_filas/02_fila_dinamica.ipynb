{
 "cells": [
  {
   "cell_type": "markdown",
   "id": "incorporated-nelson",
   "metadata": {},
   "source": [
    "# Filas\n",
    "\n",
    "## Implementação Fila Dinâmica"
   ]
  },
  {
   "cell_type": "code",
   "execution_count": 1,
   "id": "stainless-plate",
   "metadata": {},
   "outputs": [],
   "source": [
    "#include <iostream>\n",
    "using namespace std;"
   ]
  },
  {
   "cell_type": "markdown",
   "id": "executed-generator",
   "metadata": {},
   "source": [
    "### Definição da Classe"
   ]
  },
  {
   "cell_type": "code",
   "execution_count": 2,
   "id": "satisfied-notice",
   "metadata": {},
   "outputs": [],
   "source": [
    "class Fila {\n",
    "    private:\n",
    "        struct elemento {\n",
    "            int valor;\n",
    "            elemento *proximoElemento; // ligação próximo nó\n",
    "        };\n",
    "        typedef elemento *PonteiroElemento;\n",
    "        PonteiroElemento inicio;\n",
    "        PonteiroElemento fim;\n",
    "    public:\n",
    "        Fila();\n",
    "        bool vazia() const;\n",
    "        bool cheia() const;\n",
    "        bool inserir(int x);\n",
    "        bool remover(int &x);\n",
    "};"
   ]
  },
  {
   "cell_type": "markdown",
   "id": "private-nepal",
   "metadata": {},
   "source": [
    "### Método Construtor"
   ]
  },
  {
   "cell_type": "code",
   "execution_count": 3,
   "id": "pediatric-description",
   "metadata": {},
   "outputs": [],
   "source": [
    "Fila::Fila() {\n",
    "    inicio = NULL;\n",
    "    fim = NULL;\n",
    "}"
   ]
  },
  {
   "cell_type": "code",
   "execution_count": 4,
   "id": "tender-burton",
   "metadata": {},
   "outputs": [],
   "source": [
    "Fila minhaFila;"
   ]
  },
  {
   "cell_type": "markdown",
   "id": "honest-tribe",
   "metadata": {},
   "source": [
    "![topo](imagens/filadinamica001.png)"
   ]
  },
  {
   "cell_type": "markdown",
   "id": "induced-entry",
   "metadata": {},
   "source": [
    "### Verifica se fila está vazia"
   ]
  },
  {
   "cell_type": "code",
   "execution_count": 5,
   "id": "fifth-history",
   "metadata": {},
   "outputs": [],
   "source": [
    "bool Fila::vazia() const {\n",
    "    return inicio == NULL;\n",
    "}"
   ]
  },
  {
   "cell_type": "code",
   "execution_count": 6,
   "id": "dietary-belfast",
   "metadata": {},
   "outputs": [
    {
     "name": "stdout",
     "output_type": "stream",
     "text": [
      "Está vazia!"
     ]
    }
   ],
   "source": [
    "if (minhaFila.vazia()) {\n",
    "    cout << \"Está vazia!\";\n",
    "}"
   ]
  },
  {
   "cell_type": "markdown",
   "id": "unlikely-industry",
   "metadata": {},
   "source": [
    "### Verifica se fila está cheia"
   ]
  },
  {
   "cell_type": "code",
   "execution_count": 7,
   "id": "bottom-medline",
   "metadata": {},
   "outputs": [],
   "source": [
    "bool Fila::cheia() const {\n",
    "    return false;\n",
    "}"
   ]
  },
  {
   "cell_type": "code",
   "execution_count": 8,
   "id": "contrary-control",
   "metadata": {},
   "outputs": [
    {
     "name": "stdout",
     "output_type": "stream",
     "text": [
      "Não está cheia!"
     ]
    }
   ],
   "source": [
    "if (! minhaFila.cheia()) {\n",
    "    cout << \"Não está cheia!\";\n",
    "}"
   ]
  },
  {
   "cell_type": "markdown",
   "id": "dressed-bosnia",
   "metadata": {},
   "source": [
    "### Inserção elemento na fila"
   ]
  },
  {
   "cell_type": "code",
   "execution_count": 9,
   "id": "welsh-geometry",
   "metadata": {},
   "outputs": [],
   "source": [
    "bool Fila::inserir(int x) {\n",
    "    PonteiroElemento p;\n",
    "    p = new elemento;\n",
    "    if (p == NULL) {\n",
    "        return 0;\n",
    "    }\n",
    "    p->valor = x;\n",
    "    if (vazia()) {\n",
    "        inicio = p;\n",
    "        fim = p;\n",
    "    } else {\n",
    "        fim->proximoElemento = p;\n",
    "        fim = p;\n",
    "    }\n",
    "    p->proximoElemento = NULL;\n",
    "    return true;\n",
    "}"
   ]
  },
  {
   "cell_type": "code",
   "execution_count": 10,
   "id": "expensive-antenna",
   "metadata": {},
   "outputs": [
    {
     "data": {
      "text/plain": [
       "true"
      ]
     },
     "execution_count": 10,
     "metadata": {},
     "output_type": "execute_result"
    }
   ],
   "source": [
    "minhaFila.inserir(1)"
   ]
  },
  {
   "cell_type": "markdown",
   "id": "suburban-possibility",
   "metadata": {},
   "source": [
    "```c\n",
    "minhaFila.inserir(1)\n",
    "```\n",
    "\n",
    "![topo](imagens/filadinamica002.png)    \n",
    "   \n",
    "```c\n",
    "PonteiroElemento p;\n",
    "```\n",
    "\n",
    "![topo](imagens/filadinamica003.png)\n",
    "\n",
    "```c    \n",
    "p = new elemento;\n",
    "```\n",
    "\n",
    "![topo](imagens/filadinamica004.png)\n",
    "    \n",
    "```c\n",
    "p->valor = x;\n",
    "```\n",
    "\n",
    "![topo](imagens/filadinamica005.png)\n",
    "    \n",
    "```c    \n",
    "if (vazia()) {\n",
    "    inicio = p;\n",
    "    fim = p;\n",
    "} else {\n",
    "    fim->proximoElemento = p;\n",
    "    fim = p;\n",
    "}\n",
    "```\n",
    "\n",
    "![topo](imagens/filadinamica006.png)\n",
    "    \n",
    "```c    \n",
    "p->proximoElemento = NULL;\n",
    "```\n",
    "\n",
    "![topo](imagens/filadinamica007.png)\n",
    "\n",
    "Finalizado o método:\n",
    "\n",
    "![topo](imagens/filadinamica008.png)"
   ]
  },
  {
   "cell_type": "code",
   "execution_count": 11,
   "id": "confirmed-hindu",
   "metadata": {},
   "outputs": [
    {
     "data": {
      "text/plain": [
       "true"
      ]
     },
     "execution_count": 11,
     "metadata": {},
     "output_type": "execute_result"
    }
   ],
   "source": [
    "minhaFila.inserir(2)"
   ]
  },
  {
   "cell_type": "markdown",
   "id": "existing-respect",
   "metadata": {},
   "source": [
    "```c\n",
    "minhaFila.inserir(2)\n",
    "```\n",
    "\n",
    "![topo](imagens/filadinamica009.png)    \n",
    "   \n",
    "```c\n",
    "PonteiroElemento p;\n",
    "```\n",
    "\n",
    "![topo](imagens/filadinamica010.png)\n",
    "\n",
    "```c    \n",
    "p = new elemento;\n",
    "```\n",
    "\n",
    "![topo](imagens/filadinamica011.png)\n",
    "    \n",
    "```c\n",
    "p->valor = x;\n",
    "```\n",
    "\n",
    "![topo](imagens/filadinamica012.png)\n",
    "    \n",
    "```c    \n",
    "if (vazia()) {\n",
    "    inicio = p;\n",
    "    fim = p;\n",
    "} else {\n",
    "    fim->proximoElemento = p;\n",
    "```\n",
    "\n",
    "![topo](imagens/filadinamica013.png)\n",
    "\n",
    "```c    \n",
    "    fim = p;\n",
    "}\n",
    "```\n",
    "\n",
    "![topo](imagens/filadinamica014.png)\n",
    "    \n",
    "```c    \n",
    "p->proximoElemento = NULL;\n",
    "```\n",
    "\n",
    "![topo](imagens/filadinamica015.png)\n",
    "\n",
    "Finalizado o método:\n",
    "\n",
    "![topo](imagens/filadinamica016.png)"
   ]
  },
  {
   "cell_type": "code",
   "execution_count": 12,
   "id": "separated-liechtenstein",
   "metadata": {},
   "outputs": [
    {
     "data": {
      "text/plain": [
       "true"
      ]
     },
     "execution_count": 12,
     "metadata": {},
     "output_type": "execute_result"
    }
   ],
   "source": [
    "minhaFila.inserir(3)"
   ]
  },
  {
   "cell_type": "markdown",
   "id": "authorized-partnership",
   "metadata": {},
   "source": [
    "```c\n",
    "minhaFila.inserir(3)\n",
    "```\n",
    "\n",
    "![topo](imagens/filadinamica017.png)    \n",
    "   \n",
    "```c\n",
    "PonteiroElemento p;\n",
    "```\n",
    "\n",
    "![topo](imagens/filadinamica018.png)\n",
    "\n",
    "```c    \n",
    "p = new elemento;\n",
    "```\n",
    "\n",
    "![topo](imagens/filadinamica019.png)\n",
    "    \n",
    "```c\n",
    "p->valor = x;\n",
    "```\n",
    "\n",
    "![topo](imagens/filadinamica020.png)\n",
    "    \n",
    "```c    \n",
    "if (vazia()) {\n",
    "    inicio = p;\n",
    "    fim = p;\n",
    "} else {\n",
    "    fim->proximoElemento = p;\n",
    "```\n",
    "\n",
    "![topo](imagens/filadinamica021.png)\n",
    "\n",
    "```c    \n",
    "    fim = p;\n",
    "}\n",
    "```\n",
    "\n",
    "![topo](imagens/filadinamica022.png)\n",
    "\n",
    "```c    \n",
    "p->proximoElemento = NULL;\n",
    "```\n",
    "\n",
    "![topo](imagens/filadinamica023.png)\n",
    "\n",
    "Finalizado o método:\n",
    "\n",
    "![topo](imagens/filadinamica024.png)"
   ]
  },
  {
   "cell_type": "markdown",
   "id": "incoming-bryan",
   "metadata": {},
   "source": [
    "### Remoção de Elemento da Fila"
   ]
  },
  {
   "cell_type": "code",
   "execution_count": 13,
   "id": "saving-document",
   "metadata": {},
   "outputs": [],
   "source": [
    "bool Fila::remover(int &x) {\n",
    "    PonteiroElemento p;\n",
    "    if (vazia())\n",
    "        return false;\n",
    "    x = inicio->valor;\n",
    "    p = inicio;\n",
    "    inicio = inicio->proximoElemento;\n",
    "    delete p;\n",
    "    if (inicio == NULL)\n",
    "        fim = NULL;\n",
    "    return true;\n",
    "}"
   ]
  },
  {
   "cell_type": "code",
   "execution_count": 14,
   "id": "representative-timeline",
   "metadata": {},
   "outputs": [
    {
     "name": "stdout",
     "output_type": "stream",
     "text": [
      "1 removido com sucesso!\n"
     ]
    }
   ],
   "source": [
    "int y;\n",
    "if (minhaFila.remover(y))\n",
    "        cout << y << \" removido com sucesso!\\n\";\n",
    "    else\n",
    "        cout << \"não houve remoção!\\n\";"
   ]
  },
  {
   "cell_type": "code",
   "execution_count": 15,
   "id": "driving-savannah",
   "metadata": {},
   "outputs": [
    {
     "name": "stdout",
     "output_type": "stream",
     "text": [
      "2"
     ]
    }
   ],
   "source": [
    "minhaFila.remover(y);\n",
    "cout << y;"
   ]
  },
  {
   "cell_type": "markdown",
   "id": "welcome-circle",
   "metadata": {},
   "source": [
    "```c\n",
    "PonteiroElemento p;\n",
    "```\n",
    "\n",
    "![topo](imagens/filadinamica025.png)\n",
    "\n",
    "```c\n",
    "if (vazia())\n",
    "    return false;\n",
    "x = inicio->valor;\n",
    "```\n",
    "\n",
    "![topo](imagens/filadinamica026.png)\n",
    "\n",
    "```c\n",
    "p = inicio;\n",
    "```\n",
    "\n",
    "![topo](imagens/filadinamica027.png)\n",
    "\n",
    "```c\n",
    "inicio = inicio->proximoElemento;\n",
    "```\n",
    "\n",
    "![topo](imagens/filadinamica028.png)\n",
    "\n",
    "```c\n",
    "delete p;\n",
    "```\n",
    "\n",
    "![topo](imagens/filadinamica029.png)\n",
    "\n",
    "```c\n",
    "if (inicio == NULL)\n",
    "    fim = NULL;\n",
    "return true;\n",
    "```"
   ]
  },
  {
   "cell_type": "markdown",
   "id": "dependent-algeria",
   "metadata": {},
   "source": [
    "### Outros testes\n",
    "\n",
    "#### Teste 01"
   ]
  },
  {
   "cell_type": "code",
   "execution_count": 16,
   "id": "concrete-military",
   "metadata": {},
   "outputs": [],
   "source": [
    "Fila minhaFila;"
   ]
  },
  {
   "cell_type": "code",
   "execution_count": 17,
   "id": "federal-local",
   "metadata": {},
   "outputs": [
    {
     "name": "stdout",
     "output_type": "stream",
     "text": [
      "Digite um valor [0]: "
     ]
    },
    {
     "name": "stdin",
     "output_type": "stream",
     "text": [
      " 3\n"
     ]
    },
    {
     "name": "stdout",
     "output_type": "stream",
     "text": [
      "Digite um valor [1]: "
     ]
    },
    {
     "name": "stdin",
     "output_type": "stream",
     "text": [
      " 2\n"
     ]
    },
    {
     "name": "stdout",
     "output_type": "stream",
     "text": [
      "Digite um valor [2]: "
     ]
    },
    {
     "name": "stdin",
     "output_type": "stream",
     "text": [
      " 1\n"
     ]
    },
    {
     "name": "stdout",
     "output_type": "stream",
     "text": [
      "Digite um valor [3]: "
     ]
    },
    {
     "name": "stdin",
     "output_type": "stream",
     "text": [
      " 4\n"
     ]
    }
   ],
   "source": [
    "int y;\n",
    "for (int i = 0; i < 4 ; i ++) {\n",
    "    cout << \"Digite um valor [\" << i << \"]: \";\n",
    "    cin >> y;\n",
    "    minhaFila.inserir(y);\n",
    "}"
   ]
  },
  {
   "cell_type": "code",
   "execution_count": 18,
   "id": "trained-kidney",
   "metadata": {},
   "outputs": [
    {
     "name": "stdout",
     "output_type": "stream",
     "text": [
      "Removido [0]: 3 - Vazia: 0\n",
      "Removido [1]: 2 - Vazia: 0\n",
      "Removido [2]: 1 - Vazia: 0\n",
      "Removido [3]: 4 - Vazia: 1\n",
      "Sem elementos para remover! - Vazia: 1\n",
      "Sem elementos para remover! - Vazia: 1\n"
     ]
    }
   ],
   "source": [
    "for (int i = 0; i < 6 ; i ++) {\n",
    "    if (minhaFila.remover(y))\n",
    "        cout << \"Removido [\" << i << \"]: \" << y << \" - Vazia: \" << minhaFila.vazia() << \"\\n\";\n",
    "    else\n",
    "        cout << \"Sem elementos para remover!\" << \" - Vazia: \" << minhaFila.vazia() << \"\\n\";\n",
    "}"
   ]
  },
  {
   "cell_type": "markdown",
   "id": "conventional-vaccine",
   "metadata": {},
   "source": [
    "#### Teste 02"
   ]
  },
  {
   "cell_type": "code",
   "execution_count": 19,
   "id": "outstanding-board",
   "metadata": {},
   "outputs": [],
   "source": [
    "Fila minhaFila;"
   ]
  },
  {
   "cell_type": "code",
   "execution_count": 20,
   "id": "possible-german",
   "metadata": {},
   "outputs": [
    {
     "name": "stdout",
     "output_type": "stream",
     "text": [
      "4 inserido com sucesso!\n",
      "5 inserido com sucesso!\n",
      "6 inserido com sucesso!\n",
      "7 inserido com sucesso!\n",
      "8 inserido com sucesso!\n",
      "9 inserido com sucesso!\n",
      "10 inserido com sucesso!\n",
      "11 inserido com sucesso!\n",
      "12 inserido com sucesso!\n",
      "13 inserido com sucesso!\n",
      "14 inserido com sucesso!\n",
      "15 inserido com sucesso!\n",
      "16 inserido com sucesso!\n",
      "17 inserido com sucesso!\n",
      "18 inserido com sucesso!\n",
      "19 inserido com sucesso!\n"
     ]
    }
   ],
   "source": [
    "for (int i = 4; i < 20; i++) {\n",
    "    if (minhaFila.inserir(i))\n",
    "        cout << i << \" inserido com sucesso!\\n\";\n",
    "    else\n",
    "        cout << i << \" não foi inserido!\\n\";\n",
    "}"
   ]
  },
  {
   "cell_type": "code",
   "execution_count": 21,
   "id": "correct-culture",
   "metadata": {},
   "outputs": [
    {
     "name": "stdout",
     "output_type": "stream",
     "text": [
      "4 removido com sucesso! -  [ok]\n",
      "5 removido com sucesso! -  [ok]\n",
      "6 removido com sucesso! -  [ok]\n",
      "7 removido com sucesso! -  [ok]\n",
      "8 removido com sucesso! -  [ok]\n",
      "9 removido com sucesso! -  [ok]\n",
      "10 removido com sucesso! -  [ok]\n",
      "11 removido com sucesso! -  [ok]\n",
      "12 removido com sucesso! -  [ok]\n",
      "13 removido com sucesso! -  [ok]\n",
      "14 removido com sucesso! -  [ok]\n",
      "15 removido com sucesso! -  [ok]\n",
      "16 removido com sucesso! -  [ok]\n",
      "17 removido com sucesso! -  [ok]\n",
      "18 removido com sucesso! -  [ok]\n",
      "19 removido com sucesso! -  [ok]\n",
      " fila vazia!\n",
      " fila vazia!\n",
      " fila vazia!\n",
      " fila vazia!\n"
     ]
    }
   ],
   "source": [
    "for (int i = 4; i < 24; i++) {\n",
    "    if (minhaFila.remover(y)) {\n",
    "        cout << y << \" removido com sucesso! - \";\n",
    "        if (y == i)\n",
    "            cout << \" [ok]\\n\";\n",
    "        else\n",
    "            cout << \" [not ok]\\n\";\n",
    "    }\n",
    "    else\n",
    "        cout << \" fila vazia!\\n\";\n",
    "}"
   ]
  },
  {
   "cell_type": "code",
   "execution_count": null,
   "id": "numeric-reserve",
   "metadata": {},
   "outputs": [],
   "source": []
  },
  {
   "cell_type": "code",
   "execution_count": null,
   "id": "artistic-motor",
   "metadata": {},
   "outputs": [],
   "source": []
  },
  {
   "cell_type": "code",
   "execution_count": null,
   "id": "registered-violation",
   "metadata": {},
   "outputs": [],
   "source": []
  },
  {
   "cell_type": "code",
   "execution_count": 22,
   "id": "mighty-northwest",
   "metadata": {},
   "outputs": [
    {
     "name": "stdout",
     "output_type": "stream",
     "text": [
      "Writing Fila.h\n"
     ]
    }
   ],
   "source": [
    "%%file Fila.h\n",
    "class Fila {\n",
    "    private:\n",
    "        struct elemento {\n",
    "            int valor;\n",
    "            elemento *proximoElemento; // ligação próximo nó\n",
    "        };\n",
    "        typedef elemento *PonteiroElemento;\n",
    "        PonteiroElemento inicio;\n",
    "        PonteiroElemento fim;\n",
    "    public:\n",
    "        Fila();\n",
    "        bool vazia();\n",
    "        bool cheia();\n",
    "        bool inserir(int x);\n",
    "        bool remover(int &x);\n",
    "};"
   ]
  },
  {
   "cell_type": "code",
   "execution_count": 23,
   "id": "interracial-january",
   "metadata": {},
   "outputs": [
    {
     "name": "stdout",
     "output_type": "stream",
     "text": [
      "Writing Fila.cpp\n"
     ]
    }
   ],
   "source": [
    "%%file Fila.cpp\n",
    "#include <cstdlib>\n",
    "#include \"Fila.h\"\n",
    "\n",
    "Fila::Fila() {\n",
    "    inicio = NULL;\n",
    "    fim = NULL;\n",
    "}\n",
    "\n",
    "bool Fila::vazia() {\n",
    "    return (inicio == NULL);\n",
    "}\n",
    "\n",
    "bool Fila::cheia() {\n",
    "    return false;\n",
    "}\n",
    "\n",
    "bool Fila::inserir(int x) {\n",
    "    PonteiroElemento p;\n",
    "    p = new elemento;\n",
    "    p->valor = x;\n",
    "    if (vazia()) {\n",
    "        inicio = p;\n",
    "        fim = p;\n",
    "    } else {\n",
    "        fim->proximoElemento = p;\n",
    "        fim = p;\n",
    "    }\n",
    "    p->proximoElemento = NULL;\n",
    "    return true;\n",
    "}\n",
    "\n",
    "bool Fila::remover(int &x) {\n",
    "    PonteiroElemento p;\n",
    "    if (vazia())\n",
    "        return false;\n",
    "    x = inicio->valor;\n",
    "    p = inicio;\n",
    "    inicio = inicio->proximoElemento;\n",
    "    delete p;\n",
    "    if (inicio == NULL)\n",
    "        fim = NULL;\n",
    "    return true;\n",
    "}\n",
    "\n"
   ]
  },
  {
   "cell_type": "code",
   "execution_count": 24,
   "id": "aquatic-interest",
   "metadata": {},
   "outputs": [
    {
     "name": "stdout",
     "output_type": "stream",
     "text": [
      "Writing teste01.cpp\n"
     ]
    }
   ],
   "source": [
    "%%file teste01.cpp\n",
    "#include <iostream>\n",
    "#include \"Fila.cpp\"\n",
    "\n",
    "using namespace std;\n",
    "\n",
    "int main() {\n",
    "    Fila minhaFila;\n",
    "    int x, y;\n",
    "\n",
    "    if (minhaFila.vazia()) {\n",
    "        cout << \"Esta vazia!\\n\";\n",
    "    } \n",
    "    minhaFila.inserir(1);\n",
    "    cout << \"Esta vazia: \" << minhaFila.vazia() << \"\\n\";\n",
    "    minhaFila.inserir(2);\n",
    "    cout << \"Esta vazia: \" << minhaFila.vazia() << \"\\n\";\n",
    "    minhaFila.remover(x);\n",
    "    cout << \"Esta vazia: \" << minhaFila.vazia() << \"\\n\";\n",
    "    minhaFila.remover(x);\n",
    "    cout << \"Esta vazia: \" << minhaFila.vazia() << \"\\n\";\n",
    "}"
   ]
  },
  {
   "cell_type": "code",
   "execution_count": 25,
   "id": "acceptable-transsexual",
   "metadata": {},
   "outputs": [],
   "source": [
    "!g++ -o teste01 teste01.cpp"
   ]
  },
  {
   "cell_type": "code",
   "execution_count": 26,
   "id": "danish-philip",
   "metadata": {},
   "outputs": [
    {
     "name": "stdout",
     "output_type": "stream",
     "text": [
      "Esta vazia!\n",
      "Esta vazia: 0\n",
      "Esta vazia: 0\n",
      "Esta vazia: 0\n",
      "Esta vazia: 1\n"
     ]
    }
   ],
   "source": [
    "!./teste01"
   ]
  },
  {
   "cell_type": "code",
   "execution_count": null,
   "id": "limited-projector",
   "metadata": {},
   "outputs": [],
   "source": []
  },
  {
   "cell_type": "code",
   "execution_count": 27,
   "id": "integral-winner",
   "metadata": {},
   "outputs": [
    {
     "name": "stdout",
     "output_type": "stream",
     "text": [
      "Writing Teste01.h\n"
     ]
    }
   ],
   "source": [
    "%%file Teste01.h\n",
    "#include <cxxtest/TestSuite.h>\n",
    "#include \"Fila.cpp\"\n",
    "\n",
    "class MyTestSuite1 : public CxxTest::TestSuite\n",
    "{\n",
    "public:\n",
    "    void testaVazia(void)\n",
    "    {\n",
    "        Fila fila01;\n",
    "        int y;\n",
    "        \n",
    "        TS_ASSERT(fila01.vazia() == true);\n",
    "        TS_ASSERT(fila01.cheia() == false);\n",
    "\n",
    "        TS_ASSERT(fila01.inserir(1) == true);\n",
    "        TS_ASSERT(fila01.vazia() == false);\n",
    "        TS_ASSERT(fila01.cheia() == false);\n",
    "\n",
    "        TS_ASSERT(fila01.inserir(2) == true);\n",
    "        TS_ASSERT(fila01.vazia() == false);\n",
    "        TS_ASSERT(fila01.cheia() == false);\n",
    "\n",
    "        TS_ASSERT(fila01.remover(y) == true);\n",
    "        TS_ASSERT(y == 1);\n",
    "        TS_ASSERT(fila01.vazia() == false);\n",
    "        TS_ASSERT(fila01.cheia() == false);\n",
    "\n",
    "        TS_ASSERT(fila01.remover(y) == true);\n",
    "        TS_ASSERT(y == 2);\n",
    "        TS_ASSERT(fila01.vazia() == true);\n",
    "        TS_ASSERT(fila01.cheia() == false);\n",
    "\n",
    "        fila01.remover(y);\n",
    "        TS_ASSERT(fila01.vazia() == true);\n",
    "        TS_ASSERT(fila01.cheia() == false);\n",
    "    }\n",
    "    \n",
    "    void testaInserir(void)\n",
    "    {\n",
    "        Fila fila01;\n",
    "        int y;\n",
    "        \n",
    "\n",
    "        TS_ASSERT(fila01.inserir(1) == true);\n",
    "\n",
    "        TS_ASSERT(fila01.inserir(2) == true);\n",
    "\n",
    "        TS_ASSERT(fila01.remover(y) == true);\n",
    "        TS_ASSERT(y == 1);\n",
    "\n",
    "        TS_ASSERT(fila01.remover(y) == true);\n",
    "        TS_ASSERT(y == 2);\n",
    "\n",
    "        TS_ASSERT(fila01.remover(y) == false);\n",
    "        \n",
    "    }\n",
    "    \n",
    "    \n",
    "};\n"
   ]
  },
  {
   "cell_type": "code",
   "execution_count": 28,
   "id": "furnished-makeup",
   "metadata": {},
   "outputs": [],
   "source": [
    "!cxxtestgen --error-printer -o runner01.cpp Teste01.h"
   ]
  },
  {
   "cell_type": "code",
   "execution_count": 29,
   "id": "nasty-preview",
   "metadata": {},
   "outputs": [],
   "source": [
    "!g++ -o runner01 runner01.cpp"
   ]
  },
  {
   "cell_type": "code",
   "execution_count": 30,
   "id": "faced-psychiatry",
   "metadata": {},
   "outputs": [
    {
     "name": "stdout",
     "output_type": "stream",
     "text": [
      "Running cxxtest tests (2 tests)..OK!\n"
     ]
    }
   ],
   "source": [
    "!./runner01"
   ]
  },
  {
   "cell_type": "code",
   "execution_count": null,
   "id": "entertaining-warrant",
   "metadata": {},
   "outputs": [],
   "source": []
  },
  {
   "cell_type": "code",
   "execution_count": null,
   "id": "verbal-prefix",
   "metadata": {},
   "outputs": [],
   "source": []
  },
  {
   "cell_type": "code",
   "execution_count": null,
   "id": "normal-destination",
   "metadata": {},
   "outputs": [],
   "source": []
  },
  {
   "cell_type": "code",
   "execution_count": null,
   "id": "wicked-tobago",
   "metadata": {},
   "outputs": [],
   "source": []
  },
  {
   "cell_type": "code",
   "execution_count": 31,
   "id": "purple-contest",
   "metadata": {},
   "outputs": [
    {
     "name": "stdout",
     "output_type": "stream",
     "text": [
      "Overwriting teste01.cpp\n"
     ]
    }
   ],
   "source": [
    "%%file teste01.cpp\n",
    "#include <iostream>\n",
    "#include \"Fila.cpp\"\n",
    "\n",
    "using namespace std;\n",
    "\n",
    "int main() {\n",
    "    Fila minhaFila;\n",
    "    int x, y;\n",
    "\n",
    "    if (minhaFila.vazia()) {\n",
    "        cout << \"Esta vazia!\\n\";\n",
    "    } \n",
    "    minhaFila.inserir(1);\n",
    "    cout << \"Esta vazia: \" << minhaFila.vazia() << \"\\n\";\n",
    "    minhaFila.inserir(2);\n",
    "    cout << \"Esta vazia: \" << minhaFila.vazia() << \"\\n\";\n",
    "    minhaFila.remover(x);\n",
    "    cout << \"Esta vazia: \" << minhaFila.vazia() << \"\\n\";\n",
    "    minhaFila.remover(x);\n",
    "    cout << \"Esta vazia: \" << minhaFila.vazia() << \"\\n\";\n",
    "}"
   ]
  },
  {
   "cell_type": "code",
   "execution_count": 32,
   "id": "fatty-density",
   "metadata": {},
   "outputs": [],
   "source": [
    "!g++ -o teste01 teste01.cpp"
   ]
  },
  {
   "cell_type": "code",
   "execution_count": 33,
   "id": "religious-reflection",
   "metadata": {},
   "outputs": [
    {
     "name": "stdout",
     "output_type": "stream",
     "text": [
      "Esta vazia!\n",
      "Esta vazia: 0\n",
      "Esta vazia: 0\n",
      "Esta vazia: 0\n",
      "Esta vazia: 1\n"
     ]
    }
   ],
   "source": [
    "!./teste01"
   ]
  },
  {
   "cell_type": "code",
   "execution_count": null,
   "id": "nutritional-travel",
   "metadata": {},
   "outputs": [],
   "source": []
  }
 ],
 "metadata": {
  "kernelspec": {
   "display_name": "C++11",
   "language": "C++11",
   "name": "xcpp11"
  },
  "language_info": {
   "codemirror_mode": "text/x-c++src",
   "file_extension": ".cpp",
   "mimetype": "text/x-c++src",
   "name": "c++",
   "version": "11"
  }
 },
 "nbformat": 4,
 "nbformat_minor": 5
}
