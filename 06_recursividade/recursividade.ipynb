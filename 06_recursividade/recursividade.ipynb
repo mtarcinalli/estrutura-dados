{
 "cells": [
  {
   "cell_type": "markdown",
   "id": "assigned-laundry",
   "metadata": {},
   "source": [
    "# Recursividade\n",
    "\n",
    "Técnida na qual uma função chama a si mesmo.\n",
    "\n",
    "![topo](imagens/matroska.jpg)\n",
    "\n",
    "Objetivo: projetar um algoritmo para solucionar um problema solucionando uma instância menor do mesmo problema, a menos que o problema seja tão pequeno que possamos resolvê-lo diretamente."
   ]
  },
  {
   "cell_type": "code",
   "execution_count": 4,
   "id": "established-solid",
   "metadata": {},
   "outputs": [],
   "source": [
    "#include <iostream>\n",
    "#include <chrono>\n",
    "#include <string>\n",
    "\n",
    "using namespace std;"
   ]
  },
  {
   "cell_type": "code",
   "execution_count": 5,
   "id": "qualified-frequency",
   "metadata": {},
   "outputs": [],
   "source": [
    "void funcao_recursiva(int p) {\n",
    "    if (p == 0)\n",
    "        return;\n",
    "    else\n",
    "        funcao_recursiva(p-1);\n",
    "    cout << p << \"\\n\";\n",
    "}"
   ]
  },
  {
   "cell_type": "code",
   "execution_count": 6,
   "id": "empirical-hormone",
   "metadata": {},
   "outputs": [
    {
     "name": "stdout",
     "output_type": "stream",
     "text": [
      "1\n",
      "2\n",
      "3\n"
     ]
    }
   ],
   "source": [
    "funcao_recursiva(3);"
   ]
  },
  {
   "cell_type": "markdown",
   "id": "described-honey",
   "metadata": {},
   "source": [
    "```c\n",
    "void funcao_recursiva(int p) {\n",
    "    if (p == 0)\n",
    "        return;\n",
    "    else\n",
    "        funcao_recursiva(p-1);\n",
    "    cout << p << \"\\n\";\n",
    "}\n",
    "\n",
    "funcao_recursiva(3)\n",
    "```\n",
    "![topo](imagens/recursividade01.png)\n",
    "```c\n",
    "    if (p == 0)\n",
    "        return;\n",
    "    else\n",
    "        funcao_recursiva(p-1);\n",
    "```\n",
    "![topo](imagens/recursividade02.png)\n",
    "```c\n",
    "    if (p == 0)\n",
    "        return;\n",
    "    else\n",
    "        funcao_recursiva(p-1);\n",
    "```\n",
    "![topo](imagens/recursividade03.png)\n",
    "```c\n",
    "    if (p == 0)\n",
    "        return;\n",
    "    else\n",
    "        funcao_recursiva(p-1);\n",
    "```\n",
    "![topo](imagens/recursividade04.png)\n",
    "```c\n",
    "    if (p == 0)\n",
    "        return;\n",
    "```\n",
    "![topo](imagens/recursividade03.png)\n",
    "```c\n",
    "    if (p == 0)\n",
    "        return;\n",
    "    else\n",
    "        funcao_recursiva(p-1);\n",
    "    cout << p << \"\\n\";\n",
    "```\n",
    "![topo](imagens/recursividade02.png)\n",
    "```c\n",
    "    if (p == 0)\n",
    "        return;\n",
    "    else\n",
    "        funcao_recursiva(p-1);\n",
    "    cout << p << \"\\n\";\n",
    "```\n",
    "![topo](imagens/recursividade01.png)\n",
    "```c\n",
    "    if (p == 0)\n",
    "        return;\n",
    "    else\n",
    "        funcao_recursiva(p-1);\n",
    "    cout << p << \"\\n\";\n",
    "```\n",
    "\n",
    "\n"
   ]
  },
  {
   "cell_type": "markdown",
   "id": "wound-verse",
   "metadata": {},
   "source": [
    "## Fatorial\n",
    "\n",
    "5! = 1 $\\times$ 2 $\\times$ 3 $\\times$ 4 $\\times$ 5  = 120\n"
   ]
  },
  {
   "cell_type": "code",
   "execution_count": 8,
   "id": "electronic-behalf",
   "metadata": {},
   "outputs": [],
   "source": [
    "unsigned long fatorialIterativo(unsigned long n) {\n",
    "    unsigned long fatorial = 1;\n",
    "    for (int i = 1 ; i <= n ; i++) {\n",
    "        fatorial = fatorial * i;\n",
    "    }\n",
    "    return fatorial;\n",
    "}"
   ]
  },
  {
   "cell_type": "code",
   "execution_count": 9,
   "id": "engaged-college",
   "metadata": {},
   "outputs": [
    {
     "name": "stdout",
     "output_type": "stream",
     "text": [
      "0! = 1\n",
      "1! = 1\n",
      "5! = 120\n"
     ]
    }
   ],
   "source": [
    "cout << \"0! = \" << fatorialIterativo(0) << endl;\n",
    "cout << \"1! = \" << fatorialIterativo(1) << endl;\n",
    "cout << \"5! = \" << fatorialIterativo(5) << endl;"
   ]
  },
  {
   "cell_type": "code",
   "execution_count": 11,
   "id": "specified-dryer",
   "metadata": {},
   "outputs": [],
   "source": [
    "unsigned long fatorialRecursivo(unsigned long n) {\n",
    "    unsigned long fatorial;\n",
    "    if (n == 1 or n == 0)\n",
    "        fatorial = 1;\n",
    "    else\n",
    "        fatorial = n * fatorialRecursivo(n-1);\n",
    "    return fatorial;\n",
    "}"
   ]
  },
  {
   "cell_type": "code",
   "execution_count": 12,
   "id": "unexpected-characteristic",
   "metadata": {},
   "outputs": [
    {
     "name": "stdout",
     "output_type": "stream",
     "text": [
      "0! = 1\n",
      "1! = 1\n",
      "5! = 120\n"
     ]
    }
   ],
   "source": [
    "cout << \"0! = \" << fatorialRecursivo(0) << endl;\n",
    "cout << \"1! = \" << fatorialRecursivo(1) << endl;\n",
    "cout << \"5! = \" << fatorialRecursivo(5) << endl;"
   ]
  },
  {
   "cell_type": "code",
   "execution_count": 14,
   "id": "infinite-tackle",
   "metadata": {},
   "outputs": [
    {
     "name": "stdout",
     "output_type": "stream",
     "text": [
      "6"
     ]
    }
   ],
   "source": [
    "int resultado;\n",
    "resultado = fatorialRecursivo(3);\n",
    "cout << resultado;"
   ]
  },
  {
   "cell_type": "code",
   "execution_count": null,
   "id": "foster-disability",
   "metadata": {},
   "outputs": [],
   "source": [
    "int main() {\n",
    "    int x, y;\n",
    "    ola();\n",
    "    x=1;\n",
    "}\n",
    "\n",
    "int ola() {\n",
    "    int x, y;\n",
    "}"
   ]
  },
  {
   "cell_type": "markdown",
   "id": "vulnerable-logan",
   "metadata": {},
   "source": [
    "# Testes"
   ]
  },
  {
   "cell_type": "code",
   "execution_count": 15,
   "id": "allied-sally",
   "metadata": {},
   "outputs": [
    {
     "name": "stdout",
     "output_type": "stream",
     "text": [
      "Overwriting recursivo.cpp\n"
     ]
    }
   ],
   "source": [
    "%%file recursivo.cpp\n",
    "#include <iostream>\n",
    "#include <chrono>\n",
    "\n",
    "\n",
    "using namespace std;\n",
    "\n",
    "unsigned long long fatorialIterativo(unsigned long long n) {\n",
    "    unsigned long long fatorial = 1;\n",
    "    for (unsigned long long i = 1 ; i <=n ; i++) {\n",
    "        fatorial = fatorial * i;\n",
    "    }\n",
    "    return fatorial;\n",
    "}\n",
    "\n",
    "unsigned long long fatorialRecursivo(unsigned long long n) {\n",
    "    if (n == 1 or n == 0)\n",
    "        return 1;\n",
    "    else\n",
    "        return n * fatorialRecursivo(n-1);\n",
    "}\n",
    "\n",
    "int main() {\n",
    "    unsigned int antes, depois;\n",
    "\n",
    "    antes = std::chrono::duration_cast<std::chrono::milliseconds>(std::chrono::system_clock::now().time_since_epoch()).count();\n",
    "    cout << \"100000! = \" << fatorialIterativo(100000) << endl;\n",
    "    depois = std::chrono::duration_cast<std::chrono::milliseconds>(std::chrono::system_clock::now().time_since_epoch()).count();\n",
    "    cout << \"\\nTempo execução: \" << (depois - antes) << \" ms\\n\";\n",
    "    \n",
    "    \n",
    "    antes = std::chrono::duration_cast<std::chrono::milliseconds>(std::chrono::system_clock::now().time_since_epoch()).count();\n",
    "    cout << \"100000! = \" << fatorialRecursivo(100000) << endl;\n",
    "    depois = std::chrono::duration_cast<std::chrono::milliseconds>(std::chrono::system_clock::now().time_since_epoch()).count();\n",
    "\n",
    "    cout << \"\\nTempo execução: \" << (depois - antes) << \" ms\\n\";    \n",
    "    return 0;\n",
    "}"
   ]
  },
  {
   "cell_type": "code",
   "execution_count": 16,
   "id": "preliminary-north",
   "metadata": {},
   "outputs": [],
   "source": [
    "!g++ recursivo.cpp -o recursivo"
   ]
  },
  {
   "cell_type": "code",
   "execution_count": 17,
   "id": "suspected-desire",
   "metadata": {},
   "outputs": [
    {
     "name": "stdout",
     "output_type": "stream",
     "text": [
      "100000! = 0\n",
      "\n",
      "Tempo execução: 3 ms\n",
      "100000! = 0\n",
      "\n",
      "Tempo execução: 7 ms\n"
     ]
    }
   ],
   "source": [
    "!./recursivo"
   ]
  },
  {
   "cell_type": "code",
   "execution_count": 18,
   "id": "powered-creature",
   "metadata": {},
   "outputs": [
    {
     "name": "stdout",
     "output_type": "stream",
     "text": [
      "Overwriting recursivo02.cpp\n"
     ]
    }
   ],
   "source": [
    "%%file recursivo02.cpp\n",
    "#include <iostream>\n",
    "#include <chrono>\n",
    "#include <gmpxx.h>\n",
    "\n",
    "using namespace std;\n",
    "\n",
    "mpz_class fatorialIterativo(int n) {\n",
    "    mpz_class fatorial = 1;\n",
    "    for (int i = 1 ; i <=n ; i++) {\n",
    "        fatorial = fatorial * i;\n",
    "    }\n",
    "    return fatorial;\n",
    "}\n",
    "\n",
    "mpz_class fatorialRecursivo(int n) {\n",
    "    if (n == 1 or n == 0)\n",
    "        return 1;\n",
    "    else\n",
    "        return n * fatorialRecursivo(n-1);\n",
    "}\n",
    "\n",
    "int main() {\n",
    "    unsigned int antes, depois;\n",
    "\n",
    "    antes = std::chrono::duration_cast<std::chrono::milliseconds>(std::chrono::system_clock::now().time_since_epoch()).count();\n",
    "    //cout << \"100000! = \" <<  \n",
    "    fatorialIterativo(50000);\n",
    "    //<< \"\\n\\n\";\n",
    "    depois = std::chrono::duration_cast<std::chrono::milliseconds>(std::chrono::system_clock::now().time_since_epoch()).count();\n",
    "    cout << \"\\nTempo execução: \" << (depois - antes) << \" ms\\n\";\n",
    "    \n",
    "    \n",
    "    antes = std::chrono::duration_cast<std::chrono::milliseconds>(std::chrono::system_clock::now().time_since_epoch()).count();\n",
    "    //cout << \"100000! = \" << \n",
    "    fatorialRecursivo(50000);\n",
    "    //<< \"\\n\\n\";\n",
    "    depois = std::chrono::duration_cast<std::chrono::milliseconds>(std::chrono::system_clock::now().time_since_epoch()).count();\n",
    "\n",
    "    cout << \"\\nTempo execução: \" << (depois - antes) << \" ms\\n\";    \n",
    "    return 0;\n",
    "}"
   ]
  },
  {
   "cell_type": "code",
   "execution_count": 19,
   "id": "sonic-fighter",
   "metadata": {},
   "outputs": [],
   "source": [
    "!g++ -lgmp recursivo02.cpp  -o recursivo02"
   ]
  },
  {
   "cell_type": "code",
   "execution_count": 20,
   "id": "copyrighted-proposition",
   "metadata": {},
   "outputs": [
    {
     "name": "stdout",
     "output_type": "stream",
     "text": [
      "\n",
      "Tempo execução: 327 ms\n",
      "\n",
      "Tempo execução: 412 ms\n"
     ]
    }
   ],
   "source": [
    "!./recursivo02"
   ]
  },
  {
   "cell_type": "code",
   "execution_count": null,
   "id": "trying-keyboard",
   "metadata": {},
   "outputs": [],
   "source": []
  },
  {
   "cell_type": "code",
   "execution_count": null,
   "id": "three-optimum",
   "metadata": {},
   "outputs": [],
   "source": []
  },
  {
   "cell_type": "code",
   "execution_count": 21,
   "id": "worse-ordering",
   "metadata": {},
   "outputs": [],
   "source": [
    "!gcc recursivo02.cpp -lstdc++ -lgmpxx -lgmp -o recursivo02"
   ]
  },
  {
   "cell_type": "code",
   "execution_count": null,
   "id": "protective-machine",
   "metadata": {},
   "outputs": [],
   "source": []
  },
  {
   "cell_type": "code",
   "execution_count": null,
   "id": "medical-fever",
   "metadata": {},
   "outputs": [],
   "source": []
  },
  {
   "cell_type": "code",
   "execution_count": 10,
   "id": "informational-flight",
   "metadata": {},
   "outputs": [],
   "source": []
  },
  {
   "cell_type": "code",
   "execution_count": null,
   "id": "induced-breed",
   "metadata": {},
   "outputs": [],
   "source": []
  },
  {
   "cell_type": "code",
   "execution_count": 19,
   "id": "coupled-field",
   "metadata": {},
   "outputs": [],
   "source": [
    "void funcao_recursiva(int p) {\n",
    "    if (p == 0)\n",
    "        return;\n",
    "    else\n",
    "        funcao_recursiva(p-1);\n",
    "    cout << p << \"\\n\";\n",
    "}"
   ]
  },
  {
   "cell_type": "code",
   "execution_count": 22,
   "id": "concerned-linux",
   "metadata": {},
   "outputs": [
    {
     "name": "stdout",
     "output_type": "stream",
     "text": [
      "1\n",
      "2\n",
      "3\n"
     ]
    }
   ],
   "source": [
    "funcao_recursiva(3);"
   ]
  },
  {
   "cell_type": "markdown",
   "id": "saving-belief",
   "metadata": {},
   "source": [
    "-1-2-3-"
   ]
  },
  {
   "cell_type": "code",
   "execution_count": 29,
   "id": "thick-solution",
   "metadata": {},
   "outputs": [],
   "source": [
    "string funcao(int p) {\n",
    "    string ret;\n",
    "    if (p == 0)\n",
    "        return \"\";\n",
    "    else\n",
    "        ret = funcao(p-1);\n",
    "    ret = ret + to_string(p) +\"-\";\n",
    "    return ret;\n",
    "}"
   ]
  },
  {
   "cell_type": "code",
   "execution_count": 30,
   "id": "controversial-egyptian",
   "metadata": {},
   "outputs": [],
   "source": [
    "string teste;\n",
    "teste = funcao(6);"
   ]
  },
  {
   "cell_type": "code",
   "execution_count": 31,
   "id": "present-sheet",
   "metadata": {},
   "outputs": [
    {
     "name": "stdout",
     "output_type": "stream",
     "text": [
      "1-2-3-4-5-6-"
     ]
    }
   ],
   "source": [
    "cout << teste;"
   ]
  },
  {
   "cell_type": "code",
   "execution_count": 32,
   "id": "subjective-transsexual",
   "metadata": {},
   "outputs": [
    {
     "name": "stdout",
     "output_type": "stream",
     "text": [
      "not ok"
     ]
    }
   ],
   "source": [
    "if (teste == \"-1-2-3-4-5-6\") {\n",
    "    cout << \"ok\";\n",
    "} else {\n",
    "    cout << \"not ok\";\n",
    "}"
   ]
  },
  {
   "cell_type": "code",
   "execution_count": null,
   "id": "sophisticated-swiss",
   "metadata": {},
   "outputs": [],
   "source": []
  }
 ],
 "metadata": {
  "kernelspec": {
   "display_name": "C++17",
   "language": "C++17",
   "name": "xcpp17"
  },
  "language_info": {
   "codemirror_mode": "text/x-c++src",
   "file_extension": ".cpp",
   "mimetype": "text/x-c++src",
   "name": "c++",
   "version": "17"
  }
 },
 "nbformat": 4,
 "nbformat_minor": 5
}
