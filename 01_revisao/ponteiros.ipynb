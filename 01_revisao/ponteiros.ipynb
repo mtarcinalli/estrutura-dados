{
 "cells": [
  {
   "cell_type": "markdown",
   "id": "ef284e42-2380-4756-ada6-51cc4100abd9",
   "metadata": {},
   "source": [
    "# Ponteiros:"
   ]
  },
  {
   "cell_type": "code",
   "execution_count": 1,
   "id": "0f312f0d-ee96-41f2-a73a-0adfa958cdde",
   "metadata": {},
   "outputs": [],
   "source": [
    "#include <iostream>\n",
    "using namespace std;"
   ]
  },
  {
   "cell_type": "markdown",
   "id": "29a5d445-9780-4085-a963-ac48f1ca7f02",
   "metadata": {},
   "source": [
    "### Uma variavel normal armazena valores:"
   ]
  },
  {
   "cell_type": "code",
   "execution_count": 2,
   "id": "88de5e3c-fb1d-4cc5-834b-68a0598a6996",
   "metadata": {},
   "outputs": [
    {
     "name": "stdout",
     "output_type": "stream",
     "text": [
      "Valor armazenado em num: 42\n"
     ]
    }
   ],
   "source": [
    "int num = 42;\n",
    "\n",
    "cout << \"Valor armazenado em num: \" << num << endl;"
   ]
  },
  {
   "cell_type": "markdown",
   "id": "5b7ebef8-6126-4d44-baea-c54cbf672d9c",
   "metadata": {},
   "source": [
    "### Para visualizar seu endereço utilizamos o  &:"
   ]
  },
  {
   "cell_type": "code",
   "execution_count": 3,
   "id": "76347119-d483-41e8-a016-7d1aa769f9d1",
   "metadata": {},
   "outputs": [
    {
     "name": "stdout",
     "output_type": "stream",
     "text": [
      "Endereço de memória de num: 0x7fcb83d6202c\n"
     ]
    }
   ],
   "source": [
    "cout << \"Endereço de memória de num: \" << &num << endl;"
   ]
  },
  {
   "cell_type": "markdown",
   "id": "50b65fe2-38f3-4d7a-b9d9-2c16bc004791",
   "metadata": {},
   "source": [
    "### Um ponteiro armazena o endereço da variavel para a qual ele aponta. Por isso no momento da atribuição ele precisa receber um endereço de memória de uma variável do mesmo tipo do ponteiro (no nosso caso int):"
   ]
  },
  {
   "cell_type": "code",
   "execution_count": 16,
   "id": "7a0d4265-f651-4c08-8d5d-306cd7209ad6",
   "metadata": {},
   "outputs": [
    {
     "name": "stdout",
     "output_type": "stream",
     "text": [
      "Endereço de memória para o qual ptr aponta:\t0x7fcb83d6202c\n",
      "Endereço de memória de num:\t\t\t0x7fcb83d6202c\n"
     ]
    }
   ],
   "source": [
    "// declarando um ponteiro\n",
    "int *numPtr;\n",
    "\n",
    "// fazendo ponteiro \"apontar\":\n",
    "numPtr = &num;\n",
    "\n",
    "cout << \"Endereço de memória para o qual ptr aponta:\\t\" << numPtr << endl;;\n",
    "\n",
    "cout << \"Endereço de memória de num:\\t\\t\\t\" << &num << endl;"
   ]
  },
  {
   "cell_type": "markdown",
   "id": "6e6b0697-e6c3-4d4a-9d28-8e1496b2e628",
   "metadata": {},
   "source": [
    "### Se quiser acessar o valor armazenado nessa posição de memória:"
   ]
  },
  {
   "cell_type": "code",
   "execution_count": 5,
   "id": "822c0625-b8e0-4cc8-9a1b-0537e839ccfd",
   "metadata": {},
   "outputs": [
    {
     "name": "stdout",
     "output_type": "stream",
     "text": [
      "Valor armazenado: 42"
     ]
    }
   ],
   "source": [
    "cout << \"Valor armazenado: \" << *numPtr;"
   ]
  },
  {
   "cell_type": "code",
   "execution_count": 6,
   "id": "aebf6470-753b-4b65-8807-3c5cc1e5b9e7",
   "metadata": {},
   "outputs": [
    {
     "name": "stdout",
     "output_type": "stream",
     "text": [
      "Valor numPtr:\t43\n",
      "Valor num:\t43"
     ]
    }
   ],
   "source": [
    "*numPtr = *numPtr + 1;\n",
    "\n",
    "cout << \"Valor numPtr:\\t\" << *numPtr << endl;\n",
    "cout << \"Valor num:\\t\" << num;"
   ]
  },
  {
   "cell_type": "code",
   "execution_count": 7,
   "id": "57979c4e-ad28-4e1f-980f-f2330340211a",
   "metadata": {},
   "outputs": [
    {
     "name": "stdout",
     "output_type": "stream",
     "text": [
      "Valor numPtr:\t12\n",
      "Valor num:\t12"
     ]
    }
   ],
   "source": [
    "num = 12;\n",
    "\n",
    "cout << \"Valor numPtr:\\t\" << *numPtr << endl;\n",
    "cout << \"Valor num:\\t\" << num;"
   ]
  },
  {
   "cell_type": "markdown",
   "id": "914c3df3-f179-4f05-8be6-5d0363070c4b",
   "metadata": {},
   "source": [
    "### Exemplo de uso:\n",
    "\n",
    "Inverter os valores de 2 variáveis:"
   ]
  },
  {
   "cell_type": "code",
   "execution_count": 8,
   "id": "80e0bb70-d7f3-46c5-9790-66d5082fd1b4",
   "metadata": {},
   "outputs": [
    {
     "name": "stdout",
     "output_type": "stream",
     "text": [
      "v1: 5 v2: 15\n",
      "v1: 15 v2: 5\n"
     ]
    }
   ],
   "source": [
    "int v1 = 5;\n",
    "int v2 = 15;\n",
    "int aux;\n",
    "\n",
    "cout << \"v1: \" << v1 << \" v2: \" << v2 << endl;\n",
    "\n",
    "aux = v1;\n",
    "v1 = v2;\n",
    "v2 = aux;\n",
    "\n",
    "cout << \"v1: \" << v1 << \" v2: \" << v2 << endl;"
   ]
  },
  {
   "cell_type": "markdown",
   "id": "d8679334-db8d-4416-b0c6-3610d45aa82c",
   "metadata": {},
   "source": [
    "### Utilizando função:"
   ]
  },
  {
   "cell_type": "code",
   "execution_count": 9,
   "id": "80b1f4d6-7bdb-47dd-9404-909170f849a0",
   "metadata": {},
   "outputs": [],
   "source": [
    "int inverte1(int a, int b) {\n",
    "    int aux;\n",
    "    aux = a;\n",
    "    a = b;\n",
    "    b = aux;\n",
    "    return 1;\n",
    "}"
   ]
  },
  {
   "cell_type": "code",
   "execution_count": 10,
   "id": "1610b77a-5d2d-4712-b8a4-4e4161b90d8a",
   "metadata": {},
   "outputs": [
    {
     "name": "stdout",
     "output_type": "stream",
     "text": [
      "v1: 5 v2: 15\n",
      "inverteu!!\n",
      "v1: 5 v2: 15\n"
     ]
    }
   ],
   "source": [
    "int v1 = 5;\n",
    "int v2 = 15;\n",
    "\n",
    "cout << \"v1: \" << v1 << \" v2: \" << v2 << endl;\n",
    "if (inverte1(v1, v2)) {\n",
    "    cout << \"inverteu!!\" << endl;\n",
    "} else {\n",
    "    cout << \"erro na inversão!!\" << endl;\n",
    "}\n",
    "cout << \"v1: \" << v1 << \" v2: \" << v2 << endl;"
   ]
  },
  {
   "cell_type": "markdown",
   "id": "2c298c4e-65cd-4891-9f37-6c02defb1dba",
   "metadata": {},
   "source": [
    "### Utilizando ponteiros:"
   ]
  },
  {
   "cell_type": "code",
   "execution_count": 11,
   "id": "a3fe4170-7725-43cf-bdd2-85277e411ace",
   "metadata": {},
   "outputs": [],
   "source": [
    "int inverte2(int *a, int *b) {\n",
    "    int aux;\n",
    "    aux = *a;\n",
    "    *a = *b;\n",
    "    *b = aux;\n",
    "    return 1;\n",
    "}"
   ]
  },
  {
   "cell_type": "code",
   "execution_count": 12,
   "id": "822eaebb-6866-4ce7-83fe-da8328df7753",
   "metadata": {},
   "outputs": [
    {
     "name": "stdout",
     "output_type": "stream",
     "text": [
      "v1: 5 v2: 15\n",
      "inverteu!!\n",
      "v1: 15 v2: 5\n"
     ]
    }
   ],
   "source": [
    "int v1 = 5;\n",
    "int v2 = 15;\n",
    "\n",
    "cout << \"v1: \" << v1 << \" v2: \" << v2 << endl;\n",
    "if (inverte2(&v1, &v2)) {\n",
    "    cout << \"inverteu!!\" << endl;\n",
    "} else {\n",
    "    cout << \"erro na inversão!!\" << endl;\n",
    "}\n",
    "cout << \"v1: \" << v1 << \" v2: \" << v2 << endl;"
   ]
  },
  {
   "cell_type": "markdown",
   "id": "b3017fd8-40cc-4f48-8efb-4254093c4296",
   "metadata": {},
   "source": [
    "### Utilizando passagem de parâmetros por referência:"
   ]
  },
  {
   "cell_type": "code",
   "execution_count": 13,
   "id": "a3167fd4-6b56-4738-a56c-5f9e7ac55159",
   "metadata": {},
   "outputs": [],
   "source": [
    "int inverte3(int &a, int &b) {\n",
    "    int aux;\n",
    "    aux = a;\n",
    "    a = b;\n",
    "    b = aux;\n",
    "    return 1;\n",
    "}"
   ]
  },
  {
   "cell_type": "code",
   "execution_count": 18,
   "id": "aee46ed7-0a1c-4ce2-8a41-85ac357f812e",
   "metadata": {},
   "outputs": [
    {
     "name": "stdout",
     "output_type": "stream",
     "text": [
      "v1: 5 v2: 15\n",
      "inverteu!!\n",
      "v1: 15 v2: 5\n"
     ]
    }
   ],
   "source": [
    "int v1 = 5;\n",
    "int v2 = 15;\n",
    "\n",
    "cout << \"v1: \" << v1 << \" v2: \" << v2 << endl;\n",
    "if (inverte3(v1, v2)) {\n",
    "    cout << \"inverteu!!\" << endl;\n",
    "} else {\n",
    "    cout << \"erro na inversão!!\" << endl;\n",
    "}\n",
    "cout << \"v1: \" << v1 << \" v2: \" << v2 << endl;"
   ]
  }
 ],
 "metadata": {
  "kernelspec": {
   "display_name": "C++11",
   "language": "C++11",
   "name": "xcpp11"
  },
  "language_info": {
   "codemirror_mode": "text/x-c++src",
   "file_extension": ".cpp",
   "mimetype": "text/x-c++src",
   "name": "c++",
   "version": "11"
  }
 },
 "nbformat": 4,
 "nbformat_minor": 5
}
