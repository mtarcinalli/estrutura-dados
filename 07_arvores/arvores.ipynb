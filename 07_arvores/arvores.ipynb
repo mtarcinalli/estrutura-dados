{
 "cells": [
  {
   "cell_type": "markdown",
   "id": "german-convenience",
   "metadata": {},
   "source": [
    "# Árvores\n",
    "\n",
    "Estrura recursiva:\n",
    "\n",
    "- Formada por subárvores\n",
    "- Conjunto finito de um ou mais nós\n",
    "- Nó raiz\n",
    "\n",
    "## Representações:\n",
    "\n",
    "### Grafos\n",
    "\n",
    "![topo](imagens/arvore01.png)\n",
    "\n",
    "### Conjuntos Aninhados\n",
    "\n",
    "![topo](imagens/arvore02.png)\n",
    "\n",
    "### Parênteses Aninhados\n",
    "\n",
    "![topo](imagens/arvore03.png)\n",
    "\n",
    "### Paragrafação\n",
    "\n",
    "![topo](imagens/arvore04.png)\n",
    "\n",
    "![topo](imagens/arvore05.png)\n",
    "\n",
    "## Estrututra:\n",
    "\n",
    "### Nós:\n",
    "\n",
    "![topo](imagens/arvore06.png)\n",
    "\n",
    "### Arestas:\n",
    "\n",
    "![topo](imagens/arvore07.png)\n",
    "\n",
    "### Raiz:\n",
    "\n",
    "![topo](imagens/arvore08.png)\n",
    "\n",
    "### Subárvores\n",
    "\n",
    "![topo](imagens/arvore09.png)\n",
    "\n",
    "### Folha\n",
    "\n",
    "![topo](imagens/arvore10.png)\n",
    "\n",
    "\n",
    "### Não-folha\n",
    "\n",
    "![topo](imagens/arvore11.png)\n",
    "\n",
    "\n",
    "### Floresta\n",
    "\n",
    "![topo](imagens/arvore12.png)\n",
    "\n",
    "\n",
    "\n",
    "\n"
   ]
  },
  {
   "cell_type": "markdown",
   "id": "rising-ethics",
   "metadata": {},
   "source": [
    "## Grau de um Nó\n",
    "\n",
    "<table  style=\"float: left\">\n",
    "    <tr>\n",
    "        <td>\n",
    "            <img src=\"imagens/arvore01.png\">\n",
    "        </td>\n",
    "        <td>\n",
    "        <table>\n",
    "            <tr>\n",
    "                <th>Nó</th><th>Grau</th>\n",
    "            </tr>\n",
    "            <tr>\n",
    "                <td>A</td><td>3</td>\n",
    "            </tr>\n",
    "            <tr>\n",
    "                <td>B</td><td>2</td>\n",
    "            </tr>\n",
    "            <tr>\n",
    "                <td>C</td><td>1</td>\n",
    "            </tr>\n",
    "            <tr>\n",
    "                <td>D</td><td>3</td>\n",
    "            </tr>\n",
    "            <tr>\n",
    "                <td>E</td><td>1</td>\n",
    "            </tr>\n",
    "            <tr>\n",
    "                <td>F</td><td>0</td>\n",
    "            </tr>\n",
    "            <tr>\n",
    "                <td>G</td><td>0</td>\n",
    "            </tr>\n",
    "            <tr>\n",
    "                <td>H</td><td>1</td>\n",
    "            </tr>\n",
    "            <tr>\n",
    "                <td>I</td><td>0</td>\n",
    "            </tr>\n",
    "            <tr>\n",
    "                <td>J</td><td>0</td>\n",
    "            </tr>\n",
    "            <tr>\n",
    "                <td>K</td><td>0</td>\n",
    "            </tr>\n",
    "            <tr>\n",
    "                <td>L</td><td>0</td>\n",
    "            </tr>\n",
    "            </table>\n",
    "        </td>\n",
    "    </tr>\n"
   ]
  },
  {
   "cell_type": "markdown",
   "id": "stretch-merit",
   "metadata": {},
   "source": [
    "## Grau de uma árvore\n",
    "\n",
    "- Grau máximo atingido pelos nós de uma árvore\n",
    "\n",
    "## Árvore Completa\n",
    "\n",
    "![topo](imagens/arvore15.png)"
   ]
  },
  {
   "cell_type": "markdown",
   "id": "quantitative-documentation",
   "metadata": {},
   "source": [
    "## Pai\n",
    "\n",
    "<table>\n",
    "    <tr>\n",
    "        <td>\n",
    "            <img src=\"imagens/arvore01.png\">\n",
    "        </td>\n",
    "        <td>\n",
    "        <table>\n",
    "            <tr>\n",
    "                <th>Nó Pai</th><th>Nós Filhos</th>\n",
    "            </tr>\n",
    "            <tr>\n",
    "                <td>A</td><td>B, C, D</td>\n",
    "            </tr>\n",
    "            <tr>\n",
    "                <td>B</td><td>E, F</td>\n",
    "            </tr>\n",
    "            <tr>\n",
    "                <td>C</td><td>G</td>\n",
    "            </tr>\n",
    "            <tr>\n",
    "                <td>D</td><td>H, I, J</td>\n",
    "            </tr>\n",
    "            <tr>\n",
    "                <td>E</td><td>K</td>\n",
    "            </tr>\n",
    "            <tr>\n",
    "                <td>F</td><td>-</td>\n",
    "            </tr>\n",
    "            <tr>\n",
    "                <td>G</td><td>-</td>\n",
    "            </tr>\n",
    "            <tr>\n",
    "                <td>H</td><td>L</td>\n",
    "            </tr>\n",
    "            <tr>\n",
    "                <td>I</td><td>-</td>\n",
    "            </tr>\n",
    "            <tr>\n",
    "                <td>J</td><td>-</td>\n",
    "            </tr>\n",
    "            <tr>\n",
    "                <td>K</td><td>-</td>\n",
    "            </tr>\n",
    "            <tr>\n",
    "                <td>L</td><td>-</td>\n",
    "            </tr>\n",
    "            </table>\n",
    "        </td>\n",
    "    </tr>\n"
   ]
  },
  {
   "cell_type": "markdown",
   "id": "religious-rendering",
   "metadata": {},
   "source": [
    "## Irmão\n",
    "\n",
    "<table>\n",
    "    <tr>\n",
    "        <td>\n",
    "            <img src=\"imagens/arvore01.png\">\n",
    "        </td>\n",
    "        <td>\n",
    "        <table>\n",
    "            <tr>\n",
    "                <th>Irmãos</th>\n",
    "            </tr>\n",
    "            <tr>\n",
    "                <td>B, C, D</td>\n",
    "            </tr>\n",
    "            <tr>\n",
    "                <td>E, F</td>\n",
    "            </tr>\n",
    "            <tr>\n",
    "                <td>H, I, J</td>\n",
    "            </tr>\n",
    "            </table>\n",
    "        </td>\n",
    "    </tr>\n"
   ]
  },
  {
   "cell_type": "markdown",
   "id": "suitable-recycling",
   "metadata": {},
   "source": [
    "## Avô e Demais Parentes\n",
    "\n",
    "<table>\n",
    "    <tr>\n",
    "        <td>\n",
    "            <img src=\"imagens/arvore01.png\">\n",
    "        </td>\n",
    "        <td>\n",
    "        <table>\n",
    "            <tr>\n",
    "                <th>Nós</th><th>Avô</th>\n",
    "            </tr>\n",
    "            <tr>\n",
    "                <td>E, F, G, H, I ,J</td><td>A</td>\n",
    "            </tr>\n",
    "            <tr>\n",
    "                <td>K</td><td>B</td>\n",
    "            </tr>\n",
    "            <tr>\n",
    "                <td>L</td><td>D</td>\n",
    "            </tr>\n",
    "        </table>\n",
    "        <br><br><br><br>\n",
    "        <table>\n",
    "            <tr>\n",
    "                <th>Nós</th><th>Bisavô</th>\n",
    "            </tr>\n",
    "            <tr>\n",
    "                <td>K, L</td><td>A</td>\n",
    "            </tr>\n",
    "            </table>\n",
    "        </td>\n",
    "    </tr>\n"
   ]
  },
  {
   "cell_type": "markdown",
   "id": "adjustable-plymouth",
   "metadata": {},
   "source": [
    "## Caminho\n",
    "\n",
    "- A, D, H, L é um caminho entre A e L com comprimento de 3\n",
    "\n",
    "![topo](imagens/arvore01.png)"
   ]
  },
  {
   "cell_type": "markdown",
   "id": "latter-frequency",
   "metadata": {},
   "source": [
    "## Antecessores\n",
    "\n",
    "- Antecessores ou antepassados\n",
    "- Todos os nós no caminho entre a raiz e o respectivo nó\n",
    "- No exemplo são antecessores de L: A, D e H\n",
    "\n",
    "![topo](imagens/arvore01.png)"
   ]
  },
  {
   "cell_type": "markdown",
   "id": "about-sociology",
   "metadata": {},
   "source": [
    "## Nível\n",
    "\n",
    "- Raiz: podemos considerar nível 0 ou nível 1\n",
    "- Nível 0: A\n",
    "- Nível 1: B, C e D \n",
    "- Nível 2: E, F, G, H, I, J\n",
    "- Nível 3: K e L\n",
    "\n",
    "![topo](imagens/arvore01.png)\n"
   ]
  },
  {
   "cell_type": "markdown",
   "id": "infectious-latex",
   "metadata": {},
   "source": [
    "## Altura de um Nó\n",
    "\n",
    "- Número de arestas no maior caminho até um  de seus descendentes\n",
    "- Folhas tem altura 0\n",
    "- No exemplo:\n",
    "    - Altura 0: K, F, G, L, I e J\n",
    "    - Altura 1: E, C e H\n",
    "    - Altura 2: B e D\n",
    "    - Altura 3: A\n",
    "\n",
    "![topo](imagens/arvore01.png)"
   ]
  },
  {
   "cell_type": "markdown",
   "id": "vietnamese-eagle",
   "metadata": {},
   "source": [
    "## Altura de uma árvore\n",
    "\n",
    "- Altura ou profundidade\n",
    "- Altura máxima encontrada na árvore \n",
    "- No exemplo: 3\n",
    "\n",
    "![topo](imagens/arvore01.png)"
   ]
  },
  {
   "cell_type": "markdown",
   "id": "rational-wages",
   "metadata": {},
   "source": [
    "## Número máximo de nós\n",
    "\n",
    "- Para uma árvore de grau d\n",
    "- Quando todos os nós possuírem d subárvores, execeto suas folhas\n",
    "- Exemplo: d = 3 (grau) e h = 3 (altura)\n",
    "    - Nível 0: 1 nó\n",
    "    - Nível 1: 3 nós\n",
    "    - Nível 2: 9 nós\n",
    "    - Nível 3: 27 nós\n",
    "        - Total nós: 40\n",
    "        \n",
    "![topo](imagens/arvore16.png)\n"
   ]
  },
  {
   "cell_type": "markdown",
   "id": "51229717-53bf-4a25-abaa-e90e63d8cb34",
   "metadata": {},
   "source": [
    "## Árvore balanceada\n",
    "\n",
    "Para cada nó, a altura de suas subárvores diferem, no máximo, em uma unidade\n",
    "\n",
    "### Árvores Balanceadas de Grau 2 \n",
    "\n",
    "![topo](imagens/arvore28.png)\n"
   ]
  },
  {
   "cell_type": "markdown",
   "id": "3684c508-3848-4640-91a8-ca63f685ae92",
   "metadata": {},
   "source": [
    "## Árvore Perfeitamente Balanceada\n",
    "\n",
    "Para cada nó, os números de nós em suas subárvores diferem, no máximo, de uma unidade.\n",
    "\n",
    "### Árvores Perfeitamente Balanceadas de Grau 2\n",
    "\n",
    "![topo](imagens/arvore27.png)\n",
    "\n",
    "Todas as árvores pefeitamente balanceadas são árvores balanceadas.\n"
   ]
  },
  {
   "cell_type": "markdown",
   "id": "62f0a366-12ca-4b6d-8d2a-2817e291eb00",
   "metadata": {},
   "source": [
    "## Árvore ordenada\n",
    "\n",
    "Conjunto de subárvores ordenado. A ordenação é da esquerda para a direita.\n",
    "\n",
    "![topo](imagens/arvore31.png)\n",
    "\n"
   ]
  },
  {
   "cell_type": "markdown",
   "id": "8369de75-6767-41fc-9d51-e0de0cd82500",
   "metadata": {},
   "source": [
    "## Árvore Orientada\n",
    "\n",
    "Apenas a orientação relativa dos nós é considerada (e não sua ordem).\n",
    "\n",
    "![topo](imagens/arvore30.png)\n",
    "\n",
    "Alguns autores não distinguem árvores ordenadas de orientadas.\n"
   ]
  },
  {
   "cell_type": "markdown",
   "id": "normal-ethics",
   "metadata": {
    "tags": []
   },
   "source": [
    "# Implementação de Árvores\n",
    "\n",
    "- Podem ser implementadas utilizando listas encadeadas\n",
    "\n",
    "![topo](imagens/arvore17.png)\n",
    "\n",
    "- Podem ser implementadas utilizando apenas estruturas quando se tem o número máximo de filhos pré-estabelecido. \n",
    "\n",
    "![topo](imagens/arvore18.png)\n",
    "\n",
    "Exemplo:\n",
    "\n",
    "![topo](imagens/arvore19.png)"
   ]
  },
  {
   "cell_type": "markdown",
   "id": "minute-joining",
   "metadata": {},
   "source": [
    "# Implementação Árvore Binária\n",
    "\n",
    "- Árvores ordenadas (os filhos de cada nó são ordenados) de grau 2\n",
    "- Vazia ou possui 3 componentes:\n",
    "    - raiz\n",
    "    - subárvore esquerda\n",
    "    - subárvore direita\n",
    "- Suas subárvores devem ser binárias também"
   ]
  },
  {
   "cell_type": "code",
   "execution_count": 58,
   "id": "funded-session",
   "metadata": {},
   "outputs": [],
   "source": [
    "#include <iostream>\n",
    "#include <string>\n",
    "\n",
    "using namespace std;"
   ]
  },
  {
   "cell_type": "markdown",
   "id": "secondary-scene",
   "metadata": {},
   "source": [
    "## Definição da Classe"
   ]
  },
  {
   "cell_type": "code",
   "execution_count": 59,
   "id": "96bc690d-fbf4-42c4-838f-5a62c4448c55",
   "metadata": {},
   "outputs": [],
   "source": [
    "class ArvoreBinaria { \n",
    "    private:\n",
    "        struct elemento {\n",
    "            int valor;\n",
    "            elemento *elementoEsquerda;\n",
    "            elemento *elementoDireita;\n",
    "        };\n",
    "        typedef elemento *PonteiroElemento; \n",
    "        PonteiroElemento raiz;\n",
    "    public:\n",
    "        ArvoreBinaria();\n",
    "        void inserir(int x);\n",
    "        void remover(int x);\n",
    "        bool pesquisar(int x);\n",
    "};"
   ]
  },
  {
   "cell_type": "markdown",
   "id": "south-string",
   "metadata": {},
   "source": [
    "Inserção e remoção dependem do tipo de árvore binária a ser implementada.\n",
    "\n",
    "Por hora, podemos definir alguns métodos genéricos que se aplicam a outros tipos de árvores."
   ]
  },
  {
   "cell_type": "code",
   "execution_count": 68,
   "id": "48c865ff-e181-47b1-b25a-b3194093a2c3",
   "metadata": {},
   "outputs": [],
   "source": [
    "class ArvoreBinaria { \n",
    "    private:\n",
    "        struct elemento {\n",
    "            int valor;\n",
    "            elemento *elementoEsquerda;\n",
    "            elemento *elementoDireita;\n",
    "        };\n",
    "        typedef elemento *PonteiroElemento; \n",
    "        PonteiroElemento raiz;\n",
    "        // outras operações: métodos auxiliares\n",
    "        int totalElementos(PonteiroElemento &e);\n",
    "        int totalFolhas(PonteiroElemento &e);\n",
    "        int altura(PonteiroElemento &e);\n",
    "        void listarPreOrdem(PonteiroElemento &e);\n",
    "    public:\n",
    "        ArvoreBinaria();\n",
    "        bool vazia();\n",
    "        bool cheia();\n",
    "        void inserir(int x);\n",
    "        void remover(int x);\n",
    "        bool pesquisar(int x);\n",
    "        // outras operações\n",
    "        int totalElementos();\n",
    "        int totalFolhas();\n",
    "        int altura();\n",
    "        void listarPreOrdem();\n",
    "};"
   ]
  },
  {
   "cell_type": "markdown",
   "id": "specified-hacker",
   "metadata": {},
   "source": [
    "## Construtor"
   ]
  },
  {
   "cell_type": "code",
   "execution_count": 69,
   "id": "df5cd6e9-42bb-461a-9cbe-21f36193215d",
   "metadata": {},
   "outputs": [],
   "source": [
    "ArvoreBinaria::ArvoreBinaria() {\n",
    "    raiz = NULL;\n",
    "}"
   ]
  },
  {
   "cell_type": "code",
   "execution_count": 70,
   "id": "14af6887-59f3-4bb1-880d-4f0db0b274e1",
   "metadata": {},
   "outputs": [],
   "source": [
    "ArvoreBinaria minhaArvore;"
   ]
  },
  {
   "cell_type": "markdown",
   "id": "initial-integer",
   "metadata": {},
   "source": [
    "## Vazia"
   ]
  },
  {
   "cell_type": "code",
   "execution_count": 71,
   "id": "d5d6855e-732c-4286-a990-80fc575e2b4c",
   "metadata": {},
   "outputs": [],
   "source": [
    "bool ArvoreBinaria::vazia() {\n",
    "    return raiz == NULL;\n",
    "}"
   ]
  },
  {
   "cell_type": "code",
   "execution_count": 72,
   "id": "ff4ac0f7-0912-4c17-af99-963733bdad6d",
   "metadata": {},
   "outputs": [
    {
     "name": "stdout",
     "output_type": "stream",
     "text": [
      "Está vazia!"
     ]
    }
   ],
   "source": [
    "if (minhaArvore.vazia()) {\n",
    "    cout << \"Está vazia!\";\n",
    "}"
   ]
  },
  {
   "cell_type": "markdown",
   "id": "reverse-collection",
   "metadata": {},
   "source": [
    "## Cheia"
   ]
  },
  {
   "cell_type": "code",
   "execution_count": 73,
   "id": "332b6239-dd7e-4675-81a1-8ae2cc000793",
   "metadata": {},
   "outputs": [],
   "source": [
    "bool ArvoreBinaria::cheia() {\n",
    "    return false;\n",
    "}"
   ]
  },
  {
   "cell_type": "code",
   "execution_count": 74,
   "id": "cc1765eb-8ec3-4023-8b2e-e6c502c68692",
   "metadata": {},
   "outputs": [
    {
     "name": "stdout",
     "output_type": "stream",
     "text": [
      "Não está cheia!"
     ]
    }
   ],
   "source": [
    "if (! minhaArvore.cheia()) {\n",
    "    cout << \"Não está cheia!\";\n",
    "}"
   ]
  },
  {
   "cell_type": "markdown",
   "id": "regional-transparency",
   "metadata": {},
   "source": [
    "## Inserir\n",
    "\n",
    "Inserir \"emprestado\" da árvore de busca binária.\n",
    "\n",
    "A intenção é criarmos uma árvore para testar os próximos metódos."
   ]
  },
  {
   "cell_type": "code",
   "execution_count": 75,
   "id": "casual-aspect",
   "metadata": {},
   "outputs": [],
   "source": [
    "void ArvoreBinaria::inserir(int x) {\n",
    "    PonteiroElemento p=NULL, q=raiz, r;\n",
    "    while (q != NULL) {\n",
    "        p = q; \n",
    "        if (x < q->valor) {\n",
    "            q = q->elementoEsquerda;\n",
    "        } else {\n",
    "            q = q->elementoDireita;\n",
    "        }\n",
    "    }\n",
    "    r = new elemento;\n",
    "    r->valor = x;\n",
    "    r->elementoEsquerda = NULL;\n",
    "    r->elementoDireita = NULL;\n",
    "\n",
    "    if (p == NULL) {\n",
    "        raiz = r;\n",
    "    } else {\n",
    "        if (x < p->valor) {\n",
    "            p->elementoEsquerda = r;\n",
    "        } else {\n",
    "            p->elementoDireita = r;\n",
    "        }\n",
    "    }\n",
    "}"
   ]
  },
  {
   "cell_type": "code",
   "execution_count": 52,
   "id": "opposite-player",
   "metadata": {},
   "outputs": [],
   "source": [
    "minhaArvore.inserir(6);\n",
    "minhaArvore.inserir(2);\n",
    "minhaArvore.inserir(8);\n",
    "minhaArvore.inserir(11);\n",
    "minhaArvore.inserir(7);"
   ]
  },
  {
   "cell_type": "markdown",
   "id": "controlled-abuse",
   "metadata": {},
   "source": [
    "![topo](imagens/arvore14.png)"
   ]
  },
  {
   "cell_type": "markdown",
   "id": "answering-necklace",
   "metadata": {},
   "source": [
    "## Número de Nós"
   ]
  },
  {
   "cell_type": "code",
   "execution_count": 53,
   "id": "suitable-amount",
   "metadata": {},
   "outputs": [],
   "source": [
    "// Método Público\n",
    "int ArvoreBinaria::totalElementos() {\n",
    "    return totalElementos(raiz);\n",
    "}"
   ]
  },
  {
   "cell_type": "code",
   "execution_count": 54,
   "id": "traditional-sequence",
   "metadata": {},
   "outputs": [],
   "source": [
    "// Método Privado\n",
    "int ArvoreBinaria::totalElementos(PonteiroElemento &e) { \n",
    "    if (e == NULL) {\n",
    "        return 0;\n",
    "    } else {\n",
    "        int E, D;\n",
    "        E = totalElementos(e->elementoEsquerda);\n",
    "        D = totalElementos(e->elementoDireita);\n",
    "        return 1 + E + D;\n",
    "    }\n",
    "}"
   ]
  },
  {
   "cell_type": "code",
   "execution_count": 55,
   "id": "careful-likelihood",
   "metadata": {},
   "outputs": [
    {
     "name": "stdout",
     "output_type": "stream",
     "text": [
      "Total de elementos: 5"
     ]
    }
   ],
   "source": [
    "cout << \"Total de elementos: \" << minhaArvore.totalElementos();"
   ]
  },
  {
   "cell_type": "markdown",
   "id": "swedish-classification",
   "metadata": {},
   "source": [
    "<table  style=\"float: left\">\n",
    "    <tr>\n",
    "        <td>\n",
    "            <img src=\"imagens/arvore14.png\">\n",
    "        </td>\n",
    "        <td>\n",
    "            \n",
    "```c\n",
    "minhaArvore.totalElementos(); \n",
    "    totalElementos(raiz); // 6\n",
    "    E = totalElementos(e->elementoEsquerda); // 2\n",
    "        E = totalElementos(e->elementoEsquerda); // NULL\n",
    "        // E = 0\n",
    "        D = totalElementos(e->elementoDireita); // NULL\n",
    "        // D = 0\n",
    "        return 1 + E + D;\n",
    "    // E = 1\n",
    "    D = totalElementos(e->elementoDireita); // 8\n",
    "        E = totalElementos(e->elementoEsquerda); // 7\n",
    "            E = totalElementos(e->elementoEsquerda); // NULL\n",
    "            // E = 0\n",
    "            D = totalElementos(e->elementoDireita); // NULL\n",
    "            // D = 0\n",
    "            return 1 + E + D;\n",
    "        // E = 1\n",
    "        D = totalElementos(e->elementoDireita); // 11\n",
    "            E = totalElementos(e->elementoEsquerda); // NULL\n",
    "            // E = 0\n",
    "            D = totalElementos(e->elementoDireita); // NULL\n",
    "            // D = 0\n",
    "            return 1 + E + D;\n",
    "        // D = 1\n",
    "        return 1 + E + D;\n",
    "    // D = 3\n",
    "    return 1 + E + D;\n",
    "// final: 5\n",
    "```"
   ]
  },
  {
   "cell_type": "code",
   "execution_count": null,
   "id": "senior-brazilian",
   "metadata": {},
   "outputs": [],
   "source": [
    "// Método Privado\n",
    "int ArvoreBinaria::totalElementos(PonteiroElemento &e) { \n",
    "    if (e == NULL) return 0;\n",
    "    return 1 + totalElementos(e->elementoEsquerda) + totalElementos(e->elementoDireita);\n",
    "}"
   ]
  },
  {
   "cell_type": "markdown",
   "id": "indonesian-briefing",
   "metadata": {},
   "source": [
    "## Número de Folhas"
   ]
  },
  {
   "cell_type": "code",
   "execution_count": 206,
   "id": "touched-trash",
   "metadata": {},
   "outputs": [],
   "source": [
    "// Método Público\n",
    "int ArvoreBinaria::totalFolhas() { \n",
    "    return totalFolhas(raiz);\n",
    "}"
   ]
  },
  {
   "cell_type": "code",
   "execution_count": 207,
   "id": "lyric-pavilion",
   "metadata": {},
   "outputs": [],
   "source": [
    "// Método Privado\n",
    "int ArvoreBinaria::totalFolhas(PonteiroElemento &e) {\n",
    "    if (e == NULL) {\n",
    "        return 0;\n",
    "    } else {\n",
    "        if (e->elementoEsquerda == NULL and e->elementoDireita == NULL) {\n",
    "            return 1;\n",
    "        } else {\n",
    "            int E, D;\n",
    "            E = totalFolhas(e->elementoEsquerda);\n",
    "            D = totalFolhas(e->elementoDireita);\n",
    "            return E + D;\n",
    "        }\n",
    "    }\n",
    "}"
   ]
  },
  {
   "cell_type": "code",
   "execution_count": 208,
   "id": "racial-honolulu",
   "metadata": {},
   "outputs": [
    {
     "name": "stdout",
     "output_type": "stream",
     "text": [
      "Total de folhas: 3"
     ]
    }
   ],
   "source": [
    "cout << \"Total de folhas: \" << minhaArvore.totalFolhas();"
   ]
  },
  {
   "cell_type": "markdown",
   "id": "variable-architect",
   "metadata": {},
   "source": [
    "<table  style=\"float: left\">\n",
    "    <tr>\n",
    "        <td>\n",
    "            <img src=\"imagens/arvore14.png\">\n",
    "        </td>\n",
    "        <td>\n",
    "            \n",
    "```c\n",
    "minhaArvore.totalFolhas();\n",
    "    totalFolhas(raiz); // 6\n",
    "    E = totalFolhas(e->elementoEsquerda); // 2\n",
    "    // E = 1\n",
    "    D = totalFolhas(e->elementoDireita); // 8\n",
    "        E = totalFolhas(e->elementoEsquerda); // 7\n",
    "        // E = 1\n",
    "        D = totalFolhas(e->elementoDireita); // 11\n",
    "        // D = 1\n",
    "        return E + D;\n",
    "    // D = 2\n",
    "    return E + D;\n",
    "// Final: 3\n",
    "```"
   ]
  },
  {
   "cell_type": "code",
   "execution_count": null,
   "id": "expensive-fashion",
   "metadata": {},
   "outputs": [],
   "source": [
    "// Método Privado\n",
    "int ArvoreBinaria::totalFolhas(PonteiroElemento &e) {\n",
    "    if (e == NULL) return 0;\n",
    "    if (e->elementoEsquerda == NULL and e->elementoDireita == NULL) return 1;\n",
    "    return totalFolhas(e->elementoEsquerda) + totalFolhas(e->elementoDireita);\n",
    "}"
   ]
  },
  {
   "cell_type": "markdown",
   "id": "normal-knock",
   "metadata": {},
   "source": [
    "## Altura\n",
    "\n",
    "- Árvore vazia: -1\n",
    "- Folhas: 0"
   ]
  },
  {
   "cell_type": "code",
   "execution_count": 209,
   "id": "competitive-manner",
   "metadata": {},
   "outputs": [],
   "source": [
    "// Método Público\n",
    "int ArvoreBinaria::altura() { \n",
    "    return altura(raiz);\n",
    "}"
   ]
  },
  {
   "cell_type": "code",
   "execution_count": 210,
   "id": "adapted-beads",
   "metadata": {},
   "outputs": [],
   "source": [
    "// Método Privado\n",
    "int ArvoreBinaria::altura(PonteiroElemento &e) { \n",
    "    if (e == NULL) {\n",
    "        return -1;\n",
    "    } else {\n",
    "        int E, D;\n",
    "        E = altura(e->elementoEsquerda);\n",
    "        D = altura(e->elementoDireita);\n",
    "        if (E > D) {\n",
    "            return E + 1;\n",
    "        }  else {\n",
    "            return D + 1;\n",
    "        }\n",
    "    }\n",
    "}"
   ]
  },
  {
   "cell_type": "code",
   "execution_count": 211,
   "id": "comprehensive-banking",
   "metadata": {},
   "outputs": [
    {
     "name": "stdout",
     "output_type": "stream",
     "text": [
      "Altura: 2"
     ]
    }
   ],
   "source": [
    "cout << \"Altura: \" << minhaArvore.altura();"
   ]
  },
  {
   "cell_type": "markdown",
   "id": "careful-clark",
   "metadata": {},
   "source": [
    "<table  style=\"float: left\">\n",
    "    <tr>\n",
    "        <td>\n",
    "            <img src=\"imagens/arvore14.png\">\n",
    "        </td>\n",
    "        <td>\n",
    "            \n",
    "```c\n",
    "minhaArvore.altura();\n",
    "    altura(raiz); // 6\n",
    "    E = altura(e->elementoEsquerda);  // 2\n",
    "        E = altura(e->elementoEsquerda);  // NULL\n",
    "        // E = -1;\n",
    "        D = altura(e->elementoDireita);  // NULL\n",
    "        // D = -1;\n",
    "        return D + 1; // 0\n",
    "    // E = 0\n",
    "    D = altura(e->elementoDireita);  // 8\n",
    "        E = altura(e->elementoEsquerda);  // 7\n",
    "            E = altura(e->elementoEsquerda);  // NULL\n",
    "            // E = -1;\n",
    "            D = altura(e->elementoDireita);  // NULL\n",
    "            // D = -1;\n",
    "            return D + 1; // 0\n",
    "        // E = 0\n",
    "        D = altura(e->elementoDireita);  // 11\n",
    "            E = altura(e->elementoEsquerda);  // NULL\n",
    "            // E = -1;\n",
    "            D = altura(e->elementoDireita);  // NULL\n",
    "            // D = -1;\n",
    "            return D + 1; // 0\n",
    "        //D = 0\n",
    "        return D + 1; // 1\n",
    "    // D = 1\n",
    "    return D + 1;\n",
    "// Final: 2\n",
    "```"
   ]
  },
  {
   "cell_type": "markdown",
   "id": "changed-judgment",
   "metadata": {},
   "source": [
    "## Percurso"
   ]
  },
  {
   "cell_type": "markdown",
   "id": "toxic-lloyd",
   "metadata": {},
   "source": [
    "### Pré-Ordem\n",
    "\n",
    "raiz - esquerda - direita"
   ]
  },
  {
   "cell_type": "code",
   "execution_count": 218,
   "id": "durable-prisoner",
   "metadata": {},
   "outputs": [],
   "source": [
    "// Método Público\n",
    "void ArvoreBinaria::listarPreOrdem() {\n",
    "    listarPreOrdem(raiz);\n",
    "}"
   ]
  },
  {
   "cell_type": "code",
   "execution_count": 219,
   "id": "secondary-positive",
   "metadata": {},
   "outputs": [],
   "source": [
    "// Método Privado\n",
    "void ArvoreBinaria::listarPreOrdem(PonteiroElemento &e)\n",
    "{ \n",
    "    if (e != NULL) {\n",
    "        cout << e->valor << \"\\n\";\n",
    "        listarPreOrdem(e->elementoEsquerda);\n",
    "        listarPreOrdem(e->elementoDireita);\n",
    "    }\n",
    "}"
   ]
  },
  {
   "cell_type": "code",
   "execution_count": 220,
   "id": "south-recorder",
   "metadata": {},
   "outputs": [
    {
     "name": "stdout",
     "output_type": "stream",
     "text": [
      "6\n",
      "2\n",
      "8\n",
      "7\n",
      "11\n"
     ]
    }
   ],
   "source": [
    "minhaArvore.listarPreOrdem();"
   ]
  },
  {
   "cell_type": "code",
   "execution_count": null,
   "id": "wireless-foster",
   "metadata": {},
   "outputs": [],
   "source": [
    "void ArvoreBuscaBinaria::inserir(PonteiroElemento &e, int x) { \n",
    "    PonteiroElemento p;\n",
    "    if (e == NULL) {\n",
    "        p = new elemento;\n",
    "        p->valor = x;\n",
    "        p->elementoEsquerda = NULL;\n",
    "        p->elementoDireita = NULL;\n",
    "        e = p;\n",
    "        return;\n",
    "    }\n",
    "    if (x < e->valor) {\n",
    "        inserir(e->elementoEsquerda, x);\n",
    "    } else {\n",
    "        inserir(e->elementoDireita, x);\n",
    "    }\n",
    "}"
   ]
  },
  {
   "cell_type": "markdown",
   "id": "mysterious-carroll",
   "metadata": {},
   "source": [
    "<table  style=\"float: left\">\n",
    "    <tr>\n",
    "        <td>\n",
    "            <img src=\"imagens/arvore14.png\">\n",
    "        </td>\n",
    "        <td>\n",
    "            \n",
    "```c\n",
    "minhaArvore.listarPreOrdem();\n",
    "    listarPreOrdem(raiz); // 6\n",
    "    listarPreOrdem(e->elementoEsquerda); // 2\n",
    "        listarPreOrdem(e->elementoEsquerda); // NULL\n",
    "        listarPreOrdem(e->elementoDireita); // NULL\n",
    "    listarPreOrdem(e->elementoDireita); // 8\n",
    "        listarPreOrdem(e->elementoEsquerda); // 7\n",
    "            listarPreOrdem(e->elementoEsquerda); // NULL\n",
    "            listarPreOrdem(e->elementoDireita); // NULL\n",
    "        listarPreOrdem(e->elementoDireita); // 11\n",
    "            listarPreOrdem(e->elementoEsquerda); // NULL\n",
    "            listarPreOrdem(e->elementoDireita); // NULL\n",
    "```"
   ]
  },
  {
   "cell_type": "code",
   "execution_count": null,
   "id": "compliant-lodging",
   "metadata": {},
   "outputs": [],
   "source": []
  },
  {
   "cell_type": "code",
   "execution_count": null,
   "id": "certified-genetics",
   "metadata": {},
   "outputs": [],
   "source": [
    "// Método Público\n",
    "bool ArvoreBuscaBinaria::inserir(int x) {\n",
    "    inserir(raiz, x);\n",
    "    return true;\n",
    "}"
   ]
  },
  {
   "cell_type": "code",
   "execution_count": null,
   "id": "smooth-boston",
   "metadata": {},
   "outputs": [],
   "source": [
    "// Método Privado\n",
    "void ArvoreBuscaBinaria::inserir(\n",
    "    PonteiroElemento &e, \n",
    "    int x) { \n",
    "    PonteiroElemento p;\n",
    "    if (e == NULL) {\n",
    "        p = new elemento;\n",
    "        p->valor = x;\n",
    "        p->elementoEsquerda = NULL;\n",
    "        p->elementoDireita = NULL;\n",
    "        e = p;\n",
    "        return;\n",
    "    }\n",
    "    if (x < e->valor) {\n",
    "        inserir(e->elementoEsquerda, x);\n",
    "    } else {\n",
    "        inserir(e->elementoDireita, x);\n",
    "    }\n",
    "}"
   ]
  },
  {
   "cell_type": "code",
   "execution_count": null,
   "id": "bound-victim",
   "metadata": {},
   "outputs": [],
   "source": []
  },
  {
   "cell_type": "code",
   "execution_count": null,
   "id": "flying-imagination",
   "metadata": {},
   "outputs": [],
   "source": []
  },
  {
   "cell_type": "code",
   "execution_count": null,
   "id": "reduced-blanket",
   "metadata": {},
   "outputs": [],
   "source": []
  },
  {
   "cell_type": "code",
   "execution_count": null,
   "id": "hidden-potato",
   "metadata": {},
   "outputs": [],
   "source": []
  },
  {
   "cell_type": "code",
   "execution_count": null,
   "id": "distributed-preservation",
   "metadata": {},
   "outputs": [],
   "source": []
  },
  {
   "cell_type": "code",
   "execution_count": null,
   "id": "lesbian-excess",
   "metadata": {},
   "outputs": [],
   "source": [
    "bool ArvoreBuscaBinaria::remover(int x)\n",
    "{\n",
    "    return remover(raiz, x);\n",
    "}"
   ]
  },
  {
   "cell_type": "code",
   "execution_count": null,
   "id": "liberal-philadelphia",
   "metadata": {},
   "outputs": [],
   "source": [
    "bool ArvoreBuscaBinaria::remover(PonteiroElemento &e, int x)\n",
    "{\n",
    "    PonteiroElemento p;\n",
    "    if (e == NULL) {\n",
    "        return false;\n",
    "    }\n",
    "\n",
    "    if (x < e->valor) {\n",
    "        return remover(e->elementoEsquerda, x);\n",
    "    }\n",
    "    \n",
    "    if (x > e->valor) {\n",
    "        return remover(e->elementoDireita, x);\n",
    "    } \n",
    "    \n",
    "    if (x == e->valor) {\n",
    "        p = e;\n",
    "        if (p->elementoDireita == NULL)\n",
    "            e = p->elementoEsquerda;\n",
    "        else\n",
    "            if(p->elementoEsquerda == NULL)\n",
    "                e = p->elementoDireita;\n",
    "            else\n",
    "                removerMenor(p, p->elementoDireita);\n",
    "        delete p;\n",
    "        return true;\n",
    "    }\n",
    "}"
   ]
  },
  {
   "cell_type": "code",
   "execution_count": null,
   "id": "sorted-holly",
   "metadata": {},
   "outputs": [],
   "source": [
    "void ArvoreBuscaBinaria::removerMenor(PonteiroElemento &q, PonteiroElemento &r)\n",
    "{\n",
    "    if(r->elementoEsquerda != NULL) {\n",
    "        removerMenor(q, r->elementoEsquerda);\n",
    "    } else {\n",
    "        q->valor = r->valor;\n",
    "        q = r;\n",
    "        r = r->elementoDireita;\n",
    "    }\n",
    "}"
   ]
  }
 ],
 "metadata": {
  "kernelspec": {
   "display_name": "C++17",
   "language": "C++17",
   "name": "xcpp17"
  },
  "language_info": {
   "codemirror_mode": "text/x-c++src",
   "file_extension": ".cpp",
   "mimetype": "text/x-c++src",
   "name": "c++",
   "version": "17"
  }
 },
 "nbformat": 4,
 "nbformat_minor": 5
}
