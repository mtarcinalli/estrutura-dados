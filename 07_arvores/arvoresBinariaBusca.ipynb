{
 "cells": [
  {
   "cell_type": "markdown",
   "id": "generous-conditions",
   "metadata": {},
   "source": [
    "# Árvore Binária de Busca\n",
    "\n",
    "Dado um elemento x:\n",
    "\n",
    "- Todos os elementos chaves da subárvore da esquerda de x são menores que x\n",
    "- Todos os elementos chaves da subárvore da direita de x são maiores que x\n",
    "- As subárvores esquerda e direita também são árvores binárias de busca\n",
    "\n",
    "Também são conhecidas como dicionários binários.\n",
    "\n",
    "Armazena campos chaves, dados que identificam univocamente uma informação\n",
    "\n",
    "- RG, CPF, etc.\n",
    "\n",
    "![topo](imagens/arvore14.png)"
   ]
  },
  {
   "cell_type": "code",
   "execution_count": 1,
   "id": "affected-stone",
   "metadata": {},
   "outputs": [],
   "source": [
    "#include <iostream>\n",
    "#include <string>\n",
    "\n",
    "using namespace std;"
   ]
  },
  {
   "cell_type": "code",
   "execution_count": 2,
   "id": "fatty-ultimate",
   "metadata": {},
   "outputs": [],
   "source": [
    "class ArvoreBuscaBinaria { \n",
    "    private:\n",
    "        struct elemento {\n",
    "            int valor;\n",
    "            elemento *elementoEsquerda;\n",
    "            elemento *elementoDireita;\n",
    "        };\n",
    "        typedef elemento *PonteiroElemento; \n",
    "        PonteiroElemento raiz;\n",
    "        // outras operações: métodos auxiliares\n",
    "        int totalElementos(PonteiroElemento &e);\n",
    "        int totalFolhas(PonteiroElemento &e);\n",
    "        int altura(PonteiroElemento &e);\n",
    "        void listarPreOrdem(PonteiroElemento &e);\n",
    "        void inserir(PonteiroElemento &e, int x);\n",
    "        bool remover(PonteiroElemento &e, int x);\n",
    "        bool pesquisar(PonteiroElemento &e, int x);\n",
    "        void removerMenor(PonteiroElemento &q, PonteiroElemento &r);\n",
    "        int minimo(PonteiroElemento &e);\n",
    "        int maximo(PonteiroElemento &e);\n",
    "    public:\n",
    "        ArvoreBuscaBinaria();\n",
    "        bool vazia();\n",
    "        bool cheia();\n",
    "        bool inserir(int x);\n",
    "        bool remover(int x);\n",
    "        bool pesquisar(int x);\n",
    "        // outras operações\n",
    "        int totalElementos();\n",
    "        int totalFolhas();\n",
    "        int altura();\n",
    "        void listarPreOrdem();\n",
    "        int minimo();\n",
    "        int maximo();\n",
    "};"
   ]
  },
  {
   "cell_type": "markdown",
   "id": "sacred-toddler",
   "metadata": {},
   "source": [
    "## Construtor"
   ]
  },
  {
   "cell_type": "code",
   "execution_count": 3,
   "id": "color-territory",
   "metadata": {},
   "outputs": [],
   "source": [
    "ArvoreBuscaBinaria::ArvoreBuscaBinaria() {\n",
    "    raiz = nullptr;\n",
    "}"
   ]
  },
  {
   "cell_type": "code",
   "execution_count": 4,
   "id": "concerned-style",
   "metadata": {},
   "outputs": [],
   "source": [
    "ArvoreBuscaBinaria minhaArvore;"
   ]
  },
  {
   "cell_type": "markdown",
   "id": "declared-feedback",
   "metadata": {},
   "source": [
    "## Vazia"
   ]
  },
  {
   "cell_type": "code",
   "execution_count": 5,
   "id": "chief-modification",
   "metadata": {},
   "outputs": [],
   "source": [
    "bool ArvoreBuscaBinaria::vazia() {\n",
    "    return raiz == nullptr;\n",
    "}"
   ]
  },
  {
   "cell_type": "code",
   "execution_count": 6,
   "id": "narrative-vienna",
   "metadata": {},
   "outputs": [
    {
     "name": "stdout",
     "output_type": "stream",
     "text": [
      "Está vazia!"
     ]
    }
   ],
   "source": [
    "if (minhaArvore.vazia()) {\n",
    "    cout << \"Está vazia!\";\n",
    "}"
   ]
  },
  {
   "cell_type": "markdown",
   "id": "diverse-drama",
   "metadata": {},
   "source": [
    "## Cheia"
   ]
  },
  {
   "cell_type": "code",
   "execution_count": 7,
   "id": "agricultural-notification",
   "metadata": {},
   "outputs": [],
   "source": [
    "bool ArvoreBuscaBinaria::cheia() {\n",
    "    return false;\n",
    "}"
   ]
  },
  {
   "cell_type": "code",
   "execution_count": 8,
   "id": "alternative-demand",
   "metadata": {},
   "outputs": [
    {
     "name": "stdout",
     "output_type": "stream",
     "text": [
      "Não está cheia!"
     ]
    }
   ],
   "source": [
    "if (! minhaArvore.cheia()) {\n",
    "    cout << \"Não está cheia!\";\n",
    "}"
   ]
  },
  {
   "cell_type": "markdown",
   "id": "fiscal-account",
   "metadata": {},
   "source": [
    "## Inserir"
   ]
  },
  {
   "cell_type": "code",
   "execution_count": 9,
   "id": "clean-joseph",
   "metadata": {},
   "outputs": [],
   "source": [
    "// Método Público\n",
    "bool ArvoreBuscaBinaria::inserir(int x) {\n",
    "    inserir(raiz, x);\n",
    "    return true;\n",
    "}"
   ]
  },
  {
   "cell_type": "code",
   "execution_count": 10,
   "id": "desirable-cherry",
   "metadata": {},
   "outputs": [],
   "source": [
    "// Método Privado\n",
    "void ArvoreBuscaBinaria::inserir(PonteiroElemento &e, int x) { \n",
    "    PonteiroElemento p;\n",
    "    if (e == nullptr) {\n",
    "        p = new elemento;\n",
    "        p->valor = x;\n",
    "        p->elementoEsquerda = nullptr;\n",
    "        p->elementoDireita = nullptr;\n",
    "        e = p;\n",
    "        return;\n",
    "    }\n",
    "    if (x < e->valor) {\n",
    "        inserir(e->elementoEsquerda, x);\n",
    "    } else {\n",
    "        inserir(e->elementoDireita, x);\n",
    "    }\n",
    "}"
   ]
  },
  {
   "cell_type": "code",
   "execution_count": 11,
   "id": "assisted-concert",
   "metadata": {},
   "outputs": [],
   "source": [
    "minhaArvore.inserir(6);"
   ]
  },
  {
   "cell_type": "markdown",
   "id": "extraordinary-qatar",
   "metadata": {},
   "source": [
    "```c\n",
    "minhaArvore.inserir(6);\n",
    "    inserir(raiz, 6); // raiz: NULL\n",
    "```\n",
    "![topo](imagens/arvore20.png)"
   ]
  },
  {
   "cell_type": "code",
   "execution_count": 12,
   "id": "fabulous-avatar",
   "metadata": {},
   "outputs": [],
   "source": [
    "minhaArvore.inserir(8);"
   ]
  },
  {
   "cell_type": "markdown",
   "id": "initial-effect",
   "metadata": {},
   "source": [
    "```c\n",
    "minhaArvore.inserir(8);\n",
    "    inserir(raiz, 8); // e: 6\n",
    "        inserir(e->elementoDireita, 8); // e: NULL\n",
    "```\n",
    "![topo](imagens/arvore21.png)"
   ]
  },
  {
   "cell_type": "code",
   "execution_count": 13,
   "id": "adaptive-auction",
   "metadata": {},
   "outputs": [],
   "source": [
    "minhaArvore.inserir(11);"
   ]
  },
  {
   "cell_type": "markdown",
   "id": "swedish-glory",
   "metadata": {},
   "source": [
    "```c\n",
    "minhaArvore.inserir(11);\n",
    "    inserir(raiz, 11); //e:6\n",
    "        inserir(e->elementoDireita, 11); //e:8\n",
    "            inserir(e->elementoDireita, 11); //e:NULL\n",
    "```\n",
    "![topo](imagens/arvore22.png)"
   ]
  },
  {
   "cell_type": "code",
   "execution_count": 14,
   "id": "7097b7b7-4561-46b4-bf59-b88c0f8feb65",
   "metadata": {},
   "outputs": [],
   "source": [
    "minhaArvore.inserir(2);"
   ]
  },
  {
   "cell_type": "markdown",
   "id": "functioning-newfoundland",
   "metadata": {},
   "source": [
    "```c\n",
    "minhaArvore.inserir(2);\n",
    "    inserir(raiz, 2); // e: 6\n",
    "        inserir(e->elementoEsquerda, 2); // e: NULL\n",
    "```\n",
    "![topo](imagens/arvore23.png)"
   ]
  },
  {
   "cell_type": "code",
   "execution_count": 15,
   "id": "5cbc947e-34d8-4f74-a07a-4f9f00aa9d73",
   "metadata": {},
   "outputs": [],
   "source": [
    "minhaArvore.inserir(7);"
   ]
  },
  {
   "cell_type": "markdown",
   "id": "identical-freeware",
   "metadata": {},
   "source": [
    "```c\n",
    "minhaArvore.inserir(7);\n",
    "    inserir(raiz, 7); // e: 6\n",
    "        inserir(e->elementoDireita, 7); // e: 8\n",
    "            inserir(e->elementoEsquerda, 7); // e: NULL\n",
    "```\n",
    "\n",
    "![topo](imagens/arvore14.png)"
   ]
  },
  {
   "cell_type": "markdown",
   "id": "senior-james",
   "metadata": {},
   "source": [
    "## Listar: pré ordem"
   ]
  },
  {
   "cell_type": "code",
   "execution_count": 16,
   "id": "a3a4dfb9-ae87-47a2-82f9-04279d3cfcad",
   "metadata": {},
   "outputs": [],
   "source": [
    "// Método Público\n",
    "void ArvoreBuscaBinaria::listarPreOrdem() {\n",
    "    listarPreOrdem(raiz);\n",
    "}"
   ]
  },
  {
   "cell_type": "code",
   "execution_count": 17,
   "id": "01f84444-4b99-419f-8333-7535375ee2cf",
   "metadata": {},
   "outputs": [],
   "source": [
    "// Método Privado\n",
    "void ArvoreBuscaBinaria::listarPreOrdem(PonteiroElemento &e)\n",
    "{ \n",
    "    if (e != NULL) {\n",
    "        cout << e->valor << \"\\n\";\n",
    "        listarPreOrdem(e->elementoEsquerda);\n",
    "        listarPreOrdem(e->elementoDireita);\n",
    "    }\n",
    "}"
   ]
  },
  {
   "cell_type": "code",
   "execution_count": 18,
   "id": "7021c491-7795-4f55-b50d-c1f8bf2a8937",
   "metadata": {},
   "outputs": [
    {
     "name": "stdout",
     "output_type": "stream",
     "text": [
      "6\n",
      "2\n",
      "8\n",
      "7\n",
      "11\n"
     ]
    }
   ],
   "source": [
    "minhaArvore.listarPreOrdem();"
   ]
  },
  {
   "cell_type": "markdown",
   "id": "0266e008-8252-4352-86b3-65217d6e2750",
   "metadata": {},
   "source": [
    "![topo](imagens/arvore14.png)"
   ]
  },
  {
   "cell_type": "markdown",
   "id": "indoor-remainder",
   "metadata": {},
   "source": [
    "## Remover"
   ]
  },
  {
   "cell_type": "code",
   "execution_count": 19,
   "id": "bd7ad5f4-4ae2-408f-8e35-94ebfd191a10",
   "metadata": {},
   "outputs": [],
   "source": [
    "// Método Público\n",
    "bool ArvoreBuscaBinaria::remover(int x) {\n",
    "    return remover(raiz, x);\n",
    "}"
   ]
  },
  {
   "cell_type": "code",
   "execution_count": 20,
   "id": "6f0fdb00-d302-4f9d-af79-7fe885a260b9",
   "metadata": {},
   "outputs": [],
   "source": [
    "// Método Privado\n",
    "bool ArvoreBuscaBinaria::remover(PonteiroElemento &e, int x) {\n",
    "    PonteiroElemento p;\n",
    "    if (e == nullptr) {\n",
    "        return false;\n",
    "    }\n",
    "\n",
    "    if(x < e->valor) {\n",
    "        return remover(e->elementoEsquerda, x);\n",
    "    }\n",
    "    \n",
    "    if(x > e->valor) {\n",
    "        return remover(e->elementoDireita, x);\n",
    "    } \n",
    "    \n",
    "    if(x == e->valor) {\n",
    "        p = e;\n",
    "        if(p->elementoDireita == nullptr) {\n",
    "            e = p->elementoEsquerda;\n",
    "        } else {\n",
    "            if(p->elementoEsquerda == nullptr) {\n",
    "                e = p->elementoDireita;\n",
    "            } else {\n",
    "                removerMenor(p, p->elementoDireita);\n",
    "            }\n",
    "        }\n",
    "        delete p;\n",
    "        return true;\n",
    "    }\n",
    "    return false;\n",
    "}"
   ]
  },
  {
   "cell_type": "code",
   "execution_count": 21,
   "id": "f26caad3-227d-4c56-aae6-13ab872fd369",
   "metadata": {},
   "outputs": [],
   "source": [
    "void ArvoreBuscaBinaria::removerMenor(PonteiroElemento &q, PonteiroElemento &r)\n",
    "{\n",
    "    if(r->elementoEsquerda != nullptr) {\n",
    "        removerMenor(q, r->elementoEsquerda);\n",
    "    } else {\n",
    "        q->valor = r->valor;\n",
    "        q = r;\n",
    "        r = r->elementoDireita;\n",
    "    }\n",
    "}"
   ]
  },
  {
   "cell_type": "markdown",
   "id": "green-slovak",
   "metadata": {},
   "source": [
    "![topo](imagens/arvore14.png)"
   ]
  },
  {
   "cell_type": "code",
   "execution_count": 22,
   "id": "25b654ac-ec7e-4252-9524-30038faef23f",
   "metadata": {},
   "outputs": [
    {
     "data": {
      "text/plain": [
       "false"
      ]
     },
     "execution_count": 22,
     "metadata": {},
     "output_type": "execute_result"
    }
   ],
   "source": [
    "minhaArvore.remover(13)"
   ]
  },
  {
   "cell_type": "markdown",
   "id": "initial-tongue",
   "metadata": {},
   "source": [
    "```c\n",
    "minhaArvore.remover(13);\n",
    "    remover(raiz, 13); // e: 6\n",
    "        return remover(e->elementoDireita, 13); // e: 8\n",
    "            return remover(e->elementoDireita, 13); // e: 11\n",
    "                return remover(e->elementoDireita, 13); // e: NULL\n",
    "                // false\n",
    "            // false\n",
    "        // false\n",
    "    // false\n",
    "// false\n",
    "```\n",
    "![topo](imagens/arvore14.png)"
   ]
  },
  {
   "cell_type": "code",
   "execution_count": 23,
   "id": "cd4261cf-2887-45ed-868a-5e74161498e1",
   "metadata": {},
   "outputs": [
    {
     "data": {
      "text/plain": [
       "false"
      ]
     },
     "execution_count": 23,
     "metadata": {},
     "output_type": "execute_result"
    }
   ],
   "source": [
    "minhaArvore.remover(1)"
   ]
  },
  {
   "cell_type": "markdown",
   "id": "pressing-pavilion",
   "metadata": {},
   "source": [
    "```c\n",
    "minhaArvore.remover(1);\n",
    "    return remover(raiz, 1); // e: 6\n",
    "        return remover(e->elementoEsquerda, 1); // e: 2\n",
    "            return remover(e->elementoEsquerda, 1); // e: NULL\n",
    "            // false\n",
    "        // false\n",
    "    // false\n",
    "// false\n",
    "```\n",
    "![topo](imagens/arvore14.png)"
   ]
  },
  {
   "cell_type": "code",
   "execution_count": 24,
   "id": "629ddb9a-3efe-40b9-b314-91e1d08a965f",
   "metadata": {},
   "outputs": [
    {
     "data": {
      "text/plain": [
       "true"
      ]
     },
     "execution_count": 24,
     "metadata": {},
     "output_type": "execute_result"
    }
   ],
   "source": [
    "minhaArvore.remover(2)"
   ]
  },
  {
   "cell_type": "markdown",
   "id": "authorized-intranet",
   "metadata": {},
   "source": [
    "```c\n",
    "minhaArvore.remover(2);\n",
    "    return remover(raiz, 2); // e: 6\n",
    "        return remover(e->elementoEsquerda, 2); // e: 2\n",
    "        // true\n",
    "    // true\n",
    "// true\n",
    "```\n",
    "![topo](imagens/arvore25.png)"
   ]
  },
  {
   "cell_type": "code",
   "execution_count": 25,
   "id": "grateful-formation",
   "metadata": {},
   "outputs": [
    {
     "name": "stdout",
     "output_type": "stream",
     "text": [
      "6\n",
      "8\n",
      "7\n",
      "11\n"
     ]
    }
   ],
   "source": [
    "minhaArvore.listarPreOrdem();"
   ]
  },
  {
   "cell_type": "code",
   "execution_count": 26,
   "id": "federal-explanation",
   "metadata": {},
   "outputs": [
    {
     "data": {
      "text/plain": [
       "true"
      ]
     },
     "execution_count": 26,
     "metadata": {},
     "output_type": "execute_result"
    }
   ],
   "source": [
    "minhaArvore.remover(7)"
   ]
  },
  {
   "cell_type": "markdown",
   "id": "adjusted-float",
   "metadata": {},
   "source": [
    "```c\n",
    "minhaArvore.remover(7);\n",
    "    return remover(raiz, 7); // e: 6\n",
    "        return remover(e->elementoDireita, 7); // e: 8\n",
    "            return remover(e->elementoEsquerda, 7); // e: 7\n",
    "            // true\n",
    "        // true\n",
    "    // true\n",
    "// true\n",
    "```\n",
    "![topo](imagens/arvore26.png)"
   ]
  },
  {
   "cell_type": "code",
   "execution_count": 27,
   "id": "czech-fusion",
   "metadata": {},
   "outputs": [
    {
     "name": "stdout",
     "output_type": "stream",
     "text": [
      "6\n",
      "8\n",
      "11\n"
     ]
    }
   ],
   "source": [
    "minhaArvore.listarPreOrdem();"
   ]
  },
  {
   "cell_type": "code",
   "execution_count": 28,
   "id": "6a04e0db-b494-42cc-b26b-5ffac1a732b3",
   "metadata": {},
   "outputs": [
    {
     "data": {
      "text/plain": [
       "true"
      ]
     },
     "execution_count": 28,
     "metadata": {},
     "output_type": "execute_result"
    }
   ],
   "source": [
    "minhaArvore.remover(8)"
   ]
  },
  {
   "cell_type": "markdown",
   "id": "1c8898bf-99d5-4f65-953e-857a633fab31",
   "metadata": {},
   "source": [
    "```c\n",
    "minhaArvore.remover(8);\n",
    "    return remover(raiz, 8); // e: 6\n",
    "        return remover(e->elementoDireita, 8); // e: 8\n",
    "        // true\n",
    "    // true\n",
    "// true\n",
    "```"
   ]
  },
  {
   "cell_type": "code",
   "execution_count": 29,
   "id": "dd8d0a52-5085-4449-a01c-3e0c368ea7e0",
   "metadata": {},
   "outputs": [
    {
     "name": "stdout",
     "output_type": "stream",
     "text": [
      "6\n",
      "11\n"
     ]
    }
   ],
   "source": [
    "minhaArvore.listarPreOrdem();"
   ]
  },
  {
   "cell_type": "code",
   "execution_count": 30,
   "id": "liquid-sapphire",
   "metadata": {},
   "outputs": [
    {
     "name": "stdout",
     "output_type": "stream",
     "text": [
      "6\n",
      "2\n",
      "8\n",
      "7\n",
      "11\n"
     ]
    }
   ],
   "source": [
    "//restaurando arvore\n",
    "minhaArvore.remover(6);\n",
    "minhaArvore.remover(8);\n",
    "minhaArvore.remover(11);\n",
    "\n",
    "minhaArvore.inserir(6);\n",
    "minhaArvore.inserir(2);\n",
    "minhaArvore.inserir(8);\n",
    "minhaArvore.inserir(7);\n",
    "minhaArvore.inserir(11);\n",
    "\n",
    "minhaArvore.listarPreOrdem();"
   ]
  },
  {
   "cell_type": "markdown",
   "id": "legitimate-tutorial",
   "metadata": {},
   "source": [
    "![topo](imagens/arvore14.png)"
   ]
  },
  {
   "cell_type": "code",
   "execution_count": 31,
   "id": "extra-journalism",
   "metadata": {},
   "outputs": [
    {
     "data": {
      "text/plain": [
       "true"
      ]
     },
     "execution_count": 31,
     "metadata": {},
     "output_type": "execute_result"
    }
   ],
   "source": [
    "minhaArvore.remover(6)"
   ]
  },
  {
   "cell_type": "markdown",
   "id": "enclosed-print",
   "metadata": {},
   "source": [
    "```c\n",
    "minhaArvore.remover(6);\n",
    "    return remover(raiz, 6); // 6\n",
    "        removerMenor(p, p->elementoDireita); // q: 6 r: 8\n",
    "            removerMenor(q, r->elementoEsquerda); // q: 6 r: 7\n",
    "            // q: 7 , r->elementoEsquerda: NUll\n",
    "        // p: 7 , p->elementoDireita: 8\n",
    "```"
   ]
  },
  {
   "cell_type": "markdown",
   "id": "essential-diary",
   "metadata": {},
   "source": [
    "![topo](imagens/arvore24.png)"
   ]
  },
  {
   "cell_type": "code",
   "execution_count": 32,
   "id": "sufficient-liability",
   "metadata": {},
   "outputs": [
    {
     "name": "stdout",
     "output_type": "stream",
     "text": [
      "7\n",
      "2\n",
      "8\n",
      "11\n"
     ]
    }
   ],
   "source": [
    "minhaArvore.listarPreOrdem();"
   ]
  },
  {
   "cell_type": "code",
   "execution_count": 33,
   "id": "pleased-singapore",
   "metadata": {},
   "outputs": [
    {
     "name": "stdout",
     "output_type": "stream",
     "text": [
      "6\n",
      "2\n",
      "8\n",
      "7\n",
      "11\n"
     ]
    }
   ],
   "source": [
    "//restaurando arvore\n",
    "minhaArvore.remover(7);\n",
    "minhaArvore.remover(2);\n",
    "minhaArvore.remover(8);\n",
    "minhaArvore.remover(11);\n",
    "\n",
    "minhaArvore.inserir(6);\n",
    "minhaArvore.inserir(2);\n",
    "minhaArvore.inserir(8);\n",
    "minhaArvore.inserir(7);\n",
    "minhaArvore.inserir(11);\n",
    "\n",
    "minhaArvore.listarPreOrdem();"
   ]
  },
  {
   "cell_type": "markdown",
   "id": "portable-davis",
   "metadata": {},
   "source": [
    "## Pesquisar"
   ]
  },
  {
   "cell_type": "code",
   "execution_count": 34,
   "id": "assigned-forest",
   "metadata": {},
   "outputs": [],
   "source": [
    "// Método Público\n",
    "bool ArvoreBuscaBinaria::pesquisar(int x)\n",
    "{\n",
    "    return pesquisar(raiz, x);\n",
    "}"
   ]
  },
  {
   "cell_type": "code",
   "execution_count": 35,
   "id": "driven-hepatitis",
   "metadata": {},
   "outputs": [],
   "source": [
    "// Método Privado\n",
    "bool ArvoreBuscaBinaria::pesquisar(PonteiroElemento &e, int x){\n",
    "    if (e == nullptr)\n",
    "        return false;\n",
    "\n",
    "    if (x < e->valor)\n",
    "        return pesquisar(e->elementoEsquerda, x);\n",
    "\n",
    "    if (x > e->valor)\n",
    "        return pesquisar(e->elementoDireita, x);\n",
    "    \n",
    "    if (x == e->valor)\n",
    "        return true;\n",
    "    \n",
    "    return false; // nunca executará, só para evitar o warning\n",
    "}"
   ]
  },
  {
   "cell_type": "code",
   "execution_count": 36,
   "id": "flush-knitting",
   "metadata": {},
   "outputs": [],
   "source": [
    "// 2 -> 6 -> 7 -> 8 -> 11"
   ]
  },
  {
   "cell_type": "markdown",
   "id": "intellectual-thesaurus",
   "metadata": {},
   "source": [
    "![topo](imagens/arvore14.png)"
   ]
  },
  {
   "cell_type": "code",
   "execution_count": 37,
   "id": "furnished-coach",
   "metadata": {},
   "outputs": [
    {
     "name": "stdout",
     "output_type": "stream",
     "text": [
      "0: não achou!\n",
      "1: não achou!\n",
      "2: achou!\n",
      "3: não achou!\n",
      "4: não achou!\n",
      "5: não achou!\n",
      "6: achou!\n",
      "7: achou!\n",
      "8: achou!\n",
      "9: não achou!\n",
      "10: não achou!\n",
      "11: achou!\n",
      "12: não achou!\n",
      "13: não achou!\n",
      "14: não achou!\n"
     ]
    }
   ],
   "source": [
    "for (int i=0; i<15 ; i++)\n",
    "    if (minhaArvore.pesquisar(i))\n",
    "        cout << i << \": achou!\" << endl;\n",
    "    else\n",
    "        cout << i << \": não achou!\" << endl;"
   ]
  }
 ],
 "metadata": {
  "kernelspec": {
   "display_name": "C++17",
   "language": "C++17",
   "name": "xcpp17"
  },
  "language_info": {
   "codemirror_mode": "text/x-c++src",
   "file_extension": ".cpp",
   "mimetype": "text/x-c++src",
   "name": "c++",
   "version": "17"
  }
 },
 "nbformat": 4,
 "nbformat_minor": 5
}
