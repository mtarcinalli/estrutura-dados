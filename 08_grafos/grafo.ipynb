{
 "cells": [
  {
   "cell_type": "markdown",
   "id": "61e52e4c-788d-42d2-9630-eb8110cbf6ba",
   "metadata": {},
   "source": [
    "# Grafos"
   ]
  },
  {
   "cell_type": "code",
   "execution_count": 1,
   "id": "a89aeba9-d4ff-476d-8322-80d5d39d88ec",
   "metadata": {},
   "outputs": [],
   "source": [
    "#include <iostream>\n",
    "#include <string>\n",
    "#include <set>\n",
    "#include <queue>\n",
    "\n",
    "using namespace std;"
   ]
  },
  {
   "cell_type": "code",
   "execution_count": 2,
   "id": "be49a3ae-265c-465a-9547-7a6ae3ffffa0",
   "metadata": {},
   "outputs": [],
   "source": [
    "class Grafo {\n",
    "    public:\n",
    "        static const std::size_t MAXIMUM = 20;\n",
    "    private:\n",
    "        bool arestas[MAXIMUM][MAXIMUM];\n",
    "        int labels[MAXIMUM];\n",
    "        std::size_t quantidade_vertices;\n",
    "    public:\n",
    "        Grafo();\n",
    "        void adicionarVertice(int label);\n",
    "        bool adicionarAresta(size_t origem, size_t destino);\n",
    "        bool removerAresta(size_t origem, size_t destino);\n",
    "        string listarVertices() const;\n",
    "        int retornaVertice(std::size_t vertice) const;\n",
    "        std::size_t quantidadeVertices() const;\n",
    "        bool ehAresta(size_t origem, size_t destino) const;\n",
    "        std::set<std::size_t> vizinhos(std::size_t vertice) const;\n",
    "        void buscaProfundidade(int inicio) const;\n",
    "        void buscaLargura(int inicio) const;\n",
    "    private:\n",
    "        void auxBuscaProfundidade(int v, bool anotados[]) const;\n",
    "};"
   ]
  },
  {
   "cell_type": "code",
   "execution_count": 3,
   "id": "b4ce6573-1f1f-4d7f-96dd-eabc01303c25",
   "metadata": {},
   "outputs": [],
   "source": [
    "Grafo::Grafo() {\n",
    "    quantidade_vertices = 0;\n",
    "}"
   ]
  },
  {
   "cell_type": "code",
   "execution_count": 4,
   "id": "67f5c4c7-e219-481c-b592-243ee5d9a9c9",
   "metadata": {},
   "outputs": [],
   "source": [
    "void Grafo::adicionarVertice(int label) {\n",
    "    std::size_t novoVertice;\n",
    "    labels[quantidade_vertices] = label;\n",
    "    novoVertice = quantidade_vertices;\n",
    "    quantidade_vertices++;\n",
    "    \n",
    "    for(int i = 0 ; i < quantidade_vertices ; i ++) {\n",
    "        arestas[i][novoVertice] = false;\n",
    "        arestas[novoVertice][i] = false;\n",
    "    }\n",
    "}"
   ]
  },
  {
   "cell_type": "code",
   "execution_count": 5,
   "id": "2044dd8e-3aa9-46ef-b55f-77768ed55183",
   "metadata": {},
   "outputs": [],
   "source": [
    "string Grafo::listarVertices() const {\n",
    "    string ret;\n",
    "    for (int i = 0 ; i < quantidade_vertices ; i++)\n",
    "        ret = ret + \"[\" + std::to_string(labels[i]) + \"]\";\n",
    "    return ret;\n",
    "}"
   ]
  },
  {
   "cell_type": "code",
   "execution_count": 6,
   "id": "ca15c4fe-d112-4cd5-b0e2-86c2f7a78a56",
   "metadata": {},
   "outputs": [],
   "source": [
    "int Grafo::retornaVertice(std::size_t vertice) const {\n",
    "    assert(vertice < quantidade_vertices);\n",
    "    return labels[vertice];\n",
    "}"
   ]
  },
  {
   "cell_type": "code",
   "execution_count": 7,
   "id": "3e88ceb1-33f6-41b1-8428-2a6b3ccb9bf7",
   "metadata": {},
   "outputs": [],
   "source": [
    "std::size_t Grafo::quantidadeVertices() const {\n",
    "    return quantidade_vertices;\n",
    "}"
   ]
  },
  {
   "cell_type": "code",
   "execution_count": 8,
   "id": "cc258d1e-7a54-4072-83fb-ec0315ffc815",
   "metadata": {},
   "outputs": [],
   "source": [
    "bool Grafo::adicionarAresta(size_t origem, size_t destino) {\n",
    "    if (origem >= quantidade_vertices || destino >= quantidade_vertices)\n",
    "        return false;\n",
    "    arestas[origem][destino] = true;\n",
    "    return true;\n",
    "}"
   ]
  },
  {
   "cell_type": "code",
   "execution_count": 9,
   "id": "aa646767-1420-4517-b5c8-68b307bd8778",
   "metadata": {},
   "outputs": [],
   "source": [
    "bool Grafo::removerAresta(size_t origem, size_t destino) {\n",
    "    if (origem >= quantidade_vertices || destino >= quantidade_vertices)\n",
    "        return false;\n",
    "    arestas[origem][destino] = false;\n",
    "    return true;\n",
    "}"
   ]
  },
  {
   "cell_type": "code",
   "execution_count": 10,
   "id": "a5da81cb-5cc6-4cb3-9e59-95a1891c8220",
   "metadata": {},
   "outputs": [],
   "source": [
    "bool Grafo::ehAresta(size_t origem, size_t destino) const {\n",
    "    if (origem >= quantidade_vertices || destino >= quantidade_vertices)\n",
    "        return false;\n",
    "    return arestas[origem][destino];\n",
    "}    "
   ]
  },
  {
   "cell_type": "code",
   "execution_count": 11,
   "id": "edb4358d-bbc8-47b6-a646-4d868360a2b8",
   "metadata": {},
   "outputs": [],
   "source": [
    "std::set<std::size_t> Grafo::vizinhos(std::size_t vertice) const {\n",
    "    std::set<std::size_t> ret;\n",
    "    for (int i = 0 ; i < quantidadeVertices() ; i++) {\n",
    "        if (arestas[vertice][i]) {\n",
    "            ret.insert(i);\n",
    "        }\n",
    "    }\n",
    "    return ret;\n",
    "}"
   ]
  },
  {
   "cell_type": "markdown",
   "id": "154953f9-0a59-4616-80eb-ec09ec2cae74",
   "metadata": {},
   "source": [
    "### Depth-First Search\n",
    "\n",
    "Na teoria dos grafos, busca em profundidade (ou busca em profundidade-primeiro, também conhecido em inglês por Depth-First Search - DFS) é um algoritmo usado para realizar uma busca ou travessia numa árvore, estrutura de árvore ou grafo. Intuitivamente, o algoritmo começa num nó raiz (selecionando algum nó como sendo o raiz, no caso de um grafo) e explora tanto quanto possível cada um dos seus ramos, antes de retroceder(backtracking)."
   ]
  },
  {
   "cell_type": "code",
   "execution_count": 12,
   "id": "f99a0bcc-e74f-4ed8-a65b-80c925bf3b64",
   "metadata": {},
   "outputs": [],
   "source": [
    "void Grafo::auxBuscaProfundidade(int v, bool anotados[]) const {\n",
    "    std::set<std::size_t> conexoes = vizinhos(v);\n",
    "    anotados[v] = true;\n",
    "    std::cout << labels[v] << std::endl;    \n",
    "    for (auto item: conexoes) {\n",
    "        if (! anotados[item]) {\n",
    "            auxBuscaProfundidade(item, anotados);\n",
    "        }\n",
    "    }    \n",
    "}"
   ]
  },
  {
   "cell_type": "code",
   "execution_count": 13,
   "id": "25a39f50-71e6-4826-8d35-6251ee5367ea",
   "metadata": {},
   "outputs": [],
   "source": [
    "void Grafo::buscaProfundidade(int inicio) const {\n",
    "    bool anotados[MAXIMUM];\n",
    "    std::fill_n(anotados, quantidadeVertices(), false); // inicializando anotados\n",
    "    auxBuscaProfundidade(inicio, anotados);\n",
    "}"
   ]
  },
  {
   "cell_type": "markdown",
   "id": "4ce8f268-fc0c-41b7-91d1-e19ef4ca67d7",
   "metadata": {},
   "source": [
    "### Breadth-First Search\n",
    "\n",
    "Na teoria dos grafos, busca em largura (ou busca em amplitude, também conhecido em inglês por Breadth-First Search - BFS) é um algoritmo de busca em grafos utilizado para realizar uma busca ou travessia num grafo e estrutura de dados do tipo árvore. Intuitivamente, você começa pelo vértice raiz e explora todos os vértices vizinhos. Então, para cada um desses vértices mais próximos, exploramos os seus vértices vizinhos inexplorados e assim por diante, até que ele encontre o alvo da busca."
   ]
  },
  {
   "cell_type": "code",
   "execution_count": 14,
   "id": "0cfa0b10-81c5-4d2c-9eab-ac19465d5f69",
   "metadata": {},
   "outputs": [],
   "source": [
    "void Grafo::buscaLargura(int inicio) const {\n",
    "    bool anotados[MAXIMUM];\n",
    "    std::set<std::size_t> conexoes;\n",
    "    std::queue<std::size_t> filaVertices;\n",
    "    \n",
    "    std::fill_n(anotados, quantidadeVertices(), false); // inicializando anotados\n",
    "    \n",
    "    anotados[inicio] = true;\n",
    "    std::cout << labels[inicio] << std::endl;\n",
    "    filaVertices.push(inicio);\n",
    "    do {\n",
    "        conexoes = vizinhos(filaVertices.front());\n",
    "        filaVertices.pop();\n",
    "        for (auto item: conexoes) {\n",
    "            if (! anotados[item]) {\n",
    "                anotados[item] = true;\n",
    "                std::cout << labels[item] << std::endl;\n",
    "                filaVertices.push(item);\n",
    "            }\n",
    "        }\n",
    "    } while(!filaVertices.empty());\n",
    "}"
   ]
  },
  {
   "cell_type": "code",
   "execution_count": null,
   "id": "f1977b3e-1ba7-4e3a-a75f-43b13de1ce31",
   "metadata": {},
   "outputs": [],
   "source": []
  },
  {
   "cell_type": "code",
   "execution_count": 15,
   "id": "48f55ae5-3e6e-49f6-bfd4-3dd7e7d3ffdf",
   "metadata": {},
   "outputs": [],
   "source": [
    "Grafo t;"
   ]
  },
  {
   "cell_type": "code",
   "execution_count": 16,
   "id": "5adad8f4-11cb-408e-be1f-1224001fb504",
   "metadata": {},
   "outputs": [
    {
     "name": "stdout",
     "output_type": "stream",
     "text": [
      "1\n",
      "2\n"
     ]
    }
   ],
   "source": [
    "t.adicionarVertice(3);\n",
    "cout << t.quantidadeVertices() << endl;\n",
    "t.adicionarVertice(2);\n",
    "cout << t.quantidadeVertices() << endl;"
   ]
  },
  {
   "cell_type": "code",
   "execution_count": 17,
   "id": "b0d9bd90-649f-4748-9992-e4b535cebdc1",
   "metadata": {},
   "outputs": [
    {
     "name": "stdout",
     "output_type": "stream",
     "text": [
      "[3][2]"
     ]
    }
   ],
   "source": [
    "cout << t.listarVertices();"
   ]
  },
  {
   "cell_type": "code",
   "execution_count": 18,
   "id": "bc328cd5-bab2-46d0-9d38-99eeaace7658",
   "metadata": {},
   "outputs": [
    {
     "name": "stdout",
     "output_type": "stream",
     "text": [
      "3\n",
      "2\n"
     ]
    }
   ],
   "source": [
    "cout << t.retornaVertice(0) << \"\\n\" << t.retornaVertice(1) << endl;"
   ]
  },
  {
   "cell_type": "code",
   "execution_count": 19,
   "id": "06bff9a0-3337-429b-bf87-f9cff16cf48c",
   "metadata": {},
   "outputs": [
    {
     "name": "stdout",
     "output_type": "stream",
     "text": [
      "0\n",
      "2\n"
     ]
    }
   ],
   "source": [
    "cout << t.retornaVertice(3) << \"\\n\" << t.retornaVertice(1) << endl;"
   ]
  },
  {
   "cell_type": "code",
   "execution_count": 20,
   "id": "1245149d-a026-4286-9a74-e2c4f98a5559",
   "metadata": {},
   "outputs": [
    {
     "data": {
      "text/plain": [
       "false"
      ]
     },
     "execution_count": 20,
     "metadata": {},
     "output_type": "execute_result"
    }
   ],
   "source": [
    "t.adicionarAresta(2,1)"
   ]
  },
  {
   "cell_type": "code",
   "execution_count": 21,
   "id": "721beec5-3025-4fda-8deb-5daeab19daa1",
   "metadata": {},
   "outputs": [
    {
     "data": {
      "text/plain": [
       "false"
      ]
     },
     "execution_count": 21,
     "metadata": {},
     "output_type": "execute_result"
    }
   ],
   "source": [
    "t.ehAresta(0,1)"
   ]
  },
  {
   "cell_type": "code",
   "execution_count": 22,
   "id": "64699550-0fac-4ab6-8f0d-42f60ddd1dcc",
   "metadata": {},
   "outputs": [
    {
     "data": {
      "text/plain": [
       "true"
      ]
     },
     "execution_count": 22,
     "metadata": {},
     "output_type": "execute_result"
    }
   ],
   "source": [
    "t.adicionarAresta(0,1)"
   ]
  },
  {
   "cell_type": "code",
   "execution_count": 23,
   "id": "26d13cfb-0b9a-48ed-a5d4-31d7bfb432ba",
   "metadata": {},
   "outputs": [
    {
     "data": {
      "text/plain": [
       "true"
      ]
     },
     "execution_count": 23,
     "metadata": {},
     "output_type": "execute_result"
    }
   ],
   "source": [
    "t.ehAresta(0,1)"
   ]
  },
  {
   "cell_type": "code",
   "execution_count": 24,
   "id": "d24778e5-deae-4d16-b4d5-a6f96a51e2db",
   "metadata": {},
   "outputs": [
    {
     "data": {
      "text/plain": [
       "false"
      ]
     },
     "execution_count": 24,
     "metadata": {},
     "output_type": "execute_result"
    }
   ],
   "source": [
    "t.ehAresta(1,0)"
   ]
  },
  {
   "cell_type": "code",
   "execution_count": 25,
   "id": "f87b9938-53fd-48ef-a262-7a7c2db1bc41",
   "metadata": {},
   "outputs": [
    {
     "data": {
      "text/plain": [
       "{ 1 }"
      ]
     },
     "execution_count": 25,
     "metadata": {},
     "output_type": "execute_result"
    }
   ],
   "source": [
    "t.vizinhos(0)"
   ]
  },
  {
   "cell_type": "code",
   "execution_count": 26,
   "id": "854326c5-a3d3-4738-a6b7-aabb9e1b810b",
   "metadata": {},
   "outputs": [
    {
     "data": {
      "text/plain": [
       "{}"
      ]
     },
     "execution_count": 26,
     "metadata": {},
     "output_type": "execute_result"
    }
   ],
   "source": [
    "t.vizinhos(1)"
   ]
  },
  {
   "cell_type": "code",
   "execution_count": 27,
   "id": "f07e251f-3a40-4c36-8ff8-520a9d86905a",
   "metadata": {},
   "outputs": [],
   "source": [
    "t.adicionarVertice(2)"
   ]
  },
  {
   "cell_type": "code",
   "execution_count": 28,
   "id": "58606d84-70a3-41b6-95ce-0b4f457fd0a8",
   "metadata": {},
   "outputs": [
    {
     "data": {
      "text/plain": [
       "true"
      ]
     },
     "execution_count": 28,
     "metadata": {},
     "output_type": "execute_result"
    }
   ],
   "source": [
    "t.adicionarAresta(0,2)"
   ]
  },
  {
   "cell_type": "code",
   "execution_count": 29,
   "id": "5d0a2c03-1c0d-443e-be13-5c81207cf66a",
   "metadata": {},
   "outputs": [
    {
     "data": {
      "text/plain": [
       "{ 1, 2 }"
      ]
     },
     "execution_count": 29,
     "metadata": {},
     "output_type": "execute_result"
    }
   ],
   "source": [
    "t.vizinhos(0)"
   ]
  },
  {
   "cell_type": "code",
   "execution_count": 30,
   "id": "f07f3882-dbec-4ff9-838c-5262b9720201",
   "metadata": {},
   "outputs": [
    {
     "data": {
      "text/plain": [
       "true"
      ]
     },
     "execution_count": 30,
     "metadata": {},
     "output_type": "execute_result"
    }
   ],
   "source": [
    "t.removerAresta(0,1)"
   ]
  },
  {
   "cell_type": "code",
   "execution_count": 31,
   "id": "d01821b5-f2a4-469c-b93a-45ed11c5a87c",
   "metadata": {},
   "outputs": [
    {
     "data": {
      "text/plain": [
       "{ 2 }"
      ]
     },
     "execution_count": 31,
     "metadata": {},
     "output_type": "execute_result"
    }
   ],
   "source": [
    "t.vizinhos(0)"
   ]
  },
  {
   "cell_type": "code",
   "execution_count": 32,
   "id": "c4c606b7-cf48-4229-9291-0d00b7dbd9b7",
   "metadata": {},
   "outputs": [
    {
     "data": {
      "text/plain": [
       "false"
      ]
     },
     "execution_count": 32,
     "metadata": {},
     "output_type": "execute_result"
    }
   ],
   "source": [
    "t.ehAresta(0,1)"
   ]
  },
  {
   "cell_type": "code",
   "execution_count": 33,
   "id": "e9580a2e-69cc-4cbf-98d2-a7da966d42f2",
   "metadata": {},
   "outputs": [
    {
     "data": {
      "text/plain": [
       "false"
      ]
     },
     "execution_count": 33,
     "metadata": {},
     "output_type": "execute_result"
    }
   ],
   "source": [
    "t.ehAresta(1,0)"
   ]
  },
  {
   "cell_type": "code",
   "execution_count": 34,
   "id": "c6f3557a-bc14-4964-8935-74f19b6c25dd",
   "metadata": {},
   "outputs": [
    {
     "data": {
      "text/plain": [
       "true"
      ]
     },
     "execution_count": 34,
     "metadata": {},
     "output_type": "execute_result"
    }
   ],
   "source": [
    "t.adicionarAresta(0,1)"
   ]
  },
  {
   "cell_type": "code",
   "execution_count": 35,
   "id": "b072c33d-dab6-4a26-9945-e9b0fba03318",
   "metadata": {},
   "outputs": [
    {
     "data": {
      "text/plain": [
       "{ 1, 2 }"
      ]
     },
     "execution_count": 35,
     "metadata": {},
     "output_type": "execute_result"
    }
   ],
   "source": [
    "t.vizinhos(0)"
   ]
  },
  {
   "cell_type": "code",
   "execution_count": 36,
   "id": "270bb150-cbbd-4e0b-8dda-b5eb926e126d",
   "metadata": {},
   "outputs": [
    {
     "data": {
      "text/plain": [
       "{}"
      ]
     },
     "execution_count": 36,
     "metadata": {},
     "output_type": "execute_result"
    }
   ],
   "source": [
    "t.vizinhos(1)"
   ]
  },
  {
   "cell_type": "code",
   "execution_count": 37,
   "id": "34a57b0f-c934-4708-af9d-5bd4171e1b9c",
   "metadata": {},
   "outputs": [
    {
     "data": {
      "text/plain": [
       "{}"
      ]
     },
     "execution_count": 37,
     "metadata": {},
     "output_type": "execute_result"
    }
   ],
   "source": [
    "t.vizinhos(2)"
   ]
  },
  {
   "cell_type": "markdown",
   "id": "8d3075d0-3e76-4c1e-a6f9-21cfb862c2b7",
   "metadata": {},
   "source": [
    "### Testando Busca em Profundidade e Largura"
   ]
  },
  {
   "cell_type": "code",
   "execution_count": 38,
   "id": "c8ac2ccd-01c7-4bd1-881d-d35ab6a6d0a2",
   "metadata": {},
   "outputs": [
    {
     "name": "stdout",
     "output_type": "stream",
     "text": [
      "[0][1][2][3][4][5][6]"
     ]
    }
   ],
   "source": [
    "Grafo t2;\n",
    "for (int i = 0 ; i < 7 ; i++)\n",
    "    t2.adicionarVertice(i);\n",
    "cout << t2.listarVertices();"
   ]
  },
  {
   "cell_type": "code",
   "execution_count": 39,
   "id": "9c23c16c-10c9-4a16-a125-1fa8c4e48b33",
   "metadata": {},
   "outputs": [],
   "source": [
    "t2.adicionarAresta(0,1);\n",
    "t2.adicionarAresta(0,4);\n",
    "\n",
    "t2.adicionarAresta(1,3);\n",
    "\n",
    "t2.adicionarAresta(2,0);\n",
    "\n",
    "t2.adicionarAresta(3,0);\n",
    "t2.adicionarAresta(3,5);\n",
    "t2.adicionarAresta(3,6);"
   ]
  },
  {
   "cell_type": "code",
   "execution_count": 40,
   "id": "964bae53-51fb-407f-b315-ab9f9bee997d",
   "metadata": {},
   "outputs": [
    {
     "data": {
      "text/plain": [
       "{ 1, 4 }"
      ]
     },
     "execution_count": 40,
     "metadata": {},
     "output_type": "execute_result"
    }
   ],
   "source": [
    "t2.vizinhos(0)"
   ]
  },
  {
   "cell_type": "code",
   "execution_count": 41,
   "id": "957ea38e-40de-4bce-9518-df71cf489684",
   "metadata": {},
   "outputs": [
    {
     "data": {
      "text/plain": [
       "{ 3 }"
      ]
     },
     "execution_count": 41,
     "metadata": {},
     "output_type": "execute_result"
    }
   ],
   "source": [
    "t2.vizinhos(1)"
   ]
  },
  {
   "cell_type": "code",
   "execution_count": 42,
   "id": "049f610d-29be-4eb1-92ce-69487f5a1f18",
   "metadata": {},
   "outputs": [
    {
     "data": {
      "text/plain": [
       "{ 0 }"
      ]
     },
     "execution_count": 42,
     "metadata": {},
     "output_type": "execute_result"
    }
   ],
   "source": [
    "t2.vizinhos(2)"
   ]
  },
  {
   "cell_type": "code",
   "execution_count": 43,
   "id": "7dbab4c9-dce1-4067-b277-a33086707119",
   "metadata": {},
   "outputs": [
    {
     "data": {
      "text/plain": [
       "{ 0, 5, 6 }"
      ]
     },
     "execution_count": 43,
     "metadata": {},
     "output_type": "execute_result"
    }
   ],
   "source": [
    "t2.vizinhos(3)"
   ]
  },
  {
   "cell_type": "code",
   "execution_count": 44,
   "id": "f784a8a4-33f3-417f-a4b7-923b0fe544bc",
   "metadata": {},
   "outputs": [
    {
     "data": {
      "text/plain": [
       "{}"
      ]
     },
     "execution_count": 44,
     "metadata": {},
     "output_type": "execute_result"
    }
   ],
   "source": [
    "t2.vizinhos(4)"
   ]
  },
  {
   "cell_type": "code",
   "execution_count": 45,
   "id": "2d6bc856-390f-4027-bc91-ef3cbdd86ba3",
   "metadata": {},
   "outputs": [
    {
     "data": {
      "text/plain": [
       "{}"
      ]
     },
     "execution_count": 45,
     "metadata": {},
     "output_type": "execute_result"
    }
   ],
   "source": [
    "t2.vizinhos(5)"
   ]
  },
  {
   "cell_type": "code",
   "execution_count": 46,
   "id": "b9e8d734-4317-4671-8a56-fd63f808ccb0",
   "metadata": {},
   "outputs": [
    {
     "data": {
      "text/plain": [
       "{}"
      ]
     },
     "execution_count": 46,
     "metadata": {},
     "output_type": "execute_result"
    }
   ],
   "source": [
    "t2.vizinhos(6)"
   ]
  },
  {
   "cell_type": "code",
   "execution_count": 47,
   "id": "55a8b646-0567-4b8a-84b3-d4cc168fb1c4",
   "metadata": {},
   "outputs": [
    {
     "name": "stdout",
     "output_type": "stream",
     "text": [
      "0\n",
      "1\n",
      "3\n",
      "5\n",
      "6\n",
      "4\n"
     ]
    }
   ],
   "source": [
    "t2.buscaProfundidade(0);"
   ]
  },
  {
   "cell_type": "code",
   "execution_count": 48,
   "id": "e938a115-1fc5-4a37-8b84-f9a02c442fee",
   "metadata": {},
   "outputs": [
    {
     "name": "stdout",
     "output_type": "stream",
     "text": [
      "0\n",
      "1\n",
      "4\n",
      "3\n",
      "5\n",
      "6\n"
     ]
    }
   ],
   "source": [
    "t2.buscaLargura(0);"
   ]
  },
  {
   "cell_type": "code",
   "execution_count": null,
   "id": "d630c9ec-a56d-49af-8455-2c257a334e1b",
   "metadata": {},
   "outputs": [],
   "source": []
  },
  {
   "cell_type": "code",
   "execution_count": null,
   "id": "a7ee89e6-7b7d-4b18-9e49-b036ae312208",
   "metadata": {},
   "outputs": [],
   "source": []
  },
  {
   "cell_type": "code",
   "execution_count": null,
   "id": "1ef9d6da-9e73-437c-9e89-a125dd895dec",
   "metadata": {},
   "outputs": [],
   "source": []
  },
  {
   "cell_type": "code",
   "execution_count": null,
   "id": "94101030-5a00-47c8-bd3f-27184ab4c9b8",
   "metadata": {},
   "outputs": [],
   "source": []
  },
  {
   "cell_type": "code",
   "execution_count": null,
   "id": "094629a5-62e8-4c69-98b1-cba25cae3c82",
   "metadata": {},
   "outputs": [],
   "source": []
  },
  {
   "cell_type": "code",
   "execution_count": null,
   "id": "cd9683d3-10f8-4229-b415-872692d058b3",
   "metadata": {},
   "outputs": [],
   "source": []
  },
  {
   "cell_type": "code",
   "execution_count": null,
   "id": "486a80a8-3ade-4250-b966-cd1935542e7f",
   "metadata": {},
   "outputs": [],
   "source": []
  },
  {
   "cell_type": "code",
   "execution_count": null,
   "id": "f65842a7-0646-450a-a26a-afb12e25c8a9",
   "metadata": {},
   "outputs": [],
   "source": []
  }
 ],
 "metadata": {
  "kernelspec": {
   "display_name": "C++11",
   "language": "C++11",
   "name": "xcpp11"
  },
  "language_info": {
   "codemirror_mode": "text/x-c++src",
   "file_extension": ".cpp",
   "mimetype": "text/x-c++src",
   "name": "c++",
   "version": "11"
  }
 },
 "nbformat": 4,
 "nbformat_minor": 5
}
