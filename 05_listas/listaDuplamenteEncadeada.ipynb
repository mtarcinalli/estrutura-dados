{
 "cells": [
  {
   "cell_type": "markdown",
   "id": "polar-investing",
   "metadata": {},
   "source": [
    "# Listas Duplamente Encadeadas\n",
    "\n",
    "## Implementação"
   ]
  },
  {
   "cell_type": "code",
   "execution_count": 1,
   "id": "urban-twist",
   "metadata": {},
   "outputs": [],
   "source": [
    "#include <iostream>\n",
    "using namespace std;"
   ]
  },
  {
   "cell_type": "markdown",
   "id": "similar-transcription",
   "metadata": {},
   "source": [
    "## Definição da classe"
   ]
  },
  {
   "cell_type": "code",
   "execution_count": 2,
   "id": "alternative-scale",
   "metadata": {},
   "outputs": [],
   "source": [
    "class Lista {\n",
    "    private:\n",
    "        struct elemento {\n",
    "            int valor;\n",
    "            elemento *proximoElemento;\n",
    "            elemento *anteriorElemento;\n",
    "        };\n",
    "        typedef elemento *PonteiroElemento;\n",
    "        PonteiroElemento inicio;\n",
    "        PonteiroElemento fim;\n",
    "        int contador;\n",
    "    public:\n",
    "        Lista();\n",
    "        bool vazia() const;\n",
    "        bool cheia() const;\n",
    "        bool inserir(int posicao, int x);\n",
    "        bool remover(int posicao, int &x);\n",
    "        //implementar\n",
    "        string listar() const;\n",
    "        string listarReverso() const;\n",
    "        int tamanho() const;\n",
    "    private:\n",
    "        bool setaPosicao(int posicao, PonteiroElemento &atual) const;\n",
    "};"
   ]
  },
  {
   "cell_type": "markdown",
   "id": "mexican-intent",
   "metadata": {},
   "source": [
    "### Método Construtor"
   ]
  },
  {
   "cell_type": "code",
   "execution_count": 3,
   "id": "descending-berlin",
   "metadata": {},
   "outputs": [],
   "source": [
    "Lista::Lista() {\n",
    "    inicio = NULL;\n",
    "    fim = NULL;\n",
    "    contador = 0;\n",
    "}"
   ]
  },
  {
   "cell_type": "code",
   "execution_count": 4,
   "id": "patient-girlfriend",
   "metadata": {},
   "outputs": [],
   "source": [
    "Lista minhaLista;"
   ]
  },
  {
   "cell_type": "markdown",
   "id": "restricted-dominant",
   "metadata": {},
   "source": [
    "### Verifica se lista está vazia"
   ]
  },
  {
   "cell_type": "code",
   "execution_count": 5,
   "id": "entire-sessions",
   "metadata": {},
   "outputs": [],
   "source": [
    "bool Lista::vazia() const {\n",
    "    return inicio == NULL;\n",
    "}"
   ]
  },
  {
   "cell_type": "code",
   "execution_count": 6,
   "id": "contained-snake",
   "metadata": {},
   "outputs": [
    {
     "name": "stdout",
     "output_type": "stream",
     "text": [
      "Está vazia!"
     ]
    }
   ],
   "source": [
    "if (minhaLista.vazia()) {\n",
    "    cout << \"Está vazia!\";\n",
    "}"
   ]
  },
  {
   "cell_type": "markdown",
   "id": "swedish-working",
   "metadata": {},
   "source": [
    "### Verifica se lista está cheia"
   ]
  },
  {
   "cell_type": "code",
   "execution_count": 7,
   "id": "focused-pattern",
   "metadata": {},
   "outputs": [],
   "source": [
    "bool Lista::cheia() const {\n",
    "    return false;\n",
    "}"
   ]
  },
  {
   "cell_type": "code",
   "execution_count": 8,
   "id": "acute-blood",
   "metadata": {},
   "outputs": [
    {
     "name": "stdout",
     "output_type": "stream",
     "text": [
      "Não está cheia!"
     ]
    }
   ],
   "source": [
    "if (! minhaLista.cheia()) {\n",
    "    cout << \"Não está cheia!\";\n",
    "}"
   ]
  },
  {
   "cell_type": "markdown",
   "id": "dramatic-oasis",
   "metadata": {},
   "source": [
    "### Método Auxiliar: setaPosição"
   ]
  },
  {
   "cell_type": "code",
   "execution_count": 9,
   "id": "potential-absence",
   "metadata": {},
   "outputs": [],
   "source": [
    "bool Lista::setaPosicao(int posicao, PonteiroElemento &atual) const {\n",
    "    atual = inicio;\n",
    "    for(int i = 1 ; i < posicao ; i++) {\n",
    "        atual = atual->proximoElemento;\n",
    "    }    \n",
    "    return true;\n",
    "}"
   ]
  },
  {
   "cell_type": "markdown",
   "id": "af21292b-2aae-43ad-9ff3-dfbc7eeaa7a1",
   "metadata": {},
   "source": [
    "## Listar"
   ]
  },
  {
   "cell_type": "code",
   "execution_count": 10,
   "id": "0782120f-e817-4fe3-9e67-b40e500c9bd6",
   "metadata": {},
   "outputs": [],
   "source": [
    "string Lista::listar() const {\n",
    "    PonteiroElemento p;\n",
    "    string ret;\n",
    "    p = inicio;\n",
    "    ret = \"\";\n",
    "    while (p != NULL) {\n",
    "        ret = ret + \"[\" + std::to_string(p->valor) + \"]\";\n",
    "        p = p->proximoElemento;\n",
    "    }\n",
    "    return ret;\n",
    "}"
   ]
  },
  {
   "cell_type": "code",
   "execution_count": null,
   "id": "e695e470-5af5-44f2-8366-715a3d37a851",
   "metadata": {},
   "outputs": [],
   "source": []
  },
  {
   "cell_type": "code",
   "execution_count": 11,
   "id": "66904944-8a6a-4448-9676-7683868fa1de",
   "metadata": {},
   "outputs": [],
   "source": [
    "string Lista::listarReverso() const {\n",
    "    PonteiroElemento p;\n",
    "    string ret;\n",
    "    p = fim;\n",
    "    ret = \"\";\n",
    "    while (p != NULL) {\n",
    "        ret = ret + \"[\" + std::to_string(p->valor) + \"]\";\n",
    "        p = p->anteriorElemento;\n",
    "    }\n",
    "    return ret;\n",
    "}"
   ]
  },
  {
   "cell_type": "markdown",
   "id": "1b877267-590b-4edb-b2dc-ed05b1835948",
   "metadata": {},
   "source": [
    "## Tamanho"
   ]
  },
  {
   "cell_type": "code",
   "execution_count": 12,
   "id": "d7ff3b92-8ec0-4f80-867d-e63cf67efaf8",
   "metadata": {},
   "outputs": [],
   "source": [
    "int Lista::tamanho() const {\n",
    "    PonteiroElemento p;\n",
    "    int ret;\n",
    "    p = inicio;\n",
    "    ret = 0;\n",
    "    while (p != NULL) {\n",
    "        p = p->proximoElemento;\n",
    "        ret ++;\n",
    "    }\n",
    "    return ret;\n",
    "}"
   ]
  },
  {
   "cell_type": "markdown",
   "id": "working-green",
   "metadata": {},
   "source": [
    "### Inserção elemento na fila"
   ]
  },
  {
   "cell_type": "code",
   "execution_count": 13,
   "id": "otherwise-trail",
   "metadata": {},
   "outputs": [],
   "source": [
    "bool Lista::inserir(int posicao, int x) {\n",
    "    PonteiroElemento p, atual, q;\n",
    "    \n",
    "    if (posicao < 1 or posicao > contador + 1) {\n",
    "        return false;\n",
    "    }\n",
    "    p = new elemento;\n",
    "    p->valor = x;\n",
    "    // inserção lista vazia\n",
    "    if (inicio == NULL) {\n",
    "        inicio = p;\n",
    "        fim = p;\n",
    "        p->proximoElemento = NULL;\n",
    "        p->anteriorElemento = NULL;\n",
    "        contador++;\n",
    "        return true;\n",
    "    }    \n",
    "    // inserção no início\n",
    "    if (posicao == 1) {\n",
    "        p->proximoElemento = inicio;\n",
    "        inicio->anteriorElemento = p;\n",
    "        p->anteriorElemento = NULL;\n",
    "        inicio = p;\n",
    "        contador++;\n",
    "        return true;\n",
    "    }\n",
    "    // inserção no final\n",
    "    if (posicao == contador + 1) {\n",
    "        fim->proximoElemento = p;\n",
    "        p->anteriorElemento = fim;   \n",
    "        p->proximoElemento = NULL;\n",
    "        fim = p;\n",
    "        contador++;\n",
    "        return true;\n",
    "    }\n",
    "    // inserção no meio da lista\n",
    "    setaPosicao(posicao - 1, atual);\n",
    "    p->proximoElemento = atual->proximoElemento;\n",
    "    p->anteriorElemento = atual;\n",
    "    q = atual->proximoElemento;\n",
    "    q->anteriorElemento = p;\n",
    "    atual->proximoElemento = p;\n",
    "    contador++;\n",
    "    return true;    \n",
    "}"
   ]
  },
  {
   "cell_type": "code",
   "execution_count": 14,
   "id": "flush-canberra",
   "metadata": {},
   "outputs": [
    {
     "name": "stdout",
     "output_type": "stream",
     "text": [
      "Não inseriu!"
     ]
    }
   ],
   "source": [
    "if (! minhaLista.inserir(2, 3))\n",
    "    cout << \"Não inseriu!\";\n",
    "else\n",
    "    cout << minhaLista.listar()"
   ]
  },
  {
   "cell_type": "code",
   "execution_count": 15,
   "id": "registered-chassis",
   "metadata": {},
   "outputs": [
    {
     "name": "stdout",
     "output_type": "stream",
     "text": [
      "Não inseriu!"
     ]
    }
   ],
   "source": [
    "if (! minhaLista.inserir(-1, 3))\n",
    "    cout << \"Não inseriu!\";\n",
    "else\n",
    "    cout << minhaLista.listar()"
   ]
  },
  {
   "cell_type": "code",
   "execution_count": 16,
   "id": "dying-boxing",
   "metadata": {},
   "outputs": [
    {
     "name": "stdout",
     "output_type": "stream",
     "text": [
      "Não inseriu!"
     ]
    }
   ],
   "source": [
    "if (! minhaLista.inserir(0, 3))\n",
    "    cout << \"Não inseriu!\";\n",
    "else\n",
    "    cout << minhaLista.listar()"
   ]
  },
  {
   "cell_type": "code",
   "execution_count": 17,
   "id": "ffa71cc6-af35-4688-b98e-9fd18f119c54",
   "metadata": {},
   "outputs": [
    {
     "name": "stdout",
     "output_type": "stream",
     "text": [
      "0"
     ]
    }
   ],
   "source": [
    "cout << minhaLista.tamanho();"
   ]
  },
  {
   "cell_type": "code",
   "execution_count": 18,
   "id": "prospective-milton",
   "metadata": {},
   "outputs": [
    {
     "name": "stdout",
     "output_type": "stream",
     "text": [
      "[3]\n",
      "[3]\n"
     ]
    }
   ],
   "source": [
    "if (! minhaLista.inserir(1, 3))\n",
    "    cout << \"Não inseriu!\";\n",
    "else {\n",
    "    cout << minhaLista.listar() << endl;\n",
    "    cout << minhaLista.listarReverso() << endl;\n",
    "}"
   ]
  },
  {
   "cell_type": "code",
   "execution_count": 19,
   "id": "be6a37c2-0e9a-45be-b315-fee96e5cde33",
   "metadata": {},
   "outputs": [
    {
     "name": "stdout",
     "output_type": "stream",
     "text": [
      "1"
     ]
    }
   ],
   "source": [
    "cout << minhaLista.tamanho();"
   ]
  },
  {
   "cell_type": "code",
   "execution_count": 20,
   "id": "connected-statement",
   "metadata": {},
   "outputs": [
    {
     "name": "stdout",
     "output_type": "stream",
     "text": [
      "[3]"
     ]
    }
   ],
   "source": [
    "cout << minhaLista.listar();"
   ]
  },
  {
   "cell_type": "code",
   "execution_count": 21,
   "id": "075f959e-447a-4c30-9efa-75f7ca3fb88b",
   "metadata": {},
   "outputs": [
    {
     "name": "stdout",
     "output_type": "stream",
     "text": [
      "[3]"
     ]
    }
   ],
   "source": [
    "cout << minhaLista.listarReverso();"
   ]
  },
  {
   "cell_type": "code",
   "execution_count": 22,
   "id": "built-engagement",
   "metadata": {},
   "outputs": [
    {
     "name": "stdout",
     "output_type": "stream",
     "text": [
      "[4][3]\n",
      "[3][4]\n"
     ]
    }
   ],
   "source": [
    "if (! minhaLista.inserir(1, 4))\n",
    "    cout << \"Não inseriu!\";\n",
    "else {\n",
    "    cout << minhaLista.listar() << endl;\n",
    "    cout << minhaLista.listarReverso() << endl;\n",
    "}"
   ]
  },
  {
   "cell_type": "code",
   "execution_count": 23,
   "id": "critical-volunteer",
   "metadata": {},
   "outputs": [
    {
     "name": "stdout",
     "output_type": "stream",
     "text": [
      "[3][4]"
     ]
    }
   ],
   "source": [
    "cout << minhaLista.listarReverso();"
   ]
  },
  {
   "cell_type": "code",
   "execution_count": 24,
   "id": "arbitrary-valve",
   "metadata": {},
   "outputs": [
    {
     "name": "stdout",
     "output_type": "stream",
     "text": [
      "[4][5][3]\n",
      "[3][5][4]\n"
     ]
    }
   ],
   "source": [
    "if (! minhaLista.inserir(2, 5))\n",
    "    cout << \"Não inseriu!\";\n",
    "else {\n",
    "    cout << minhaLista.listar() << endl;\n",
    "    cout << minhaLista.listarReverso() << endl;\n",
    "}"
   ]
  },
  {
   "cell_type": "code",
   "execution_count": 25,
   "id": "dutch-mattress",
   "metadata": {},
   "outputs": [
    {
     "name": "stdout",
     "output_type": "stream",
     "text": [
      "[7][4][5][3]\n",
      "[3][5][4][7]\n"
     ]
    }
   ],
   "source": [
    "if (! minhaLista.inserir(1, 7))\n",
    "    cout << \"Não inseriu!\";\n",
    "else {\n",
    "    cout << minhaLista.listar() << endl;\n",
    "    cout << minhaLista.listarReverso() << endl;\n",
    "}"
   ]
  },
  {
   "cell_type": "code",
   "execution_count": 26,
   "id": "prescribed-supervision",
   "metadata": {},
   "outputs": [
    {
     "name": "stdout",
     "output_type": "stream",
     "text": [
      "[7][4][9][5][3]\n",
      "[3][5][9][4][7]\n"
     ]
    }
   ],
   "source": [
    "if (! minhaLista.inserir(3, 9))\n",
    "    cout << \"Não inseriu!\";\n",
    "else {\n",
    "    cout << minhaLista.listar() << endl;\n",
    "    cout << minhaLista.listarReverso() << endl;\n",
    "}"
   ]
  },
  {
   "cell_type": "code",
   "execution_count": 27,
   "id": "german-intake",
   "metadata": {},
   "outputs": [
    {
     "name": "stdout",
     "output_type": "stream",
     "text": [
      "[7][4][9][8][5][3]\n",
      "[3][5][8][9][4][7]\n"
     ]
    }
   ],
   "source": [
    "if (! minhaLista.inserir(4, 8))\n",
    "    cout << \"Não inseriu!\";\n",
    "else {\n",
    "    cout << minhaLista.listar() << endl;\n",
    "    cout << minhaLista.listarReverso() << endl;\n",
    "}"
   ]
  },
  {
   "cell_type": "code",
   "execution_count": 28,
   "id": "macro-fifteen",
   "metadata": {},
   "outputs": [
    {
     "name": "stdout",
     "output_type": "stream",
     "text": [
      "[7][4][9][8][5][9][3]\n",
      "[3][9][5][8][9][4][7]\n"
     ]
    }
   ],
   "source": [
    "if (! minhaLista.inserir(6, 9))\n",
    "    cout << \"Não inseriu!\";\n",
    "else {\n",
    "    cout << minhaLista.listar() << endl;\n",
    "    cout << minhaLista.listarReverso() << endl;\n",
    "}"
   ]
  },
  {
   "cell_type": "markdown",
   "id": "executed-frost",
   "metadata": {},
   "source": [
    "### Remoção de Elemento da Fila"
   ]
  },
  {
   "cell_type": "code",
   "execution_count": 29,
   "id": "ordinary-granny",
   "metadata": {},
   "outputs": [],
   "source": [
    "bool Lista::remover(int posicao, int &x) {\n",
    "    PonteiroElemento p, atual, q;\n",
    "    \n",
    "    if (posicao < 1 or posicao > contador) {\n",
    "        return false;\n",
    "    }\n",
    "    if (posicao == 1) {\n",
    "        p = inicio;\n",
    "        inicio = inicio->proximoElemento;\n",
    "        if (inicio == NULL)\n",
    "            fim = NULL;\n",
    "        else\n",
    "            inicio->anteriorElemento = NULL;\n",
    "    } else {\n",
    "        setaPosicao(posicao - 1, atual);\n",
    "        p = atual->proximoElemento;\n",
    "        q = p->proximoElemento;\n",
    "        atual->proximoElemento = p->proximoElemento;\n",
    "        q->anteriorElemento = atual;\n",
    "    }\n",
    "    x = p->valor;\n",
    "    delete p;\n",
    "    contador --;\n",
    "    return true;\n",
    "}"
   ]
  },
  {
   "cell_type": "code",
   "execution_count": 30,
   "id": "turkish-consultancy",
   "metadata": {},
   "outputs": [],
   "source": [
    "int y;"
   ]
  },
  {
   "cell_type": "code",
   "execution_count": 31,
   "id": "intense-inventory",
   "metadata": {},
   "outputs": [
    {
     "name": "stdout",
     "output_type": "stream",
     "text": [
      "[7][4][9][8][5][9][3]"
     ]
    }
   ],
   "source": [
    "cout << minhaLista.listar();"
   ]
  },
  {
   "cell_type": "code",
   "execution_count": 32,
   "id": "japanese-highway",
   "metadata": {},
   "outputs": [
    {
     "name": "stdout",
     "output_type": "stream",
     "text": [
      "Não removeu!"
     ]
    }
   ],
   "source": [
    "if (! minhaLista.remover(-1, y))\n",
    "    cout << \"Não removeu!\";\n",
    "else\n",
    "    cout << \"y: \" << y << \" - \" << minhaLista.listar()"
   ]
  },
  {
   "cell_type": "code",
   "execution_count": 33,
   "id": "numerous-ghost",
   "metadata": {},
   "outputs": [
    {
     "name": "stdout",
     "output_type": "stream",
     "text": [
      "Não removeu!"
     ]
    }
   ],
   "source": [
    "if (! minhaLista.remover(8, y))\n",
    "    cout << \"Não removeu!\";\n",
    "else\n",
    "    cout << \"y: \" << y << \" - \" << minhaLista.listar()"
   ]
  },
  {
   "cell_type": "code",
   "execution_count": 34,
   "id": "forty-property",
   "metadata": {},
   "outputs": [
    {
     "name": "stdout",
     "output_type": "stream",
     "text": [
      "Não removeu!"
     ]
    }
   ],
   "source": [
    "if (! minhaLista.remover(0, y))\n",
    "    cout << \"Não removeu!\";\n",
    "else\n",
    "    cout << \"y: \" << y << \" - \" << minhaLista.listar()"
   ]
  },
  {
   "cell_type": "code",
   "execution_count": 35,
   "id": "burning-success",
   "metadata": {},
   "outputs": [
    {
     "name": "stdout",
     "output_type": "stream",
     "text": [
      "[7][4][9][8][5][9][3]"
     ]
    }
   ],
   "source": [
    "cout << minhaLista.listar();"
   ]
  },
  {
   "cell_type": "code",
   "execution_count": 36,
   "id": "electric-slovenia",
   "metadata": {},
   "outputs": [
    {
     "name": "stdout",
     "output_type": "stream",
     "text": [
      "y: 7\n",
      "[4][9][8][5][9][3]\n",
      "[3][9][5][8][9][4]\n"
     ]
    }
   ],
   "source": [
    "if (! minhaLista.remover(1, y))\n",
    "    cout << \"Não removeu!\";\n",
    "else {\n",
    "    cout << \"y: \" << y << endl;\n",
    "    cout << minhaLista.listar() << endl;\n",
    "    cout << minhaLista.listarReverso() << endl;\n",
    "}"
   ]
  },
  {
   "cell_type": "code",
   "execution_count": 37,
   "id": "associate-spell",
   "metadata": {},
   "outputs": [
    {
     "name": "stdout",
     "output_type": "stream",
     "text": [
      "y: 9\n",
      "[4][9][8][5][3]\n",
      "[3][5][8][9][4]\n"
     ]
    }
   ],
   "source": [
    "if (! minhaLista.remover(5, y))\n",
    "    cout << \"Não removeu!\";\n",
    "else {\n",
    "    cout << \"y: \" << y << endl;\n",
    "    cout << minhaLista.listar() << endl;\n",
    "    cout << minhaLista.listarReverso() << endl;\n",
    "}"
   ]
  },
  {
   "cell_type": "code",
   "execution_count": 38,
   "id": "buried-cardiff",
   "metadata": {},
   "outputs": [
    {
     "name": "stdout",
     "output_type": "stream",
     "text": [
      "y: 9\n",
      "[4][8][5][3]\n",
      "[3][5][8][4]\n"
     ]
    }
   ],
   "source": [
    "if (! minhaLista.remover(2, y))\n",
    "    cout << \"Não removeu!\";\n",
    "else {\n",
    "    cout << \"y: \" << y << endl;\n",
    "    cout << minhaLista.listar() << endl;\n",
    "    cout << minhaLista.listarReverso() << endl;\n",
    "}"
   ]
  },
  {
   "cell_type": "code",
   "execution_count": 39,
   "id": "turkish-wayne",
   "metadata": {},
   "outputs": [
    {
     "name": "stdout",
     "output_type": "stream",
     "text": [
      "y: 4\n",
      "[8][5][3]\n",
      "[3][5][8]\n"
     ]
    }
   ],
   "source": [
    "if (! minhaLista.remover(1, y))\n",
    "    cout << \"Não removeu!\";\n",
    "else {\n",
    "    cout << \"y: \" << y << endl;\n",
    "    cout << minhaLista.listar() << endl;\n",
    "    cout << minhaLista.listarReverso() << endl;\n",
    "}"
   ]
  },
  {
   "cell_type": "code",
   "execution_count": 40,
   "id": "brutal-breeding",
   "metadata": {},
   "outputs": [
    {
     "name": "stdout",
     "output_type": "stream",
     "text": [
      "y: 8\n",
      "[5][3]\n",
      "[3][5]\n"
     ]
    }
   ],
   "source": [
    "if (! minhaLista.remover(1, y))\n",
    "    cout << \"Não removeu!\";\n",
    "else {\n",
    "    cout << \"y: \" << y << endl;\n",
    "    cout << minhaLista.listar() << endl;\n",
    "    cout << minhaLista.listarReverso() << endl;\n",
    "}"
   ]
  },
  {
   "cell_type": "code",
   "execution_count": 41,
   "id": "descending-fossil",
   "metadata": {},
   "outputs": [
    {
     "name": "stdout",
     "output_type": "stream",
     "text": [
      "y: 5\n",
      "[3]\n",
      "[3]\n"
     ]
    }
   ],
   "source": [
    "if (! minhaLista.remover(1, y))\n",
    "    cout << \"Não removeu!\";\n",
    "else {\n",
    "    cout << \"y: \" << y << endl;\n",
    "    cout << minhaLista.listar() << endl;\n",
    "    cout << minhaLista.listarReverso() << endl;\n",
    "}"
   ]
  },
  {
   "cell_type": "code",
   "execution_count": 42,
   "id": "diverse-pregnancy",
   "metadata": {},
   "outputs": [
    {
     "name": "stdout",
     "output_type": "stream",
     "text": [
      "y: 3\n",
      "\n",
      "\n"
     ]
    }
   ],
   "source": [
    "if (! minhaLista.remover(1, y))\n",
    "    cout << \"Não removeu!\";\n",
    "else {\n",
    "    cout << \"y: \" << y << endl;\n",
    "    cout << minhaLista.listar() << endl;\n",
    "    cout << minhaLista.listarReverso() << endl;\n",
    "}"
   ]
  },
  {
   "cell_type": "code",
   "execution_count": 43,
   "id": "breeding-lighting",
   "metadata": {},
   "outputs": [
    {
     "name": "stdout",
     "output_type": "stream",
     "text": [
      "Não removeu!"
     ]
    }
   ],
   "source": [
    "if (! minhaLista.remover(1, y))\n",
    "    cout << \"Não removeu!\";\n",
    "else {\n",
    "    cout << \"y: \" << y << endl;\n",
    "    cout << minhaLista.listar() << endl;\n",
    "    cout << minhaLista.listarReverso() << endl;\n",
    "}"
   ]
  },
  {
   "cell_type": "code",
   "execution_count": 44,
   "id": "oriented-laptop",
   "metadata": {},
   "outputs": [
    {
     "name": "stdout",
     "output_type": "stream",
     "text": [
      "0"
     ]
    }
   ],
   "source": [
    "cout << minhaLista.tamanho();"
   ]
  }
 ],
 "metadata": {
  "kernelspec": {
   "display_name": "C++11",
   "language": "C++11",
   "name": "xcpp11"
  },
  "language_info": {
   "codemirror_mode": "text/x-c++src",
   "file_extension": ".cpp",
   "mimetype": "text/x-c++src",
   "name": "c++",
   "version": "11"
  }
 },
 "nbformat": 4,
 "nbformat_minor": 5
}
