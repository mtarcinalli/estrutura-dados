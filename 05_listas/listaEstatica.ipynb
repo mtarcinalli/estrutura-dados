{
 "cells": [
  {
   "cell_type": "markdown",
   "id": "combined-alberta",
   "metadata": {},
   "source": [
    "# Listas Lineares\n",
    "\n",
    "- dias da semana: [ segunda,  terça, quarta, quinta, sexta, sábado, domingo ]\n",
    "- estações do ano: [ primavera, verão, outono, inverno ]\n",
    "- polaridade: [ positivo, negativo, neutro ]\n",
    "\n",
    "Em uma lista elementos podem ser inseridos, \n",
    "removidos ou substituídos em qualquer \n",
    "posição.\n",
    "\n",
    "## Implementações:\n",
    "\n",
    "- estática (contígua)\n",
    "- dinâmica (encadeada)\n",
    "\n",
    "## Definição\n",
    "\n",
    "Ao inserir um elemento em uma dada posição, os elementos seguintes são deslocados para posições posteriores.\n",
    "\n",
    "Exemplo:\n",
    "\n",
    "Seja uma lista L = [ 4, 9, 3 ] contendo n=3 elementos:\n",
    "- a<sub>1</sub> = 4\n",
    "- a<sub>2</sub> = 9\n",
    "- a<sub>3</sub> = 3\n",
    "\n",
    "Se inserirmos um elemento 5 na 2ª posição da lista teremos L = [ 4, 5, 9, 3 ]\n",
    "- a<sub>1</sub> = 4\n",
    "- a<sub>2</sub> = 5\n",
    "- a<sub>3</sub> = 9\n",
    "- a<sub>4</sub> = 3\n",
    "\n",
    "Ao remover um elemento em uma dada posição, os elementos seguintes são deslocados para posições anteriores.\n",
    "\n",
    "Se removermos o terceiro elemento da nossa lista teremos L = [ 4, 5, 3 ]\n",
    "- a<sub>1</sub> = 4\n",
    "- a<sub>2</sub> = 5\n",
    "- a<sub>3</sub> = 3\n",
    "\n",
    "## Operações Básicas\n",
    "\n",
    "### Criação\n",
    "\n",
    "Lista criada e iniciada vazia\n",
    "\n",
    "### Destruição\n",
    "\n",
    "Elementos removidos da lista\n",
    "\n",
    "### Status: vazia\n",
    "\n",
    "Verifica se a lista está vazia\n",
    "\n",
    "### Status: cheia\n",
    "\n",
    "Verifica se a lista esta cheia\n",
    "\n",
    "### Inserção\n",
    "\n",
    "Inserção de elemento em determinada posição.\n",
    "\n",
    "Esta posição deve ser um valor entre 1 (primeiro elemento da lista) e contador + 1 (após o último elemento da lista).\n",
    "\n",
    "As entradas posteriores ao elemento inserido devem ter suas posições incrementadas em uma unidade.\n",
    "\n",
    "### Remoção\n",
    "\n",
    "Remoção de elemento em determinada posição.\n",
    "\n",
    "Esta posição deve ser um valor entre 1 (primeiro elemento da lista) e contador (último elemento da lista).\n",
    "\n",
    "As entradas posteriores ao elemento removido devem ter suas posições decrementadas em uma unidade.\n",
    "\n",
    "### Retorna\n",
    "\n",
    "Retorna elemento armazenado em determinada posição.\n",
    "\n",
    "Esta posição deve ser um valor entre 1 (primeiro elemento da lista) e contador (último elemento da lista).\n",
    "\n",
    "### Substitui\n",
    "\n",
    "Substitui elemento armazenado em determinada posição.\n",
    "\n",
    "Esta posição deve ser um valor entre 1 (primeiro elemento da lista) e contador (último elemento da lista).\n",
    "\n",
    "\n",
    "## Outras operações\n",
    "\n",
    "### Tamanho\n",
    "\n",
    "Retorna o tamanho atual da lista.\n",
    "\n",
    "### Esvaziar\n",
    "\n",
    "Remove todos os elementos da lista.\n",
    "\n",
    "## Implementação"
   ]
  },
  {
   "cell_type": "code",
   "execution_count": 1,
   "id": "celtic-preparation",
   "metadata": {},
   "outputs": [],
   "source": [
    "#include <iostream>\n",
    "using namespace std;\n",
    "\n",
    "#define MAX 5"
   ]
  },
  {
   "cell_type": "markdown",
   "id": "banner-surfing",
   "metadata": {},
   "source": [
    "## Definição da classe"
   ]
  },
  {
   "cell_type": "code",
   "execution_count": 2,
   "id": "amazing-point",
   "metadata": {},
   "outputs": [],
   "source": [
    "class Lista {\n",
    "    private:\n",
    "        int contador;\n",
    "        int capacidade = MAX;\n",
    "        int elementos[MAX];\n",
    "    public:\n",
    "        Lista();\n",
    "        bool vazia() const;\n",
    "        bool cheia() const;\n",
    "        bool inserir(int posicao, int x);\n",
    "        bool retornar(int posicao, int &x) const;\n",
    "        bool remover(int posicao, int &x);\n",
    "        bool substituir(int posicao, int &x);\n",
    "        string listar() const;\n",
    "};"
   ]
  },
  {
   "cell_type": "markdown",
   "id": "tested-airfare",
   "metadata": {},
   "source": [
    "### Método Construtor"
   ]
  },
  {
   "cell_type": "code",
   "execution_count": 3,
   "id": "norwegian-pipeline",
   "metadata": {},
   "outputs": [],
   "source": [
    "Lista::Lista() {\n",
    "    contador = 0;\n",
    "}"
   ]
  },
  {
   "cell_type": "code",
   "execution_count": 4,
   "id": "handed-wyoming",
   "metadata": {},
   "outputs": [],
   "source": [
    "Lista minhaLista;"
   ]
  },
  {
   "cell_type": "markdown",
   "id": "leading-catholic",
   "metadata": {},
   "source": [
    "### Verifica se lista está vazia"
   ]
  },
  {
   "cell_type": "code",
   "execution_count": 5,
   "id": "unnecessary-president",
   "metadata": {},
   "outputs": [],
   "source": [
    "bool Lista::vazia() const {\n",
    "    return contador == 0;\n",
    "}"
   ]
  },
  {
   "cell_type": "code",
   "execution_count": 6,
   "id": "beginning-field",
   "metadata": {},
   "outputs": [
    {
     "name": "stdout",
     "output_type": "stream",
     "text": [
      "Está vazia!"
     ]
    }
   ],
   "source": [
    "if (minhaLista.vazia()) {\n",
    "    cout << \"Está vazia!\";\n",
    "}"
   ]
  },
  {
   "cell_type": "markdown",
   "id": "associate-summary",
   "metadata": {},
   "source": [
    "### Verifica se lista está cheia"
   ]
  },
  {
   "cell_type": "code",
   "execution_count": 7,
   "id": "vital-emergency",
   "metadata": {},
   "outputs": [],
   "source": [
    "bool Lista::cheia() const {\n",
    "    return contador == capacidade;\n",
    "}"
   ]
  },
  {
   "cell_type": "code",
   "execution_count": 8,
   "id": "taken-print",
   "metadata": {},
   "outputs": [
    {
     "name": "stdout",
     "output_type": "stream",
     "text": [
      "Não está cheia!"
     ]
    }
   ],
   "source": [
    "if (! minhaLista.cheia()) {\n",
    "    cout << \"Não está cheia!\";\n",
    "}"
   ]
  },
  {
   "cell_type": "markdown",
   "id": "boxed-donna",
   "metadata": {},
   "source": [
    "### Inserção elemento na lista"
   ]
  },
  {
   "cell_type": "code",
   "execution_count": 9,
   "id": "mature-stopping",
   "metadata": {},
   "outputs": [],
   "source": [
    "bool Lista::inserir(int posicao, int x) {\n",
    "    if ((posicao > contador + 1) || (cheia())) {\n",
    "        return false;\n",
    "    }\n",
    "    //std::cout << \"cont: \" << contador << \" pos \" << posicao << \"\\n\";\n",
    "    for (int i = contador ; i >= posicao ; i --) {\n",
    "        elementos[i] = elementos[i-1];\n",
    "        //std::cout << i;\n",
    "    }\n",
    "    elementos[posicao - 1] = x;\n",
    "    contador++;\n",
    "    return true;\n",
    "\n",
    "}"
   ]
  },
  {
   "cell_type": "markdown",
   "id": "d50b7a27-62f6-4dab-a9e5-4c3d3af12bf8",
   "metadata": {},
   "source": [
    "## Retornar elemento da lista"
   ]
  },
  {
   "cell_type": "code",
   "execution_count": 10,
   "id": "6075af78-ee5c-473c-939d-5e97c4504149",
   "metadata": {},
   "outputs": [],
   "source": [
    "bool Lista::retornar(int posicao, int &x) const {\n",
    "    if ((posicao > contador) || (posicao < 1))\n",
    "        return false;\n",
    "    x = elementos[posicao - 1];\n",
    "    return true;\n",
    "}"
   ]
  },
  {
   "cell_type": "markdown",
   "id": "e1099524-7aae-4cf3-a877-5cd079929081",
   "metadata": {},
   "source": [
    "## Retornar elementos da lista"
   ]
  },
  {
   "cell_type": "code",
   "execution_count": 11,
   "id": "western-sarah",
   "metadata": {},
   "outputs": [],
   "source": [
    "string Lista::listar() const {\n",
    "    string ret = \"\";\n",
    "    for (int i = 0 ; i < contador ; i++)\n",
    "        ret = ret + std::to_string(elementos[i]) + \" \";\n",
    "    return ret + \"\\n\";\n",
    "}"
   ]
  },
  {
   "cell_type": "code",
   "execution_count": 12,
   "id": "c636e9a6-2008-4f10-b02b-6e89327207ed",
   "metadata": {},
   "outputs": [
    {
     "name": "stdout",
     "output_type": "stream",
     "text": [
      "1 2 3 \n"
     ]
    }
   ],
   "source": [
    "minhaLista.inserir(1, 1);\n",
    "minhaLista.inserir(2, 3);\n",
    "minhaLista.inserir(2, 2);\n",
    "cout << minhaLista.listar();"
   ]
  },
  {
   "cell_type": "code",
   "execution_count": 13,
   "id": "96771a3b-9ed0-4e3a-ba07-36fdd1035c52",
   "metadata": {},
   "outputs": [
    {
     "name": "stdout",
     "output_type": "stream",
     "text": [
      "1\n",
      "1 1 2 3 \n",
      "\n",
      "1\n",
      "1 3 1 2 3 \n",
      "\n",
      "0\n",
      "1 3 1 2 3 \n",
      "\n"
     ]
    }
   ],
   "source": [
    "cout << minhaLista.inserir(1, 1) << endl;\n",
    "cout << minhaLista.listar() << endl;\n",
    "cout << minhaLista.inserir(2, 3) << endl;\n",
    "cout << minhaLista.listar() << endl;\n",
    "cout << minhaLista.inserir(2, 2) << endl;\n",
    "cout << minhaLista.listar() << endl;"
   ]
  },
  {
   "cell_type": "code",
   "execution_count": 14,
   "id": "d667319c-d4a5-4526-9238-98aa629f409b",
   "metadata": {},
   "outputs": [
    {
     "name": "stdout",
     "output_type": "stream",
     "text": [
      "sem valor a ser retornado\n",
      "valor: 1\n",
      "valor: 3\n",
      "valor: 1\n",
      "valor: 2\n",
      "valor: 3\n",
      "sem valor a ser retornado\n",
      "sem valor a ser retornado\n",
      "sem valor a ser retornado\n",
      "sem valor a ser retornado\n"
     ]
    }
   ],
   "source": [
    "int valorRetornado;\n",
    "\n",
    "for (int i = 0 ; i < 10 ; i++)\n",
    "    if (minhaLista.retornar(i, valorRetornado))\n",
    "        cout << \"valor: \" << valorRetornado << endl;\n",
    "    else\n",
    "        cout << \"sem valor a ser retornado\" << endl;"
   ]
  },
  {
   "cell_type": "code",
   "execution_count": null,
   "id": "414c3b2f-d8c0-47e0-bd12-8ad853f7b6b5",
   "metadata": {},
   "outputs": [],
   "source": []
  },
  {
   "cell_type": "code",
   "execution_count": 15,
   "id": "c2953d27-bf95-4af0-9d0b-36d967b72521",
   "metadata": {},
   "outputs": [],
   "source": [
    "bool Lista::remover(int posicao, int &x) {\n",
    "    if ((posicao > contador) || (vazia())) {\n",
    "        return false;\n",
    "    }\n",
    "    x = elementos[posicao - 1];\n",
    "    for (int i = posicao - 1 ; i < contador ; i ++) {\n",
    "        elementos[i] = elementos[i+1];\n",
    "    }\n",
    "    contador--;\n",
    "    return true;\n",
    "}"
   ]
  },
  {
   "cell_type": "code",
   "execution_count": null,
   "id": "bab71e9d-0a08-46a7-a67c-a174fd54e494",
   "metadata": {},
   "outputs": [],
   "source": []
  },
  {
   "cell_type": "code",
   "execution_count": 16,
   "id": "868b491c-c6cb-45c2-b942-2e526e1df23b",
   "metadata": {},
   "outputs": [
    {
     "name": "stdout",
     "output_type": "stream",
     "text": [
      "1 3 1 2 3 \n",
      "\n",
      "1\n",
      "1\n",
      "3 1 2 3 \n",
      "\n"
     ]
    }
   ],
   "source": [
    "cout << minhaLista.listar() << endl;\n",
    "cout << minhaLista.remover(1, valorRetornado) << endl;\n",
    "cout << valorRetornado << endl;\n",
    "cout << minhaLista.listar() << endl;"
   ]
  },
  {
   "cell_type": "code",
   "execution_count": 17,
   "id": "844e4264-4569-4733-989c-163ad21cf22b",
   "metadata": {},
   "outputs": [
    {
     "name": "stdout",
     "output_type": "stream",
     "text": [
      "3 1 2 3 \n",
      "\n",
      "1\n",
      "1\n",
      "3 2 3 \n",
      "\n"
     ]
    }
   ],
   "source": [
    "cout << minhaLista.listar() << endl;\n",
    "cout << minhaLista.remover(2, valorRetornado) << endl;\n",
    "cout << valorRetornado << endl;\n",
    "cout << minhaLista.listar() << endl;"
   ]
  },
  {
   "cell_type": "code",
   "execution_count": 18,
   "id": "ae00fe50-215b-4b41-8ffa-cb930423ddee",
   "metadata": {},
   "outputs": [
    {
     "name": "stdout",
     "output_type": "stream",
     "text": [
      "3 2 3 \n",
      "\n",
      "1\n",
      "2\n",
      "3 3 \n",
      "\n"
     ]
    }
   ],
   "source": [
    "cout << minhaLista.listar() << endl;\n",
    "cout << minhaLista.remover(2, valorRetornado) << endl;\n",
    "cout << valorRetornado << endl;\n",
    "cout << minhaLista.listar() << endl;"
   ]
  },
  {
   "cell_type": "code",
   "execution_count": 19,
   "id": "623d175d-9fce-4d1d-b5d3-5a2ace0d47bc",
   "metadata": {},
   "outputs": [
    {
     "name": "stdout",
     "output_type": "stream",
     "text": [
      "3 3 \n",
      "\n",
      "1\n",
      "3\n",
      "3 \n",
      "\n"
     ]
    }
   ],
   "source": [
    "cout << minhaLista.listar() << endl;\n",
    "cout << minhaLista.remover(2, valorRetornado) << endl;\n",
    "cout << valorRetornado << endl;\n",
    "cout << minhaLista.listar() << endl;"
   ]
  },
  {
   "cell_type": "code",
   "execution_count": 20,
   "id": "0ba443a2-b940-432e-9fdd-ec603e4f4619",
   "metadata": {},
   "outputs": [
    {
     "name": "stdout",
     "output_type": "stream",
     "text": [
      "1\n",
      "3 5 \n",
      "\n",
      "1\n",
      "2 3 5 \n",
      "\n",
      "1\n",
      "1 2 3 5 \n",
      "\n",
      "1\n",
      "1 2 3 4 5 \n",
      "\n",
      "0\n",
      "1 2 3 4 5 \n",
      "\n"
     ]
    }
   ],
   "source": [
    "cout << minhaLista.inserir(2, 5) << endl;\n",
    "cout << minhaLista.listar() << endl;\n",
    "cout << minhaLista.inserir(1, 2) << endl;\n",
    "cout << minhaLista.listar() << endl;\n",
    "cout << minhaLista.inserir(1, 1) << endl;\n",
    "cout << minhaLista.listar() << endl;\n",
    "cout << minhaLista.inserir(4, 4) << endl;\n",
    "cout << minhaLista.listar() << endl;\n",
    "cout << minhaLista.inserir(5, 5) << endl;\n",
    "cout << minhaLista.listar() << endl;"
   ]
  }
 ],
 "metadata": {
  "kernelspec": {
   "display_name": "C++11",
   "language": "C++11",
   "name": "xcpp11"
  },
  "language_info": {
   "codemirror_mode": "text/x-c++src",
   "file_extension": ".cpp",
   "mimetype": "text/x-c++src",
   "name": "c++",
   "version": "11"
  }
 },
 "nbformat": 4,
 "nbformat_minor": 5
}
