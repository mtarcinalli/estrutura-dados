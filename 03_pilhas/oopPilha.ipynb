{
 "cells": [
  {
   "cell_type": "markdown",
   "id": "appointed-offering",
   "metadata": {},
   "source": [
    "# Pilha"
   ]
  },
  {
   "cell_type": "markdown",
   "id": "af9385b4-4bf6-4c15-8c8f-8b5acfe3fe4d",
   "metadata": {},
   "source": [
    "- Ultimo que entra é o primeiro que sai (LIFO)"
   ]
  },
  {
   "cell_type": "code",
   "execution_count": 1,
   "id": "54a65a85-0464-431f-aea2-e3f631531c07",
   "metadata": {},
   "outputs": [],
   "source": [
    "#include <iostream>\n",
    "using namespace std;\n",
    "\n",
    "#define MAX 5"
   ]
  },
  {
   "cell_type": "markdown",
   "id": "967f2d66-08a6-4c0d-8fea-d6f785b2c82d",
   "metadata": {},
   "source": [
    "## Interface Classe"
   ]
  },
  {
   "cell_type": "code",
   "execution_count": 2,
   "id": "a6c5d1ca-aeb3-479b-b10d-28e49bde3276",
   "metadata": {},
   "outputs": [],
   "source": [
    "class Pilha {\n",
    "    private:\n",
    "        int contador;\n",
    "        int capacidade;\n",
    "        int conteudo[MAX];\n",
    "    public:\n",
    "        Pilha();\n",
    "        bool vazia();\n",
    "        bool cheia();\n",
    "        bool empilhar(int valor);\n",
    "        int desempilhar();\n",
    "        int retornaTopo();\n",
    "};"
   ]
  },
  {
   "cell_type": "markdown",
   "id": "171adc1e-65a0-4018-b892-4e594d48d944",
   "metadata": {},
   "source": [
    "## Construtor:"
   ]
  },
  {
   "cell_type": "code",
   "execution_count": 3,
   "id": "b3ececeb-db98-497b-b897-62c77b784155",
   "metadata": {},
   "outputs": [],
   "source": [
    "Pilha::Pilha() {\n",
    "    contador = 0;\n",
    "    capacidade = MAX;\n",
    "}"
   ]
  },
  {
   "cell_type": "code",
   "execution_count": 4,
   "id": "a06a44db-d8c5-463c-88b1-4633aace9e02",
   "metadata": {},
   "outputs": [],
   "source": [
    "Pilha minhaPilha;"
   ]
  },
  {
   "cell_type": "markdown",
   "id": "50223c4f-df1d-4e3a-91a1-0cb45117c219",
   "metadata": {},
   "source": [
    "## Verifica se a pilha está vazia"
   ]
  },
  {
   "cell_type": "code",
   "execution_count": 5,
   "id": "11d44d27-d1b0-41f6-a47b-2daa20e16295",
   "metadata": {},
   "outputs": [],
   "source": [
    "bool Pilha::vazia() {\n",
    "    if (contador == 0) {\n",
    "        return true;\n",
    "    } else {\n",
    "        return false;\n",
    "    }\n",
    "}"
   ]
  },
  {
   "cell_type": "code",
   "execution_count": 6,
   "id": "1d1ef021-55a8-46a8-949c-889f5f178eeb",
   "metadata": {},
   "outputs": [
    {
     "name": "stdout",
     "output_type": "stream",
     "text": [
      "Esta vazia!\n"
     ]
    }
   ],
   "source": [
    "if (minhaPilha.vazia())\n",
    "    cout << \"Esta vazia!\\n\";\n",
    "else\n",
    "    cout << \"Não esta vazia!\\n\";"
   ]
  },
  {
   "cell_type": "markdown",
   "id": "230e2ec5-9dfe-4461-9820-407e545e10fd",
   "metadata": {},
   "source": [
    "## Verifica se a pilha está cheia"
   ]
  },
  {
   "cell_type": "code",
   "execution_count": 7,
   "id": "8d42da77-2617-40a5-b318-e09a5bc1584c",
   "metadata": {},
   "outputs": [],
   "source": [
    "bool Pilha::cheia() {\n",
    "    if (contador == capacidade) {\n",
    "        return true;\n",
    "    } else {\n",
    "        return false;\n",
    "    }\n",
    "}"
   ]
  },
  {
   "cell_type": "code",
   "execution_count": 8,
   "id": "77c3437a-df3d-4d03-9e31-60f0748a7b87",
   "metadata": {},
   "outputs": [
    {
     "name": "stdout",
     "output_type": "stream",
     "text": [
      "Não esta cheia!\n"
     ]
    }
   ],
   "source": [
    "if (minhaPilha.cheia())\n",
    "    cout << \"Esta cheia!\\n\";\n",
    "else\n",
    "    cout << \"Não esta cheia!\\n\";"
   ]
  },
  {
   "cell_type": "markdown",
   "id": "c4d642a8-4fe1-459f-b358-a0d9097060c3",
   "metadata": {},
   "source": [
    "## Empilhar elemento"
   ]
  },
  {
   "cell_type": "code",
   "execution_count": 9,
   "id": "7dd15926-7e32-448a-9fc6-242981bec65f",
   "metadata": {},
   "outputs": [],
   "source": [
    "bool Pilha::empilhar(int valor) {\n",
    "    if (cheia())\n",
    "        return false;\n",
    "    conteudo[contador] = valor;\n",
    "    contador++;\n",
    "    return true;\n",
    "}"
   ]
  },
  {
   "cell_type": "code",
   "execution_count": 10,
   "id": "a03aceba-8525-4e1b-8ae2-e8fe8df9f50c",
   "metadata": {},
   "outputs": [
    {
     "name": "stdout",
     "output_type": "stream",
     "text": [
      "Empilhando: 4\n",
      "Empilhado\n"
     ]
    }
   ],
   "source": [
    "cout << \"Empilhando: 4\\n\";\n",
    "\n",
    "if (minhaPilha.empilhar(4))\n",
    "    cout << \"Empilhado\\n\";\n",
    "else\n",
    "    cout << \"Não empilhou\\n\";"
   ]
  },
  {
   "cell_type": "code",
   "execution_count": 11,
   "id": "7d2fcdf5-8b45-4f83-a771-8fbefa1bb4c2",
   "metadata": {},
   "outputs": [
    {
     "name": "stdout",
     "output_type": "stream",
     "text": [
      "Empilhado\n"
     ]
    }
   ],
   "source": [
    "if (minhaPilha.empilhar(3))\n",
    "    cout << \"Empilhado\\n\";\n",
    "else\n",
    "    cout << \"Não empilhou\\n\";"
   ]
  },
  {
   "cell_type": "code",
   "execution_count": 12,
   "id": "a0a2ddab-6e86-4445-b651-7593e3d5bd44",
   "metadata": {},
   "outputs": [
    {
     "name": "stdout",
     "output_type": "stream",
     "text": [
      "Empilhado\n"
     ]
    }
   ],
   "source": [
    "if (minhaPilha.empilhar(2))\n",
    "    cout << \"Empilhado\\n\";\n",
    "else\n",
    "    cout << \"Não empilhou\\n\";"
   ]
  },
  {
   "cell_type": "code",
   "execution_count": 13,
   "id": "c98f4aba-9244-485a-9478-00e5817e363b",
   "metadata": {},
   "outputs": [
    {
     "name": "stdout",
     "output_type": "stream",
     "text": [
      "Empilhado\n"
     ]
    }
   ],
   "source": [
    "if (minhaPilha.empilhar(1))\n",
    "    cout << \"Empilhado\\n\";\n",
    "else\n",
    "    cout << \"Não empilhou\\n\";"
   ]
  },
  {
   "cell_type": "code",
   "execution_count": 14,
   "id": "658a1556-5cae-4df5-b5f2-131bcb7e61fb",
   "metadata": {},
   "outputs": [
    {
     "name": "stdout",
     "output_type": "stream",
     "text": [
      "Empilhado\n"
     ]
    }
   ],
   "source": [
    "if (minhaPilha.empilhar(0))\n",
    "    cout << \"Empilhado\\n\";\n",
    "else\n",
    "    cout << \"Não empilhou\\n\";"
   ]
  },
  {
   "cell_type": "code",
   "execution_count": 15,
   "id": "a5727aa9-eeac-4e79-82e2-e0bfe3dd1145",
   "metadata": {},
   "outputs": [
    {
     "name": "stdout",
     "output_type": "stream",
     "text": [
      "Não empilhou\n"
     ]
    }
   ],
   "source": [
    "if (minhaPilha.empilhar(-1))\n",
    "    cout << \"Empilhado\\n\";\n",
    "else\n",
    "    cout << \"Não empilhou\\n\";"
   ]
  },
  {
   "cell_type": "code",
   "execution_count": 16,
   "id": "a7f8d7ce-ef51-447f-92a8-cce6cdc3c428",
   "metadata": {},
   "outputs": [
    {
     "name": "stdout",
     "output_type": "stream",
     "text": [
      "Esta cheia!\n"
     ]
    }
   ],
   "source": [
    "if (minhaPilha.cheia())\n",
    "    cout << \"Esta cheia!\\n\";\n",
    "else\n",
    "    cout << \"Não esta cheia!\\n\";"
   ]
  },
  {
   "cell_type": "markdown",
   "id": "5063b250-99a4-4f93-8659-24154bef2b98",
   "metadata": {},
   "source": [
    "## Desempilhar"
   ]
  },
  {
   "cell_type": "code",
   "execution_count": 17,
   "id": "a6b6ad3e-ee53-417b-9cb6-1b3f286b199e",
   "metadata": {},
   "outputs": [],
   "source": [
    "int Pilha::desempilhar() {\n",
    "    if (vazia())\n",
    "        return false;\n",
    "    contador--;\n",
    "    return conteudo[contador];;\n",
    "}"
   ]
  },
  {
   "cell_type": "code",
   "execution_count": 18,
   "id": "41e4f238-c05d-4479-8262-7cd08d151171",
   "metadata": {},
   "outputs": [
    {
     "name": "stdout",
     "output_type": "stream",
     "text": [
      "Desempilhado: 0\n"
     ]
    }
   ],
   "source": [
    "cout << \"Desempilhado: \" << minhaPilha.desempilhar() << \"\\n\";"
   ]
  },
  {
   "cell_type": "code",
   "execution_count": 19,
   "id": "19cffff6-ec03-496e-974e-3806c0b9bbc1",
   "metadata": {},
   "outputs": [
    {
     "name": "stdout",
     "output_type": "stream",
     "text": [
      "Desempilhado: 1\n"
     ]
    }
   ],
   "source": [
    "cout << \"Desempilhado: \" << minhaPilha.desempilhar() << \"\\n\";"
   ]
  },
  {
   "cell_type": "code",
   "execution_count": 20,
   "id": "d0281364-6c71-4576-84ab-02e7095ab0de",
   "metadata": {},
   "outputs": [
    {
     "name": "stdout",
     "output_type": "stream",
     "text": [
      "Desempilhado: 2\n"
     ]
    }
   ],
   "source": [
    "cout << \"Desempilhado: \" << minhaPilha.desempilhar() << \"\\n\";"
   ]
  },
  {
   "cell_type": "code",
   "execution_count": 21,
   "id": "cca22962-e329-48a5-ab36-3b6f20e5675a",
   "metadata": {},
   "outputs": [
    {
     "name": "stdout",
     "output_type": "stream",
     "text": [
      "Desempilhado: 3\n"
     ]
    }
   ],
   "source": [
    "cout << \"Desempilhado: \" << minhaPilha.desempilhar() << \"\\n\";"
   ]
  },
  {
   "cell_type": "code",
   "execution_count": 22,
   "id": "734a3470-6d0c-40dd-aa8f-18201cf271e9",
   "metadata": {},
   "outputs": [
    {
     "name": "stdout",
     "output_type": "stream",
     "text": [
      "Desempilhado: 4\n"
     ]
    }
   ],
   "source": [
    "cout << \"Desempilhado: \" << minhaPilha.desempilhar() << \"\\n\";"
   ]
  },
  {
   "cell_type": "code",
   "execution_count": 23,
   "id": "0573b95e-988e-4b6f-97eb-6cb337723578",
   "metadata": {},
   "outputs": [
    {
     "name": "stdout",
     "output_type": "stream",
     "text": [
      "Esta vazia!\n"
     ]
    }
   ],
   "source": [
    "if (minhaPilha.vazia())\n",
    "    cout << \"Esta vazia!\\n\";\n",
    "else\n",
    "    cout << \"Não esta vazia!\\n\";"
   ]
  },
  {
   "cell_type": "code",
   "execution_count": 24,
   "id": "9eade486-41a5-4bbd-b67f-ff528be6f0e2",
   "metadata": {},
   "outputs": [
    {
     "name": "stdout",
     "output_type": "stream",
     "text": [
      "Desempilhado: 0\n"
     ]
    }
   ],
   "source": [
    "cout << \"Desempilhado: \" << minhaPilha.desempilhar() << \"\\n\";"
   ]
  },
  {
   "cell_type": "markdown",
   "id": "6e8d2ce4-c063-48a4-8fc4-536a7bfd8966",
   "metadata": {},
   "source": [
    "### Esse 0 indica que não foi possível desempilhar ou desempilhou o valor 0?"
   ]
  },
  {
   "cell_type": "code",
   "execution_count": 25,
   "id": "80212e07-b8c9-42d7-9933-482b0bff00aa",
   "metadata": {},
   "outputs": [
    {
     "name": "stdout",
     "output_type": "stream",
     "text": [
      "Desempilhado: 0\n"
     ]
    }
   ],
   "source": [
    "cout << \"Desempilhado: \" << minhaPilha.desempilhar() << \"\\n\";"
   ]
  },
  {
   "cell_type": "markdown",
   "id": "8d0aedbe-7b34-47e5-ae50-807b3d50a1ff",
   "metadata": {},
   "source": [
    "## Correção:"
   ]
  },
  {
   "cell_type": "markdown",
   "id": "5a71a786-3b5f-46e5-9c59-77bbd081521a",
   "metadata": {},
   "source": [
    "## Interface Classe"
   ]
  },
  {
   "cell_type": "code",
   "execution_count": 26,
   "id": "b3b20a82-0637-43bd-a8f9-dfef8c1995d3",
   "metadata": {},
   "outputs": [],
   "source": [
    "class Pilha {\n",
    "    private:\n",
    "        int contador;\n",
    "        int capacidade;\n",
    "        int conteudo[MAX];\n",
    "    public:\n",
    "        Pilha();\n",
    "        bool vazia();\n",
    "        bool cheia();\n",
    "        bool empilhar(int valor);\n",
    "        bool desempilhar(int &valor);\n",
    "        int retornaTopo();\n",
    "};"
   ]
  },
  {
   "cell_type": "markdown",
   "id": "23e7245e-92ed-4a05-bd11-9e309d8280cf",
   "metadata": {},
   "source": [
    "## Construtor:"
   ]
  },
  {
   "cell_type": "code",
   "execution_count": 27,
   "id": "f03c6510-14a5-4297-b1e9-9996a11c0b42",
   "metadata": {},
   "outputs": [],
   "source": [
    "Pilha::Pilha() {\n",
    "    contador = 0;\n",
    "    capacidade = MAX;\n",
    "}"
   ]
  },
  {
   "cell_type": "code",
   "execution_count": 28,
   "id": "59f84ad9-b439-4558-827e-e231ab3e67bd",
   "metadata": {},
   "outputs": [],
   "source": [
    "Pilha minhaPilha;"
   ]
  },
  {
   "cell_type": "markdown",
   "id": "f8177892-779f-4ccc-b8d4-992c82f43c91",
   "metadata": {},
   "source": [
    "## Verifica se a pilha está vazia"
   ]
  },
  {
   "cell_type": "code",
   "execution_count": 29,
   "id": "0d1be72f-8dbd-459b-b03d-aec2e91ea1fd",
   "metadata": {},
   "outputs": [],
   "source": [
    "bool Pilha::vazia() {\n",
    "    if (contador == 0) {\n",
    "        return true;\n",
    "    } else {\n",
    "        return false;\n",
    "    }\n",
    "}"
   ]
  },
  {
   "cell_type": "code",
   "execution_count": 30,
   "id": "3703963c-6126-4411-8318-3c1187b8606e",
   "metadata": {},
   "outputs": [
    {
     "name": "stdout",
     "output_type": "stream",
     "text": [
      "Esta vazia!\n"
     ]
    }
   ],
   "source": [
    "if (minhaPilha.vazia())\n",
    "    cout << \"Esta vazia!\\n\";\n",
    "else\n",
    "    cout << \"Não esta vazia!\\n\";"
   ]
  },
  {
   "cell_type": "markdown",
   "id": "744c8334-b939-43f6-87ee-c736b3c36905",
   "metadata": {},
   "source": [
    "## Verifica se a pilha está cheia"
   ]
  },
  {
   "cell_type": "code",
   "execution_count": 31,
   "id": "04537024-4830-42dc-8d13-2d66b0b2aedd",
   "metadata": {},
   "outputs": [],
   "source": [
    "bool Pilha::cheia() {\n",
    "    if (contador == capacidade) {\n",
    "        return true;\n",
    "    } else {\n",
    "        return false;\n",
    "    }\n",
    "}"
   ]
  },
  {
   "cell_type": "code",
   "execution_count": 32,
   "id": "752eee43-0a14-40da-8967-c76b77999643",
   "metadata": {},
   "outputs": [
    {
     "name": "stdout",
     "output_type": "stream",
     "text": [
      "Não esta cheia!\n"
     ]
    }
   ],
   "source": [
    "if (minhaPilha.cheia())\n",
    "    cout << \"Esta cheia!\\n\";\n",
    "else\n",
    "    cout << \"Não esta cheia!\\n\";"
   ]
  },
  {
   "cell_type": "markdown",
   "id": "026666e7-4e2c-4237-8a6e-83b0789c9cdc",
   "metadata": {},
   "source": [
    "## Empilhar elemento"
   ]
  },
  {
   "cell_type": "code",
   "execution_count": 33,
   "id": "3826185e-3e6f-4ad5-bbc0-c11554e7dfdf",
   "metadata": {},
   "outputs": [],
   "source": [
    "bool Pilha::empilhar(int valor) {\n",
    "    if (cheia())\n",
    "        return false;\n",
    "    conteudo[contador] = valor;\n",
    "    contador++;\n",
    "    return true;\n",
    "}"
   ]
  },
  {
   "cell_type": "code",
   "execution_count": 34,
   "id": "ab9ab136-4333-4fc1-9e68-229eb0b73a2f",
   "metadata": {},
   "outputs": [
    {
     "name": "stdout",
     "output_type": "stream",
     "text": [
      "Empilhado\n"
     ]
    }
   ],
   "source": [
    "if (minhaPilha.empilhar(4))\n",
    "    cout << \"Empilhado\\n\";\n",
    "else\n",
    "    cout << \"Não empilhou\\n\";"
   ]
  },
  {
   "cell_type": "code",
   "execution_count": 35,
   "id": "53dfa7c6-4068-48e6-8c48-94bde518699f",
   "metadata": {},
   "outputs": [
    {
     "name": "stdout",
     "output_type": "stream",
     "text": [
      "Empilhado\n"
     ]
    }
   ],
   "source": [
    "if (minhaPilha.empilhar(3))\n",
    "    cout << \"Empilhado\\n\";\n",
    "else\n",
    "    cout << \"Não empilhou\\n\";"
   ]
  },
  {
   "cell_type": "code",
   "execution_count": 36,
   "id": "935fdd74-559d-456d-bd88-5061b13b6b45",
   "metadata": {},
   "outputs": [
    {
     "name": "stdout",
     "output_type": "stream",
     "text": [
      "Empilhado\n"
     ]
    }
   ],
   "source": [
    "if (minhaPilha.empilhar(2))\n",
    "    cout << \"Empilhado\\n\";\n",
    "else\n",
    "    cout << \"Não empilhou\\n\";"
   ]
  },
  {
   "cell_type": "code",
   "execution_count": 37,
   "id": "5257da73-203b-4518-b171-f4b73677c3c8",
   "metadata": {},
   "outputs": [
    {
     "name": "stdout",
     "output_type": "stream",
     "text": [
      "Empilhado\n"
     ]
    }
   ],
   "source": [
    "if (minhaPilha.empilhar(1))\n",
    "    cout << \"Empilhado\\n\";\n",
    "else\n",
    "    cout << \"Não empilhou\\n\";"
   ]
  },
  {
   "cell_type": "code",
   "execution_count": 38,
   "id": "5ed99e17-4ca5-4330-b9ad-d8569a431f96",
   "metadata": {},
   "outputs": [
    {
     "name": "stdout",
     "output_type": "stream",
     "text": [
      "Empilhado\n"
     ]
    }
   ],
   "source": [
    "if (minhaPilha.empilhar(0))\n",
    "    cout << \"Empilhado\\n\";\n",
    "else\n",
    "    cout << \"Não empilhou\\n\";"
   ]
  },
  {
   "cell_type": "code",
   "execution_count": 39,
   "id": "43bb98e0-9490-4250-9270-d2bfe87aef31",
   "metadata": {},
   "outputs": [
    {
     "name": "stdout",
     "output_type": "stream",
     "text": [
      "Não empilhou\n"
     ]
    }
   ],
   "source": [
    "if (minhaPilha.empilhar(-1))\n",
    "    cout << \"Empilhado\\n\";\n",
    "else\n",
    "    cout << \"Não empilhou\\n\";"
   ]
  },
  {
   "cell_type": "code",
   "execution_count": 40,
   "id": "09cd4083-c851-4f6d-98c4-0cf47c6d6568",
   "metadata": {},
   "outputs": [
    {
     "name": "stdout",
     "output_type": "stream",
     "text": [
      "Esta cheia!\n"
     ]
    }
   ],
   "source": [
    "if (minhaPilha.cheia())\n",
    "    cout << \"Esta cheia!\\n\";\n",
    "else\n",
    "    cout << \"Não esta cheia!\\n\";"
   ]
  },
  {
   "cell_type": "markdown",
   "id": "560ba13a-6b35-4a2b-9e9c-2d07e1d05851",
   "metadata": {},
   "source": [
    "## Desempilhar"
   ]
  },
  {
   "cell_type": "code",
   "execution_count": 41,
   "id": "78727d55-eda7-4718-93b4-2a574867b0c6",
   "metadata": {},
   "outputs": [],
   "source": [
    "bool Pilha::desempilhar(int &valor) {\n",
    "    if (vazia())\n",
    "        return false;\n",
    "    contador--;\n",
    "    valor = conteudo[contador];\n",
    "    return true;\n",
    "}"
   ]
  },
  {
   "cell_type": "code",
   "execution_count": 42,
   "id": "deade047-4cf0-446e-9817-dd302a72c27a",
   "metadata": {},
   "outputs": [],
   "source": [
    "int recebeValor;"
   ]
  },
  {
   "cell_type": "code",
   "execution_count": 43,
   "id": "54f5bab7-6794-491f-a50c-b2d4faafa6b5",
   "metadata": {},
   "outputs": [
    {
     "name": "stdout",
     "output_type": "stream",
     "text": [
      "Desempilhou: 0"
     ]
    }
   ],
   "source": [
    "if (minhaPilha.desempilhar(recebeValor))\n",
    "    cout << \"Desempilhou: \" << recebeValor;\n",
    "else\n",
    "    cout << \"Não desempilhou!\";"
   ]
  },
  {
   "cell_type": "code",
   "execution_count": 44,
   "id": "ba7bfbcd-5c9d-42e0-872f-0e2953f0b16b",
   "metadata": {},
   "outputs": [
    {
     "name": "stdout",
     "output_type": "stream",
     "text": [
      "Desempilhou: 1"
     ]
    }
   ],
   "source": [
    "if (minhaPilha.desempilhar(recebeValor))\n",
    "    cout << \"Desempilhou: \" << recebeValor;\n",
    "else\n",
    "    cout << \"Não desempilhou!\";"
   ]
  },
  {
   "cell_type": "code",
   "execution_count": 45,
   "id": "312f7f7b-9270-4172-bf35-a8f9e6bc205c",
   "metadata": {},
   "outputs": [
    {
     "name": "stdout",
     "output_type": "stream",
     "text": [
      "Desempilhou: 2"
     ]
    }
   ],
   "source": [
    "if (minhaPilha.desempilhar(recebeValor))\n",
    "    cout << \"Desempilhou: \" << recebeValor;\n",
    "else\n",
    "    cout << \"Não desempilhou!\";"
   ]
  },
  {
   "cell_type": "code",
   "execution_count": 46,
   "id": "79df2297-e7c9-4109-87c4-128d65e57079",
   "metadata": {},
   "outputs": [
    {
     "name": "stdout",
     "output_type": "stream",
     "text": [
      "Desempilhou: 3"
     ]
    }
   ],
   "source": [
    "if (minhaPilha.desempilhar(recebeValor))\n",
    "    cout << \"Desempilhou: \" << recebeValor;\n",
    "else\n",
    "    cout << \"Não desempilhou!\";"
   ]
  },
  {
   "cell_type": "code",
   "execution_count": 47,
   "id": "eabb65df-b75c-488e-8dc2-626cf998c06b",
   "metadata": {},
   "outputs": [
    {
     "name": "stdout",
     "output_type": "stream",
     "text": [
      "Desempilhou: 4"
     ]
    }
   ],
   "source": [
    "if (minhaPilha.desempilhar(recebeValor))\n",
    "    cout << \"Desempilhou: \" << recebeValor;\n",
    "else\n",
    "    cout << \"Não desempilhou!\";"
   ]
  },
  {
   "cell_type": "code",
   "execution_count": 48,
   "id": "beb9c3e0-b6ef-4b1a-879c-3e0177d60653",
   "metadata": {},
   "outputs": [
    {
     "name": "stdout",
     "output_type": "stream",
     "text": [
      "Não desempilhou!"
     ]
    }
   ],
   "source": [
    "if (minhaPilha.desempilhar(recebeValor))\n",
    "    cout << \"Desempilhou: \" << recebeValor;\n",
    "else\n",
    "    cout << \"Não desempilhou!\";"
   ]
  }
 ],
 "metadata": {
  "kernelspec": {
   "display_name": "C++11",
   "language": "C++11",
   "name": "xcpp11"
  },
  "language_info": {
   "codemirror_mode": "text/x-c++src",
   "file_extension": ".cpp",
   "mimetype": "text/x-c++src",
   "name": "c++",
   "version": "11"
  }
 },
 "nbformat": 4,
 "nbformat_minor": 5
}
