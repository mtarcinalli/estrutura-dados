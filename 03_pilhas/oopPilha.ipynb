{
 "cells": [
  {
   "cell_type": "markdown",
   "id": "appointed-offering",
   "metadata": {},
   "source": [
    "# Pilha"
   ]
  },
  {
   "cell_type": "markdown",
   "id": "af9385b4-4bf6-4c15-8c8f-8b5acfe3fe4d",
   "metadata": {},
   "source": [
    "- Ultimo que entra é o primeiro que sai (LIFO)"
   ]
  },
  {
   "cell_type": "code",
   "execution_count": 1,
   "id": "54a65a85-0464-431f-aea2-e3f631531c07",
   "metadata": {},
   "outputs": [],
   "source": [
    "#include <iostream>\n",
    "using namespace std;\n",
    "\n",
    "#define MAX 5"
   ]
  },
  {
   "cell_type": "markdown",
   "id": "967f2d66-08a6-4c0d-8fea-d6f785b2c82d",
   "metadata": {},
   "source": [
    "## Interface Classe"
   ]
  },
  {
   "cell_type": "code",
   "execution_count": 2,
   "id": "a6c5d1ca-aeb3-479b-b10d-28e49bde3276",
   "metadata": {},
   "outputs": [],
   "source": [
    "class Pilha {\n",
    "    private:\n",
    "        int contador;\n",
    "        int capacidade;\n",
    "        int conteudo[MAX];\n",
    "    public:\n",
    "        Pilha();\n",
    "        bool vazia() const;\n",
    "        // Poscondição: o valor retornado indica se a pilha está vazia ou não\n",
    "        bool cheia() const;\n",
    "        // Poscondição: o valor retornado indica se a pilha está cheia ou não\n",
    "        bool empilhar(int valor);\n",
    "        // Precondição: a pilha não deve estar cheia\n",
    "        // Poscondição: o valor será armazenado na próxima posição do vetor e o contador incrementado\n",
    "        int desempilhar();\n",
    "        // Precondição: a pilha não deve estar vazia\n",
    "        // Poscondição: retorna o último valor armazenado e o contador é decrementado\n",
    "        int retornaTopo() const;\n",
    "        // Poscondição: retorna o último valor armazenado\n",
    "};"
   ]
  },
  {
   "cell_type": "markdown",
   "id": "171adc1e-65a0-4018-b892-4e594d48d944",
   "metadata": {},
   "source": [
    "## Construtor:"
   ]
  },
  {
   "cell_type": "code",
   "execution_count": 3,
   "id": "b3ececeb-db98-497b-b897-62c77b784155",
   "metadata": {},
   "outputs": [],
   "source": [
    "Pilha::Pilha() {\n",
    "    contador = 0;\n",
    "    capacidade = MAX;\n",
    "}"
   ]
  },
  {
   "cell_type": "code",
   "execution_count": 4,
   "id": "a06a44db-d8c5-463c-88b1-4633aace9e02",
   "metadata": {},
   "outputs": [],
   "source": [
    "Pilha minhaPilha;"
   ]
  },
  {
   "cell_type": "markdown",
   "id": "50223c4f-df1d-4e3a-91a1-0cb45117c219",
   "metadata": {},
   "source": [
    "## Verifica se a pilha está vazia"
   ]
  },
  {
   "cell_type": "code",
   "execution_count": 5,
   "id": "11d44d27-d1b0-41f6-a47b-2daa20e16295",
   "metadata": {},
   "outputs": [],
   "source": [
    "bool Pilha::vazia() const {\n",
    "    if (contador == 0) {\n",
    "        return true;\n",
    "    } else {\n",
    "        return false;\n",
    "    }\n",
    "}"
   ]
  },
  {
   "cell_type": "code",
   "execution_count": 6,
   "id": "1d1ef021-55a8-46a8-949c-889f5f178eeb",
   "metadata": {},
   "outputs": [
    {
     "name": "stdout",
     "output_type": "stream",
     "text": [
      "Esta vazia!\n"
     ]
    }
   ],
   "source": [
    "if (minhaPilha.vazia())\n",
    "    cout << \"Esta vazia!\\n\";\n",
    "else\n",
    "    cout << \"Não esta vazia!\\n\";"
   ]
  },
  {
   "cell_type": "markdown",
   "id": "230e2ec5-9dfe-4461-9820-407e545e10fd",
   "metadata": {},
   "source": [
    "## Verifica se a pilha está cheia"
   ]
  },
  {
   "cell_type": "code",
   "execution_count": 7,
   "id": "8d42da77-2617-40a5-b318-e09a5bc1584c",
   "metadata": {},
   "outputs": [],
   "source": [
    "bool Pilha::cheia() const {\n",
    "    if (contador == capacidade) {\n",
    "        return true;\n",
    "    } else {\n",
    "        return false;\n",
    "    }\n",
    "}"
   ]
  },
  {
   "cell_type": "code",
   "execution_count": 8,
   "id": "77c3437a-df3d-4d03-9e31-60f0748a7b87",
   "metadata": {},
   "outputs": [
    {
     "name": "stdout",
     "output_type": "stream",
     "text": [
      "Não esta cheia!\n"
     ]
    }
   ],
   "source": [
    "if (minhaPilha.cheia())\n",
    "    cout << \"Esta cheia!\\n\";\n",
    "else\n",
    "    cout << \"Não esta cheia!\\n\";"
   ]
  },
  {
   "cell_type": "markdown",
   "id": "c4d642a8-4fe1-459f-b358-a0d9097060c3",
   "metadata": {},
   "source": [
    "## Empilhar elemento"
   ]
  },
  {
   "cell_type": "code",
   "execution_count": 9,
   "id": "7dd15926-7e32-448a-9fc6-242981bec65f",
   "metadata": {},
   "outputs": [],
   "source": [
    "bool Pilha::empilhar(int valor) {\n",
    "    if (cheia())\n",
    "        return false;\n",
    "    conteudo[contador] = valor;\n",
    "    contador++;\n",
    "    return true;\n",
    "}"
   ]
  },
  {
   "cell_type": "code",
   "execution_count": 10,
   "id": "a03aceba-8525-4e1b-8ae2-e8fe8df9f50c",
   "metadata": {},
   "outputs": [
    {
     "name": "stdout",
     "output_type": "stream",
     "text": [
      "Empilhado\n"
     ]
    }
   ],
   "source": [
    "if (minhaPilha.empilhar(4))\n",
    "    cout << \"Empilhado\\n\";\n",
    "else\n",
    "    cout << \"Não empilhou\\n\";"
   ]
  },
  {
   "cell_type": "code",
   "execution_count": 11,
   "id": "7d2fcdf5-8b45-4f83-a771-8fbefa1bb4c2",
   "metadata": {},
   "outputs": [
    {
     "name": "stdout",
     "output_type": "stream",
     "text": [
      "Empilhado\n"
     ]
    }
   ],
   "source": [
    "if (minhaPilha.empilhar(3))\n",
    "    cout << \"Empilhado\\n\";\n",
    "else\n",
    "    cout << \"Não empilhou\\n\";"
   ]
  },
  {
   "cell_type": "code",
   "execution_count": 12,
   "id": "a0a2ddab-6e86-4445-b651-7593e3d5bd44",
   "metadata": {},
   "outputs": [
    {
     "name": "stdout",
     "output_type": "stream",
     "text": [
      "Empilhado\n"
     ]
    }
   ],
   "source": [
    "if (minhaPilha.empilhar(2))\n",
    "    cout << \"Empilhado\\n\";\n",
    "else\n",
    "    cout << \"Não empilhou\\n\";"
   ]
  },
  {
   "cell_type": "code",
   "execution_count": 13,
   "id": "c98f4aba-9244-485a-9478-00e5817e363b",
   "metadata": {},
   "outputs": [
    {
     "name": "stdout",
     "output_type": "stream",
     "text": [
      "Empilhado\n"
     ]
    }
   ],
   "source": [
    "if (minhaPilha.empilhar(1))\n",
    "    cout << \"Empilhado\\n\";\n",
    "else\n",
    "    cout << \"Não empilhou\\n\";"
   ]
  },
  {
   "cell_type": "code",
   "execution_count": 14,
   "id": "658a1556-5cae-4df5-b5f2-131bcb7e61fb",
   "metadata": {},
   "outputs": [
    {
     "name": "stdout",
     "output_type": "stream",
     "text": [
      "Empilhado\n"
     ]
    }
   ],
   "source": [
    "if (minhaPilha.empilhar(0))\n",
    "    cout << \"Empilhado\\n\";\n",
    "else\n",
    "    cout << \"Não empilhou\\n\";"
   ]
  },
  {
   "cell_type": "code",
   "execution_count": 15,
   "id": "a5727aa9-eeac-4e79-82e2-e0bfe3dd1145",
   "metadata": {},
   "outputs": [
    {
     "name": "stdout",
     "output_type": "stream",
     "text": [
      "Não empilhou\n"
     ]
    }
   ],
   "source": [
    "if (minhaPilha.empilhar(-1))\n",
    "    cout << \"Empilhado\\n\";\n",
    "else\n",
    "    cout << \"Não empilhou\\n\";"
   ]
  },
  {
   "cell_type": "code",
   "execution_count": 16,
   "id": "a7f8d7ce-ef51-447f-92a8-cce6cdc3c428",
   "metadata": {},
   "outputs": [
    {
     "name": "stdout",
     "output_type": "stream",
     "text": [
      "Esta cheia!\n"
     ]
    }
   ],
   "source": [
    "if (minhaPilha.cheia())\n",
    "    cout << \"Esta cheia!\\n\";\n",
    "else\n",
    "    cout << \"Não esta cheia!\\n\";"
   ]
  },
  {
   "cell_type": "markdown",
   "id": "5063b250-99a4-4f93-8659-24154bef2b98",
   "metadata": {},
   "source": [
    "## Desempilhar"
   ]
  },
  {
   "cell_type": "code",
   "execution_count": 17,
   "id": "a6b6ad3e-ee53-417b-9cb6-1b3f286b199e",
   "metadata": {},
   "outputs": [],
   "source": [
    "int Pilha::desempilhar() {\n",
    "    if (vazia())\n",
    "        return false;\n",
    "    contador--;\n",
    "    return conteudo[contador];\n",
    "}"
   ]
  },
  {
   "cell_type": "code",
   "execution_count": 18,
   "id": "41e4f238-c05d-4479-8262-7cd08d151171",
   "metadata": {},
   "outputs": [
    {
     "name": "stdout",
     "output_type": "stream",
     "text": [
      "Desempilhado: 0\n"
     ]
    }
   ],
   "source": [
    "cout << \"Desempilhado: \" << minhaPilha.desempilhar() << \"\\n\";"
   ]
  },
  {
   "cell_type": "code",
   "execution_count": 19,
   "id": "19cffff6-ec03-496e-974e-3806c0b9bbc1",
   "metadata": {},
   "outputs": [
    {
     "name": "stdout",
     "output_type": "stream",
     "text": [
      "Desempilhado: 1\n"
     ]
    }
   ],
   "source": [
    "cout << \"Desempilhado: \" << minhaPilha.desempilhar() << \"\\n\";"
   ]
  },
  {
   "cell_type": "code",
   "execution_count": 20,
   "id": "d0281364-6c71-4576-84ab-02e7095ab0de",
   "metadata": {},
   "outputs": [
    {
     "name": "stdout",
     "output_type": "stream",
     "text": [
      "Desempilhado: 2\n"
     ]
    }
   ],
   "source": [
    "cout << \"Desempilhado: \" << minhaPilha.desempilhar() << \"\\n\";"
   ]
  },
  {
   "cell_type": "code",
   "execution_count": 21,
   "id": "cca22962-e329-48a5-ab36-3b6f20e5675a",
   "metadata": {},
   "outputs": [
    {
     "name": "stdout",
     "output_type": "stream",
     "text": [
      "Desempilhado: 3\n"
     ]
    }
   ],
   "source": [
    "cout << \"Desempilhado: \" << minhaPilha.desempilhar() << \"\\n\";"
   ]
  },
  {
   "cell_type": "code",
   "execution_count": 22,
   "id": "734a3470-6d0c-40dd-aa8f-18201cf271e9",
   "metadata": {},
   "outputs": [
    {
     "name": "stdout",
     "output_type": "stream",
     "text": [
      "Desempilhado: 4\n"
     ]
    }
   ],
   "source": [
    "cout << \"Desempilhado: \" << minhaPilha.desempilhar() << \"\\n\";"
   ]
  },
  {
   "cell_type": "code",
   "execution_count": 23,
   "id": "0573b95e-988e-4b6f-97eb-6cb337723578",
   "metadata": {},
   "outputs": [
    {
     "name": "stdout",
     "output_type": "stream",
     "text": [
      "Esta vazia!\n"
     ]
    }
   ],
   "source": [
    "if (minhaPilha.vazia())\n",
    "    cout << \"Esta vazia!\\n\";\n",
    "else\n",
    "    cout << \"Não esta vazia!\\n\";"
   ]
  },
  {
   "cell_type": "code",
   "execution_count": 24,
   "id": "9eade486-41a5-4bbd-b67f-ff528be6f0e2",
   "metadata": {},
   "outputs": [
    {
     "name": "stdout",
     "output_type": "stream",
     "text": [
      "Desempilhado: 0\n"
     ]
    }
   ],
   "source": [
    "cout << \"Desempilhado: \" << minhaPilha.desempilhar() << \"\\n\";"
   ]
  },
  {
   "cell_type": "markdown",
   "id": "6e8d2ce4-c063-48a4-8fc4-536a7bfd8966",
   "metadata": {},
   "source": [
    "### Esse 0 indica que não foi possível desempilhar ou desempilhou o valor 0?"
   ]
  },
  {
   "cell_type": "code",
   "execution_count": 25,
   "id": "80212e07-b8c9-42d7-9933-482b0bff00aa",
   "metadata": {},
   "outputs": [
    {
     "name": "stdout",
     "output_type": "stream",
     "text": [
      "Desempilhado: 0\n"
     ]
    }
   ],
   "source": [
    "cout << \"Desempilhado: \" << minhaPilha.desempilhar() << \"\\n\";"
   ]
  },
  {
   "cell_type": "markdown",
   "id": "8d0aedbe-7b34-47e5-ae50-807b3d50a1ff",
   "metadata": {},
   "source": [
    "## Correção:"
   ]
  },
  {
   "cell_type": "markdown",
   "id": "5a71a786-3b5f-46e5-9c59-77bbd081521a",
   "metadata": {},
   "source": [
    "## Interface Classe"
   ]
  },
  {
   "cell_type": "code",
   "execution_count": 26,
   "id": "b3b20a82-0637-43bd-a8f9-dfef8c1995d3",
   "metadata": {},
   "outputs": [],
   "source": [
    "class Pilha {\n",
    "    private:\n",
    "        int contador;\n",
    "        int capacidade;\n",
    "        int conteudo[MAX];\n",
    "    public:\n",
    "        Pilha();\n",
    "        bool vazia() const;\n",
    "        // Poscondição: o valor retornado indica se a pilha está vazia ou não\n",
    "        bool cheia() const;\n",
    "        // Poscondição: o valor retornado indica se a pilha está cheia ou não\n",
    "        bool empilhar(int valor);\n",
    "        // Precondição: a pilha não deve estar cheia\n",
    "        // Poscondição: o valor será armazenado na próxima posição do vetor e o contador incrementado    \n",
    "        bool desempilhar(int &valor);\n",
    "        // Poscondição: retorna falso se a pilha estiver vazia, o último valor armazenado através do parametro e o contador é decrementado\n",
    "        bool retornaTopo(int &valor) const;\n",
    "        // Poscondição: retorna falso se a pilha estiver vazia e o último valor armazenado através do parametro\n",
    "};"
   ]
  },
  {
   "cell_type": "markdown",
   "id": "23e7245e-92ed-4a05-bd11-9e309d8280cf",
   "metadata": {},
   "source": [
    "## Construtor:"
   ]
  },
  {
   "cell_type": "code",
   "execution_count": 27,
   "id": "f03c6510-14a5-4297-b1e9-9996a11c0b42",
   "metadata": {},
   "outputs": [],
   "source": [
    "Pilha::Pilha() {\n",
    "    contador = 0;\n",
    "    capacidade = MAX;\n",
    "}"
   ]
  },
  {
   "cell_type": "code",
   "execution_count": 28,
   "id": "59f84ad9-b439-4558-827e-e231ab3e67bd",
   "metadata": {},
   "outputs": [],
   "source": [
    "Pilha minhaPilha;"
   ]
  },
  {
   "cell_type": "markdown",
   "id": "f8177892-779f-4ccc-b8d4-992c82f43c91",
   "metadata": {},
   "source": [
    "## Verifica se a pilha está vazia"
   ]
  },
  {
   "cell_type": "code",
   "execution_count": 29,
   "id": "0d1be72f-8dbd-459b-b03d-aec2e91ea1fd",
   "metadata": {},
   "outputs": [],
   "source": [
    "bool Pilha::vazia() const {\n",
    "    if (contador == 0) {\n",
    "        return true;\n",
    "    } else {\n",
    "        return false;\n",
    "    }\n",
    "}"
   ]
  },
  {
   "cell_type": "code",
   "execution_count": 30,
   "id": "3703963c-6126-4411-8318-3c1187b8606e",
   "metadata": {},
   "outputs": [
    {
     "name": "stdout",
     "output_type": "stream",
     "text": [
      "Esta vazia!\n"
     ]
    }
   ],
   "source": [
    "if (minhaPilha.vazia())\n",
    "    cout << \"Esta vazia!\\n\";\n",
    "else\n",
    "    cout << \"Não esta vazia!\\n\";"
   ]
  },
  {
   "cell_type": "markdown",
   "id": "744c8334-b939-43f6-87ee-c736b3c36905",
   "metadata": {},
   "source": [
    "## Verifica se a pilha está cheia"
   ]
  },
  {
   "cell_type": "code",
   "execution_count": 31,
   "id": "04537024-4830-42dc-8d13-2d66b0b2aedd",
   "metadata": {},
   "outputs": [],
   "source": [
    "bool Pilha::cheia() const {\n",
    "    if (contador == capacidade) {\n",
    "        return true;\n",
    "    } else {\n",
    "        return false;\n",
    "    }\n",
    "}"
   ]
  },
  {
   "cell_type": "code",
   "execution_count": 32,
   "id": "752eee43-0a14-40da-8967-c76b77999643",
   "metadata": {},
   "outputs": [
    {
     "name": "stdout",
     "output_type": "stream",
     "text": [
      "Não esta cheia!\n"
     ]
    }
   ],
   "source": [
    "if (minhaPilha.cheia())\n",
    "    cout << \"Esta cheia!\\n\";\n",
    "else\n",
    "    cout << \"Não esta cheia!\\n\";"
   ]
  },
  {
   "cell_type": "markdown",
   "id": "026666e7-4e2c-4237-8a6e-83b0789c9cdc",
   "metadata": {},
   "source": [
    "## Empilhar elemento"
   ]
  },
  {
   "cell_type": "code",
   "execution_count": 33,
   "id": "3826185e-3e6f-4ad5-bbc0-c11554e7dfdf",
   "metadata": {},
   "outputs": [],
   "source": [
    "bool Pilha::empilhar(int valor) {\n",
    "    if (cheia())\n",
    "        return false;\n",
    "    conteudo[contador] = valor;\n",
    "    contador++;\n",
    "    return true;\n",
    "}"
   ]
  },
  {
   "cell_type": "code",
   "execution_count": 34,
   "id": "ab9ab136-4333-4fc1-9e68-229eb0b73a2f",
   "metadata": {},
   "outputs": [
    {
     "name": "stdout",
     "output_type": "stream",
     "text": [
      "Empilhado\n"
     ]
    }
   ],
   "source": [
    "if (minhaPilha.empilhar(4))\n",
    "    cout << \"Empilhado\\n\";\n",
    "else\n",
    "    cout << \"Não empilhou\\n\";"
   ]
  },
  {
   "cell_type": "code",
   "execution_count": 35,
   "id": "53dfa7c6-4068-48e6-8c48-94bde518699f",
   "metadata": {},
   "outputs": [
    {
     "name": "stdout",
     "output_type": "stream",
     "text": [
      "Empilhado\n"
     ]
    }
   ],
   "source": [
    "if (minhaPilha.empilhar(3))\n",
    "    cout << \"Empilhado\\n\";\n",
    "else\n",
    "    cout << \"Não empilhou\\n\";"
   ]
  },
  {
   "cell_type": "code",
   "execution_count": 36,
   "id": "935fdd74-559d-456d-bd88-5061b13b6b45",
   "metadata": {},
   "outputs": [
    {
     "name": "stdout",
     "output_type": "stream",
     "text": [
      "Empilhado\n"
     ]
    }
   ],
   "source": [
    "if (minhaPilha.empilhar(2))\n",
    "    cout << \"Empilhado\\n\";\n",
    "else\n",
    "    cout << \"Não empilhou\\n\";"
   ]
  },
  {
   "cell_type": "code",
   "execution_count": 37,
   "id": "5257da73-203b-4518-b171-f4b73677c3c8",
   "metadata": {},
   "outputs": [
    {
     "name": "stdout",
     "output_type": "stream",
     "text": [
      "Empilhado\n"
     ]
    }
   ],
   "source": [
    "if (minhaPilha.empilhar(1))\n",
    "    cout << \"Empilhado\\n\";\n",
    "else\n",
    "    cout << \"Não empilhou\\n\";"
   ]
  },
  {
   "cell_type": "code",
   "execution_count": 38,
   "id": "5ed99e17-4ca5-4330-b9ad-d8569a431f96",
   "metadata": {},
   "outputs": [
    {
     "name": "stdout",
     "output_type": "stream",
     "text": [
      "Empilhado\n"
     ]
    }
   ],
   "source": [
    "if (minhaPilha.empilhar(0))\n",
    "    cout << \"Empilhado\\n\";\n",
    "else\n",
    "    cout << \"Não empilhou\\n\";"
   ]
  },
  {
   "cell_type": "code",
   "execution_count": 39,
   "id": "43bb98e0-9490-4250-9270-d2bfe87aef31",
   "metadata": {},
   "outputs": [
    {
     "name": "stdout",
     "output_type": "stream",
     "text": [
      "Não empilhou\n"
     ]
    }
   ],
   "source": [
    "if (minhaPilha.empilhar(-1))\n",
    "    cout << \"Empilhado\\n\";\n",
    "else\n",
    "    cout << \"Não empilhou\\n\";"
   ]
  },
  {
   "cell_type": "code",
   "execution_count": 40,
   "id": "09cd4083-c851-4f6d-98c4-0cf47c6d6568",
   "metadata": {},
   "outputs": [
    {
     "name": "stdout",
     "output_type": "stream",
     "text": [
      "Esta cheia!\n"
     ]
    }
   ],
   "source": [
    "if (minhaPilha.cheia())\n",
    "    cout << \"Esta cheia!\\n\";\n",
    "else\n",
    "    cout << \"Não esta cheia!\\n\";"
   ]
  },
  {
   "cell_type": "markdown",
   "id": "560ba13a-6b35-4a2b-9e9c-2d07e1d05851",
   "metadata": {},
   "source": [
    "## Desempilhar"
   ]
  },
  {
   "cell_type": "code",
   "execution_count": 41,
   "id": "78727d55-eda7-4718-93b4-2a574867b0c6",
   "metadata": {},
   "outputs": [],
   "source": [
    "bool Pilha::desempilhar(int &valor) {\n",
    "    if (vazia())\n",
    "        return false;\n",
    "    contador--;\n",
    "    valor = conteudo[contador];\n",
    "    return true;\n",
    "}"
   ]
  },
  {
   "cell_type": "code",
   "execution_count": 42,
   "id": "deade047-4cf0-446e-9817-dd302a72c27a",
   "metadata": {},
   "outputs": [],
   "source": [
    "int recebeValor;"
   ]
  },
  {
   "cell_type": "code",
   "execution_count": 43,
   "id": "54f5bab7-6794-491f-a50c-b2d4faafa6b5",
   "metadata": {},
   "outputs": [
    {
     "name": "stdout",
     "output_type": "stream",
     "text": [
      "Desempilhou: 0"
     ]
    }
   ],
   "source": [
    "if (minhaPilha.desempilhar(recebeValor))\n",
    "    cout << \"Desempilhou: \" << recebeValor;\n",
    "else\n",
    "    cout << \"Não desempilhou!\";"
   ]
  },
  {
   "cell_type": "code",
   "execution_count": 44,
   "id": "ba7bfbcd-5c9d-42e0-872f-0e2953f0b16b",
   "metadata": {},
   "outputs": [
    {
     "name": "stdout",
     "output_type": "stream",
     "text": [
      "Desempilhou: 1"
     ]
    }
   ],
   "source": [
    "if (minhaPilha.desempilhar(recebeValor))\n",
    "    cout << \"Desempilhou: \" << recebeValor;\n",
    "else\n",
    "    cout << \"Não desempilhou!\";"
   ]
  },
  {
   "cell_type": "code",
   "execution_count": 45,
   "id": "312f7f7b-9270-4172-bf35-a8f9e6bc205c",
   "metadata": {},
   "outputs": [
    {
     "name": "stdout",
     "output_type": "stream",
     "text": [
      "Desempilhou: 2"
     ]
    }
   ],
   "source": [
    "if (minhaPilha.desempilhar(recebeValor))\n",
    "    cout << \"Desempilhou: \" << recebeValor;\n",
    "else\n",
    "    cout << \"Não desempilhou!\";"
   ]
  },
  {
   "cell_type": "code",
   "execution_count": 46,
   "id": "79df2297-e7c9-4109-87c4-128d65e57079",
   "metadata": {},
   "outputs": [
    {
     "name": "stdout",
     "output_type": "stream",
     "text": [
      "Desempilhou: 3"
     ]
    }
   ],
   "source": [
    "if (minhaPilha.desempilhar(recebeValor))\n",
    "    cout << \"Desempilhou: \" << recebeValor;\n",
    "else\n",
    "    cout << \"Não desempilhou!\";"
   ]
  },
  {
   "cell_type": "code",
   "execution_count": 47,
   "id": "eabb65df-b75c-488e-8dc2-626cf998c06b",
   "metadata": {},
   "outputs": [
    {
     "name": "stdout",
     "output_type": "stream",
     "text": [
      "Desempilhou: 4"
     ]
    }
   ],
   "source": [
    "if (minhaPilha.desempilhar(recebeValor))\n",
    "    cout << \"Desempilhou: \" << recebeValor;\n",
    "else\n",
    "    cout << \"Não desempilhou!\";"
   ]
  },
  {
   "cell_type": "code",
   "execution_count": 48,
   "id": "beb9c3e0-b6ef-4b1a-879c-3e0177d60653",
   "metadata": {},
   "outputs": [
    {
     "name": "stdout",
     "output_type": "stream",
     "text": [
      "Não desempilhou!"
     ]
    }
   ],
   "source": [
    "if (minhaPilha.desempilhar(recebeValor))\n",
    "    cout << \"Desempilhou: \" << recebeValor;\n",
    "else\n",
    "    cout << \"Não desempilhou!\";"
   ]
  },
  {
   "cell_type": "code",
   "execution_count": 49,
   "id": "1792b7cc-73d8-4180-b6b9-716bb6e6a0fc",
   "metadata": {},
   "outputs": [
    {
     "name": "stdout",
     "output_type": "stream",
     "text": [
      "Vazia"
     ]
    }
   ],
   "source": [
    "if (minhaPilha.vazia())\n",
    "    cout << \"Vazia\";"
   ]
  },
  {
   "cell_type": "code",
   "execution_count": 50,
   "id": "8a87d3b7-05a8-4c0b-9854-d0108e9762ad",
   "metadata": {},
   "outputs": [
    {
     "name": "stdout",
     "output_type": "stream",
     "text": [
      "Empilhou: 10\n",
      "Empilhou: 11\n",
      "Empilhou: 12\n",
      "Empilhou: 13\n",
      "Empilhou: 14\n",
      "Não empilhou!\n",
      "Não empilhou!\n",
      "Não empilhou!\n",
      "Não empilhou!\n",
      "Não empilhou!\n"
     ]
    }
   ],
   "source": [
    "for (int i = 10 ; i < 20 ; i++) {\n",
    "    if (minhaPilha.empilhar(i))\n",
    "        cout << \"Empilhou: \" << i << endl;\n",
    "    else\n",
    "        cout << \"Não empilhou!\" << endl;\n",
    "    }"
   ]
  },
  {
   "cell_type": "markdown",
   "id": "da85cf94-6410-44c1-acbb-bd4cebd2704f",
   "metadata": {},
   "source": [
    "## Retorna Topo"
   ]
  },
  {
   "cell_type": "code",
   "execution_count": 51,
   "id": "0a816054-6ae6-48ba-ba8d-3c545f6ed114",
   "metadata": {},
   "outputs": [],
   "source": [
    "bool Pilha::retornaTopo(int &valor) const {\n",
    "    if (vazia())\n",
    "        return false;\n",
    "    valor = conteudo[contador-1];\n",
    "    return true;\n",
    "}"
   ]
  },
  {
   "cell_type": "code",
   "execution_count": 52,
   "id": "0a77afa5-226c-402e-b470-d0213e063249",
   "metadata": {},
   "outputs": [
    {
     "name": "stdout",
     "output_type": "stream",
     "text": [
      "Cheia"
     ]
    }
   ],
   "source": [
    "if (minhaPilha.cheia())\n",
    "    cout << \"Cheia\";"
   ]
  },
  {
   "cell_type": "code",
   "execution_count": 53,
   "id": "ef4f3172-dd37-4dee-867f-7ad56bde7e6e",
   "metadata": {},
   "outputs": [
    {
     "name": "stdout",
     "output_type": "stream",
     "text": [
      "14"
     ]
    }
   ],
   "source": [
    "if (minhaPilha.retornaTopo(recebeValor))\n",
    "    cout << recebeValor;\n",
    "else\n",
    "    cout << \"Vazia!\";"
   ]
  },
  {
   "cell_type": "code",
   "execution_count": 54,
   "id": "fdbf0e69-4511-402f-b4a1-af2317c241e2",
   "metadata": {},
   "outputs": [
    {
     "name": "stdout",
     "output_type": "stream",
     "text": [
      "14"
     ]
    }
   ],
   "source": [
    "if (minhaPilha.retornaTopo(recebeValor))\n",
    "    cout << recebeValor;\n",
    "else\n",
    "    cout << \"Vazia!\";"
   ]
  },
  {
   "cell_type": "code",
   "execution_count": 55,
   "id": "d1380997-8dc4-4f65-9d89-ef88f53861f3",
   "metadata": {},
   "outputs": [
    {
     "name": "stdout",
     "output_type": "stream",
     "text": [
      "13"
     ]
    }
   ],
   "source": [
    "minhaPilha.desempilhar(recebeValor);\n",
    "if (minhaPilha.retornaTopo(recebeValor))\n",
    "    cout << recebeValor;\n",
    "else\n",
    "    cout << \"Vazia!\";"
   ]
  },
  {
   "cell_type": "code",
   "execution_count": 56,
   "id": "18bc84e0-e960-4858-8449-01f852fb156e",
   "metadata": {},
   "outputs": [
    {
     "name": "stdout",
     "output_type": "stream",
     "text": [
      "13"
     ]
    }
   ],
   "source": [
    "if (minhaPilha.retornaTopo(recebeValor))\n",
    "    cout << recebeValor;\n",
    "else\n",
    "    cout << \"Vazia!\";"
   ]
  },
  {
   "cell_type": "code",
   "execution_count": 57,
   "id": "ae9f08f5-d576-4333-b7e4-fd5334c32fd2",
   "metadata": {},
   "outputs": [
    {
     "name": "stdout",
     "output_type": "stream",
     "text": [
      "12"
     ]
    }
   ],
   "source": [
    "minhaPilha.desempilhar(recebeValor);\n",
    "if (minhaPilha.retornaTopo(recebeValor))\n",
    "    cout << recebeValor;\n",
    "else\n",
    "    cout << \"Vazia!\";"
   ]
  },
  {
   "cell_type": "code",
   "execution_count": 58,
   "id": "55a837a3-b7f0-479d-a43a-ff303001fe0c",
   "metadata": {},
   "outputs": [
    {
     "name": "stdout",
     "output_type": "stream",
     "text": [
      "12"
     ]
    }
   ],
   "source": [
    "if (minhaPilha.retornaTopo(recebeValor))\n",
    "    cout << recebeValor;\n",
    "else\n",
    "    cout << \"Vazia!\";"
   ]
  },
  {
   "cell_type": "code",
   "execution_count": 59,
   "id": "a62e261f-9655-40b4-8c8f-4d2e3f20b129",
   "metadata": {},
   "outputs": [
    {
     "name": "stdout",
     "output_type": "stream",
     "text": [
      "11"
     ]
    }
   ],
   "source": [
    "minhaPilha.desempilhar(recebeValor);\n",
    "if (minhaPilha.retornaTopo(recebeValor))\n",
    "    cout << recebeValor;\n",
    "else\n",
    "    cout << \"Vazia!\";"
   ]
  },
  {
   "cell_type": "code",
   "execution_count": 60,
   "id": "893d3ae5-9e62-4088-b8fc-14e67d860a78",
   "metadata": {},
   "outputs": [
    {
     "name": "stdout",
     "output_type": "stream",
     "text": [
      "10"
     ]
    }
   ],
   "source": [
    "minhaPilha.desempilhar(recebeValor);\n",
    "if (minhaPilha.retornaTopo(recebeValor))\n",
    "    cout << recebeValor;\n",
    "else\n",
    "    cout << \"Vazia!\";"
   ]
  },
  {
   "cell_type": "code",
   "execution_count": 61,
   "id": "0f281c5d-cd5f-41e6-9d8f-fccb3298536c",
   "metadata": {},
   "outputs": [
    {
     "name": "stdout",
     "output_type": "stream",
     "text": [
      "Vazia!"
     ]
    }
   ],
   "source": [
    "minhaPilha.desempilhar(recebeValor);\n",
    "if (minhaPilha.retornaTopo(recebeValor))\n",
    "    cout << recebeValor;\n",
    "else\n",
    "    cout << \"Vazia!\";"
   ]
  },
  {
   "cell_type": "markdown",
   "id": "2f03fab6-9da6-4a78-ab9a-0ffd4ce85a5b",
   "metadata": {},
   "source": [
    "## Correção: matriz dinamica"
   ]
  },
  {
   "cell_type": "markdown",
   "id": "fdfdfc4d-330d-486f-a20b-6cd4f61d16e8",
   "metadata": {},
   "source": [
    "## Interface Classe"
   ]
  },
  {
   "cell_type": "code",
   "execution_count": 62,
   "id": "440b5c0c-1314-46aa-a5f2-5884368b6159",
   "metadata": {},
   "outputs": [],
   "source": [
    "class Pilha {\n",
    "    private:\n",
    "        typedef int tipo_valor; // tipo dado armazenado\n",
    "        typedef std::size_t tipo_tamanho; // tipo de dado tamanho\n",
    "        static const tipo_tamanho CAPACIDADE_DEFAULT = MAX;\n",
    "        tipo_valor *conteudo;\n",
    "        tipo_tamanho contador;\n",
    "        tipo_tamanho capacidade;\n",
    "    public:\n",
    "        Pilha(tipo_tamanho capacidade_inicial = CAPACIDADE_DEFAULT);\n",
    "        ~Pilha();\n",
    "        bool vazia() const;\n",
    "        // Poscondição: o valor retornado indica se a pilha está vazia ou não\n",
    "        bool cheia() const;\n",
    "        // Poscondição: o valor retornado indica se a pilha está cheia ou não\n",
    "        bool empilhar(int valor);\n",
    "        // Precondição: a pilha não deve estar cheia\n",
    "        // Poscondição: o valor será armazenado na próxima posição do vetor e o contador incrementado\n",
    "        bool desempilhar(int &valor);\n",
    "        // Poscondição: retorna falso se a pilha estiver vazia, o último valor armazenado através do parametro e o contador é decrementado\n",
    "        bool retornaTopo(int &valor) const;\n",
    "        // Poscondição: retorna falso se a pilha estiver vazia e o último valor armazenado através do parametro\n",
    "        tipo_tamanho retornaCapacidade() const;\n",
    "};"
   ]
  },
  {
   "cell_type": "markdown",
   "id": "1ea09601-748e-403d-bbe7-3f3368c76ae2",
   "metadata": {},
   "source": [
    "## Construtor:"
   ]
  },
  {
   "cell_type": "code",
   "execution_count": 63,
   "id": "c6cf2caf-3a97-4943-bcc2-a535e5860317",
   "metadata": {},
   "outputs": [],
   "source": [
    "Pilha::Pilha(tipo_tamanho capacidade_inicial) {\n",
    "    contador = 0;\n",
    "    conteudo = new tipo_valor[capacidade_inicial];\n",
    "    capacidade = capacidade_inicial;\n",
    "}"
   ]
  },
  {
   "cell_type": "markdown",
   "id": "a7fd1ed5-91fc-48ab-a857-caf160571e9e",
   "metadata": {},
   "source": [
    "## Desconstrutor:"
   ]
  },
  {
   "cell_type": "code",
   "execution_count": 64,
   "id": "c704454a-9d9a-487b-a9c1-97dedc161051",
   "metadata": {},
   "outputs": [],
   "source": [
    "Pilha::~Pilha() {\n",
    "    delete [] conteudo;\n",
    "}"
   ]
  },
  {
   "cell_type": "markdown",
   "id": "11641c1f-81c2-480d-b4cd-c79a5424f990",
   "metadata": {},
   "source": [
    "## Verificando capacidade da pilha"
   ]
  },
  {
   "cell_type": "code",
   "execution_count": 65,
   "id": "ecc6a0e2-3c88-46ff-a355-4a632a0229f2",
   "metadata": {},
   "outputs": [],
   "source": [
    "Pilha::tipo_tamanho Pilha::retornaCapacidade() const {\n",
    "    return capacidade;\n",
    "}"
   ]
  },
  {
   "cell_type": "code",
   "execution_count": 66,
   "id": "1929b296-899b-4621-aeeb-e896ce9a71b7",
   "metadata": {},
   "outputs": [],
   "source": [
    "Pilha minhaPilha(6);"
   ]
  },
  {
   "cell_type": "code",
   "execution_count": 67,
   "id": "4fca1e78-b627-4a96-ab1a-52ddee9dd20f",
   "metadata": {},
   "outputs": [
    {
     "data": {
      "text/plain": [
       "6"
      ]
     },
     "execution_count": 67,
     "metadata": {},
     "output_type": "execute_result"
    }
   ],
   "source": [
    "minhaPilha.retornaCapacidade()"
   ]
  },
  {
   "cell_type": "code",
   "execution_count": 68,
   "id": "54853477-d667-4203-bd95-b1731d42c9b1",
   "metadata": {},
   "outputs": [],
   "source": [
    "Pilha minhaPilha;"
   ]
  },
  {
   "cell_type": "code",
   "execution_count": 69,
   "id": "472b0ade-ebdb-41cd-8d7f-43ff46196b08",
   "metadata": {},
   "outputs": [
    {
     "data": {
      "text/plain": [
       "5"
      ]
     },
     "execution_count": 69,
     "metadata": {},
     "output_type": "execute_result"
    }
   ],
   "source": [
    "minhaPilha.retornaCapacidade()"
   ]
  },
  {
   "cell_type": "markdown",
   "id": "4ba7abc8-ee33-4685-a7fb-891ced4cd87a",
   "metadata": {},
   "source": [
    "## Verifica se a pilha está vazia"
   ]
  },
  {
   "cell_type": "code",
   "execution_count": 70,
   "id": "1a36ac2e-a2d7-44b2-884b-fa71eb9d4c96",
   "metadata": {},
   "outputs": [],
   "source": [
    "bool Pilha::vazia() const {\n",
    "    return (contador == 0);\n",
    "}"
   ]
  },
  {
   "cell_type": "code",
   "execution_count": 71,
   "id": "c5586e02-ff3b-4c3e-afcd-1610ddc161cb",
   "metadata": {},
   "outputs": [
    {
     "name": "stdout",
     "output_type": "stream",
     "text": [
      "Esta vazia!\n"
     ]
    }
   ],
   "source": [
    "if (minhaPilha.vazia())\n",
    "    cout << \"Esta vazia!\\n\";\n",
    "else\n",
    "    cout << \"Não esta vazia!\\n\";"
   ]
  },
  {
   "cell_type": "markdown",
   "id": "1debff43-8574-40eb-b96d-240d3747e5dc",
   "metadata": {},
   "source": [
    "## Verifica se a pilha está cheia"
   ]
  },
  {
   "cell_type": "code",
   "execution_count": 72,
   "id": "a20ce9cd-1cef-4afe-9955-737c9fe3778e",
   "metadata": {},
   "outputs": [],
   "source": [
    "bool Pilha::cheia() const {\n",
    "    return (contador == capacidade);\n",
    "}"
   ]
  },
  {
   "cell_type": "code",
   "execution_count": 73,
   "id": "4ad274c6-af3f-407d-8ca4-bf20c5ff63a4",
   "metadata": {},
   "outputs": [
    {
     "name": "stdout",
     "output_type": "stream",
     "text": [
      "Não esta cheia!\n"
     ]
    }
   ],
   "source": [
    "if (minhaPilha.cheia())\n",
    "    cout << \"Esta cheia!\\n\";\n",
    "else\n",
    "    cout << \"Não esta cheia!\\n\";"
   ]
  },
  {
   "cell_type": "markdown",
   "id": "fb21b295-f70e-48ca-968f-6680fbf8b0a8",
   "metadata": {},
   "source": [
    "## Empilhar elemento"
   ]
  },
  {
   "cell_type": "code",
   "execution_count": 74,
   "id": "0f20ef75-651a-4f80-a9d8-a43a57d46b30",
   "metadata": {},
   "outputs": [],
   "source": [
    "bool Pilha::empilhar(int valor) {\n",
    "    if (cheia())\n",
    "        return false;\n",
    "    conteudo[contador] = valor;\n",
    "    contador++;\n",
    "    return true;\n",
    "}"
   ]
  },
  {
   "cell_type": "code",
   "execution_count": 75,
   "id": "9f7079b3-b1fd-4fbc-b89f-f41a24d2e202",
   "metadata": {},
   "outputs": [
    {
     "name": "stdout",
     "output_type": "stream",
     "text": [
      "Empilhado\n"
     ]
    }
   ],
   "source": [
    "if (minhaPilha.empilhar(4))\n",
    "    cout << \"Empilhado\\n\";\n",
    "else\n",
    "    cout << \"Não empilhou\\n\";"
   ]
  },
  {
   "cell_type": "code",
   "execution_count": 76,
   "id": "95cba407-ba2d-4c97-be5f-08025f97440d",
   "metadata": {},
   "outputs": [
    {
     "name": "stdout",
     "output_type": "stream",
     "text": [
      "Empilhado\n"
     ]
    }
   ],
   "source": [
    "if (minhaPilha.empilhar(3))\n",
    "    cout << \"Empilhado\\n\";\n",
    "else\n",
    "    cout << \"Não empilhou\\n\";"
   ]
  },
  {
   "cell_type": "code",
   "execution_count": 77,
   "id": "6c731619-c639-4851-8d12-34e4389df216",
   "metadata": {},
   "outputs": [
    {
     "name": "stdout",
     "output_type": "stream",
     "text": [
      "Empilhado\n"
     ]
    }
   ],
   "source": [
    "if (minhaPilha.empilhar(2))\n",
    "    cout << \"Empilhado\\n\";\n",
    "else\n",
    "    cout << \"Não empilhou\\n\";"
   ]
  },
  {
   "cell_type": "code",
   "execution_count": 78,
   "id": "0c6b8dae-dd91-4d37-a5ce-11d1a93c7a78",
   "metadata": {},
   "outputs": [
    {
     "name": "stdout",
     "output_type": "stream",
     "text": [
      "Empilhado\n"
     ]
    }
   ],
   "source": [
    "if (minhaPilha.empilhar(1))\n",
    "    cout << \"Empilhado\\n\";\n",
    "else\n",
    "    cout << \"Não empilhou\\n\";"
   ]
  },
  {
   "cell_type": "code",
   "execution_count": 79,
   "id": "59c7374e-1e71-40eb-9e3c-81bab6807558",
   "metadata": {},
   "outputs": [
    {
     "name": "stdout",
     "output_type": "stream",
     "text": [
      "Empilhado\n"
     ]
    }
   ],
   "source": [
    "if (minhaPilha.empilhar(0))\n",
    "    cout << \"Empilhado\\n\";\n",
    "else\n",
    "    cout << \"Não empilhou\\n\";"
   ]
  },
  {
   "cell_type": "code",
   "execution_count": 80,
   "id": "f05ef662-ef5a-44f2-ae84-590ee8060e0b",
   "metadata": {},
   "outputs": [
    {
     "name": "stdout",
     "output_type": "stream",
     "text": [
      "Não empilhou\n"
     ]
    }
   ],
   "source": [
    "if (minhaPilha.empilhar(-1))\n",
    "    cout << \"Empilhado\\n\";\n",
    "else\n",
    "    cout << \"Não empilhou\\n\";"
   ]
  },
  {
   "cell_type": "code",
   "execution_count": 81,
   "id": "371074b5-cae5-4b2c-8f82-33f06e0ab2c5",
   "metadata": {},
   "outputs": [
    {
     "name": "stdout",
     "output_type": "stream",
     "text": [
      "Esta cheia!\n"
     ]
    }
   ],
   "source": [
    "if (minhaPilha.cheia())\n",
    "    cout << \"Esta cheia!\\n\";\n",
    "else\n",
    "    cout << \"Não esta cheia!\\n\";"
   ]
  },
  {
   "cell_type": "markdown",
   "id": "118ebf50-6657-41ea-9f11-1c87e8b4ff60",
   "metadata": {},
   "source": [
    "## Desempilhar"
   ]
  },
  {
   "cell_type": "code",
   "execution_count": 82,
   "id": "473c64e2-99ee-4ea1-82a3-8af752e5b97f",
   "metadata": {},
   "outputs": [],
   "source": [
    "bool Pilha::desempilhar(int &valor) {\n",
    "    if (vazia())\n",
    "        return false;\n",
    "    contador--;\n",
    "    valor = conteudo[contador];\n",
    "    return true;\n",
    "}"
   ]
  },
  {
   "cell_type": "code",
   "execution_count": 83,
   "id": "0eaad770-a80a-4f13-bee3-dbc3ee16c1b8",
   "metadata": {},
   "outputs": [],
   "source": [
    "int recebeValor;"
   ]
  },
  {
   "cell_type": "code",
   "execution_count": 84,
   "id": "0567988a-5e86-4bfa-b562-b3956dad7709",
   "metadata": {},
   "outputs": [
    {
     "name": "stdout",
     "output_type": "stream",
     "text": [
      "Desempilhou: 0"
     ]
    }
   ],
   "source": [
    "if (minhaPilha.desempilhar(recebeValor))\n",
    "    cout << \"Desempilhou: \" << recebeValor;\n",
    "else\n",
    "    cout << \"Não desempilhou!\";"
   ]
  },
  {
   "cell_type": "code",
   "execution_count": 85,
   "id": "78d86d24-a442-43bf-811e-2274d148fb1e",
   "metadata": {},
   "outputs": [
    {
     "name": "stdout",
     "output_type": "stream",
     "text": [
      "Desempilhou: 1"
     ]
    }
   ],
   "source": [
    "if (minhaPilha.desempilhar(recebeValor))\n",
    "    cout << \"Desempilhou: \" << recebeValor;\n",
    "else\n",
    "    cout << \"Não desempilhou!\";"
   ]
  },
  {
   "cell_type": "code",
   "execution_count": 86,
   "id": "fe9e3259-e476-4c6e-a9a6-3178670e4a96",
   "metadata": {},
   "outputs": [
    {
     "name": "stdout",
     "output_type": "stream",
     "text": [
      "Desempilhou: 2"
     ]
    }
   ],
   "source": [
    "if (minhaPilha.desempilhar(recebeValor))\n",
    "    cout << \"Desempilhou: \" << recebeValor;\n",
    "else\n",
    "    cout << \"Não desempilhou!\";"
   ]
  },
  {
   "cell_type": "code",
   "execution_count": 87,
   "id": "72f232fb-122b-4c78-9b01-7d3cb4d2854f",
   "metadata": {},
   "outputs": [
    {
     "name": "stdout",
     "output_type": "stream",
     "text": [
      "Desempilhou: 3"
     ]
    }
   ],
   "source": [
    "if (minhaPilha.desempilhar(recebeValor))\n",
    "    cout << \"Desempilhou: \" << recebeValor;\n",
    "else\n",
    "    cout << \"Não desempilhou!\";"
   ]
  },
  {
   "cell_type": "code",
   "execution_count": 88,
   "id": "14b889a6-a145-4e1f-ab3f-fdb9d0c0ad52",
   "metadata": {},
   "outputs": [
    {
     "name": "stdout",
     "output_type": "stream",
     "text": [
      "Desempilhou: 4"
     ]
    }
   ],
   "source": [
    "if (minhaPilha.desempilhar(recebeValor))\n",
    "    cout << \"Desempilhou: \" << recebeValor;\n",
    "else\n",
    "    cout << \"Não desempilhou!\";"
   ]
  },
  {
   "cell_type": "code",
   "execution_count": 89,
   "id": "286e20ad-9fe1-4bcf-b131-e87fb15950d8",
   "metadata": {},
   "outputs": [
    {
     "name": "stdout",
     "output_type": "stream",
     "text": [
      "Não desempilhou!"
     ]
    }
   ],
   "source": [
    "if (minhaPilha.desempilhar(recebeValor))\n",
    "    cout << \"Desempilhou: \" << recebeValor;\n",
    "else\n",
    "    cout << \"Não desempilhou!\";"
   ]
  },
  {
   "cell_type": "code",
   "execution_count": 90,
   "id": "93e338b0-c94d-45a7-904c-bf2b6f5036e6",
   "metadata": {},
   "outputs": [
    {
     "name": "stdout",
     "output_type": "stream",
     "text": [
      "Vazia"
     ]
    }
   ],
   "source": [
    "if (minhaPilha.vazia())\n",
    "    cout << \"Vazia\";"
   ]
  },
  {
   "cell_type": "code",
   "execution_count": 91,
   "id": "6f419941-5095-4edc-8062-34bdd55437da",
   "metadata": {},
   "outputs": [
    {
     "name": "stdout",
     "output_type": "stream",
     "text": [
      "Empilhou: 10\n",
      "Empilhou: 11\n",
      "Empilhou: 12\n",
      "Empilhou: 13\n",
      "Empilhou: 14\n",
      "Não empilhou!\n",
      "Não empilhou!\n",
      "Não empilhou!\n",
      "Não empilhou!\n",
      "Não empilhou!\n"
     ]
    }
   ],
   "source": [
    "for (int i = 10 ; i < 20 ; i++) {\n",
    "    if (minhaPilha.empilhar(i))\n",
    "        cout << \"Empilhou: \" << i << endl;\n",
    "    else\n",
    "        cout << \"Não empilhou!\" << endl;\n",
    "}"
   ]
  },
  {
   "cell_type": "markdown",
   "id": "7b2475d3-8380-4530-bd07-b3c681c5e8b7",
   "metadata": {},
   "source": [
    "## Retorna Topo"
   ]
  },
  {
   "cell_type": "code",
   "execution_count": 92,
   "id": "7e59946b-3e69-4e40-b437-9d6a8b4574d0",
   "metadata": {},
   "outputs": [],
   "source": [
    "bool Pilha::retornaTopo(int &valor) const {\n",
    "    if (vazia())\n",
    "        return false;\n",
    "    valor = conteudo[contador-1];\n",
    "    return true;\n",
    "}"
   ]
  },
  {
   "cell_type": "code",
   "execution_count": 93,
   "id": "5b6c59e5-0491-493f-922a-719fe2933741",
   "metadata": {},
   "outputs": [
    {
     "name": "stdout",
     "output_type": "stream",
     "text": [
      "Cheia"
     ]
    }
   ],
   "source": [
    "if (minhaPilha.cheia())\n",
    "    cout << \"Cheia\";"
   ]
  },
  {
   "cell_type": "code",
   "execution_count": 94,
   "id": "0cfac72d-edfa-48eb-aa95-513522f7ddc8",
   "metadata": {},
   "outputs": [
    {
     "name": "stdout",
     "output_type": "stream",
     "text": [
      "14"
     ]
    }
   ],
   "source": [
    "if (minhaPilha.retornaTopo(recebeValor))\n",
    "    cout << recebeValor;\n",
    "else\n",
    "    cout << \"Vazia!\";"
   ]
  },
  {
   "cell_type": "code",
   "execution_count": 95,
   "id": "59cf1fef-a918-4d10-8738-5bd3e0c68335",
   "metadata": {},
   "outputs": [
    {
     "name": "stdout",
     "output_type": "stream",
     "text": [
      "14"
     ]
    }
   ],
   "source": [
    "if (minhaPilha.retornaTopo(recebeValor))\n",
    "    cout << recebeValor;\n",
    "else\n",
    "    cout << \"Vazia!\";"
   ]
  },
  {
   "cell_type": "code",
   "execution_count": 96,
   "id": "e8217066-b76b-4b8e-b478-17dbd7d4961e",
   "metadata": {},
   "outputs": [
    {
     "name": "stdout",
     "output_type": "stream",
     "text": [
      "13"
     ]
    }
   ],
   "source": [
    "minhaPilha.desempilhar(recebeValor);\n",
    "if (minhaPilha.retornaTopo(recebeValor))\n",
    "    cout << recebeValor;\n",
    "else\n",
    "    cout << \"Vazia!\";"
   ]
  },
  {
   "cell_type": "code",
   "execution_count": 97,
   "id": "98257352-b5db-429a-a1ff-5b5920a184bf",
   "metadata": {},
   "outputs": [
    {
     "name": "stdout",
     "output_type": "stream",
     "text": [
      "13"
     ]
    }
   ],
   "source": [
    "if (minhaPilha.retornaTopo(recebeValor))\n",
    "    cout << recebeValor;\n",
    "else\n",
    "    cout << \"Vazia!\";"
   ]
  },
  {
   "cell_type": "code",
   "execution_count": 98,
   "id": "fd50cf22-31d3-4833-8125-12417428afd7",
   "metadata": {},
   "outputs": [
    {
     "name": "stdout",
     "output_type": "stream",
     "text": [
      "12"
     ]
    }
   ],
   "source": [
    "minhaPilha.desempilhar(recebeValor);\n",
    "if (minhaPilha.retornaTopo(recebeValor))\n",
    "    cout << recebeValor;\n",
    "else\n",
    "    cout << \"Vazia!\";"
   ]
  },
  {
   "cell_type": "code",
   "execution_count": 99,
   "id": "bc3f3e94-cf9e-4516-bbf4-70131e00834c",
   "metadata": {},
   "outputs": [
    {
     "name": "stdout",
     "output_type": "stream",
     "text": [
      "12"
     ]
    }
   ],
   "source": [
    "if (minhaPilha.retornaTopo(recebeValor))\n",
    "    cout << recebeValor;\n",
    "else\n",
    "    cout << \"Vazia!\";"
   ]
  },
  {
   "cell_type": "code",
   "execution_count": 100,
   "id": "d2ed1cdb-7f11-44a8-aefe-727d7dc6c707",
   "metadata": {},
   "outputs": [
    {
     "name": "stdout",
     "output_type": "stream",
     "text": [
      "11"
     ]
    }
   ],
   "source": [
    "minhaPilha.desempilhar(recebeValor);\n",
    "if (minhaPilha.retornaTopo(recebeValor))\n",
    "    cout << recebeValor;\n",
    "else\n",
    "    cout << \"Vazia!\";"
   ]
  },
  {
   "cell_type": "code",
   "execution_count": 101,
   "id": "eeb42ce2-c24a-4f9e-bcf7-d2b5669d6dd3",
   "metadata": {},
   "outputs": [
    {
     "name": "stdout",
     "output_type": "stream",
     "text": [
      "11"
     ]
    }
   ],
   "source": [
    "if (minhaPilha.retornaTopo(recebeValor))\n",
    "    cout << recebeValor;\n",
    "else\n",
    "    cout << \"Vazia!\";"
   ]
  },
  {
   "cell_type": "code",
   "execution_count": 102,
   "id": "8aebb16c-854b-4159-8373-79c7f611a21a",
   "metadata": {},
   "outputs": [
    {
     "name": "stdout",
     "output_type": "stream",
     "text": [
      "10"
     ]
    }
   ],
   "source": [
    "minhaPilha.desempilhar(recebeValor);\n",
    "if (minhaPilha.retornaTopo(recebeValor))\n",
    "    cout << recebeValor;\n",
    "else\n",
    "    cout << \"Vazia!\";"
   ]
  },
  {
   "cell_type": "code",
   "execution_count": 103,
   "id": "704c2e4e-62d7-491f-b6e0-cff52a20c239",
   "metadata": {},
   "outputs": [
    {
     "name": "stdout",
     "output_type": "stream",
     "text": [
      "10"
     ]
    }
   ],
   "source": [
    "if (minhaPilha.retornaTopo(recebeValor))\n",
    "    cout << recebeValor;\n",
    "else\n",
    "    cout << \"Vazia!\";"
   ]
  },
  {
   "cell_type": "code",
   "execution_count": 104,
   "id": "849835a0-f1da-492b-819a-387456ebe698",
   "metadata": {},
   "outputs": [
    {
     "name": "stdout",
     "output_type": "stream",
     "text": [
      "Vazia!"
     ]
    }
   ],
   "source": [
    "minhaPilha.desempilhar(recebeValor);\n",
    "if (minhaPilha.retornaTopo(recebeValor))\n",
    "    cout << recebeValor;\n",
    "else\n",
    "    cout << \"Vazia!\";"
   ]
  },
  {
   "cell_type": "code",
   "execution_count": 105,
   "id": "f76e8815-84bb-422b-b6a1-0c443eedab4e",
   "metadata": {},
   "outputs": [
    {
     "name": "stdout",
     "output_type": "stream",
     "text": [
      "Vazia!"
     ]
    }
   ],
   "source": [
    "if (minhaPilha.retornaTopo(recebeValor))\n",
    "    cout << recebeValor;\n",
    "else\n",
    "    cout << \"Vazia!\";"
   ]
  },
  {
   "cell_type": "code",
   "execution_count": null,
   "id": "891f6b97-5b77-4c91-8c72-7c9bbff4b7ba",
   "metadata": {},
   "outputs": [],
   "source": []
  }
 ],
 "metadata": {
  "kernelspec": {
   "display_name": "C++11",
   "language": "C++11",
   "name": "xcpp11"
  },
  "language_info": {
   "codemirror_mode": "text/x-c++src",
   "file_extension": ".cpp",
   "mimetype": "text/x-c++src",
   "name": "c++",
   "version": "11"
  }
 },
 "nbformat": 4,
 "nbformat_minor": 5
}
