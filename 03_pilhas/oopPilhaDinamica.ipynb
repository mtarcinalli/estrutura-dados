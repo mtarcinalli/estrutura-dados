{
 "cells": [
  {
   "cell_type": "markdown",
   "id": "unsigned-southeast",
   "metadata": {},
   "source": [
    "# Pilha Dinamica Orientada a Objetos\n",
    "\n",
    "- Ultimo que entra é o primeiro que sai (LIFO)"
   ]
  },
  {
   "cell_type": "code",
   "execution_count": 1,
   "id": "republican-burden",
   "metadata": {},
   "outputs": [],
   "source": [
    "#include <iostream>\n",
    "using namespace std;"
   ]
  },
  {
   "cell_type": "markdown",
   "id": "corporate-vector",
   "metadata": {},
   "source": [
    "## Definição da classe"
   ]
  },
  {
   "cell_type": "code",
   "execution_count": 2,
   "id": "failing-accountability",
   "metadata": {},
   "outputs": [],
   "source": [
    "class Pilha {\n",
    "    private:\n",
    "        struct noPilha {\n",
    "            int valor;\n",
    "            noPilha *proximoNo; // ligação próximo nó\n",
    "        };\n",
    "        typedef noPilha *PonteiroPilha;\n",
    "        PonteiroPilha topo;\n",
    "    public:\n",
    "        Pilha();\n",
    "        bool vazia() const;\n",
    "        bool cheia() const;\n",
    "        bool empilhar(int x);\n",
    "        bool desempilhar(int &x);\n",
    "        bool retornaTopo(int &x) const;\n",
    "};"
   ]
  },
  {
   "cell_type": "markdown",
   "id": "offensive-prototype",
   "metadata": {},
   "source": [
    "Temos somente um ponteiro do tipo PonteiroPilha chamado de topo:\n",
    "\n",
    "![topo](imagens/topo.png)"
   ]
  },
  {
   "cell_type": "markdown",
   "id": "sporting-superintendent",
   "metadata": {},
   "source": [
    "## Inicializando pilha (construtor)"
   ]
  },
  {
   "cell_type": "code",
   "execution_count": 3,
   "id": "portuguese-battlefield",
   "metadata": {},
   "outputs": [],
   "source": [
    "Pilha::Pilha() {\n",
    "    topo = NULL;\n",
    "}"
   ]
  },
  {
   "cell_type": "markdown",
   "id": "civilian-nicaragua",
   "metadata": {},
   "source": [
    "A pilha é iniciada vazia.\n",
    "\n",
    "![topo](imagens/pilha_vazia.png)\n"
   ]
  },
  {
   "cell_type": "code",
   "execution_count": 4,
   "id": "sudden-decline",
   "metadata": {},
   "outputs": [],
   "source": [
    "Pilha minhaPilha;"
   ]
  },
  {
   "cell_type": "markdown",
   "id": "married-housing",
   "metadata": {},
   "source": [
    "## Verificando se pilha está vazia"
   ]
  },
  {
   "cell_type": "code",
   "execution_count": 5,
   "id": "favorite-asian",
   "metadata": {},
   "outputs": [],
   "source": [
    "bool Pilha::vazia() const {\n",
    "    if (topo == NULL) {\n",
    "        return true;\n",
    "    } else {\n",
    "        return false;\n",
    "    }\n",
    "}"
   ]
  },
  {
   "cell_type": "code",
   "execution_count": 6,
   "id": "informative-problem",
   "metadata": {},
   "outputs": [
    {
     "name": "stdout",
     "output_type": "stream",
     "text": [
      "Ok!!!"
     ]
    }
   ],
   "source": [
    "if (minhaPilha.vazia() == true)\n",
    "    cout << \"Ok!!!\";"
   ]
  },
  {
   "cell_type": "markdown",
   "id": "fcf13aaf-1497-474b-8dd1-e2916ab62520",
   "metadata": {},
   "source": [
    "## Verificando se pilha está cheia"
   ]
  },
  {
   "cell_type": "code",
   "execution_count": 7,
   "id": "0a79ab01-d8fd-4bb5-a666-71d1ac541cef",
   "metadata": {},
   "outputs": [],
   "source": [
    "bool Pilha::cheia() const {\n",
    "    return false;\n",
    "}"
   ]
  },
  {
   "cell_type": "code",
   "execution_count": 8,
   "id": "8b354691-3f12-4b0e-a46e-2201420704b9",
   "metadata": {},
   "outputs": [
    {
     "name": "stdout",
     "output_type": "stream",
     "text": [
      "Ok!!!"
     ]
    }
   ],
   "source": [
    "if (minhaPilha.cheia() == false)\n",
    "    cout << \"Ok!!!\";"
   ]
  },
  {
   "cell_type": "markdown",
   "id": "amateur-investing",
   "metadata": {},
   "source": [
    "## Empilhando"
   ]
  },
  {
   "cell_type": "code",
   "execution_count": 9,
   "id": "running-shuttle",
   "metadata": {},
   "outputs": [],
   "source": [
    "bool Pilha::empilhar(int x) {\n",
    "    PonteiroPilha p;\n",
    "    p = new noPilha;\n",
    "    if (p == NULL) {\n",
    "        return false;\n",
    "    }\n",
    "    p->valor = x;\n",
    "    p->proximoNo = topo;\n",
    "    topo = p;\n",
    "    return true;\n",
    "}"
   ]
  },
  {
   "cell_type": "code",
   "execution_count": 10,
   "id": "numeric-trout",
   "metadata": {},
   "outputs": [
    {
     "data": {
      "text/plain": [
       "true"
      ]
     },
     "execution_count": 10,
     "metadata": {},
     "output_type": "execute_result"
    }
   ],
   "source": [
    "minhaPilha.empilhar(8)"
   ]
  },
  {
   "cell_type": "markdown",
   "id": "worse-hepatitis",
   "metadata": {},
   "source": [
    "Primeiro o ponteiro p é criado.\n",
    "\n",
    "```c\n",
    "PonteiroPilha p;\n",
    "```\n",
    "\n",
    "![topo](imagens/empilhar_8_01.png)\n",
    "\n",
    "Definindo p como um struct do tipo noPilha\n",
    "\n",
    "```c\n",
    "p = new noPilha;\n",
    "```\n",
    "\n",
    "![topo](imagens/empilhar_8_02.png)\n",
    "\n",
    "Armazenando o valor 8 em p.valor\n",
    "\n",
    "```c\n",
    "p->valor = x;\n",
    "```\n",
    "\n",
    "![topo](imagens/empilhar_8_03.png)\n",
    "\n",
    "\n",
    "O próximo nó de p aponta para o topo, no caso NULL.\n",
    "\n",
    "```c\n",
    "p->proximoNo = topo;\n",
    "```    \n",
    "\n",
    "![topo](imagens/empilhar_8_04.png)\n",
    "\n",
    "Topo agora aponta para p.\n",
    "\n",
    "```c\n",
    "topo = p;\n",
    "```\n",
    "\n",
    "![topo](imagens/empilhar_8_05.png)\n",
    "\n",
    "Como o ponteiro p era pertencente ao método empilhar, ao termino da execução do método permanece apenas o atributo topo.\n",
    "\n",
    "![topo](imagens/empilhar_8_06.png)"
   ]
  },
  {
   "cell_type": "code",
   "execution_count": 11,
   "id": "italian-lover",
   "metadata": {},
   "outputs": [
    {
     "data": {
      "text/plain": [
       "true"
      ]
     },
     "execution_count": 11,
     "metadata": {},
     "output_type": "execute_result"
    }
   ],
   "source": [
    "minhaPilha.empilhar(10)"
   ]
  },
  {
   "cell_type": "markdown",
   "id": "strategic-conclusion",
   "metadata": {},
   "source": [
    "Outro nó p é criado.\n",
    "\n",
    "```c\n",
    "PonteiroPilha p;\n",
    "```\n",
    "\n",
    "![topo](imagens/empilhar_10_01.png)\n",
    "\n",
    "```c\n",
    "p = new noPilha;\n",
    "```\n",
    "\n",
    "![topo](imagens/empilhar_10_02.png)\n",
    "\n",
    "```c\n",
    "p->valor = x;\n",
    "```\n",
    "\n",
    "![topo](imagens/empilhar_10_03.png)\n",
    "\n",
    "```c\n",
    "p->proximoNo = topo;\n",
    "```\n",
    "\n",
    "![topo](imagens/empilhar_10_04.png)\n",
    "\n",
    "```c\n",
    "topo = p;\n",
    "```\n",
    "\n",
    "![topo](imagens/empilhar_10_05.png)\n",
    "\n",
    "\n",
    "Como o ponteiro p era pertencente ao método empilhar, ao termino da execução do método permanece apenas o atributo topo.\n",
    "\n",
    "![topo](imagens/empilhar_10_06.png)\n",
    "\n",
    "\n"
   ]
  },
  {
   "cell_type": "code",
   "execution_count": 12,
   "id": "occupational-module",
   "metadata": {},
   "outputs": [
    {
     "data": {
      "text/plain": [
       "true"
      ]
     },
     "execution_count": 12,
     "metadata": {},
     "output_type": "execute_result"
    }
   ],
   "source": [
    "minhaPilha.empilhar(4)"
   ]
  },
  {
   "cell_type": "markdown",
   "id": "nearby-engine",
   "metadata": {},
   "source": [
    "Outro nó p é criado.\n",
    "\n",
    "```c\n",
    "PonteiroPilha p;\n",
    "```\n",
    "\n",
    "![topo](imagens/empilhar_4_01.png)\n",
    "\n",
    "```c\n",
    "p = new noPilha;\n",
    "```\n",
    "\n",
    "![topo](imagens/empilhar_4_02.png)\n",
    "\n",
    "```c\n",
    "p->valor = x;\n",
    "```\n",
    "\n",
    "![topo](imagens/empilhar_4_03.png)\n",
    "\n",
    "```c\n",
    "p->proximoNo = topo;\n",
    "```\n",
    "\n",
    "![topo](imagens/empilhar_4_04.png)\n",
    "\n",
    "```c\n",
    "topo = p;\n",
    "```\n",
    "\n",
    "![topo](imagens/empilhar_4_05.png)\n",
    "\n",
    "\n",
    "Como o ponteiro p era pertencente ao método empilhar, ao termino da execução do método permanece apenas o atributo topo.\n",
    "\n",
    "![topo](imagens/empilhar_4_06.png)\n",
    "\n",
    "\n"
   ]
  },
  {
   "cell_type": "markdown",
   "id": "further-smith",
   "metadata": {},
   "source": [
    "## Desempilhar"
   ]
  },
  {
   "cell_type": "code",
   "execution_count": 13,
   "id": "creative-tablet",
   "metadata": {},
   "outputs": [],
   "source": [
    "int y;\n",
    "bool resultado;"
   ]
  },
  {
   "cell_type": "code",
   "execution_count": 14,
   "id": "czech-frederick",
   "metadata": {},
   "outputs": [],
   "source": [
    "bool Pilha::desempilhar(int &x) {\n",
    "    PonteiroPilha p;\n",
    "    if (vazia()) {\n",
    "        return false;\n",
    "    }\n",
    "    x = topo->valor;\n",
    "    p = topo;\n",
    "    topo = topo->proximoNo;\n",
    "    free(p);\n",
    "    return true;\n",
    "}"
   ]
  },
  {
   "cell_type": "code",
   "execution_count": 15,
   "id": "roman-rental",
   "metadata": {},
   "outputs": [
    {
     "name": "stdout",
     "output_type": "stream",
     "text": [
      "4"
     ]
    }
   ],
   "source": [
    "resultado = minhaPilha.desempilhar(y);\n",
    "cout << y;"
   ]
  },
  {
   "cell_type": "code",
   "execution_count": 16,
   "id": "tender-volunteer",
   "metadata": {},
   "outputs": [
    {
     "name": "stdout",
     "output_type": "stream",
     "text": [
      "1"
     ]
    }
   ],
   "source": [
    "cout << resultado;"
   ]
  },
  {
   "cell_type": "markdown",
   "id": "oriented-yemen",
   "metadata": {},
   "source": [
    "Um ponteiro p do tipo PonteiroP é criado:\n",
    "\n",
    "```c\n",
    "PonteiroPilha p;\n",
    "```\n",
    "\n",
    "![topo](imagens/desempilhar_4_01.png)\n",
    "\n",
    "Em x é armazenado o valor atual de topo:\n",
    "\n",
    "```c\n",
    "x = topo->valor;\n",
    "```\n",
    "\n",
    "![topo](imagens/desempilhar_4_02.png)\n",
    "\n",
    "p passa a apontar para topo:\n",
    "\n",
    "```\n",
    "p = topo;\n",
    "```\n",
    "\n",
    "![topo](imagens/desempilhar_4_03.png)\n",
    "\n",
    "topo passa a apontar para seu próprio proximoNo:\n",
    "\n",
    "```\n",
    "topo = topo->proximoNo;\n",
    "```\n",
    "\n",
    "![topo](imagens/desempilhar_4_04.png)\n",
    "\n",
    "p é liberado da memória:\n",
    "\n",
    "```\n",
    "free(p);\n",
    "```\n",
    "\n",
    "![topo](imagens/desempilhar_4_05.png)\n"
   ]
  },
  {
   "cell_type": "code",
   "execution_count": 17,
   "id": "automatic-linux",
   "metadata": {},
   "outputs": [
    {
     "name": "stdout",
     "output_type": "stream",
     "text": [
      "10"
     ]
    }
   ],
   "source": [
    "if (minhaPilha.desempilhar(y))\n",
    "    cout << y;\n",
    "else\n",
    "    cout << \"Não desempilhou!\";"
   ]
  },
  {
   "cell_type": "code",
   "execution_count": 18,
   "id": "f92731f7-3dc0-46c5-bd0c-03ec09974e0d",
   "metadata": {},
   "outputs": [
    {
     "name": "stdout",
     "output_type": "stream",
     "text": [
      "8"
     ]
    }
   ],
   "source": [
    "if (minhaPilha.desempilhar(y))\n",
    "    cout << y;\n",
    "else\n",
    "    cout << \"Não desempilhou!\";"
   ]
  },
  {
   "cell_type": "code",
   "execution_count": 19,
   "id": "907c6861-f3d0-4ea7-9d30-fbd89f819329",
   "metadata": {},
   "outputs": [
    {
     "name": "stdout",
     "output_type": "stream",
     "text": [
      "Não desempilhou!"
     ]
    }
   ],
   "source": [
    "if (minhaPilha.desempilhar(y))\n",
    "    cout << y;\n",
    "else\n",
    "    cout << \"Não desempilhou!\";"
   ]
  },
  {
   "cell_type": "code",
   "execution_count": null,
   "id": "cd60afae-2e4d-4025-ae11-d02cf25492d6",
   "metadata": {},
   "outputs": [],
   "source": []
  },
  {
   "cell_type": "code",
   "execution_count": 20,
   "id": "interim-static",
   "metadata": {},
   "outputs": [],
   "source": [
    "minhaPilha.empilhar(0);"
   ]
  },
  {
   "cell_type": "code",
   "execution_count": 21,
   "id": "43a40172-665c-4301-971a-d6e5ef851e49",
   "metadata": {},
   "outputs": [
    {
     "name": "stdout",
     "output_type": "stream",
     "text": [
      "0"
     ]
    }
   ],
   "source": [
    "if (minhaPilha.desempilhar(y))\n",
    "    cout << y;\n",
    "else\n",
    "    cout << \"Não desempilhou!\";"
   ]
  },
  {
   "cell_type": "code",
   "execution_count": 22,
   "id": "57ef821b-abe7-421e-992e-aa843eb83402",
   "metadata": {},
   "outputs": [
    {
     "name": "stdout",
     "output_type": "stream",
     "text": [
      "Não desempilhou!"
     ]
    }
   ],
   "source": [
    "if (minhaPilha.desempilhar(y))\n",
    "    cout << y;\n",
    "else\n",
    "    cout << \"Não desempilhou!\";"
   ]
  },
  {
   "cell_type": "code",
   "execution_count": 23,
   "id": "transparent-blast",
   "metadata": {},
   "outputs": [],
   "source": [
    "minhaPilha.empilhar(1);\n",
    "minhaPilha.empilhar(0);"
   ]
  },
  {
   "cell_type": "code",
   "execution_count": 24,
   "id": "mediterranean-sperm",
   "metadata": {},
   "outputs": [
    {
     "name": "stdout",
     "output_type": "stream",
     "text": [
      "desempilhou: 0"
     ]
    }
   ],
   "source": [
    "if (minhaPilha.desempilhar(y))\n",
    "    cout << \"desempilhou: \" << y;\n",
    "else\n",
    "    cout << \"não desempilhou!\";"
   ]
  },
  {
   "cell_type": "code",
   "execution_count": 25,
   "id": "stopped-homework",
   "metadata": {},
   "outputs": [
    {
     "name": "stdout",
     "output_type": "stream",
     "text": [
      "desempilhou: 1"
     ]
    }
   ],
   "source": [
    "if (minhaPilha.desempilhar(y))\n",
    "    cout << \"desempilhou: \" << y;\n",
    "else\n",
    "    cout << \"não desempilhou!\";"
   ]
  },
  {
   "cell_type": "code",
   "execution_count": 26,
   "id": "basic-component",
   "metadata": {},
   "outputs": [
    {
     "name": "stdout",
     "output_type": "stream",
     "text": [
      "não desempilhou!"
     ]
    }
   ],
   "source": [
    "if (minhaPilha.desempilhar(y))\n",
    "    cout << \"desempilhou: \" << y;\n",
    "else\n",
    "    cout << \"não desempilhou!\";"
   ]
  },
  {
   "cell_type": "markdown",
   "id": "perfect-mystery",
   "metadata": {},
   "source": [
    "## Retorna topo"
   ]
  },
  {
   "cell_type": "code",
   "execution_count": 27,
   "id": "endless-nothing",
   "metadata": {},
   "outputs": [],
   "source": [
    "minhaPilha.empilhar(4);"
   ]
  },
  {
   "cell_type": "code",
   "execution_count": 28,
   "id": "joined-certificate",
   "metadata": {},
   "outputs": [],
   "source": [
    "bool Pilha::retornaTopo(int &x) const {\n",
    "    if (vazia()) {\n",
    "        return false;\n",
    "    }\n",
    "    x = topo->valor;\n",
    "    return 1;\n",
    "}"
   ]
  },
  {
   "cell_type": "code",
   "execution_count": 29,
   "id": "french-supplier",
   "metadata": {},
   "outputs": [
    {
     "name": "stdout",
     "output_type": "stream",
     "text": [
      "4"
     ]
    }
   ],
   "source": [
    "if (minhaPilha.retornaTopo(y))\n",
    "    cout << y;\n",
    "else\n",
    "    cout << \"Pilha vazia!\";"
   ]
  },
  {
   "cell_type": "code",
   "execution_count": 30,
   "id": "ea00f070-3d2d-4e72-ab8e-d29085b3af9d",
   "metadata": {},
   "outputs": [
    {
     "name": "stdout",
     "output_type": "stream",
     "text": [
      "4"
     ]
    }
   ],
   "source": [
    "if (minhaPilha.retornaTopo(y))\n",
    "    cout << y;\n",
    "else\n",
    "    cout << \"Pilha vazia!\";"
   ]
  },
  {
   "cell_type": "code",
   "execution_count": 31,
   "id": "62e76bd9-be79-4e18-9d6a-20de73e258d8",
   "metadata": {},
   "outputs": [],
   "source": [
    "minhaPilha.desempilhar(y);"
   ]
  },
  {
   "cell_type": "code",
   "execution_count": 32,
   "id": "b024adbb-ae79-48b5-81ee-213066df001b",
   "metadata": {},
   "outputs": [
    {
     "name": "stdout",
     "output_type": "stream",
     "text": [
      "Pilha vazia!"
     ]
    }
   ],
   "source": [
    "if (minhaPilha.retornaTopo(y))\n",
    "    cout << y;\n",
    "else\n",
    "    cout << \"Pilha vazia!\";"
   ]
  },
  {
   "cell_type": "code",
   "execution_count": null,
   "id": "concerned-orientation",
   "metadata": {},
   "outputs": [],
   "source": []
  },
  {
   "cell_type": "code",
   "execution_count": null,
   "id": "engaged-blend",
   "metadata": {},
   "outputs": [],
   "source": []
  },
  {
   "cell_type": "markdown",
   "id": "accessory-panama",
   "metadata": {},
   "source": [
    "## Testando pilha"
   ]
  },
  {
   "cell_type": "code",
   "execution_count": 33,
   "id": "alive-renewal",
   "metadata": {},
   "outputs": [],
   "source": [
    "Pilha minhaPilha;"
   ]
  },
  {
   "cell_type": "code",
   "execution_count": 34,
   "id": "ae5e20ef-56ac-4586-8bb3-fcdfbadb6145",
   "metadata": {},
   "outputs": [
    {
     "name": "stdout",
     "output_type": "stream",
     "text": [
      "10\n",
      "11\n",
      "12\n",
      "13\n",
      "14\n"
     ]
    }
   ],
   "source": [
    "for (int i = 10 ; i < 15 ; i++) {\n",
    "    minhaPilha.empilhar(i);\n",
    "    cout << i << endl;\n",
    "}"
   ]
  },
  {
   "cell_type": "code",
   "execution_count": 35,
   "id": "69cdd343-e2b6-41dc-9530-bb216fa15869",
   "metadata": {},
   "outputs": [
    {
     "name": "stdout",
     "output_type": "stream",
     "text": [
      "desempilhou: 14\n",
      "topo       : 13\n",
      "topo       : 13\n",
      "desempilhou: 13\n",
      "topo       : 12\n",
      "topo       : 12\n",
      "desempilhou: 12\n",
      "topo       : 11\n",
      "topo       : 11\n",
      "desempilhou: 11\n",
      "topo       : 10\n",
      "topo       : 10\n",
      "desempilhou: 10\n",
      "topo       : 10\n",
      "topo       : 10\n"
     ]
    }
   ],
   "source": [
    "while(minhaPilha.desempilhar(y)) {\n",
    "    cout << \"desempilhou: \" << y << endl;\n",
    "    minhaPilha.retornaTopo(y);\n",
    "    cout << \"topo       : \" << y << endl;\n",
    "    minhaPilha.retornaTopo(y);\n",
    "    cout << \"topo       : \" << y << endl;\n",
    "}"
   ]
  },
  {
   "cell_type": "code",
   "execution_count": 36,
   "id": "2132b937-98eb-447a-83bd-710fdf1ee05b",
   "metadata": {},
   "outputs": [
    {
     "name": "stdout",
     "output_type": "stream",
     "text": [
      "ok"
     ]
    }
   ],
   "source": [
    "if  (minhaPilha.vazia() == true)\n",
    "    cout << \"ok\";"
   ]
  },
  {
   "cell_type": "code",
   "execution_count": 37,
   "id": "45ad5583-3394-4950-8694-1eeaa82ac0d3",
   "metadata": {},
   "outputs": [],
   "source": [
    "int recebeValor;"
   ]
  },
  {
   "cell_type": "code",
   "execution_count": null,
   "id": "8c3ed4eb-903a-4ac0-b8ed-58928f48fe28",
   "metadata": {},
   "outputs": [],
   "source": []
  },
  {
   "cell_type": "code",
   "execution_count": 38,
   "id": "efficient-housing",
   "metadata": {},
   "outputs": [
    {
     "name": "stdout",
     "output_type": "stream",
     "text": [
      "Esta vazia!\n"
     ]
    }
   ],
   "source": [
    "if (minhaPilha.vazia())\n",
    "    cout << \"Esta vazia!\\n\";\n",
    "else\n",
    "    cout << \"Não esta vazia!\\n\";"
   ]
  },
  {
   "cell_type": "code",
   "execution_count": 39,
   "id": "instrumental-egyptian",
   "metadata": {},
   "outputs": [
    {
     "name": "stdout",
     "output_type": "stream",
     "text": [
      "Empilhando: 4\n",
      "Empilhado\n"
     ]
    }
   ],
   "source": [
    "cout << \"Empilhando: 4\\n\";\n",
    "if (minhaPilha.empilhar(4))\n",
    "    cout << \"Empilhado\\n\";\n",
    "else\n",
    "    cout << \"Não empilhou\\n\";"
   ]
  },
  {
   "cell_type": "code",
   "execution_count": 40,
   "id": "equivalent-blanket",
   "metadata": {},
   "outputs": [
    {
     "name": "stdout",
     "output_type": "stream",
     "text": [
      "Empilhando: 3\n",
      "Empilhado\n"
     ]
    }
   ],
   "source": [
    "cout << \"Empilhando: 3\\n\";\n",
    "if (minhaPilha.empilhar(3))\n",
    "    cout << \"Empilhado\\n\";\n",
    "else\n",
    "    cout << \"Não empilhou\\n\";"
   ]
  },
  {
   "cell_type": "code",
   "execution_count": 41,
   "id": "twelve-pacific",
   "metadata": {},
   "outputs": [
    {
     "name": "stdout",
     "output_type": "stream",
     "text": [
      "Empilhando: 2\n",
      "Empilhado\n"
     ]
    }
   ],
   "source": [
    "cout << \"Empilhando: 2\\n\";\n",
    "if (minhaPilha.empilhar(2))\n",
    "    cout << \"Empilhado\\n\";\n",
    "else\n",
    "    cout << \"Não empilhou\\n\";"
   ]
  },
  {
   "cell_type": "code",
   "execution_count": 42,
   "id": "precious-thanks",
   "metadata": {},
   "outputs": [
    {
     "name": "stdout",
     "output_type": "stream",
     "text": [
      "Empilhando: 1\n",
      "Empilhado\n"
     ]
    }
   ],
   "source": [
    "cout << \"Empilhando: 1\\n\";\n",
    "if (minhaPilha.empilhar(1))\n",
    "    cout << \"Empilhado\\n\";\n",
    "else\n",
    "    cout << \"Não empilhou\\n\";"
   ]
  },
  {
   "cell_type": "code",
   "execution_count": 43,
   "id": "quantitative-subscriber",
   "metadata": {},
   "outputs": [
    {
     "name": "stdout",
     "output_type": "stream",
     "text": [
      "1"
     ]
    }
   ],
   "source": [
    "if (minhaPilha.retornaTopo(recebeValor))\n",
    "    cout << recebeValor;\n",
    "else\n",
    "    cout << \"Vazia!\";"
   ]
  },
  {
   "cell_type": "code",
   "execution_count": 44,
   "id": "intelligent-bryan",
   "metadata": {},
   "outputs": [
    {
     "name": "stdout",
     "output_type": "stream",
     "text": [
      "Desempilhou: 1\n"
     ]
    }
   ],
   "source": [
    "if (minhaPilha.desempilhar(recebeValor))\n",
    "    cout << \"Desempilhou: \" << recebeValor << \"\\n\";\n",
    "else\n",
    "    cout << \"Pilha vazia!\";"
   ]
  },
  {
   "cell_type": "code",
   "execution_count": 45,
   "id": "stone-radio",
   "metadata": {},
   "outputs": [
    {
     "name": "stdout",
     "output_type": "stream",
     "text": [
      "Desempilhou: 2\n"
     ]
    }
   ],
   "source": [
    "if (minhaPilha.desempilhar(recebeValor))\n",
    "    cout << \"Desempilhou: \" << recebeValor << \"\\n\";\n",
    "else\n",
    "    cout << \"Pilha vazia!\";"
   ]
  },
  {
   "cell_type": "code",
   "execution_count": 46,
   "id": "nutritional-uncle",
   "metadata": {},
   "outputs": [
    {
     "name": "stdout",
     "output_type": "stream",
     "text": [
      "Desempilhou: 3\n"
     ]
    }
   ],
   "source": [
    "if (minhaPilha.desempilhar(recebeValor))\n",
    "    cout << \"Desempilhou: \" << recebeValor << \"\\n\";\n",
    "else\n",
    "    cout << \"Pilha vazia!\";"
   ]
  },
  {
   "cell_type": "code",
   "execution_count": 47,
   "id": "cleared-cycling",
   "metadata": {},
   "outputs": [
    {
     "name": "stdout",
     "output_type": "stream",
     "text": [
      "Desempilhou: 4\n"
     ]
    }
   ],
   "source": [
    "if (minhaPilha.desempilhar(recebeValor))\n",
    "    cout << \"Desempilhou: \" << recebeValor << \"\\n\";\n",
    "else\n",
    "    cout << \"Pilha vazia!\";"
   ]
  },
  {
   "cell_type": "code",
   "execution_count": 48,
   "id": "maritime-token",
   "metadata": {},
   "outputs": [
    {
     "name": "stdout",
     "output_type": "stream",
     "text": [
      "Pilha vazia!"
     ]
    }
   ],
   "source": [
    "if (minhaPilha.desempilhar(recebeValor))\n",
    "    cout << \"Desempilhou: \" << recebeValor << \"\\n\";\n",
    "else\n",
    "    cout << \"Pilha vazia!\";"
   ]
  },
  {
   "cell_type": "code",
   "execution_count": 49,
   "id": "colored-parameter",
   "metadata": {},
   "outputs": [
    {
     "data": {
      "text/plain": [
       "true"
      ]
     },
     "execution_count": 49,
     "metadata": {},
     "output_type": "execute_result"
    }
   ],
   "source": [
    "minhaPilha.empilhar(0)"
   ]
  },
  {
   "cell_type": "code",
   "execution_count": 50,
   "id": "speaking-walnut",
   "metadata": {},
   "outputs": [
    {
     "name": "stdout",
     "output_type": "stream",
     "text": [
      "Desempilhou: 0\n"
     ]
    }
   ],
   "source": [
    "if (minhaPilha.desempilhar(recebeValor))\n",
    "    cout << \"Desempilhou: \" << recebeValor << \"\\n\";\n",
    "else\n",
    "    cout << \"Pilha vazia!\";"
   ]
  },
  {
   "cell_type": "code",
   "execution_count": 51,
   "id": "parliamentary-calcium",
   "metadata": {},
   "outputs": [
    {
     "name": "stdout",
     "output_type": "stream",
     "text": [
      "Pilha vazia!"
     ]
    }
   ],
   "source": [
    "if (minhaPilha.desempilhar(recebeValor))\n",
    "    cout << \"Desempilhou: \" << recebeValor << \"\\n\";\n",
    "else\n",
    "    cout << \"Pilha vazia!\";"
   ]
  },
  {
   "cell_type": "code",
   "execution_count": null,
   "id": "timely-venture",
   "metadata": {},
   "outputs": [],
   "source": []
  }
 ],
 "metadata": {
  "kernelspec": {
   "display_name": "C++11",
   "language": "C++11",
   "name": "xcpp11"
  },
  "language_info": {
   "codemirror_mode": "text/x-c++src",
   "file_extension": ".cpp",
   "mimetype": "text/x-c++src",
   "name": "c++",
   "version": "11"
  }
 },
 "nbformat": 4,
 "nbformat_minor": 5
}
