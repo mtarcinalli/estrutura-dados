{
 "cells": [
  {
   "cell_type": "markdown",
   "id": "revised-miller",
   "metadata": {},
   "source": [
    "# Orientação a objetos\n",
    "\n",
    "|Classe  | Objetos |\n",
    "|--------|---------|\n",
    "|        | Maçã    |\n",
    "| Fruta  | Banana  |\n",
    "|        | Manga   |\n",
    "\n",
    "\n",
    "|Classe  | Objetos |\n",
    "|--------|---------|\n",
    "|        | Fusca   |\n",
    "| Carro  | Uno     |\n",
    "|        | Gol     |\n",
    "\n",
    "\n"
   ]
  },
  {
   "cell_type": "code",
   "execution_count": 1,
   "id": "dutch-instruction",
   "metadata": {},
   "outputs": [],
   "source": [
    "#include <iostream>\n",
    "using namespace std;"
   ]
  },
  {
   "cell_type": "markdown",
   "id": "found-taylor",
   "metadata": {},
   "source": [
    "## Classe"
   ]
  },
  {
   "cell_type": "code",
   "execution_count": 2,
   "id": "mighty-charleston",
   "metadata": {},
   "outputs": [],
   "source": [
    "class Carro {\n",
    "    public:\n",
    "        string marca;\n",
    "        string modelo;\n",
    "        int ano;\n",
    "};"
   ]
  },
  {
   "cell_type": "markdown",
   "id": "atmospheric-clear",
   "metadata": {},
   "source": [
    "## Objetos"
   ]
  },
  {
   "cell_type": "code",
   "execution_count": 5,
   "id": "aging-system",
   "metadata": {},
   "outputs": [],
   "source": [
    "Carro carro1;\n",
    "\n",
    "carro1.marca = \"Volkswagen\";\n",
    "carro1.modelo = \"Fusca\";\n",
    "carro1.ano = 1985;"
   ]
  },
  {
   "cell_type": "code",
   "execution_count": 6,
   "id": "exterior-construction",
   "metadata": {},
   "outputs": [
    {
     "name": "stdout",
     "output_type": "stream",
     "text": [
      "Volkswagen\n",
      "Fusca\n",
      "1985"
     ]
    }
   ],
   "source": [
    "cout << carro1.marca << \"\\n\";\n",
    "cout << carro1.modelo << \"\\n\";\n",
    "cout << carro1.ano;"
   ]
  },
  {
   "cell_type": "code",
   "execution_count": 7,
   "id": "indoor-delivery",
   "metadata": {},
   "outputs": [],
   "source": [
    "Carro carro2;\n",
    "carro2.marca = \"Fiat\";\n",
    "carro2.modelo = \"Uno\";\n",
    "carro2.ano = 2007;"
   ]
  },
  {
   "cell_type": "code",
   "execution_count": 8,
   "id": "portable-jacket",
   "metadata": {},
   "outputs": [
    {
     "name": "stdout",
     "output_type": "stream",
     "text": [
      "Fiat\n",
      "Uno\n",
      "2007"
     ]
    }
   ],
   "source": [
    "cout << carro2.marca << \"\\n\";\n",
    "cout << carro2.modelo << \"\\n\";\n",
    "cout << carro2.ano;"
   ]
  },
  {
   "cell_type": "markdown",
   "id": "economic-norman",
   "metadata": {},
   "source": [
    "## Métodos\n",
    "### Definição interna"
   ]
  },
  {
   "cell_type": "code",
   "execution_count": 9,
   "id": "color-colon",
   "metadata": {},
   "outputs": [],
   "source": [
    "class Carro {\n",
    "    public:\n",
    "        string marca;\n",
    "        string modelo;\n",
    "        int ano;\n",
    "        void acelera() {\n",
    "            cout << \"Vrum 2.0! - \" << marca;\n",
    "        }\n",
    "};"
   ]
  },
  {
   "cell_type": "code",
   "execution_count": 10,
   "id": "sweet-argentina",
   "metadata": {},
   "outputs": [
    {
     "name": "stdout",
     "output_type": "stream",
     "text": [
      "Vrum 2.0! - Volkswagen"
     ]
    }
   ],
   "source": [
    "Carro carro1;\n",
    "\n",
    "carro1.marca = \"Volkswagen\";\n",
    "carro1.modelo = \"Fusca\";\n",
    "carro1.ano = 1985;\n",
    "\n",
    "carro1.acelera()"
   ]
  },
  {
   "cell_type": "markdown",
   "id": "enclosed-antigua",
   "metadata": {},
   "source": [
    "### Definição externa"
   ]
  },
  {
   "cell_type": "code",
   "execution_count": 16,
   "id": "perfect-december",
   "metadata": {},
   "outputs": [],
   "source": [
    "class Carro {\n",
    "    public:\n",
    "        string marca;\n",
    "        string modelo;\n",
    "        int ano;\n",
    "        void acelera();\n",
    "};"
   ]
  },
  {
   "cell_type": "code",
   "execution_count": 17,
   "id": "smart-noise",
   "metadata": {},
   "outputs": [],
   "source": [
    "void Carro::acelera() {\n",
    "    cout << \"Vrum 3.0! - \" << modelo << \" - \" << marca;\n",
    "}"
   ]
  },
  {
   "cell_type": "code",
   "execution_count": 18,
   "id": "thirty-enzyme",
   "metadata": {},
   "outputs": [
    {
     "name": "stdout",
     "output_type": "stream",
     "text": [
      "Vrum 3.0! - Fusca - Volkswagen"
     ]
    }
   ],
   "source": [
    "Carro carro1;\n",
    "\n",
    "carro1.marca = \"Volkswagen\";\n",
    "carro1.modelo = \"Fusca\";\n",
    "carro1.ano = 1985;\n",
    "\n",
    "carro1.acelera()"
   ]
  },
  {
   "cell_type": "markdown",
   "id": "proud-delivery",
   "metadata": {},
   "source": [
    "### Parametros métodos"
   ]
  },
  {
   "cell_type": "code",
   "execution_count": 19,
   "id": "herbal-respondent",
   "metadata": {},
   "outputs": [],
   "source": [
    "class Carro {\n",
    "    public:\n",
    "        string marca;\n",
    "        string modelo;\n",
    "        int ano;\n",
    "        void acelera(int velocidade) {\n",
    "            cout << \"Vrum 4.0! \" << velocidade;\n",
    "        }\n",
    "};"
   ]
  },
  {
   "cell_type": "code",
   "execution_count": 20,
   "id": "metric-moment",
   "metadata": {},
   "outputs": [
    {
     "name": "stdout",
     "output_type": "stream",
     "text": [
      "Vrum 4.0! 120"
     ]
    }
   ],
   "source": [
    "Carro carro1;\n",
    "carro1.marca = \"Volkswagen\";\n",
    "carro1.modelo = \"Fusca\";\n",
    "carro1.ano = 1985;\n",
    "\n",
    "carro1.acelera(120)"
   ]
  },
  {
   "cell_type": "code",
   "execution_count": 21,
   "id": "hybrid-portland",
   "metadata": {},
   "outputs": [
    {
     "name": "stdout",
     "output_type": "stream",
     "text": [
      "Vrum 4.0! 110"
     ]
    }
   ],
   "source": [
    "carro1.acelera(110)"
   ]
  },
  {
   "cell_type": "markdown",
   "id": "hollow-evanescence",
   "metadata": {},
   "source": [
    "## Construtores"
   ]
  },
  {
   "cell_type": "code",
   "execution_count": 29,
   "id": "coated-greenhouse",
   "metadata": {},
   "outputs": [],
   "source": [
    "class Carro {\n",
    "    public:\n",
    "        string marca;\n",
    "        string modelo;\n",
    "        int ano;\n",
    "        Carro(string x, string y) {\n",
    "            marca = x;\n",
    "            modelo = y;\n",
    "            ano = 2001;\n",
    "            cout << \"Olá!\";\n",
    "        }\n",
    "};"
   ]
  },
  {
   "cell_type": "code",
   "execution_count": 41,
   "id": "corporate-sculpture",
   "metadata": {},
   "outputs": [
    {
     "name": "stdout",
     "output_type": "stream",
     "text": [
      "Olá!"
     ]
    }
   ],
   "source": [
    "Carro carro1(\"Volkswagen\", \"Fusca\");"
   ]
  },
  {
   "cell_type": "code",
   "execution_count": 42,
   "id": "satellite-orleans",
   "metadata": {},
   "outputs": [
    {
     "name": "stdout",
     "output_type": "stream",
     "text": [
      "Fusca"
     ]
    }
   ],
   "source": [
    "cout << carro1.modelo;"
   ]
  },
  {
   "cell_type": "code",
   "execution_count": 43,
   "id": "adolescent-gallery",
   "metadata": {},
   "outputs": [
    {
     "name": "stdout",
     "output_type": "stream",
     "text": [
      "Volkswagen"
     ]
    }
   ],
   "source": [
    "cout << carro1.marca;"
   ]
  },
  {
   "cell_type": "code",
   "execution_count": 44,
   "id": "electoral-unemployment",
   "metadata": {},
   "outputs": [
    {
     "name": "stdout",
     "output_type": "stream",
     "text": [
      "2001"
     ]
    }
   ],
   "source": [
    "cout << carro1.ano;"
   ]
  },
  {
   "cell_type": "code",
   "execution_count": 45,
   "id": "distant-persian",
   "metadata": {},
   "outputs": [
    {
     "name": "stdout",
     "output_type": "stream",
     "text": [
      "Olá!"
     ]
    }
   ],
   "source": [
    "Carro carro2(\"Fiat\", \"Uno\");"
   ]
  },
  {
   "cell_type": "code",
   "execution_count": 46,
   "id": "psychological-shore",
   "metadata": {},
   "outputs": [
    {
     "name": "stdout",
     "output_type": "stream",
     "text": [
      "Fiat\n"
     ]
    }
   ],
   "source": [
    "cout << carro2.marca << \"\\n\";"
   ]
  },
  {
   "cell_type": "code",
   "execution_count": 47,
   "id": "million-nurse",
   "metadata": {},
   "outputs": [
    {
     "name": "stdout",
     "output_type": "stream",
     "text": [
      "2001\n"
     ]
    }
   ],
   "source": [
    "cout << carro2.ano << \"\\n\";"
   ]
  },
  {
   "cell_type": "markdown",
   "id": "southwest-sessions",
   "metadata": {},
   "source": [
    "## Controle acesso"
   ]
  },
  {
   "cell_type": "code",
   "execution_count": 48,
   "id": "extra-plain",
   "metadata": {},
   "outputs": [],
   "source": [
    "class Carro {\n",
    "    private:\n",
    "        string marca;\n",
    "        string modelo;\n",
    "        int ano;\n",
    "};"
   ]
  },
  {
   "cell_type": "code",
   "execution_count": 49,
   "id": "imperial-trick",
   "metadata": {},
   "outputs": [
    {
     "name": "stderr",
     "output_type": "stream",
     "text": [
      "\u001b[1minput_line_59:3:8: \u001b[0m\u001b[0;1;31merror: \u001b[0m\u001b[1m'marca' is a private member of '__cling_N547::Carro'\u001b[0m\n",
      "carro1.marca = \"Fiat\";\n",
      "\u001b[0;1;32m       ^\n",
      "\u001b[0m\u001b[1minput_line_58:3:16: \u001b[0m\u001b[0;1;30mnote: \u001b[0mdeclared private here\u001b[0m\n",
      "        string marca;\n",
      "\u001b[0;1;32m               ^\n",
      "\u001b[0m"
     ]
    },
    {
     "ename": "Interpreter Error",
     "evalue": "",
     "output_type": "error",
     "traceback": [
      "Interpreter Error: "
     ]
    }
   ],
   "source": [
    "Carro carro1;\n",
    "\n",
    "carro1.marca = \"Fiat\";"
   ]
  },
  {
   "cell_type": "code",
   "execution_count": 50,
   "id": "international-decade",
   "metadata": {},
   "outputs": [],
   "source": [
    "class Carro {\n",
    "    private:\n",
    "        string marca;\n",
    "        string modelo;\n",
    "        int ano;\n",
    "    public:\n",
    "        // Setter\n",
    "        void setMarca(string x) {\n",
    "            marca = x;\n",
    "        }\n",
    "        // Getter\n",
    "        string getMarca() {\n",
    "            return marca;\n",
    "        }\n",
    "        // Setter\n",
    "        void setModelo(string x) {\n",
    "            modelo = x;\n",
    "        }\n",
    "        // Getter\n",
    "        string getModelo() {\n",
    "            return modelo;\n",
    "        }\n",
    "        // Setter\n",
    "        void setAno(int x) {\n",
    "            if (x > 1990)\n",
    "                ano = x;\n",
    "            else\n",
    "                cout << \"Ano inválido!\";\n",
    "        }\n",
    "        // Getter\n",
    "        int getAno() {\n",
    "            return ano;\n",
    "        }\n",
    "};"
   ]
  },
  {
   "cell_type": "code",
   "execution_count": 52,
   "id": "eligible-general",
   "metadata": {},
   "outputs": [],
   "source": [
    "Carro carro1;\n",
    "carro1.setMarca(\"Fiat\");\n",
    "carro1.setModelo(\"Uno\");\n",
    "carro1.setAno(2005);"
   ]
  },
  {
   "cell_type": "code",
   "execution_count": 53,
   "id": "sudden-slide",
   "metadata": {},
   "outputs": [
    {
     "name": "stderr",
     "output_type": "stream",
     "text": [
      "\u001b[1minput_line_63:2:17: \u001b[0m\u001b[0;1;31merror: \u001b[0m\u001b[1m'modelo' is a private member of '__cling_N549::Carro'\u001b[0m\n",
      " cout << carro1.modelo << \"\\n\";\n",
      "\u001b[0;1;32m                ^\n",
      "\u001b[0m\u001b[1minput_line_60:4:16: \u001b[0m\u001b[0;1;30mnote: \u001b[0mdeclared private here\u001b[0m\n",
      "        string modelo;\n",
      "\u001b[0;1;32m               ^\n",
      "\u001b[0m"
     ]
    },
    {
     "ename": "Interpreter Error",
     "evalue": "",
     "output_type": "error",
     "traceback": [
      "Interpreter Error: "
     ]
    }
   ],
   "source": [
    "cout << carro1.modelo << \"\\n\";"
   ]
  },
  {
   "cell_type": "code",
   "execution_count": 54,
   "id": "indirect-avenue",
   "metadata": {},
   "outputs": [
    {
     "name": "stdout",
     "output_type": "stream",
     "text": [
      "Uno\n",
      "Fiat\n",
      "2005\n"
     ]
    }
   ],
   "source": [
    "cout << carro1.getModelo() << \"\\n\";\n",
    "cout << carro1.getMarca() << \"\\n\";\n",
    "cout << carro1.getAno() << \"\\n\";"
   ]
  },
  {
   "cell_type": "code",
   "execution_count": 55,
   "id": "amazing-bolivia",
   "metadata": {},
   "outputs": [
    {
     "name": "stdout",
     "output_type": "stream",
     "text": [
      "Ano inválido!"
     ]
    }
   ],
   "source": [
    "carro1.setAno(1985);"
   ]
  },
  {
   "cell_type": "code",
   "execution_count": 56,
   "id": "reverse-composition",
   "metadata": {},
   "outputs": [
    {
     "name": "stdout",
     "output_type": "stream",
     "text": [
      "2005\n"
     ]
    }
   ],
   "source": [
    "cout << carro1.getAno() << \"\\n\";"
   ]
  },
  {
   "cell_type": "code",
   "execution_count": 57,
   "id": "resistant-killer",
   "metadata": {},
   "outputs": [
    {
     "name": "stderr",
     "output_type": "stream",
     "text": [
      "\u001b[1minput_line_67:2:9: \u001b[0m\u001b[0;1;31merror: \u001b[0m\u001b[1m'ano' is a private member of '__cling_N549::Carro'\u001b[0m\n",
      " carro1.ano = 1985;\n",
      "\u001b[0;1;32m        ^\n",
      "\u001b[0m\u001b[1minput_line_60:5:13: \u001b[0m\u001b[0;1;30mnote: \u001b[0mdeclared private here\u001b[0m\n",
      "        int ano;\n",
      "\u001b[0;1;32m            ^\n",
      "\u001b[0m"
     ]
    },
    {
     "ename": "Interpreter Error",
     "evalue": "",
     "output_type": "error",
     "traceback": [
      "Interpreter Error: "
     ]
    }
   ],
   "source": [
    "carro1.ano = 1985;"
   ]
  },
  {
   "cell_type": "code",
   "execution_count": 58,
   "id": "silver-assumption",
   "metadata": {},
   "outputs": [
    {
     "name": "stdout",
     "output_type": "stream",
     "text": [
      "2005\n"
     ]
    }
   ],
   "source": [
    "cout << carro1.getAno() << \"\\n\";"
   ]
  },
  {
   "cell_type": "code",
   "execution_count": 59,
   "id": "friendly-intersection",
   "metadata": {},
   "outputs": [],
   "source": [
    "carro1.setAno(1996);"
   ]
  },
  {
   "cell_type": "code",
   "execution_count": 60,
   "id": "unable-glucose",
   "metadata": {},
   "outputs": [
    {
     "name": "stdout",
     "output_type": "stream",
     "text": [
      "1996\n"
     ]
    }
   ],
   "source": [
    "cout << carro1.getAno() << \"\\n\";"
   ]
  },
  {
   "cell_type": "code",
   "execution_count": null,
   "id": "moving-strike",
   "metadata": {},
   "outputs": [],
   "source": []
  },
  {
   "cell_type": "markdown",
   "id": "legislative-evidence",
   "metadata": {},
   "source": [
    "## Tipos Abstratos de Dados (ADT)\n",
    "\n",
    "Os Tipos Abstratos de Dados também \n",
    "denominados Abstract Data Types (ADT), \n",
    "consistem em uma forma de definir um \n",
    "novo tipo de dado juntamente com as \n",
    "operações que manipulam este novo tipo.\n",
    "\n",
    "\n",
    "Utilizando orientação a objetos podemos criar novos Tipos Abstratos de Dados."
   ]
  },
  {
   "cell_type": "markdown",
   "id": "through-stress",
   "metadata": {},
   "source": [
    "### Implementação Sacola"
   ]
  },
  {
   "cell_type": "code",
   "execution_count": 109,
   "id": "civilian-twins",
   "metadata": {},
   "outputs": [],
   "source": [
    "#include <iostream>\n",
    "using namespace std;\n",
    "\n",
    "#define MAX 5"
   ]
  },
  {
   "cell_type": "markdown",
   "id": "clean-oxide",
   "metadata": {},
   "source": [
    "### Definição da Classe"
   ]
  },
  {
   "cell_type": "code",
   "execution_count": 150,
   "id": "selected-intro",
   "metadata": {},
   "outputs": [],
   "source": [
    "class Sacola { \n",
    "    public:\n",
    "        Sacola();\n",
    "        bool inserir(int x);\n",
    "        bool ocorrencia(int x);\n",
    "        bool remover(int x);\n",
    "        bool vazia();\n",
    "        bool cheia();\n",
    "    private:\n",
    "        int capacidade;\n",
    "        int dados[MAX];\n",
    "        int contador;\n",
    "};"
   ]
  },
  {
   "cell_type": "markdown",
   "id": "wanted-surname",
   "metadata": {},
   "source": [
    "### Método Construtor"
   ]
  },
  {
   "cell_type": "code",
   "execution_count": 151,
   "id": "ambient-munich",
   "metadata": {},
   "outputs": [],
   "source": [
    "Sacola::Sacola() {\n",
    "    contador = 0;\n",
    "    capacidade = MAX;\n",
    "}"
   ]
  },
  {
   "cell_type": "code",
   "execution_count": 152,
   "id": "lucky-bookmark",
   "metadata": {},
   "outputs": [],
   "source": [
    "Sacola minhaSacola;"
   ]
  },
  {
   "cell_type": "markdown",
   "id": "sized-person",
   "metadata": {},
   "source": [
    "### Verifica se sacola está vazia"
   ]
  },
  {
   "cell_type": "code",
   "execution_count": 153,
   "id": "bound-colon",
   "metadata": {},
   "outputs": [],
   "source": [
    "bool Sacola::vazia() {\n",
    "    if (contador == 0)\n",
    "        return true;\n",
    "    else\n",
    "        return false;\n",
    "}"
   ]
  },
  {
   "cell_type": "code",
   "execution_count": 154,
   "id": "acknowledged-retirement",
   "metadata": {},
   "outputs": [
    {
     "name": "stdout",
     "output_type": "stream",
     "text": [
      "Está vazia!"
     ]
    }
   ],
   "source": [
    "if (minhaSacola.vazia()) {\n",
    "    cout << \"Está vazia!\";\n",
    "}"
   ]
  },
  {
   "cell_type": "markdown",
   "id": "current-battle",
   "metadata": {},
   "source": [
    "### Verifica se sacola está cheia"
   ]
  },
  {
   "cell_type": "code",
   "execution_count": 155,
   "id": "located-measurement",
   "metadata": {},
   "outputs": [],
   "source": [
    "bool Sacola::cheia() {\n",
    "    if (contador == capacidade)\n",
    "        return true;\n",
    "    else\n",
    "        return false;\n",
    "}"
   ]
  },
  {
   "cell_type": "code",
   "execution_count": 156,
   "id": "renewable-rebecca",
   "metadata": {},
   "outputs": [
    {
     "name": "stdout",
     "output_type": "stream",
     "text": [
      "Não está cheia!"
     ]
    }
   ],
   "source": [
    "if (! minhaSacola.cheia()) {\n",
    "    cout << \"Não está cheia!\";\n",
    "}"
   ]
  },
  {
   "cell_type": "markdown",
   "id": "threaded-stationery",
   "metadata": {},
   "source": [
    "### Inserção elemento na sacola"
   ]
  },
  {
   "cell_type": "code",
   "execution_count": 157,
   "id": "directed-insulin",
   "metadata": {},
   "outputs": [],
   "source": [
    "bool Sacola::inserir(int x) {\n",
    "    if (cheia())\n",
    "        return false;\n",
    "    dados[contador] = x;\n",
    "    contador ++;\n",
    "    cout << \"cont:\" << contador << \"\\n\";\n",
    "    return true;\n",
    "}"
   ]
  },
  {
   "cell_type": "code",
   "execution_count": 158,
   "id": "gothic-photographer",
   "metadata": {},
   "outputs": [
    {
     "name": "stdout",
     "output_type": "stream",
     "text": [
      "cont:1\n",
      "Inserção ok!"
     ]
    }
   ],
   "source": [
    "if (minhaSacola.inserir(1))\n",
    "    cout << \"Inserção ok!\";\n",
    "else\n",
    "    cout << \"Não iseriu!\""
   ]
  },
  {
   "cell_type": "code",
   "execution_count": 159,
   "id": "vocational-therapy",
   "metadata": {},
   "outputs": [
    {
     "name": "stdout",
     "output_type": "stream",
     "text": [
      "cont:2\n",
      "Inserção ok!"
     ]
    }
   ],
   "source": [
    "if (minhaSacola.inserir(2))\n",
    "    cout << \"Inserção ok!\";\n",
    "else\n",
    "    cout << \"Não iseriu!\""
   ]
  },
  {
   "cell_type": "code",
   "execution_count": 160,
   "id": "electoral-serial",
   "metadata": {},
   "outputs": [
    {
     "name": "stdout",
     "output_type": "stream",
     "text": [
      "cont:3\n",
      "Inserção ok!"
     ]
    }
   ],
   "source": [
    "if (minhaSacola.inserir(3))\n",
    "    cout << \"Inserção ok!\";\n",
    "else\n",
    "    cout << \"Não iseriu!\""
   ]
  },
  {
   "cell_type": "code",
   "execution_count": 161,
   "id": "juvenile-conversation",
   "metadata": {},
   "outputs": [
    {
     "name": "stdout",
     "output_type": "stream",
     "text": [
      "cont:4\n",
      "Inserção ok!"
     ]
    }
   ],
   "source": [
    "if (minhaSacola.inserir(3))\n",
    "    cout << \"Inserção ok!\";\n",
    "else\n",
    "    cout << \"Não iseriu!\""
   ]
  },
  {
   "cell_type": "code",
   "execution_count": 162,
   "id": "nutritional-strip",
   "metadata": {},
   "outputs": [
    {
     "name": "stdout",
     "output_type": "stream",
     "text": [
      "cont:5\n",
      "Inserção ok!"
     ]
    }
   ],
   "source": [
    "if (minhaSacola.inserir(4))\n",
    "    cout << \"Inserção ok!\";\n",
    "else\n",
    "    cout << \"Não iseriu!\""
   ]
  },
  {
   "cell_type": "code",
   "execution_count": 163,
   "id": "revised-picnic",
   "metadata": {},
   "outputs": [
    {
     "name": "stdout",
     "output_type": "stream",
     "text": [
      "Não iseriu!"
     ]
    }
   ],
   "source": [
    "if (minhaSacola.inserir(5))\n",
    "    cout << \"Inserção ok!\";\n",
    "else\n",
    "    cout << \"Não iseriu!\""
   ]
  },
  {
   "cell_type": "markdown",
   "id": "average-pipeline",
   "metadata": {},
   "source": [
    "### Verifica ocorrência de elemento"
   ]
  },
  {
   "cell_type": "code",
   "execution_count": 164,
   "id": "applicable-error",
   "metadata": {},
   "outputs": [],
   "source": [
    "bool Sacola::ocorrencia(int x) {\n",
    "    for (int i = 0 ;  i < contador ; i ++)\n",
    "        if (dados[i] == x)\n",
    "            return true;\n",
    "    return false;\n",
    "}"
   ]
  },
  {
   "cell_type": "code",
   "execution_count": 165,
   "id": "norman-stand",
   "metadata": {},
   "outputs": [
    {
     "name": "stdout",
     "output_type": "stream",
     "text": [
      "Existe!"
     ]
    }
   ],
   "source": [
    "if (minhaSacola.ocorrencia(4))\n",
    "    cout << \"Existe!\";\n",
    "else\n",
    "    cout << \"Não existe!\";"
   ]
  },
  {
   "cell_type": "code",
   "execution_count": 166,
   "id": "important-outreach",
   "metadata": {},
   "outputs": [
    {
     "name": "stdout",
     "output_type": "stream",
     "text": [
      "Existe!"
     ]
    }
   ],
   "source": [
    "if (minhaSacola.ocorrencia(1))\n",
    "    cout << \"Existe!\";\n",
    "else\n",
    "    cout << \"Não existe!\";"
   ]
  },
  {
   "cell_type": "code",
   "execution_count": 167,
   "id": "technological-basin",
   "metadata": {},
   "outputs": [
    {
     "name": "stdout",
     "output_type": "stream",
     "text": [
      "Existe!"
     ]
    }
   ],
   "source": [
    "if (minhaSacola.ocorrencia(2))\n",
    "    cout << \"Existe!\";\n",
    "else\n",
    "    cout << \"Não existe!\";"
   ]
  },
  {
   "cell_type": "code",
   "execution_count": 168,
   "id": "charitable-toner",
   "metadata": {},
   "outputs": [
    {
     "name": "stdout",
     "output_type": "stream",
     "text": [
      "Existe!"
     ]
    }
   ],
   "source": [
    "if (minhaSacola.ocorrencia(3))\n",
    "    cout << \"Existe!\";\n",
    "else\n",
    "    cout << \"Não existe!\";"
   ]
  },
  {
   "cell_type": "code",
   "execution_count": 169,
   "id": "behavioral-freedom",
   "metadata": {},
   "outputs": [
    {
     "name": "stdout",
     "output_type": "stream",
     "text": [
      "Existe!"
     ]
    }
   ],
   "source": [
    "if (minhaSacola.ocorrencia(4))\n",
    "    cout << \"Existe!\";\n",
    "else\n",
    "    cout << \"Não existe!\";"
   ]
  },
  {
   "cell_type": "code",
   "execution_count": 170,
   "id": "plastic-correspondence",
   "metadata": {},
   "outputs": [
    {
     "name": "stdout",
     "output_type": "stream",
     "text": [
      "Não existe!"
     ]
    }
   ],
   "source": [
    "if (minhaSacola.ocorrencia(5))\n",
    "    cout << \"Existe!\";\n",
    "else\n",
    "    cout << \"Não existe!\";"
   ]
  },
  {
   "cell_type": "code",
   "execution_count": 171,
   "id": "turned-center",
   "metadata": {},
   "outputs": [
    {
     "name": "stdout",
     "output_type": "stream",
     "text": [
      "Não existe!"
     ]
    }
   ],
   "source": [
    "if (minhaSacola.ocorrencia(6))\n",
    "    cout << \"Existe!\";\n",
    "else\n",
    "    cout << \"Não existe!\";"
   ]
  },
  {
   "cell_type": "code",
   "execution_count": 172,
   "id": "bright-password",
   "metadata": {},
   "outputs": [
    {
     "name": "stdout",
     "output_type": "stream",
     "text": [
      "0: Não existe!\n",
      "1: Existe!\n",
      "2: Existe!\n",
      "3: Existe!\n",
      "4: Existe!\n",
      "5: Não existe!\n",
      "6: Não existe!\n"
     ]
    }
   ],
   "source": [
    "for (int i = 0 ; i < 7 ; i ++) \n",
    "    if (minhaSacola.ocorrencia(i))\n",
    "        cout << i << \": Existe!\\n\";\n",
    "    else\n",
    "        cout << i << \": Não existe!\\n\";"
   ]
  },
  {
   "cell_type": "markdown",
   "id": "authorized-grill",
   "metadata": {},
   "source": [
    "### Remoção de elemento da sacola"
   ]
  },
  {
   "cell_type": "code",
   "execution_count": 173,
   "id": "interior-jungle",
   "metadata": {},
   "outputs": [],
   "source": [
    "bool Sacola::remover(int x) {\n",
    "    if (vazia())\n",
    "        return false;\n",
    "\n",
    "    for (int i = 0 ;  i < contador ; i ++) {\n",
    "        if (dados[i] == x) {\n",
    "            for (int j = i ; j < contador ; j ++) {\n",
    "                dados[j] = dados[j+1];\n",
    "            }\n",
    "            contador--;\n",
    "            cout << \"cont:\" << contador << \"\\n\";\n",
    "            return true;\n",
    "        }\n",
    "    }\n",
    "    return false;\n",
    "    \n",
    "}"
   ]
  },
  {
   "cell_type": "code",
   "execution_count": 174,
   "id": "split-submission",
   "metadata": {},
   "outputs": [
    {
     "name": "stdout",
     "output_type": "stream",
     "text": [
      "cont:4\n",
      "Remoção ok"
     ]
    }
   ],
   "source": [
    "if (minhaSacola.remover(4))\n",
    "    cout << \"Remoção ok\";\n",
    "else\n",
    "    cout << \"Não removeu\";"
   ]
  },
  {
   "cell_type": "code",
   "execution_count": 175,
   "id": "selective-conversion",
   "metadata": {},
   "outputs": [
    {
     "name": "stdout",
     "output_type": "stream",
     "text": [
      "0: Não existe!\n",
      "1: Existe!\n",
      "2: Existe!\n",
      "3: Existe!\n",
      "4: Não existe!\n",
      "5: Não existe!\n",
      "6: Não existe!\n"
     ]
    }
   ],
   "source": [
    "for (int i = 0 ; i < 7 ; i ++) \n",
    "    if (minhaSacola.ocorrencia(i))\n",
    "        cout << i << \": Existe!\\n\";\n",
    "    else\n",
    "        cout << i << \": Não existe!\\n\";"
   ]
  },
  {
   "cell_type": "code",
   "execution_count": 176,
   "id": "eight-imagination",
   "metadata": {},
   "outputs": [
    {
     "name": "stdout",
     "output_type": "stream",
     "text": [
      "cont:3\n",
      "Remoção ok"
     ]
    }
   ],
   "source": [
    "if (minhaSacola.remover(3))\n",
    "    cout << \"Remoção ok\";\n",
    "else\n",
    "    cout << \"Não removeu\";"
   ]
  },
  {
   "cell_type": "code",
   "execution_count": 177,
   "id": "nasty-climb",
   "metadata": {},
   "outputs": [
    {
     "name": "stdout",
     "output_type": "stream",
     "text": [
      "0: Não existe!\n",
      "1: Existe!\n",
      "2: Existe!\n",
      "3: Existe!\n",
      "4: Não existe!\n",
      "5: Não existe!\n",
      "6: Não existe!\n"
     ]
    }
   ],
   "source": [
    "for (int i = 0 ; i < 7 ; i ++) \n",
    "    if (minhaSacola.ocorrencia(i))\n",
    "        cout << i << \": Existe!\\n\";\n",
    "    else\n",
    "        cout << i << \": Não existe!\\n\";"
   ]
  },
  {
   "cell_type": "code",
   "execution_count": 178,
   "id": "silent-brick",
   "metadata": {},
   "outputs": [
    {
     "name": "stdout",
     "output_type": "stream",
     "text": [
      "Não removeu"
     ]
    }
   ],
   "source": [
    "if (minhaSacola.remover(5))\n",
    "    cout << \"Remoção ok\";\n",
    "else\n",
    "    cout << \"Não removeu\";"
   ]
  },
  {
   "cell_type": "code",
   "execution_count": 179,
   "id": "permanent-wayne",
   "metadata": {},
   "outputs": [
    {
     "name": "stdout",
     "output_type": "stream",
     "text": [
      "cont:2\n",
      "Remoção ok"
     ]
    }
   ],
   "source": [
    "if (minhaSacola.remover(3))\n",
    "    cout << \"Remoção ok\";\n",
    "else\n",
    "    cout << \"Não removeu\";"
   ]
  },
  {
   "cell_type": "code",
   "execution_count": 180,
   "id": "bearing-attribute",
   "metadata": {},
   "outputs": [
    {
     "name": "stdout",
     "output_type": "stream",
     "text": [
      "0: Não existe!\n",
      "1: Existe!\n",
      "2: Existe!\n",
      "3: Não existe!\n",
      "4: Não existe!\n",
      "5: Não existe!\n",
      "6: Não existe!\n"
     ]
    }
   ],
   "source": [
    "for (int i = 0 ; i < 7 ; i ++) \n",
    "    if (minhaSacola.ocorrencia(i))\n",
    "        cout << i << \": Existe!\\n\";\n",
    "    else\n",
    "        cout << i << \": Não existe!\\n\";"
   ]
  },
  {
   "cell_type": "code",
   "execution_count": 181,
   "id": "located-credits",
   "metadata": {},
   "outputs": [
    {
     "name": "stdout",
     "output_type": "stream",
     "text": [
      "cont:1\n",
      "Remoção ok"
     ]
    }
   ],
   "source": [
    "if (minhaSacola.remover(1))\n",
    "    cout << \"Remoção ok\";\n",
    "else\n",
    "    cout << \"Não removeu\";"
   ]
  },
  {
   "cell_type": "code",
   "execution_count": 182,
   "id": "catholic-lucas",
   "metadata": {},
   "outputs": [
    {
     "name": "stdout",
     "output_type": "stream",
     "text": [
      "0: Não existe!\n",
      "1: Não existe!\n",
      "2: Existe!\n",
      "3: Não existe!\n",
      "4: Não existe!\n",
      "5: Não existe!\n",
      "6: Não existe!\n"
     ]
    }
   ],
   "source": [
    "for (int i = 0 ; i < 7 ; i ++) \n",
    "    if (minhaSacola.ocorrencia(i))\n",
    "        cout << i << \": Existe!\\n\";\n",
    "    else\n",
    "        cout << i << \": Não existe!\\n\";"
   ]
  },
  {
   "cell_type": "code",
   "execution_count": 183,
   "id": "convinced-sucking",
   "metadata": {},
   "outputs": [
    {
     "name": "stdout",
     "output_type": "stream",
     "text": [
      "cont:0\n",
      "Remoção ok"
     ]
    }
   ],
   "source": [
    "if (minhaSacola.remover(2))\n",
    "    cout << \"Remoção ok\";\n",
    "else\n",
    "    cout << \"Não removeu\";"
   ]
  },
  {
   "cell_type": "code",
   "execution_count": 184,
   "id": "confirmed-statement",
   "metadata": {},
   "outputs": [
    {
     "name": "stdout",
     "output_type": "stream",
     "text": [
      "0: Não existe!\n",
      "1: Não existe!\n",
      "2: Não existe!\n",
      "3: Não existe!\n",
      "4: Não existe!\n",
      "5: Não existe!\n",
      "6: Não existe!\n"
     ]
    }
   ],
   "source": [
    "for (int i = 0 ; i < 7 ; i ++) \n",
    "    if (minhaSacola.ocorrencia(i))\n",
    "        cout << i << \": Existe!\\n\";\n",
    "    else\n",
    "        cout << i << \": Não existe!\\n\";"
   ]
  },
  {
   "cell_type": "code",
   "execution_count": 185,
   "id": "third-canberra",
   "metadata": {},
   "outputs": [
    {
     "name": "stdout",
     "output_type": "stream",
     "text": [
      "Não removeu"
     ]
    }
   ],
   "source": [
    "if (minhaSacola.remover(1))\n",
    "    cout << \"Remoção ok\";\n",
    "else\n",
    "    cout << \"Não removeu\";"
   ]
  },
  {
   "cell_type": "code",
   "execution_count": 186,
   "id": "alone-combine",
   "metadata": {},
   "outputs": [
    {
     "name": "stdout",
     "output_type": "stream",
     "text": [
      "cont:1\n",
      "Remoção ok"
     ]
    }
   ],
   "source": [
    "if (minhaSacola.inserir(2))\n",
    "    cout << \"Remoção ok\";\n",
    "else\n",
    "    cout << \"Não removeu\";"
   ]
  },
  {
   "cell_type": "code",
   "execution_count": 187,
   "id": "alleged-escape",
   "metadata": {},
   "outputs": [
    {
     "name": "stdout",
     "output_type": "stream",
     "text": [
      "0: Não existe!\n",
      "1: Não existe!\n",
      "2: Existe!\n",
      "3: Não existe!\n",
      "4: Não existe!\n",
      "5: Não existe!\n",
      "6: Não existe!\n"
     ]
    }
   ],
   "source": [
    "for (int i = 0 ; i < 7 ; i ++) \n",
    "    if (minhaSacola.ocorrencia(i))\n",
    "        cout << i << \": Existe!\\n\";\n",
    "    else\n",
    "        cout << i << \": Não existe!\\n\";"
   ]
  },
  {
   "cell_type": "markdown",
   "id": "material-seven",
   "metadata": {},
   "source": [
    "Se a implementação for modificada, os \n",
    "programas que utilizam o ADT não terão que ser \n",
    "alterados"
   ]
  },
  {
   "cell_type": "code",
   "execution_count": null,
   "id": "bound-positive",
   "metadata": {},
   "outputs": [],
   "source": []
  },
  {
   "cell_type": "code",
   "execution_count": null,
   "id": "thirty-laugh",
   "metadata": {},
   "outputs": [],
   "source": []
  },
  {
   "cell_type": "code",
   "execution_count": null,
   "id": "affecting-purchase",
   "metadata": {},
   "outputs": [],
   "source": []
  },
  {
   "cell_type": "markdown",
   "id": "proud-calgary",
   "metadata": {},
   "source": [
    "Presentation copyright 1995, The Benjamin/Cummings Publishing Company,\n",
    "For use with Data Structures and Other Objects\n",
    "by Michael Main and Walter Savitch.\n",
    "\n",
    "Some artwork in the presentation is used with permission from Presentation Task Force\n",
    "(copyright New Vision Technologies Inc) and Corel Gallery Clipart Catalog (copyright\n",
    "Corel Corporation, 3G Graphics Inc, Archive Arts, Cartesia Software, Image Club\n",
    "Graphics Inc, One Mile Up Inc, TechPool Studios, Totem Graphics Inc).\n",
    "\n",
    "Students and instructors who use Data Structures and Other Objects are welcome\n",
    "to use this presentation however they see fit, so long as this copyright notice remains\n",
    "intact.\n",
    "\n",
    "Translation to portuguese by Prof. Maria Carolina Monard, ICMC-USP.\n",
    "\n",
    "Modifications for C++ language by Prof. José Augusto Baranauskas, FFCLRP-USP, 2005\n",
    "\n",
    "Update and modifications for use in Jupyter by Prof. Mateus Tarcinalli Machado, FATEC - Ribeirão Preto, 2020"
   ]
  }
 ],
 "metadata": {
  "kernelspec": {
   "display_name": "C++11",
   "language": "C++11",
   "name": "xcpp11"
  },
  "language_info": {
   "codemirror_mode": "text/x-c++src",
   "file_extension": ".cpp",
   "mimetype": "text/x-c++src",
   "name": "c++",
   "version": "11"
  }
 },
 "nbformat": 4,
 "nbformat_minor": 5
}
