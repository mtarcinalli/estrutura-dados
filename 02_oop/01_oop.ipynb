{
 "cells": [
  {
   "cell_type": "markdown",
   "id": "democratic-pharmacy",
   "metadata": {},
   "source": [
    "# Orientação a objetos (OOP)\n",
    "\n",
    "|Classe  | Objetos |\n",
    "|--------|---------|\n",
    "|        | Maçã    |\n",
    "| Fruta  | Banana  |\n",
    "|        | Manga   |\n",
    "\n",
    "\n",
    "|Classe  | Objetos |\n",
    "|--------|---------|\n",
    "|        | Fusca   |\n",
    "| Carro  | Uno     |\n",
    "|        | Gol     |\n",
    "\n",
    "\n"
   ]
  },
  {
   "cell_type": "code",
   "execution_count": 1,
   "id": "bearing-attention",
   "metadata": {},
   "outputs": [],
   "source": [
    "#include <iostream>\n",
    "using namespace std;"
   ]
  },
  {
   "cell_type": "markdown",
   "id": "persistent-wheat",
   "metadata": {},
   "source": [
    "## Classe"
   ]
  },
  {
   "cell_type": "code",
   "execution_count": 2,
   "id": "rough-gates",
   "metadata": {},
   "outputs": [],
   "source": [
    "class Carro {\n",
    "    public:\n",
    "        string marca;\n",
    "        string modelo;\n",
    "        int ano;\n",
    "};"
   ]
  },
  {
   "cell_type": "markdown",
   "id": "promotional-silver",
   "metadata": {},
   "source": [
    "## Objetos"
   ]
  },
  {
   "cell_type": "code",
   "execution_count": 3,
   "id": "dynamic-vancouver",
   "metadata": {},
   "outputs": [],
   "source": [
    "Carro carro1;\n",
    "\n",
    "carro1.marca = \"Volkswagen\";\n",
    "carro1.modelo = \"Fusca\";\n",
    "carro1.ano = 1985;"
   ]
  },
  {
   "cell_type": "code",
   "execution_count": 4,
   "id": "animated-aluminum",
   "metadata": {},
   "outputs": [
    {
     "name": "stdout",
     "output_type": "stream",
     "text": [
      "Volkswagen\n",
      "Fusca\n",
      "1985"
     ]
    }
   ],
   "source": [
    "cout << carro1.marca << \"\\n\";\n",
    "cout << carro1.modelo << \"\\n\";\n",
    "cout << carro1.ano;"
   ]
  },
  {
   "cell_type": "code",
   "execution_count": 5,
   "id": "ancient-karaoke",
   "metadata": {},
   "outputs": [],
   "source": [
    "Carro carro2;\n",
    "carro2.marca = \"Fiat\";\n",
    "carro2.modelo = \"Uno\";\n",
    "carro2.ano = 2007;"
   ]
  },
  {
   "cell_type": "code",
   "execution_count": 6,
   "id": "european-naples",
   "metadata": {},
   "outputs": [
    {
     "name": "stdout",
     "output_type": "stream",
     "text": [
      "Fiat\n",
      "Uno\n",
      "2007"
     ]
    }
   ],
   "source": [
    "cout << carro2.marca << \"\\n\";\n",
    "cout << carro2.modelo << \"\\n\";\n",
    "cout << carro2.ano;"
   ]
  },
  {
   "cell_type": "markdown",
   "id": "bigger-electricity",
   "metadata": {},
   "source": [
    "## Métodos\n",
    "### Definição interna"
   ]
  },
  {
   "cell_type": "code",
   "execution_count": 7,
   "id": "starting-loading",
   "metadata": {},
   "outputs": [],
   "source": [
    "class Carro {\n",
    "    public:\n",
    "        string marca;\n",
    "        string modelo;\n",
    "        int ano;\n",
    "        void acelera() {\n",
    "            cout << \"Vrum 2.0! - \" << marca;\n",
    "        }\n",
    "};"
   ]
  },
  {
   "cell_type": "code",
   "execution_count": 8,
   "id": "pacific-footage",
   "metadata": {},
   "outputs": [
    {
     "name": "stdout",
     "output_type": "stream",
     "text": [
      "Vrum 2.0! - Volkswagen"
     ]
    }
   ],
   "source": [
    "Carro carro1;\n",
    "\n",
    "carro1.marca = \"Volkswagen\";\n",
    "carro1.modelo = \"Fusca\";\n",
    "carro1.ano = 1985;\n",
    "\n",
    "carro1.acelera()"
   ]
  },
  {
   "cell_type": "markdown",
   "id": "technological-sympathy",
   "metadata": {},
   "source": [
    "### Definição externa"
   ]
  },
  {
   "cell_type": "code",
   "execution_count": 9,
   "id": "incorrect-brand",
   "metadata": {},
   "outputs": [],
   "source": [
    "class Carro {\n",
    "    public:\n",
    "        string marca;\n",
    "        string modelo;\n",
    "        int ano;\n",
    "        void acelera();\n",
    "};"
   ]
  },
  {
   "cell_type": "code",
   "execution_count": 10,
   "id": "optical-printer",
   "metadata": {},
   "outputs": [],
   "source": [
    "void Carro::acelera() {\n",
    "    cout << \"Vrum 3.0! - \" << modelo << \" - \" << marca;\n",
    "}"
   ]
  },
  {
   "cell_type": "code",
   "execution_count": 11,
   "id": "clean-cocktail",
   "metadata": {},
   "outputs": [
    {
     "name": "stdout",
     "output_type": "stream",
     "text": [
      "Vrum 3.0! - Fusca - Volkswagen"
     ]
    }
   ],
   "source": [
    "Carro carro1;\n",
    "\n",
    "carro1.marca = \"Volkswagen\";\n",
    "carro1.modelo = \"Fusca\";\n",
    "carro1.ano = 1985;\n",
    "\n",
    "carro1.acelera()"
   ]
  },
  {
   "cell_type": "markdown",
   "id": "understood-savage",
   "metadata": {},
   "source": [
    "### Parametros métodos"
   ]
  },
  {
   "cell_type": "code",
   "execution_count": 12,
   "id": "matched-zealand",
   "metadata": {},
   "outputs": [],
   "source": [
    "class Carro {\n",
    "    public:\n",
    "        string marca;\n",
    "        string modelo;\n",
    "        int ano;\n",
    "        void acelera(int velocidade) {\n",
    "            cout << \"Vrum 4.0! \" << velocidade;\n",
    "        }\n",
    "};"
   ]
  },
  {
   "cell_type": "code",
   "execution_count": 13,
   "id": "whole-correlation",
   "metadata": {},
   "outputs": [
    {
     "name": "stdout",
     "output_type": "stream",
     "text": [
      "Vrum 4.0! 120"
     ]
    }
   ],
   "source": [
    "Carro carro1;\n",
    "carro1.marca = \"Volkswagen\";\n",
    "carro1.modelo = \"Fusca\";\n",
    "carro1.ano = 1985;\n",
    "\n",
    "carro1.acelera(120)"
   ]
  },
  {
   "cell_type": "code",
   "execution_count": 14,
   "id": "artistic-columbus",
   "metadata": {},
   "outputs": [
    {
     "name": "stdout",
     "output_type": "stream",
     "text": [
      "Vrum 4.0! 110"
     ]
    }
   ],
   "source": [
    "carro1.acelera(110)"
   ]
  },
  {
   "cell_type": "markdown",
   "id": "listed-router",
   "metadata": {},
   "source": [
    "## Construtores"
   ]
  },
  {
   "cell_type": "code",
   "execution_count": 15,
   "id": "pending-visitor",
   "metadata": {},
   "outputs": [],
   "source": [
    "class Carro {\n",
    "    public:\n",
    "        string marca;\n",
    "        string modelo;\n",
    "        int ano;\n",
    "        Carro(string x, string y) {\n",
    "            marca = x;\n",
    "            modelo = y;\n",
    "            ano = 2001;\n",
    "            cout << \"Olá!\";\n",
    "        }\n",
    "};"
   ]
  },
  {
   "cell_type": "code",
   "execution_count": 16,
   "id": "divine-fashion",
   "metadata": {},
   "outputs": [
    {
     "name": "stdout",
     "output_type": "stream",
     "text": [
      "Olá!"
     ]
    }
   ],
   "source": [
    "Carro carro1(\"Volkswagen\", \"Fusca\");"
   ]
  },
  {
   "cell_type": "code",
   "execution_count": 17,
   "id": "unusual-consciousness",
   "metadata": {},
   "outputs": [
    {
     "name": "stdout",
     "output_type": "stream",
     "text": [
      "Fusca"
     ]
    }
   ],
   "source": [
    "cout << carro1.modelo;"
   ]
  },
  {
   "cell_type": "code",
   "execution_count": 18,
   "id": "exterior-colleague",
   "metadata": {},
   "outputs": [
    {
     "name": "stdout",
     "output_type": "stream",
     "text": [
      "Volkswagen"
     ]
    }
   ],
   "source": [
    "cout << carro1.marca;"
   ]
  },
  {
   "cell_type": "code",
   "execution_count": 19,
   "id": "beneficial-afghanistan",
   "metadata": {},
   "outputs": [
    {
     "name": "stdout",
     "output_type": "stream",
     "text": [
      "2001"
     ]
    }
   ],
   "source": [
    "cout << carro1.ano;"
   ]
  },
  {
   "cell_type": "code",
   "execution_count": 20,
   "id": "premium-removal",
   "metadata": {},
   "outputs": [
    {
     "name": "stdout",
     "output_type": "stream",
     "text": [
      "Olá!"
     ]
    }
   ],
   "source": [
    "Carro carro2(\"Fiat\", \"Uno\");"
   ]
  },
  {
   "cell_type": "code",
   "execution_count": 21,
   "id": "undefined-joshua",
   "metadata": {},
   "outputs": [
    {
     "name": "stdout",
     "output_type": "stream",
     "text": [
      "Fiat\n"
     ]
    }
   ],
   "source": [
    "cout << carro2.marca << \"\\n\";"
   ]
  },
  {
   "cell_type": "code",
   "execution_count": 22,
   "id": "scientific-soviet",
   "metadata": {},
   "outputs": [
    {
     "name": "stdout",
     "output_type": "stream",
     "text": [
      "2001\n"
     ]
    }
   ],
   "source": [
    "cout << carro2.ano << \"\\n\";"
   ]
  },
  {
   "cell_type": "markdown",
   "id": "entire-schema",
   "metadata": {},
   "source": [
    "## Controle acesso"
   ]
  },
  {
   "cell_type": "code",
   "execution_count": 23,
   "id": "drawn-samuel",
   "metadata": {},
   "outputs": [],
   "source": [
    "class Carro {\n",
    "    private:\n",
    "        string marca;\n",
    "        string modelo;\n",
    "        int ano;\n",
    "};"
   ]
  },
  {
   "cell_type": "code",
   "execution_count": 24,
   "id": "stupid-kentucky",
   "metadata": {},
   "outputs": [
    {
     "name": "stderr",
     "output_type": "stream",
     "text": [
      "\u001b[1minput_line_31:3:8: \u001b[0m\u001b[0;1;31merror: \u001b[0m\u001b[1m'marca' is a private member of '__cling_N523::Carro'\u001b[0m\n",
      "carro1.marca = \"Fiat\";\n",
      "\u001b[0;1;32m       ^\n",
      "\u001b[0m\u001b[1minput_line_30:3:16: \u001b[0m\u001b[0;1;30mnote: \u001b[0mdeclared private here\u001b[0m\n",
      "        string marca;\n",
      "\u001b[0;1;32m               ^\n",
      "\u001b[0m"
     ]
    },
    {
     "ename": "Interpreter Error",
     "evalue": "",
     "output_type": "error",
     "traceback": [
      "Interpreter Error: "
     ]
    }
   ],
   "source": [
    "Carro carro1;\n",
    "\n",
    "carro1.marca = \"Fiat\";"
   ]
  },
  {
   "cell_type": "code",
   "execution_count": 25,
   "id": "happy-fever",
   "metadata": {},
   "outputs": [],
   "source": [
    "class Carro {\n",
    "    private:\n",
    "        string marca;\n",
    "        string modelo;\n",
    "        int ano;\n",
    "    public:\n",
    "        // Setter\n",
    "        void setMarca(string x) {\n",
    "            marca = x;\n",
    "        }\n",
    "        // Getter\n",
    "        string getMarca() {\n",
    "            return marca;\n",
    "        }\n",
    "        // Setter\n",
    "        void setModelo(string x) {\n",
    "            modelo = x;\n",
    "        }\n",
    "        // Getter\n",
    "        string getModelo() {\n",
    "            return modelo;\n",
    "        }\n",
    "        // Setter\n",
    "        void setAno(int x) {\n",
    "            if (x > 1990)\n",
    "                ano = x;\n",
    "            else\n",
    "                cout << \"Ano inválido!\";\n",
    "        }\n",
    "        // Getter\n",
    "        int getAno() {\n",
    "            return ano;\n",
    "        }\n",
    "};"
   ]
  },
  {
   "cell_type": "code",
   "execution_count": 26,
   "id": "european-problem",
   "metadata": {},
   "outputs": [],
   "source": [
    "Carro carro1;\n",
    "carro1.setMarca(\"Fiat\");\n",
    "carro1.setModelo(\"Uno\");\n",
    "carro1.setAno(2005);"
   ]
  },
  {
   "cell_type": "code",
   "execution_count": 27,
   "id": "marine-satin",
   "metadata": {},
   "outputs": [
    {
     "name": "stderr",
     "output_type": "stream",
     "text": [
      "\u001b[1minput_line_34:2:17: \u001b[0m\u001b[0;1;31merror: \u001b[0m\u001b[1m'modelo' is a private member of '__cling_N525::Carro'\u001b[0m\n",
      " cout << carro1.modelo << \"\\n\";\n",
      "\u001b[0;1;32m                ^\n",
      "\u001b[0m\u001b[1minput_line_32:4:16: \u001b[0m\u001b[0;1;30mnote: \u001b[0mdeclared private here\u001b[0m\n",
      "        string modelo;\n",
      "\u001b[0;1;32m               ^\n",
      "\u001b[0m"
     ]
    },
    {
     "ename": "Interpreter Error",
     "evalue": "",
     "output_type": "error",
     "traceback": [
      "Interpreter Error: "
     ]
    }
   ],
   "source": [
    "cout << carro1.modelo << \"\\n\";"
   ]
  },
  {
   "cell_type": "code",
   "execution_count": 28,
   "id": "tender-ending",
   "metadata": {},
   "outputs": [
    {
     "name": "stdout",
     "output_type": "stream",
     "text": [
      "Uno\n",
      "Fiat\n",
      "2005\n"
     ]
    }
   ],
   "source": [
    "cout << carro1.getModelo() << \"\\n\";\n",
    "cout << carro1.getMarca() << \"\\n\";\n",
    "cout << carro1.getAno() << \"\\n\";"
   ]
  },
  {
   "cell_type": "code",
   "execution_count": 29,
   "id": "lovely-circulation",
   "metadata": {},
   "outputs": [
    {
     "name": "stdout",
     "output_type": "stream",
     "text": [
      "Ano inválido!"
     ]
    }
   ],
   "source": [
    "carro1.setAno(1985);"
   ]
  },
  {
   "cell_type": "code",
   "execution_count": 30,
   "id": "closed-medline",
   "metadata": {},
   "outputs": [
    {
     "name": "stdout",
     "output_type": "stream",
     "text": [
      "2005\n"
     ]
    }
   ],
   "source": [
    "cout << carro1.getAno() << \"\\n\";"
   ]
  },
  {
   "cell_type": "code",
   "execution_count": 31,
   "id": "contained-armenia",
   "metadata": {},
   "outputs": [
    {
     "name": "stderr",
     "output_type": "stream",
     "text": [
      "\u001b[1minput_line_38:2:9: \u001b[0m\u001b[0;1;31merror: \u001b[0m\u001b[1m'ano' is a private member of '__cling_N525::Carro'\u001b[0m\n",
      " carro1.ano = 1985;\n",
      "\u001b[0;1;32m        ^\n",
      "\u001b[0m\u001b[1minput_line_32:5:13: \u001b[0m\u001b[0;1;30mnote: \u001b[0mdeclared private here\u001b[0m\n",
      "        int ano;\n",
      "\u001b[0;1;32m            ^\n",
      "\u001b[0m"
     ]
    },
    {
     "ename": "Interpreter Error",
     "evalue": "",
     "output_type": "error",
     "traceback": [
      "Interpreter Error: "
     ]
    }
   ],
   "source": [
    "carro1.ano = 1985;"
   ]
  },
  {
   "cell_type": "code",
   "execution_count": 32,
   "id": "uniform-satin",
   "metadata": {},
   "outputs": [
    {
     "name": "stdout",
     "output_type": "stream",
     "text": [
      "2005\n"
     ]
    }
   ],
   "source": [
    "cout << carro1.getAno() << \"\\n\";"
   ]
  },
  {
   "cell_type": "code",
   "execution_count": 33,
   "id": "spanish-chapter",
   "metadata": {},
   "outputs": [],
   "source": [
    "carro1.setAno(1996);"
   ]
  },
  {
   "cell_type": "code",
   "execution_count": 34,
   "id": "scenic-position",
   "metadata": {},
   "outputs": [
    {
     "name": "stdout",
     "output_type": "stream",
     "text": [
      "1996\n"
     ]
    }
   ],
   "source": [
    "cout << carro1.getAno() << \"\\n\";"
   ]
  },
  {
   "cell_type": "markdown",
   "id": "ranging-basis",
   "metadata": {},
   "source": [
    "## Referências\n",
    "\n",
    "Presentation copyright 1995, The Benjamin/Cummings Publishing Company,\n",
    "For use with Data Structures and Other Objects\n",
    "by Michael Main and Walter Savitch.\n",
    "\n",
    "Some artwork in the presentation is used with permission from Presentation Task Force\n",
    "(copyright New Vision Technologies Inc) and Corel Gallery Clipart Catalog (copyright\n",
    "Corel Corporation, 3G Graphics Inc, Archive Arts, Cartesia Software, Image Club\n",
    "Graphics Inc, One Mile Up Inc, TechPool Studios, Totem Graphics Inc).\n",
    "\n",
    "Students and instructors who use Data Structures and Other Objects are welcome\n",
    "to use this presentation however they see fit, so long as this copyright notice remains\n",
    "intact.\n",
    "\n",
    "Translation to portuguese by Prof. Maria Carolina Monard, ICMC-USP.\n",
    "\n",
    "Modifications for C++ language by Prof. José Augusto Baranauskas, FFCLRP-USP, 2005\n",
    "\n",
    "Update and modifications for use in Jupyter by Prof. Mateus Tarcinalli Machado, FATEC - Ribeirão Preto, 2020"
   ]
  }
 ],
 "metadata": {
  "kernelspec": {
   "display_name": "C++11",
   "language": "C++11",
   "name": "xcpp11"
  },
  "language_info": {
   "codemirror_mode": "text/x-c++src",
   "file_extension": ".cpp",
   "mimetype": "text/x-c++src",
   "name": "c++",
   "version": "11"
  }
 },
 "nbformat": 4,
 "nbformat_minor": 5
}
