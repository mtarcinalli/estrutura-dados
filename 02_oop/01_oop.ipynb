{
 "cells": [
  {
   "cell_type": "markdown",
   "id": "greek-alpha",
   "metadata": {},
   "source": [
    "# Orientação a objetos (OOP)\n",
    "\n",
    "|Classe  | Objetos |\n",
    "|--------|---------|\n",
    "|        | Maçã    |\n",
    "| Fruta  | Banana  |\n",
    "|        | Manga   |\n",
    "\n",
    "\n",
    "|Classe  | Objetos |\n",
    "|--------|---------|\n",
    "|        | Fusca   |\n",
    "| Carro  | Uno     |\n",
    "|        | Gol     |\n",
    "\n",
    "\n"
   ]
  },
  {
   "cell_type": "code",
   "execution_count": 1,
   "id": "beginning-folks",
   "metadata": {},
   "outputs": [],
   "source": [
    "#include <iostream>\n",
    "using namespace std;"
   ]
  },
  {
   "cell_type": "markdown",
   "id": "relevant-technical",
   "metadata": {},
   "source": [
    "## Classe"
   ]
  },
  {
   "cell_type": "code",
   "execution_count": 2,
   "id": "dried-norway",
   "metadata": {},
   "outputs": [],
   "source": [
    "class Carro {\n",
    "    public:\n",
    "        string marca;\n",
    "        string modelo;\n",
    "        int ano;\n",
    "};"
   ]
  },
  {
   "cell_type": "markdown",
   "id": "encouraging-shoot",
   "metadata": {},
   "source": [
    "## Objetos"
   ]
  },
  {
   "cell_type": "markdown",
   "id": "22e6b1da-6984-4451-a979-93cbbe007125",
   "metadata": {},
   "source": [
    "### Instanciando Classe"
   ]
  },
  {
   "cell_type": "code",
   "execution_count": 3,
   "id": "frequent-royalty",
   "metadata": {},
   "outputs": [],
   "source": [
    "Carro carro1;"
   ]
  },
  {
   "cell_type": "markdown",
   "id": "54993aa2-0264-4d10-80f8-445f78e2a913",
   "metadata": {},
   "source": [
    "### Atribuindo valores para propriedades:"
   ]
  },
  {
   "cell_type": "code",
   "execution_count": 4,
   "id": "b15efe3f-dd7b-4471-a6ca-7b1568347771",
   "metadata": {},
   "outputs": [],
   "source": [
    "carro1.marca = \"Volkswagen\";\n",
    "carro1.modelo = \"Fusca\";\n",
    "carro1.ano = 1985;"
   ]
  },
  {
   "cell_type": "code",
   "execution_count": 5,
   "id": "narrative-judges",
   "metadata": {},
   "outputs": [
    {
     "name": "stdout",
     "output_type": "stream",
     "text": [
      "Volkswagen\n",
      "Fusca\n",
      "1985"
     ]
    }
   ],
   "source": [
    "cout << carro1.marca << \"\\n\";\n",
    "cout << carro1.modelo << \"\\n\";\n",
    "cout << carro1.ano;"
   ]
  },
  {
   "cell_type": "code",
   "execution_count": 6,
   "id": "weekly-logan",
   "metadata": {},
   "outputs": [],
   "source": [
    "Carro carro2;\n",
    "carro2.marca = \"Fiat\";\n",
    "carro2.modelo = \"Uno\";\n",
    "carro2.ano = 2007;"
   ]
  },
  {
   "cell_type": "code",
   "execution_count": 7,
   "id": "perfect-singapore",
   "metadata": {},
   "outputs": [
    {
     "name": "stdout",
     "output_type": "stream",
     "text": [
      "Fiat\n",
      "Uno\n",
      "2007"
     ]
    }
   ],
   "source": [
    "cout << carro2.marca << \"\\n\";\n",
    "cout << carro2.modelo << \"\\n\";\n",
    "cout << carro2.ano;"
   ]
  },
  {
   "cell_type": "markdown",
   "id": "appointed-booking",
   "metadata": {},
   "source": [
    "## Métodos\n",
    "### Definição interna"
   ]
  },
  {
   "cell_type": "code",
   "execution_count": 8,
   "id": "underlying-header",
   "metadata": {},
   "outputs": [],
   "source": [
    "class Carro {\n",
    "    public:\n",
    "        string marca;\n",
    "        string modelo;\n",
    "        int ano;\n",
    "        void acelera() {\n",
    "            cout << \"Vrum 2.0! - \" << marca;\n",
    "        }\n",
    "};"
   ]
  },
  {
   "cell_type": "code",
   "execution_count": 9,
   "id": "dirty-coral",
   "metadata": {},
   "outputs": [
    {
     "name": "stdout",
     "output_type": "stream",
     "text": [
      "Vrum 2.0! - Volkswagen"
     ]
    }
   ],
   "source": [
    "Carro carro1;\n",
    "\n",
    "carro1.marca = \"Volkswagen\";\n",
    "carro1.modelo = \"Fusca\";\n",
    "carro1.ano = 1985;\n",
    "\n",
    "carro1.acelera()"
   ]
  },
  {
   "cell_type": "markdown",
   "id": "identical-reconstruction",
   "metadata": {},
   "source": [
    "### Definição externa\n",
    "\n",
    "#### Carro.h"
   ]
  },
  {
   "cell_type": "code",
   "execution_count": 10,
   "id": "qualified-alabama",
   "metadata": {},
   "outputs": [],
   "source": [
    "class Carro {\n",
    "    public:\n",
    "        string marca;\n",
    "        string modelo;\n",
    "        int ano;\n",
    "        void acelera();\n",
    "};"
   ]
  },
  {
   "cell_type": "markdown",
   "id": "c04d7e69-b8cf-454e-9cb5-8321e6c9e3a0",
   "metadata": {},
   "source": [
    "#### Carro.cpp"
   ]
  },
  {
   "cell_type": "code",
   "execution_count": 11,
   "id": "contemporary-exhaust",
   "metadata": {},
   "outputs": [],
   "source": [
    "void Carro::acelera() {\n",
    "    cout << \"Vrum 3.0! - \" << modelo << \" - \" << marca;\n",
    "}"
   ]
  },
  {
   "cell_type": "markdown",
   "id": "31cc01d0-0871-477d-89b8-581ff7741d7d",
   "metadata": {},
   "source": [
    "#### testes.cpp"
   ]
  },
  {
   "cell_type": "code",
   "execution_count": 12,
   "id": "turkish-exclusion",
   "metadata": {},
   "outputs": [
    {
     "name": "stdout",
     "output_type": "stream",
     "text": [
      "Vrum 3.0! - Fusca - Volkswagen"
     ]
    }
   ],
   "source": [
    "Carro carro1;\n",
    "\n",
    "carro1.marca = \"Volkswagen\";\n",
    "carro1.modelo = \"Fusca\";\n",
    "carro1.ano = 1985;\n",
    "\n",
    "carro1.acelera()"
   ]
  },
  {
   "cell_type": "markdown",
   "id": "circular-stevens",
   "metadata": {},
   "source": [
    "### Parametros métodos"
   ]
  },
  {
   "cell_type": "code",
   "execution_count": 13,
   "id": "devoted-romania",
   "metadata": {},
   "outputs": [],
   "source": [
    "class Carro {\n",
    "    public:\n",
    "        string marca;\n",
    "        string modelo;\n",
    "        int ano;\n",
    "        void acelera(int velocidade) {\n",
    "            cout << \"Vrum 4.0! \" << velocidade;\n",
    "        }\n",
    "};"
   ]
  },
  {
   "cell_type": "code",
   "execution_count": 14,
   "id": "worse-annual",
   "metadata": {},
   "outputs": [
    {
     "name": "stdout",
     "output_type": "stream",
     "text": [
      "Vrum 4.0! 120"
     ]
    }
   ],
   "source": [
    "Carro carro1;\n",
    "carro1.marca = \"Volkswagen\";\n",
    "carro1.modelo = \"Fusca\";\n",
    "carro1.ano = 1985;\n",
    "\n",
    "carro1.acelera(120)"
   ]
  },
  {
   "cell_type": "code",
   "execution_count": 15,
   "id": "conscious-jaguar",
   "metadata": {},
   "outputs": [
    {
     "name": "stdout",
     "output_type": "stream",
     "text": [
      "Vrum 4.0! 110"
     ]
    }
   ],
   "source": [
    "carro1.acelera(110)"
   ]
  },
  {
   "cell_type": "markdown",
   "id": "compressed-volume",
   "metadata": {},
   "source": [
    "## Construtores"
   ]
  },
  {
   "cell_type": "code",
   "execution_count": 16,
   "id": "wrong-dressing",
   "metadata": {},
   "outputs": [],
   "source": [
    "class Carro {\n",
    "    public:\n",
    "        string marca;\n",
    "        string modelo;\n",
    "        int ano;\n",
    "        Carro(string x, string y) {\n",
    "            cout << \"Executando construtor!\";\n",
    "            marca = x;\n",
    "            modelo = y;\n",
    "            ano = 2001;\n",
    "        }\n",
    "};"
   ]
  },
  {
   "cell_type": "code",
   "execution_count": 17,
   "id": "enormous-stomach",
   "metadata": {},
   "outputs": [
    {
     "name": "stdout",
     "output_type": "stream",
     "text": [
      "Executando construtor!"
     ]
    }
   ],
   "source": [
    "Carro carro1(\"Volkswagen\", \"Fusca\");"
   ]
  },
  {
   "cell_type": "code",
   "execution_count": 18,
   "id": "wrapped-strategy",
   "metadata": {},
   "outputs": [
    {
     "name": "stdout",
     "output_type": "stream",
     "text": [
      "Fusca"
     ]
    }
   ],
   "source": [
    "cout << carro1.modelo;"
   ]
  },
  {
   "cell_type": "code",
   "execution_count": 19,
   "id": "pursuant-presentation",
   "metadata": {},
   "outputs": [
    {
     "name": "stdout",
     "output_type": "stream",
     "text": [
      "Volkswagen"
     ]
    }
   ],
   "source": [
    "cout << carro1.marca;"
   ]
  },
  {
   "cell_type": "code",
   "execution_count": 20,
   "id": "sunset-above",
   "metadata": {},
   "outputs": [
    {
     "name": "stdout",
     "output_type": "stream",
     "text": [
      "2001"
     ]
    }
   ],
   "source": [
    "cout << carro1.ano;"
   ]
  },
  {
   "cell_type": "code",
   "execution_count": 21,
   "id": "sticky-philippines",
   "metadata": {},
   "outputs": [
    {
     "name": "stdout",
     "output_type": "stream",
     "text": [
      "Executando construtor!"
     ]
    }
   ],
   "source": [
    "Carro carro2(\"Fiat\", \"Uno\");"
   ]
  },
  {
   "cell_type": "code",
   "execution_count": 22,
   "id": "conservative-network",
   "metadata": {},
   "outputs": [
    {
     "name": "stdout",
     "output_type": "stream",
     "text": [
      "Fiat\n"
     ]
    }
   ],
   "source": [
    "cout << carro2.marca << \"\\n\";"
   ]
  },
  {
   "cell_type": "code",
   "execution_count": 23,
   "id": "jewish-bidding",
   "metadata": {},
   "outputs": [
    {
     "name": "stdout",
     "output_type": "stream",
     "text": [
      "2001\n"
     ]
    }
   ],
   "source": [
    "cout << carro2.ano << \"\\n\";"
   ]
  },
  {
   "cell_type": "markdown",
   "id": "previous-acrylic",
   "metadata": {},
   "source": [
    "## Controle acesso"
   ]
  },
  {
   "cell_type": "code",
   "execution_count": 24,
   "id": "musical-lover",
   "metadata": {},
   "outputs": [],
   "source": [
    "class Carro {\n",
    "    private:\n",
    "        string marca;\n",
    "        string modelo;\n",
    "        int ano;\n",
    "};"
   ]
  },
  {
   "cell_type": "code",
   "execution_count": 25,
   "id": "alternative-toyota",
   "metadata": {},
   "outputs": [
    {
     "name": "stderr",
     "output_type": "stream",
     "text": [
      "\u001b[1minput_line_32:3:8: \u001b[0m\u001b[0;1;31merror: \u001b[0m\u001b[1m'marca' is a private member of '__cling_N524::Carro'\u001b[0m\n",
      "carro1.marca = \"Fiat\";\n",
      "\u001b[0;1;32m       ^\n",
      "\u001b[0m\u001b[1minput_line_31:3:16: \u001b[0m\u001b[0;1;30mnote: \u001b[0mdeclared private here\u001b[0m\n",
      "        string marca;\n",
      "\u001b[0;1;32m               ^\n",
      "\u001b[0m"
     ]
    },
    {
     "ename": "Interpreter Error",
     "evalue": "",
     "output_type": "error",
     "traceback": [
      "Interpreter Error: "
     ]
    }
   ],
   "source": [
    "Carro carro1;\n",
    "\n",
    "carro1.marca = \"Fiat\";"
   ]
  },
  {
   "cell_type": "code",
   "execution_count": 26,
   "id": "transsexual-catering",
   "metadata": {},
   "outputs": [],
   "source": [
    "class Carro {\n",
    "    private:\n",
    "        string marca;\n",
    "        string modelo;\n",
    "        int ano;\n",
    "    public:\n",
    "        // Setter\n",
    "        void setMarca(string x) {\n",
    "            if (x == \"Volsksvagem\" || x == \"Fiat\")\n",
    "                marca = x;\n",
    "            else\n",
    "                cout << \"Marca invalida\";\n",
    "        }\n",
    "        // Getter\n",
    "        string getMarca() {\n",
    "            return marca;\n",
    "        }\n",
    "        // Setter\n",
    "        void setModelo(string x) {\n",
    "            modelo = x;\n",
    "        }\n",
    "        // Getter\n",
    "        string getModelo() {\n",
    "            return modelo;\n",
    "        }\n",
    "        // Setter\n",
    "        void setAno(int x) {\n",
    "            if (x > 1990)\n",
    "                ano = x;\n",
    "            else\n",
    "                cout << \"Ano inválido!\";\n",
    "        }\n",
    "        // Getter\n",
    "        int getAno() {\n",
    "            return ano;\n",
    "        }\n",
    "};"
   ]
  },
  {
   "cell_type": "code",
   "execution_count": 27,
   "id": "listed-karen",
   "metadata": {},
   "outputs": [],
   "source": [
    "Carro carro1;\n",
    "carro1.setMarca(\"Fiat\");\n",
    "carro1.setModelo(\"Uno\");\n",
    "carro1.setAno(2005);"
   ]
  },
  {
   "cell_type": "code",
   "execution_count": 28,
   "id": "relevant-hamburg",
   "metadata": {},
   "outputs": [
    {
     "name": "stderr",
     "output_type": "stream",
     "text": [
      "\u001b[1minput_line_35:2:17: \u001b[0m\u001b[0;1;31merror: \u001b[0m\u001b[1m'modelo' is a private member of '__cling_N526::Carro'\u001b[0m\n",
      " cout << carro1.modelo << \"\\n\";\n",
      "\u001b[0;1;32m                ^\n",
      "\u001b[0m\u001b[1minput_line_33:4:16: \u001b[0m\u001b[0;1;30mnote: \u001b[0mdeclared private here\u001b[0m\n",
      "        string modelo;\n",
      "\u001b[0;1;32m               ^\n",
      "\u001b[0m"
     ]
    },
    {
     "ename": "Interpreter Error",
     "evalue": "",
     "output_type": "error",
     "traceback": [
      "Interpreter Error: "
     ]
    }
   ],
   "source": [
    "cout << carro1.modelo << \"\\n\";"
   ]
  },
  {
   "cell_type": "code",
   "execution_count": 29,
   "id": "swiss-rocket",
   "metadata": {},
   "outputs": [
    {
     "name": "stdout",
     "output_type": "stream",
     "text": [
      "Fiat\n",
      "Uno\n",
      "2005\n"
     ]
    }
   ],
   "source": [
    "cout << carro1.getMarca() << \"\\n\";\n",
    "cout << carro1.getModelo() << \"\\n\";\n",
    "cout << carro1.getAno() << \"\\n\";"
   ]
  },
  {
   "cell_type": "code",
   "execution_count": 30,
   "id": "fossil-testing",
   "metadata": {},
   "outputs": [
    {
     "name": "stdout",
     "output_type": "stream",
     "text": [
      "Ano inválido!"
     ]
    }
   ],
   "source": [
    "carro1.setAno(1985);"
   ]
  },
  {
   "cell_type": "code",
   "execution_count": 31,
   "id": "genetic-network",
   "metadata": {},
   "outputs": [
    {
     "name": "stdout",
     "output_type": "stream",
     "text": [
      "2005\n"
     ]
    }
   ],
   "source": [
    "cout << carro1.getAno() << \"\\n\";"
   ]
  },
  {
   "cell_type": "code",
   "execution_count": 32,
   "id": "dramatic-swaziland",
   "metadata": {},
   "outputs": [
    {
     "name": "stderr",
     "output_type": "stream",
     "text": [
      "\u001b[1minput_line_39:2:9: \u001b[0m\u001b[0;1;31merror: \u001b[0m\u001b[1m'ano' is a private member of '__cling_N526::Carro'\u001b[0m\n",
      " carro1.ano = 1985;\n",
      "\u001b[0;1;32m        ^\n",
      "\u001b[0m\u001b[1minput_line_33:5:13: \u001b[0m\u001b[0;1;30mnote: \u001b[0mdeclared private here\u001b[0m\n",
      "        int ano;\n",
      "\u001b[0;1;32m            ^\n",
      "\u001b[0m"
     ]
    },
    {
     "ename": "Interpreter Error",
     "evalue": "",
     "output_type": "error",
     "traceback": [
      "Interpreter Error: "
     ]
    }
   ],
   "source": [
    "carro1.ano = 1985;"
   ]
  },
  {
   "cell_type": "code",
   "execution_count": 33,
   "id": "strange-pickup",
   "metadata": {},
   "outputs": [
    {
     "name": "stdout",
     "output_type": "stream",
     "text": [
      "2005\n"
     ]
    }
   ],
   "source": [
    "cout << carro1.getAno() << \"\\n\";"
   ]
  },
  {
   "cell_type": "code",
   "execution_count": 34,
   "id": "surface-nursery",
   "metadata": {},
   "outputs": [],
   "source": [
    "carro1.setAno(1996);"
   ]
  },
  {
   "cell_type": "code",
   "execution_count": 35,
   "id": "nearby-contractor",
   "metadata": {},
   "outputs": [
    {
     "name": "stdout",
     "output_type": "stream",
     "text": [
      "1996\n"
     ]
    }
   ],
   "source": [
    "cout << carro1.getAno() << \"\\n\";"
   ]
  },
  {
   "cell_type": "markdown",
   "id": "26cb93f3-94f4-4ca9-b891-cecce258ea60",
   "metadata": {},
   "source": [
    "### Vetor de Objetos"
   ]
  },
  {
   "cell_type": "code",
   "execution_count": 36,
   "id": "62fd3666-3007-4915-880a-a0d80b5811d3",
   "metadata": {},
   "outputs": [],
   "source": [
    "Carro carros[3];"
   ]
  },
  {
   "cell_type": "code",
   "execution_count": 37,
   "id": "a5c99093-4fb7-441a-96b0-bdb14231eab7",
   "metadata": {},
   "outputs": [],
   "source": [
    "carros[0].setMarca(\"Fiat\");\n",
    "carros[0].setModelo(\"Uno\");\n",
    "\n",
    "\n",
    "carros[1].setMarca(\"Volsksvagem\");\n",
    "carros[2].setModelo(\"Fusca\");"
   ]
  },
  {
   "cell_type": "markdown",
   "id": "choice-dragon",
   "metadata": {},
   "source": [
    "## Referências\n",
    "\n",
    "Presentation copyright 1995, The Benjamin/Cummings Publishing Company,\n",
    "For use with Data Structures and Other Objects\n",
    "by Michael Main and Walter Savitch.\n",
    "\n",
    "Some artwork in the presentation is used with permission from Presentation Task Force\n",
    "(copyright New Vision Technologies Inc) and Corel Gallery Clipart Catalog (copyright\n",
    "Corel Corporation, 3G Graphics Inc, Archive Arts, Cartesia Software, Image Club\n",
    "Graphics Inc, One Mile Up Inc, TechPool Studios, Totem Graphics Inc).\n",
    "\n",
    "Students and instructors who use Data Structures and Other Objects are welcome\n",
    "to use this presentation however they see fit, so long as this copyright notice remains\n",
    "intact.\n",
    "\n",
    "Translation to portuguese by Prof. Maria Carolina Monard, ICMC-USP.\n",
    "\n",
    "Modifications for C++ language by Prof. José Augusto Baranauskas, FFCLRP-USP, 2005\n",
    "\n",
    "Update and modifications for use in Jupyter by Prof. Mateus Tarcinalli Machado, FATEC - Ribeirão Preto, 2020"
   ]
  }
 ],
 "metadata": {
  "kernelspec": {
   "display_name": "C++11",
   "language": "C++11",
   "name": "xcpp11"
  },
  "language_info": {
   "codemirror_mode": "text/x-c++src",
   "file_extension": ".cpp",
   "mimetype": "text/x-c++src",
   "name": "c++",
   "version": "11"
  }
 },
 "nbformat": 4,
 "nbformat_minor": 5
}
