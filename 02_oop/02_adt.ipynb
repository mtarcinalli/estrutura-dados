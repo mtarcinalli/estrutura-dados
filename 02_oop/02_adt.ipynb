{
 "cells": [
  {
   "cell_type": "markdown",
   "id": "artistic-boutique",
   "metadata": {},
   "source": [
    "## Tipos Abstratos de Dados (ADT)\n",
    "\n",
    "Os Tipos Abstratos de Dados também \n",
    "denominados Abstract Data Types (ADT), \n",
    "consistem em uma forma de definir um \n",
    "novo tipo de dado juntamente com as \n",
    "operações que manipulam este novo tipo.\n",
    "\n",
    "\n",
    "Utilizando orientação a objetos podemos criar novos Tipos Abstratos de Dados."
   ]
  },
  {
   "cell_type": "markdown",
   "id": "bridal-batman",
   "metadata": {},
   "source": [
    "### Implementação Sacola"
   ]
  },
  {
   "cell_type": "code",
   "execution_count": 1,
   "id": "romance-absence",
   "metadata": {},
   "outputs": [],
   "source": [
    "#include <iostream>\n",
    "using namespace std;\n",
    "\n",
    "#define MAX 5"
   ]
  },
  {
   "cell_type": "markdown",
   "id": "computational-cutting",
   "metadata": {},
   "source": [
    "### Definição da Classe"
   ]
  },
  {
   "cell_type": "code",
   "execution_count": 2,
   "id": "final-redhead",
   "metadata": {},
   "outputs": [],
   "source": [
    "class Sacola { \n",
    "    private:\n",
    "        int capacidade;\n",
    "        int dados[MAX];\n",
    "        int contador;\n",
    "    public:\n",
    "        Sacola();\n",
    "        bool vazia();\n",
    "        bool cheia();\n",
    "        bool inserir(int x);\n",
    "        bool ocorrencia(int x);\n",
    "        bool remover(int x);\n",
    "};"
   ]
  },
  {
   "cell_type": "markdown",
   "id": "powered-housing",
   "metadata": {},
   "source": [
    "### Método Construtor"
   ]
  },
  {
   "cell_type": "code",
   "execution_count": 3,
   "id": "indirect-ecology",
   "metadata": {},
   "outputs": [],
   "source": [
    "Sacola::Sacola() {\n",
    "    contador = 0;\n",
    "    capacidade = MAX;\n",
    "}"
   ]
  },
  {
   "cell_type": "code",
   "execution_count": 4,
   "id": "together-break",
   "metadata": {},
   "outputs": [],
   "source": [
    "Sacola minhaSacola;"
   ]
  },
  {
   "cell_type": "markdown",
   "id": "suburban-binding",
   "metadata": {},
   "source": [
    "### Verifica se sacola está vazia"
   ]
  },
  {
   "cell_type": "code",
   "execution_count": 5,
   "id": "saving-hunger",
   "metadata": {},
   "outputs": [],
   "source": [
    "bool Sacola::vazia() {\n",
    "    if (contador == 0)\n",
    "        return true;\n",
    "    else\n",
    "        return false;\n",
    "}"
   ]
  },
  {
   "cell_type": "code",
   "execution_count": 6,
   "id": "lasting-daisy",
   "metadata": {},
   "outputs": [
    {
     "name": "stdout",
     "output_type": "stream",
     "text": [
      "Está vazia!"
     ]
    }
   ],
   "source": [
    "if (minhaSacola.vazia()) {\n",
    "    cout << \"Está vazia!\";\n",
    "}"
   ]
  },
  {
   "cell_type": "markdown",
   "id": "earlier-pavilion",
   "metadata": {},
   "source": [
    "### Verifica se sacola está cheia"
   ]
  },
  {
   "cell_type": "code",
   "execution_count": 7,
   "id": "strange-affiliate",
   "metadata": {},
   "outputs": [],
   "source": [
    "bool Sacola::cheia() {\n",
    "    if (contador == capacidade)\n",
    "        return true;\n",
    "    else\n",
    "        return false;\n",
    "}"
   ]
  },
  {
   "cell_type": "code",
   "execution_count": 8,
   "id": "apart-arkansas",
   "metadata": {},
   "outputs": [
    {
     "name": "stdout",
     "output_type": "stream",
     "text": [
      "Não está cheia!"
     ]
    }
   ],
   "source": [
    "if (! minhaSacola.cheia()) {\n",
    "    cout << \"Não está cheia!\";\n",
    "}"
   ]
  },
  {
   "cell_type": "markdown",
   "id": "assigned-character",
   "metadata": {},
   "source": [
    "### Inserção elemento na sacola"
   ]
  },
  {
   "cell_type": "code",
   "execution_count": 9,
   "id": "powerful-desktop",
   "metadata": {},
   "outputs": [],
   "source": [
    "bool Sacola::inserir(int x) {\n",
    "    if (cheia())\n",
    "        return false;\n",
    "    dados[contador] = x;\n",
    "    contador ++;\n",
    "    return true;\n",
    "}"
   ]
  },
  {
   "cell_type": "code",
   "execution_count": 10,
   "id": "checked-angle",
   "metadata": {},
   "outputs": [
    {
     "name": "stdout",
     "output_type": "stream",
     "text": [
      "Inserção ok!"
     ]
    }
   ],
   "source": [
    "if (minhaSacola.inserir(1))\n",
    "    cout << \"Inserção ok!\";\n",
    "else\n",
    "    cout << \"Não iseriu!\";"
   ]
  },
  {
   "cell_type": "code",
   "execution_count": 11,
   "id": "ff8cad89-d410-4411-9f35-603cdac76589",
   "metadata": {},
   "outputs": [
    {
     "name": "stdout",
     "output_type": "stream",
     "text": [
      "Não está vazia!\n"
     ]
    }
   ],
   "source": [
    "if (minhaSacola.vazia()) {\n",
    "    cout << \"Está vazia!\\n\";\n",
    "} else {\n",
    "    cout << \"Não está vazia!\\n\";\n",
    "}"
   ]
  },
  {
   "cell_type": "code",
   "execution_count": 12,
   "id": "75b3c720-97ba-457f-8600-ae145c7b99b2",
   "metadata": {},
   "outputs": [
    {
     "name": "stdout",
     "output_type": "stream",
     "text": [
      "Não está cheia!"
     ]
    }
   ],
   "source": [
    "if (! minhaSacola.cheia()) {\n",
    "    cout << \"Não está cheia!\";\n",
    "} else {\n",
    "    cout << \"Está cheia!\";\n",
    "}"
   ]
  },
  {
   "cell_type": "code",
   "execution_count": 13,
   "id": "pleased-fiction",
   "metadata": {},
   "outputs": [
    {
     "name": "stdout",
     "output_type": "stream",
     "text": [
      "Inserção ok!"
     ]
    }
   ],
   "source": [
    "if (minhaSacola.inserir(2))\n",
    "    cout << \"Inserção ok!\";\n",
    "else\n",
    "    cout << \"Não iseriu!\";"
   ]
  },
  {
   "cell_type": "code",
   "execution_count": 14,
   "id": "8ccc4b61-24a2-41dd-9fa0-fd89b519a65c",
   "metadata": {},
   "outputs": [
    {
     "name": "stdout",
     "output_type": "stream",
     "text": [
      "Não está vazia!\n"
     ]
    }
   ],
   "source": [
    "if (minhaSacola.vazia()) {\n",
    "    cout << \"Está vazia!\\n\";\n",
    "} else {\n",
    "    cout << \"Não está vazia!\\n\";\n",
    "}"
   ]
  },
  {
   "cell_type": "code",
   "execution_count": 15,
   "id": "062b05bc-82b5-4764-ac4f-86b4773543da",
   "metadata": {},
   "outputs": [
    {
     "name": "stdout",
     "output_type": "stream",
     "text": [
      "Não está cheia!"
     ]
    }
   ],
   "source": [
    "if (! minhaSacola.cheia()) {\n",
    "    cout << \"Não está cheia!\";\n",
    "} else {\n",
    "    cout << \"Está cheia!\";\n",
    "}"
   ]
  },
  {
   "cell_type": "code",
   "execution_count": 16,
   "id": "1526d58e-5de6-4f9f-b9f8-022aa7dd25a6",
   "metadata": {},
   "outputs": [
    {
     "name": "stdout",
     "output_type": "stream",
     "text": [
      "Inserção ok!"
     ]
    }
   ],
   "source": [
    "if (minhaSacola.inserir(3))\n",
    "    cout << \"Inserção ok!\";\n",
    "else\n",
    "    cout << \"Não iseriu!\";"
   ]
  },
  {
   "cell_type": "code",
   "execution_count": 17,
   "id": "30fd8b37-51a7-4291-b9d7-42b439b4444d",
   "metadata": {},
   "outputs": [
    {
     "name": "stdout",
     "output_type": "stream",
     "text": [
      "Não está vazia!\n"
     ]
    }
   ],
   "source": [
    "if (minhaSacola.vazia()) {\n",
    "    cout << \"Está vazia!\\n\";\n",
    "} else {\n",
    "    cout << \"Não está vazia!\\n\";\n",
    "}"
   ]
  },
  {
   "cell_type": "code",
   "execution_count": 18,
   "id": "fe9059c0-332f-4339-ba3c-8ae66146062f",
   "metadata": {},
   "outputs": [
    {
     "name": "stdout",
     "output_type": "stream",
     "text": [
      "Não está cheia!"
     ]
    }
   ],
   "source": [
    "if (! minhaSacola.cheia()) {\n",
    "    cout << \"Não está cheia!\";\n",
    "} else {\n",
    "    cout << \"Está cheia!\";\n",
    "}"
   ]
  },
  {
   "cell_type": "code",
   "execution_count": 19,
   "id": "304a228e-1a14-4e08-bb9d-d84c56e47f8b",
   "metadata": {},
   "outputs": [
    {
     "name": "stdout",
     "output_type": "stream",
     "text": [
      "Inserção ok!"
     ]
    }
   ],
   "source": [
    "if (minhaSacola.inserir(3))\n",
    "    cout << \"Inserção ok!\";\n",
    "else\n",
    "    cout << \"Não iseriu!\";"
   ]
  },
  {
   "cell_type": "code",
   "execution_count": 20,
   "id": "5b492102-69e6-464b-ab90-e1465e99f8f1",
   "metadata": {},
   "outputs": [
    {
     "name": "stdout",
     "output_type": "stream",
     "text": [
      "Não está vazia!\n"
     ]
    }
   ],
   "source": [
    "if (minhaSacola.vazia()) {\n",
    "    cout << \"Está vazia!\\n\";\n",
    "} else {\n",
    "    cout << \"Não está vazia!\\n\";\n",
    "}"
   ]
  },
  {
   "cell_type": "code",
   "execution_count": 21,
   "id": "94bf65c7-c4af-4481-91b1-38f08c49bfd0",
   "metadata": {},
   "outputs": [
    {
     "name": "stdout",
     "output_type": "stream",
     "text": [
      "Não está cheia!"
     ]
    }
   ],
   "source": [
    "if (! minhaSacola.cheia()) {\n",
    "    cout << \"Não está cheia!\";\n",
    "} else {\n",
    "    cout << \"Está cheia!\";\n",
    "}"
   ]
  },
  {
   "cell_type": "code",
   "execution_count": 22,
   "id": "278c1db5-8a6c-48ab-9288-42a3f7db2389",
   "metadata": {},
   "outputs": [
    {
     "name": "stdout",
     "output_type": "stream",
     "text": [
      "Inserção ok!"
     ]
    }
   ],
   "source": [
    "if (minhaSacola.inserir(5))\n",
    "    cout << \"Inserção ok!\";\n",
    "else\n",
    "    cout << \"Não iseriu!\""
   ]
  },
  {
   "cell_type": "code",
   "execution_count": 23,
   "id": "5225071a-c093-44fb-b23d-7f230deeba83",
   "metadata": {},
   "outputs": [
    {
     "name": "stdout",
     "output_type": "stream",
     "text": [
      "Não está vazia!\n"
     ]
    }
   ],
   "source": [
    "if (minhaSacola.vazia()) {\n",
    "    cout << \"Está vazia!\\n\";\n",
    "} else {\n",
    "    cout << \"Não está vazia!\\n\";\n",
    "}"
   ]
  },
  {
   "cell_type": "code",
   "execution_count": 24,
   "id": "4f5a30ee-0dc6-4ff5-85ae-990a04023913",
   "metadata": {},
   "outputs": [
    {
     "name": "stdout",
     "output_type": "stream",
     "text": [
      "Está cheia!"
     ]
    }
   ],
   "source": [
    "if (! minhaSacola.cheia()) {\n",
    "    cout << \"Não está cheia!\";\n",
    "} else {\n",
    "    cout << \"Está cheia!\";\n",
    "}"
   ]
  },
  {
   "cell_type": "code",
   "execution_count": 25,
   "id": "removable-creature",
   "metadata": {},
   "outputs": [
    {
     "name": "stdout",
     "output_type": "stream",
     "text": [
      "Não iseriu!"
     ]
    }
   ],
   "source": [
    "if (minhaSacola.inserir(4))\n",
    "    cout << \"Inserção ok!\";\n",
    "else\n",
    "    cout << \"Não iseriu!\""
   ]
  },
  {
   "cell_type": "code",
   "execution_count": 26,
   "id": "signed-massachusetts",
   "metadata": {},
   "outputs": [
    {
     "name": "stdout",
     "output_type": "stream",
     "text": [
      "Não iseriu!"
     ]
    }
   ],
   "source": [
    "if (minhaSacola.inserir(5))\n",
    "    cout << \"Inserção ok!\";\n",
    "else\n",
    "    cout << \"Não iseriu!\""
   ]
  },
  {
   "cell_type": "markdown",
   "id": "infrared-recommendation",
   "metadata": {},
   "source": [
    "### Verifica ocorrência de elemento"
   ]
  },
  {
   "cell_type": "code",
   "execution_count": 27,
   "id": "c98a22b9-f6d8-4612-aac1-58b67f1411b1",
   "metadata": {},
   "outputs": [],
   "source": [
    "bool Sacola::ocorrencia(int x) {\n",
    "    for (int i = 0 ;  i < contador ; i ++)\n",
    "        if (dados[i] == x)\n",
    "            return true;\n",
    "    return false;\n",
    "}"
   ]
  },
  {
   "cell_type": "code",
   "execution_count": 28,
   "id": "circular-hamilton",
   "metadata": {},
   "outputs": [
    {
     "name": "stdout",
     "output_type": "stream",
     "text": [
      "Não está vazia!\n",
      "Está cheia!"
     ]
    }
   ],
   "source": [
    "if (minhaSacola.vazia()) {\n",
    "    cout << \"Está vazia!\\n\";\n",
    "} else {\n",
    "    cout << \"Não está vazia!\\n\";\n",
    "}\n",
    "\n",
    "if (! minhaSacola.cheia()) {\n",
    "    cout << \"Não está cheia!\";\n",
    "} else {\n",
    "    cout << \"Está cheia!\";\n",
    "}"
   ]
  },
  {
   "cell_type": "code",
   "execution_count": 29,
   "id": "front-creator",
   "metadata": {},
   "outputs": [
    {
     "name": "stdout",
     "output_type": "stream",
     "text": [
      "Não existe!"
     ]
    }
   ],
   "source": [
    "if (minhaSacola.ocorrencia(4))\n",
    "    cout << \"Existe!\";\n",
    "else\n",
    "    cout << \"Não existe!\";"
   ]
  },
  {
   "cell_type": "code",
   "execution_count": 30,
   "id": "5076d877-d351-485a-9686-05443e2ee734",
   "metadata": {},
   "outputs": [
    {
     "name": "stdout",
     "output_type": "stream",
     "text": [
      "Existe!"
     ]
    }
   ],
   "source": [
    "if (minhaSacola.ocorrencia(5))\n",
    "    cout << \"Existe!\";\n",
    "else\n",
    "    cout << \"Não existe!\";"
   ]
  },
  {
   "cell_type": "code",
   "execution_count": 31,
   "id": "bd159183-0b5f-4e0c-8d05-318f4d736b62",
   "metadata": {},
   "outputs": [
    {
     "name": "stdout",
     "output_type": "stream",
     "text": [
      "Não existe!"
     ]
    }
   ],
   "source": [
    "if (minhaSacola.ocorrencia(6))\n",
    "    cout << \"Existe!\";\n",
    "else\n",
    "    cout << \"Não existe!\";"
   ]
  },
  {
   "cell_type": "code",
   "execution_count": 32,
   "id": "brown-replication",
   "metadata": {},
   "outputs": [
    {
     "name": "stdout",
     "output_type": "stream",
     "text": [
      "Existe!"
     ]
    }
   ],
   "source": [
    "if (minhaSacola.ocorrencia(1))\n",
    "    cout << \"Existe!\";\n",
    "else\n",
    "    cout << \"Não existe!\";"
   ]
  },
  {
   "cell_type": "code",
   "execution_count": 33,
   "id": "solar-mobile",
   "metadata": {},
   "outputs": [
    {
     "name": "stdout",
     "output_type": "stream",
     "text": [
      "Existe!"
     ]
    }
   ],
   "source": [
    "if (minhaSacola.ocorrencia(2))\n",
    "    cout << \"Existe!\";\n",
    "else\n",
    "    cout << \"Não existe!\";"
   ]
  },
  {
   "cell_type": "code",
   "execution_count": 34,
   "id": "incorporate-merchandise",
   "metadata": {},
   "outputs": [
    {
     "name": "stdout",
     "output_type": "stream",
     "text": [
      "Existe!"
     ]
    }
   ],
   "source": [
    "if (minhaSacola.ocorrencia(3))\n",
    "    cout << \"Existe!\";\n",
    "else\n",
    "    cout << \"Não existe!\";"
   ]
  },
  {
   "cell_type": "code",
   "execution_count": 35,
   "id": "english-visibility",
   "metadata": {},
   "outputs": [
    {
     "name": "stdout",
     "output_type": "stream",
     "text": [
      "Não existe!"
     ]
    }
   ],
   "source": [
    "if (minhaSacola.ocorrencia(4))\n",
    "    cout << \"Existe!\";\n",
    "else\n",
    "    cout << \"Não existe!\";"
   ]
  },
  {
   "cell_type": "code",
   "execution_count": 36,
   "id": "valid-chinese",
   "metadata": {},
   "outputs": [
    {
     "name": "stdout",
     "output_type": "stream",
     "text": [
      "Existe!"
     ]
    }
   ],
   "source": [
    "if (minhaSacola.ocorrencia(5))\n",
    "    cout << \"Existe!\";\n",
    "else\n",
    "    cout << \"Não existe!\";"
   ]
  },
  {
   "cell_type": "code",
   "execution_count": 37,
   "id": "adjacent-dublin",
   "metadata": {},
   "outputs": [
    {
     "name": "stdout",
     "output_type": "stream",
     "text": [
      "Não existe!"
     ]
    }
   ],
   "source": [
    "if (minhaSacola.ocorrencia(6))\n",
    "    cout << \"Existe!\";\n",
    "else\n",
    "    cout << \"Não existe!\";"
   ]
  },
  {
   "cell_type": "code",
   "execution_count": 38,
   "id": "falling-musical",
   "metadata": {},
   "outputs": [
    {
     "name": "stdout",
     "output_type": "stream",
     "text": [
      "0: Não existe!\n",
      "1: Existe!\n",
      "2: Existe!\n",
      "3: Existe!\n",
      "4: Não existe!\n",
      "5: Existe!\n",
      "6: Não existe!\n"
     ]
    }
   ],
   "source": [
    "for (int i = 0 ; i < 7 ; i ++) \n",
    "    if (minhaSacola.ocorrencia(i))\n",
    "        cout << i << \": Existe!\\n\";\n",
    "    else\n",
    "        cout << i << \": Não existe!\\n\";"
   ]
  },
  {
   "cell_type": "markdown",
   "id": "revolutionary-brazil",
   "metadata": {},
   "source": [
    "### Remoção de elemento da sacola"
   ]
  },
  {
   "cell_type": "code",
   "execution_count": 39,
   "id": "general-duncan",
   "metadata": {},
   "outputs": [],
   "source": [
    "bool Sacola::remover(int x) {\n",
    "    if (vazia())\n",
    "        return false;\n",
    "    for (int i = 0 ;  i < contador ; i ++) {\n",
    "        if (dados[i] == x) {\n",
    "            contador--;\n",
    "            for (int j = i ; j < contador ; j ++) {\n",
    "                dados[j] = dados[j+1];\n",
    "            }\n",
    "            return true;\n",
    "        }\n",
    "    }\n",
    "    return false;\n",
    "}"
   ]
  },
  {
   "cell_type": "code",
   "execution_count": 40,
   "id": "breeding-grade",
   "metadata": {},
   "outputs": [
    {
     "name": "stdout",
     "output_type": "stream",
     "text": [
      "Não removeu"
     ]
    }
   ],
   "source": [
    "if (minhaSacola.remover(4))\n",
    "    cout << \"Remoção ok\";\n",
    "else\n",
    "    cout << \"Não removeu\";"
   ]
  },
  {
   "cell_type": "code",
   "execution_count": 41,
   "id": "a470b282-0bca-4677-8646-ba98b51b44b6",
   "metadata": {},
   "outputs": [
    {
     "name": "stdout",
     "output_type": "stream",
     "text": [
      "0: Não existe!\n",
      "1: Existe!\n",
      "2: Existe!\n",
      "3: Existe!\n",
      "4: Não existe!\n",
      "5: Existe!\n",
      "6: Não existe!\n"
     ]
    }
   ],
   "source": [
    "for (int i = 0 ; i < 7 ; i ++) \n",
    "    if (minhaSacola.ocorrencia(i))\n",
    "        cout << i << \": Existe!\\n\";\n",
    "    else\n",
    "        cout << i << \": Não existe!\\n\";"
   ]
  },
  {
   "cell_type": "code",
   "execution_count": 42,
   "id": "regional-dubai",
   "metadata": {},
   "outputs": [
    {
     "name": "stdout",
     "output_type": "stream",
     "text": [
      "Remoção ok"
     ]
    }
   ],
   "source": [
    "if (minhaSacola.remover(2))\n",
    "    cout << \"Remoção ok\";\n",
    "else\n",
    "    cout << \"Não removeu\";"
   ]
  },
  {
   "cell_type": "code",
   "execution_count": 43,
   "id": "american-folks",
   "metadata": {},
   "outputs": [
    {
     "name": "stdout",
     "output_type": "stream",
     "text": [
      "0: Não existe!\n",
      "1: Existe!\n",
      "2: Não existe!\n",
      "3: Existe!\n",
      "4: Não existe!\n",
      "5: Existe!\n",
      "6: Não existe!\n"
     ]
    }
   ],
   "source": [
    "for (int i = 0 ; i < 7 ; i ++) \n",
    "    if (minhaSacola.ocorrencia(i))\n",
    "        cout << i << \": Existe!\\n\";\n",
    "    else\n",
    "        cout << i << \": Não existe!\\n\";"
   ]
  },
  {
   "cell_type": "code",
   "execution_count": 44,
   "id": "executive-following",
   "metadata": {},
   "outputs": [
    {
     "name": "stdout",
     "output_type": "stream",
     "text": [
      "Remoção ok"
     ]
    }
   ],
   "source": [
    "if (minhaSacola.remover(5))\n",
    "    cout << \"Remoção ok\";\n",
    "else\n",
    "    cout << \"Não removeu\";"
   ]
  },
  {
   "cell_type": "code",
   "execution_count": 45,
   "id": "1c54a827-e587-4442-9908-bd329346d6d9",
   "metadata": {},
   "outputs": [
    {
     "name": "stdout",
     "output_type": "stream",
     "text": [
      "0: Não existe!\n",
      "1: Existe!\n",
      "2: Não existe!\n",
      "3: Existe!\n",
      "4: Não existe!\n",
      "5: Não existe!\n",
      "6: Não existe!\n"
     ]
    }
   ],
   "source": [
    "for (int i = 0 ; i < 7 ; i ++) \n",
    "    if (minhaSacola.ocorrencia(i))\n",
    "        cout << i << \": Existe!\\n\";\n",
    "    else\n",
    "        cout << i << \": Não existe!\\n\";"
   ]
  },
  {
   "cell_type": "code",
   "execution_count": 46,
   "id": "advised-worth",
   "metadata": {},
   "outputs": [
    {
     "name": "stdout",
     "output_type": "stream",
     "text": [
      "Remoção ok"
     ]
    }
   ],
   "source": [
    "if (minhaSacola.remover(3))\n",
    "    cout << \"Remoção ok\";\n",
    "else\n",
    "    cout << \"Não removeu\";"
   ]
  },
  {
   "cell_type": "code",
   "execution_count": 47,
   "id": "4937f357-92a1-49e8-9e84-07ee778bcee2",
   "metadata": {},
   "outputs": [
    {
     "name": "stdout",
     "output_type": "stream",
     "text": [
      "0: Não existe!\n",
      "1: Existe!\n",
      "2: Não existe!\n",
      "3: Existe!\n",
      "4: Não existe!\n",
      "5: Não existe!\n",
      "6: Não existe!\n"
     ]
    }
   ],
   "source": [
    "for (int i = 0 ; i < 7 ; i ++) \n",
    "    if (minhaSacola.ocorrencia(i))\n",
    "        cout << i << \": Existe!\\n\";\n",
    "    else\n",
    "        cout << i << \": Não existe!\\n\";"
   ]
  },
  {
   "cell_type": "code",
   "execution_count": 48,
   "id": "28401a1e-1819-486f-b071-e85df4a8f547",
   "metadata": {},
   "outputs": [
    {
     "name": "stdout",
     "output_type": "stream",
     "text": [
      "Remoção ok"
     ]
    }
   ],
   "source": [
    "if (minhaSacola.remover(3))\n",
    "    cout << \"Remoção ok\";\n",
    "else\n",
    "    cout << \"Não removeu\";"
   ]
  },
  {
   "cell_type": "code",
   "execution_count": 49,
   "id": "0d5dd48d-f2eb-4993-898b-1ec10870bfbf",
   "metadata": {},
   "outputs": [
    {
     "name": "stdout",
     "output_type": "stream",
     "text": [
      "0: Não existe!\n",
      "1: Existe!\n",
      "2: Não existe!\n",
      "3: Não existe!\n",
      "4: Não existe!\n",
      "5: Não existe!\n",
      "6: Não existe!\n"
     ]
    }
   ],
   "source": [
    "for (int i = 0 ; i < 7 ; i ++) \n",
    "    if (minhaSacola.ocorrencia(i))\n",
    "        cout << i << \": Existe!\\n\";\n",
    "    else\n",
    "        cout << i << \": Não existe!\\n\";"
   ]
  },
  {
   "cell_type": "code",
   "execution_count": 50,
   "id": "bf3101a2-b0ba-41a9-b00b-3d984090279c",
   "metadata": {},
   "outputs": [
    {
     "name": "stdout",
     "output_type": "stream",
     "text": [
      "Não removeu"
     ]
    }
   ],
   "source": [
    "if (minhaSacola.remover(3))\n",
    "    cout << \"Remoção ok\";\n",
    "else\n",
    "    cout << \"Não removeu\";"
   ]
  },
  {
   "cell_type": "code",
   "execution_count": 51,
   "id": "extreme-fleece",
   "metadata": {},
   "outputs": [
    {
     "name": "stdout",
     "output_type": "stream",
     "text": [
      "Remoção ok"
     ]
    }
   ],
   "source": [
    "if (minhaSacola.remover(1))\n",
    "    cout << \"Remoção ok\";\n",
    "else\n",
    "    cout << \"Não removeu\";"
   ]
  },
  {
   "cell_type": "code",
   "execution_count": 52,
   "id": "documentary-companion",
   "metadata": {},
   "outputs": [
    {
     "name": "stdout",
     "output_type": "stream",
     "text": [
      "0: Não existe!\n",
      "1: Não existe!\n",
      "2: Não existe!\n",
      "3: Não existe!\n",
      "4: Não existe!\n",
      "5: Não existe!\n",
      "6: Não existe!\n"
     ]
    }
   ],
   "source": [
    "for (int i = 0 ; i < 7 ; i ++) \n",
    "    if (minhaSacola.ocorrencia(i))\n",
    "        cout << i << \": Existe!\\n\";\n",
    "    else\n",
    "        cout << i << \": Não existe!\\n\";"
   ]
  },
  {
   "cell_type": "code",
   "execution_count": 53,
   "id": "a4722c14-4b43-4862-a680-7ed0b0b7939e",
   "metadata": {},
   "outputs": [
    {
     "name": "stdout",
     "output_type": "stream",
     "text": [
      "Está vazia!\n",
      "Não está cheia!"
     ]
    }
   ],
   "source": [
    "if (minhaSacola.vazia()) {\n",
    "    cout << \"Está vazia!\\n\";\n",
    "} else {\n",
    "    cout << \"Não está vazia!\\n\";\n",
    "}\n",
    "\n",
    "if (! minhaSacola.cheia()) {\n",
    "    cout << \"Não está cheia!\";\n",
    "} else {\n",
    "    cout << \"Está cheia!\";\n",
    "}"
   ]
  },
  {
   "cell_type": "code",
   "execution_count": 54,
   "id": "advised-coupon",
   "metadata": {},
   "outputs": [
    {
     "name": "stdout",
     "output_type": "stream",
     "text": [
      "Não removeu"
     ]
    }
   ],
   "source": [
    "if (minhaSacola.remover(2))\n",
    "    cout << \"Remoção ok\";\n",
    "else\n",
    "    cout << \"Não removeu\";"
   ]
  },
  {
   "cell_type": "code",
   "execution_count": 55,
   "id": "applicable-complaint",
   "metadata": {},
   "outputs": [
    {
     "name": "stdout",
     "output_type": "stream",
     "text": [
      "0: Não existe!\n",
      "1: Não existe!\n",
      "2: Não existe!\n",
      "3: Não existe!\n",
      "4: Não existe!\n",
      "5: Não existe!\n",
      "6: Não existe!\n"
     ]
    }
   ],
   "source": [
    "for (int i = 0 ; i < 7 ; i ++) \n",
    "    if (minhaSacola.ocorrencia(i))\n",
    "        cout << i << \": Existe!\\n\";\n",
    "    else\n",
    "        cout << i << \": Não existe!\\n\";"
   ]
  },
  {
   "cell_type": "code",
   "execution_count": 56,
   "id": "correct-potato",
   "metadata": {},
   "outputs": [
    {
     "name": "stdout",
     "output_type": "stream",
     "text": [
      "Não removeu"
     ]
    }
   ],
   "source": [
    "if (minhaSacola.remover(1))\n",
    "    cout << \"Remoção ok\";\n",
    "else\n",
    "    cout << \"Não removeu\";"
   ]
  },
  {
   "cell_type": "code",
   "execution_count": 57,
   "id": "colonial-china",
   "metadata": {},
   "outputs": [
    {
     "name": "stdout",
     "output_type": "stream",
     "text": [
      "Remoção ok"
     ]
    }
   ],
   "source": [
    "if (minhaSacola.inserir(2))\n",
    "    cout << \"Remoção ok\";\n",
    "else\n",
    "    cout << \"Não removeu\";"
   ]
  },
  {
   "cell_type": "code",
   "execution_count": 58,
   "id": "binary-antique",
   "metadata": {},
   "outputs": [
    {
     "name": "stdout",
     "output_type": "stream",
     "text": [
      "0: Não existe!\n",
      "1: Não existe!\n",
      "2: Existe!\n",
      "3: Não existe!\n",
      "4: Não existe!\n",
      "5: Não existe!\n",
      "6: Não existe!\n"
     ]
    }
   ],
   "source": [
    "for (int i = 0 ; i < 7 ; i ++) \n",
    "    if (minhaSacola.ocorrencia(i))\n",
    "        cout << i << \": Existe!\\n\";\n",
    "    else\n",
    "        cout << i << \": Não existe!\\n\";"
   ]
  },
  {
   "cell_type": "markdown",
   "id": "93c706f1-b7e0-4c4e-857b-47347146b4b6",
   "metadata": {},
   "source": [
    "### Exemplo 01:"
   ]
  },
  {
   "cell_type": "code",
   "execution_count": 59,
   "id": "15219b42-4aad-4015-a69b-a568e769ea1e",
   "metadata": {},
   "outputs": [
    {
     "name": "stdout",
     "output_type": "stream",
     "text": [
      "Overwriting exemplo01/Sacola.h\n"
     ]
    }
   ],
   "source": [
    "%%file exemplo01/Sacola.h\n",
    "#define MAX 5\n",
    "\n",
    "class Sacola { \n",
    "    private:\n",
    "        int capacidade;\n",
    "        int dados[MAX];\n",
    "        int contador;\n",
    "    public:\n",
    "        Sacola();\n",
    "        bool vazia();\n",
    "        bool cheia();\n",
    "        bool inserir(int x);\n",
    "        bool ocorrencia(int x);\n",
    "        bool remover(int x);\n",
    "};"
   ]
  },
  {
   "cell_type": "code",
   "execution_count": 60,
   "id": "27211bc7-3a1c-48c4-ab7b-cc90520a427f",
   "metadata": {},
   "outputs": [
    {
     "name": "stdout",
     "output_type": "stream",
     "text": [
      "Overwriting exemplo01/Sacola.cpp\n"
     ]
    }
   ],
   "source": [
    "%%file exemplo01/Sacola.cpp\n",
    "#include <cstdlib>\n",
    "#include \"Sacola.h\"\n",
    "\n",
    "Sacola::Sacola() {\n",
    "    contador = 0;\n",
    "    capacidade = MAX;\n",
    "}\n",
    "\n",
    "bool Sacola::vazia() {\n",
    "    if (contador == 0)\n",
    "        return true;\n",
    "    else\n",
    "        return false;\n",
    "}\n",
    "\n",
    "bool Sacola::cheia() {\n",
    "    if (contador == capacidade)\n",
    "        return true;\n",
    "    else\n",
    "        return false;\n",
    "}\n",
    "\n",
    "bool Sacola::inserir(int x) {\n",
    "    if (cheia())\n",
    "        return false;\n",
    "    dados[contador] = x;\n",
    "    contador ++;\n",
    "    return true;\n",
    "}\n",
    "\n",
    "bool Sacola::ocorrencia(int x) {\n",
    "    for (int i = 0 ;  i < contador ; i ++)\n",
    "        if (dados[i] == x)\n",
    "            return true;\n",
    "    return false;\n",
    "}\n",
    "\n",
    "bool Sacola::remover(int x) {\n",
    "    if (vazia())\n",
    "        return false;\n",
    "    for (int i = 0 ;  i < contador ; i ++) {\n",
    "        if (dados[i] == x) {\n",
    "            contador--;\n",
    "            for (int j = i ; j < contador ; j ++) {\n",
    "                dados[j] = dados[j+1];\n",
    "            }\n",
    "            return true;\n",
    "        }\n",
    "    }\n",
    "    return false;\n",
    "}"
   ]
  },
  {
   "cell_type": "code",
   "execution_count": 61,
   "id": "03ca2b4f-8b34-47e1-937e-f776944748eb",
   "metadata": {},
   "outputs": [
    {
     "name": "stdout",
     "output_type": "stream",
     "text": [
      "Overwriting exemplo01/teste01.cpp\n"
     ]
    }
   ],
   "source": [
    "%%file exemplo01/teste01.cpp\n",
    "#include <iostream>\n",
    "#include \"Sacola.h\"\n",
    "\n",
    "using namespace std;\n",
    "\n",
    "int main() {\n",
    "    Sacola minhaSacola;\n",
    "\n",
    "    if (minhaSacola.vazia()) {\n",
    "        cout << \"Está vazia!\";\n",
    "    }\n",
    "\n",
    "}"
   ]
  },
  {
   "cell_type": "code",
   "execution_count": 62,
   "id": "5049309c-1465-4099-9a9e-2934d0c05640",
   "metadata": {},
   "outputs": [],
   "source": [
    "!g++ exemplo01/teste01.cpp exemplo01/Sacola.cpp -o exemplo01/teste01"
   ]
  },
  {
   "cell_type": "code",
   "execution_count": 63,
   "id": "21c72b1c-2878-422a-be5c-d5bfa02b696a",
   "metadata": {},
   "outputs": [
    {
     "name": "stdout",
     "output_type": "stream",
     "text": [
      "Está vazia!"
     ]
    }
   ],
   "source": [
    "!./exemplo01/teste01"
   ]
  },
  {
   "cell_type": "markdown",
   "id": "b32f4274-a400-4f47-9305-73e279dc7ec5",
   "metadata": {},
   "source": [
    "### Exemplo 02:"
   ]
  },
  {
   "cell_type": "code",
   "execution_count": 64,
   "id": "b3d360e5-b853-4eb5-94da-b7c3f16ea47b",
   "metadata": {},
   "outputs": [
    {
     "name": "stdout",
     "output_type": "stream",
     "text": [
      "Overwriting exemplo01/teste02.cpp\n"
     ]
    }
   ],
   "source": [
    "%%file exemplo01/teste02.cpp\n",
    "#include <iostream>\n",
    "#include <locale.h>\n",
    "#include \"Sacola.cpp\"\n",
    "\n",
    "using namespace std;\n",
    "\n",
    "\n",
    "int main() {\n",
    "    setlocale(LC_ALL, \"portuguese\");\n",
    "    \n",
    "    Sacola minhaSacola;\n",
    "\n",
    "    if (minhaSacola.vazia()) {\n",
    "        cout << \"Está vazia!\";\n",
    "    }\n",
    "\n",
    "}\n"
   ]
  },
  {
   "cell_type": "code",
   "execution_count": 65,
   "id": "24f9dd31-795d-447c-a608-613d0773e5f5",
   "metadata": {},
   "outputs": [],
   "source": [
    "!g++ exemplo01/teste02.cpp -o exemplo01/teste02"
   ]
  },
  {
   "cell_type": "code",
   "execution_count": 66,
   "id": "fb22ee13-613e-4b88-a597-a438812be179",
   "metadata": {},
   "outputs": [
    {
     "name": "stdout",
     "output_type": "stream",
     "text": [
      "Está vazia!"
     ]
    }
   ],
   "source": [
    "!./exemplo01/teste02"
   ]
  },
  {
   "cell_type": "markdown",
   "id": "designing-version",
   "metadata": {},
   "source": [
    "Se a implementação for modificada, os \n",
    "programas que utilizam o ADT não terão que ser \n",
    "alterados"
   ]
  },
  {
   "cell_type": "markdown",
   "id": "fifth-three",
   "metadata": {},
   "source": [
    "## Referências:\n",
    "\n",
    "Presentation copyright 1995, The Benjamin/Cummings Publishing Company,\n",
    "For use with Data Structures and Other Objects\n",
    "by Michael Main and Walter Savitch.\n",
    "\n",
    "Some artwork in the presentation is used with permission from Presentation Task Force\n",
    "(copyright New Vision Technologies Inc) and Corel Gallery Clipart Catalog (copyright\n",
    "Corel Corporation, 3G Graphics Inc, Archive Arts, Cartesia Software, Image Club\n",
    "Graphics Inc, One Mile Up Inc, TechPool Studios, Totem Graphics Inc).\n",
    "\n",
    "Students and instructors who use Data Structures and Other Objects are welcome\n",
    "to use this presentation however they see fit, so long as this copyright notice remains\n",
    "intact.\n",
    "\n",
    "Translation to portuguese by Prof. Maria Carolina Monard, ICMC-USP.\n",
    "\n",
    "Modifications for C++ language by Prof. José Augusto Baranauskas, FFCLRP-USP, 2005\n",
    "\n",
    "Update and modifications for use in Jupyter by Prof. Mateus Tarcinalli Machado, FATEC - Ribeirão Preto, 2020"
   ]
  }
 ],
 "metadata": {
  "kernelspec": {
   "display_name": "C++11",
   "language": "C++11",
   "name": "xcpp11"
  },
  "language_info": {
   "codemirror_mode": "text/x-c++src",
   "file_extension": ".cpp",
   "mimetype": "text/x-c++src",
   "name": "c++",
   "version": "11"
  }
 },
 "nbformat": 4,
 "nbformat_minor": 5
}
