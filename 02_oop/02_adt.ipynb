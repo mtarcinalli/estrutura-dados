{
 "cells": [
  {
   "cell_type": "markdown",
   "id": "awful-works",
   "metadata": {},
   "source": [
    "## Tipos Abstratos de Dados (ADT)\n",
    "\n",
    "Os Tipos Abstratos de Dados também \n",
    "denominados Abstract Data Types (ADT), \n",
    "consistem em uma forma de definir um \n",
    "novo tipo de dado juntamente com as \n",
    "operações que manipulam este novo tipo.\n",
    "\n",
    "\n",
    "Utilizando orientação a objetos podemos criar novos Tipos Abstratos de Dados."
   ]
  },
  {
   "cell_type": "markdown",
   "id": "obvious-remedy",
   "metadata": {},
   "source": [
    "### Implementação Sacola"
   ]
  },
  {
   "cell_type": "code",
   "execution_count": 1,
   "id": "continuing-blowing",
   "metadata": {},
   "outputs": [],
   "source": [
    "#include <iostream>\n",
    "using namespace std;\n",
    "\n",
    "#define MAX 5"
   ]
  },
  {
   "cell_type": "markdown",
   "id": "integral-attitude",
   "metadata": {},
   "source": [
    "### Definição da Classe"
   ]
  },
  {
   "cell_type": "code",
   "execution_count": 2,
   "id": "precise-thomson",
   "metadata": {},
   "outputs": [],
   "source": [
    "class Sacola { \n",
    "    public:\n",
    "        Sacola();\n",
    "        bool inserir(int x);\n",
    "        bool ocorrencia(int x);\n",
    "        bool remover(int x);\n",
    "        bool vazia();\n",
    "        bool cheia();\n",
    "    private:\n",
    "        int capacidade;\n",
    "        int dados[MAX];\n",
    "        int contador;\n",
    "};"
   ]
  },
  {
   "cell_type": "markdown",
   "id": "scenic-conducting",
   "metadata": {},
   "source": [
    "### Método Construtor"
   ]
  },
  {
   "cell_type": "code",
   "execution_count": 3,
   "id": "mineral-provision",
   "metadata": {},
   "outputs": [],
   "source": [
    "Sacola::Sacola() {\n",
    "    contador = 0;\n",
    "    capacidade = MAX;\n",
    "}"
   ]
  },
  {
   "cell_type": "code",
   "execution_count": 4,
   "id": "progressive-street",
   "metadata": {},
   "outputs": [],
   "source": [
    "Sacola minhaSacola;"
   ]
  },
  {
   "cell_type": "markdown",
   "id": "amazing-jones",
   "metadata": {},
   "source": [
    "### Verifica se sacola está vazia"
   ]
  },
  {
   "cell_type": "code",
   "execution_count": 5,
   "id": "future-cycling",
   "metadata": {},
   "outputs": [],
   "source": [
    "bool Sacola::vazia() {\n",
    "    if (contador == 0)\n",
    "        return true;\n",
    "    else\n",
    "        return false;\n",
    "}"
   ]
  },
  {
   "cell_type": "code",
   "execution_count": 6,
   "id": "needed-stopping",
   "metadata": {},
   "outputs": [
    {
     "name": "stdout",
     "output_type": "stream",
     "text": [
      "Está vazia!"
     ]
    }
   ],
   "source": [
    "if (minhaSacola.vazia()) {\n",
    "    cout << \"Está vazia!\";\n",
    "}"
   ]
  },
  {
   "cell_type": "markdown",
   "id": "sexual-graphic",
   "metadata": {},
   "source": [
    "### Verifica se sacola está cheia"
   ]
  },
  {
   "cell_type": "code",
   "execution_count": 7,
   "id": "suburban-rugby",
   "metadata": {},
   "outputs": [],
   "source": [
    "bool Sacola::cheia() {\n",
    "    if (contador == capacidade)\n",
    "        return true;\n",
    "    else\n",
    "        return false;\n",
    "}"
   ]
  },
  {
   "cell_type": "code",
   "execution_count": 8,
   "id": "exempt-display",
   "metadata": {},
   "outputs": [
    {
     "name": "stdout",
     "output_type": "stream",
     "text": [
      "Não está cheia!"
     ]
    }
   ],
   "source": [
    "if (! minhaSacola.cheia()) {\n",
    "    cout << \"Não está cheia!\";\n",
    "}"
   ]
  },
  {
   "cell_type": "markdown",
   "id": "regulated-height",
   "metadata": {},
   "source": [
    "### Inserção elemento na sacola"
   ]
  },
  {
   "cell_type": "code",
   "execution_count": 9,
   "id": "solid-video",
   "metadata": {},
   "outputs": [],
   "source": [
    "bool Sacola::inserir(int x) {\n",
    "    if (cheia())\n",
    "        return false;\n",
    "    dados[contador] = x;\n",
    "    contador ++;\n",
    "    cout << \"cont:\" << contador << \"\\n\";\n",
    "    return true;\n",
    "}"
   ]
  },
  {
   "cell_type": "code",
   "execution_count": 10,
   "id": "intimate-hawaiian",
   "metadata": {},
   "outputs": [
    {
     "name": "stdout",
     "output_type": "stream",
     "text": [
      "cont:1\n",
      "Inserção ok!"
     ]
    }
   ],
   "source": [
    "if (minhaSacola.inserir(1))\n",
    "    cout << \"Inserção ok!\";\n",
    "else\n",
    "    cout << \"Não iseriu!\""
   ]
  },
  {
   "cell_type": "code",
   "execution_count": 11,
   "id": "cosmetic-switzerland",
   "metadata": {},
   "outputs": [
    {
     "name": "stdout",
     "output_type": "stream",
     "text": [
      "cont:2\n",
      "Inserção ok!"
     ]
    }
   ],
   "source": [
    "if (minhaSacola.inserir(2))\n",
    "    cout << \"Inserção ok!\";\n",
    "else\n",
    "    cout << \"Não iseriu!\""
   ]
  },
  {
   "cell_type": "code",
   "execution_count": 12,
   "id": "graphic-suspension",
   "metadata": {},
   "outputs": [
    {
     "name": "stdout",
     "output_type": "stream",
     "text": [
      "cont:3\n",
      "Inserção ok!"
     ]
    }
   ],
   "source": [
    "if (minhaSacola.inserir(3))\n",
    "    cout << \"Inserção ok!\";\n",
    "else\n",
    "    cout << \"Não iseriu!\""
   ]
  },
  {
   "cell_type": "code",
   "execution_count": 13,
   "id": "quantitative-quebec",
   "metadata": {},
   "outputs": [
    {
     "name": "stdout",
     "output_type": "stream",
     "text": [
      "cont:4\n",
      "Inserção ok!"
     ]
    }
   ],
   "source": [
    "if (minhaSacola.inserir(3))\n",
    "    cout << \"Inserção ok!\";\n",
    "else\n",
    "    cout << \"Não iseriu!\""
   ]
  },
  {
   "cell_type": "code",
   "execution_count": 14,
   "id": "environmental-average",
   "metadata": {},
   "outputs": [
    {
     "name": "stdout",
     "output_type": "stream",
     "text": [
      "cont:5\n",
      "Inserção ok!"
     ]
    }
   ],
   "source": [
    "if (minhaSacola.inserir(4))\n",
    "    cout << \"Inserção ok!\";\n",
    "else\n",
    "    cout << \"Não iseriu!\""
   ]
  },
  {
   "cell_type": "code",
   "execution_count": 15,
   "id": "automatic-pocket",
   "metadata": {},
   "outputs": [
    {
     "name": "stdout",
     "output_type": "stream",
     "text": [
      "Não iseriu!"
     ]
    }
   ],
   "source": [
    "if (minhaSacola.inserir(5))\n",
    "    cout << \"Inserção ok!\";\n",
    "else\n",
    "    cout << \"Não iseriu!\""
   ]
  },
  {
   "cell_type": "markdown",
   "id": "precise-array",
   "metadata": {},
   "source": [
    "### Verifica ocorrência de elemento"
   ]
  },
  {
   "cell_type": "code",
   "execution_count": 16,
   "id": "greenhouse-fraction",
   "metadata": {},
   "outputs": [],
   "source": [
    "bool Sacola::ocorrencia(int x) {\n",
    "    for (int i = 0 ;  i < contador ; i ++)\n",
    "        if (dados[i] == x)\n",
    "            return true;\n",
    "    return false;\n",
    "}"
   ]
  },
  {
   "cell_type": "code",
   "execution_count": 17,
   "id": "incredible-treasurer",
   "metadata": {},
   "outputs": [
    {
     "name": "stdout",
     "output_type": "stream",
     "text": [
      "Existe!"
     ]
    }
   ],
   "source": [
    "if (minhaSacola.ocorrencia(4))\n",
    "    cout << \"Existe!\";\n",
    "else\n",
    "    cout << \"Não existe!\";"
   ]
  },
  {
   "cell_type": "code",
   "execution_count": 18,
   "id": "damaged-friendship",
   "metadata": {},
   "outputs": [
    {
     "name": "stdout",
     "output_type": "stream",
     "text": [
      "Existe!"
     ]
    }
   ],
   "source": [
    "if (minhaSacola.ocorrencia(1))\n",
    "    cout << \"Existe!\";\n",
    "else\n",
    "    cout << \"Não existe!\";"
   ]
  },
  {
   "cell_type": "code",
   "execution_count": 19,
   "id": "solar-command",
   "metadata": {},
   "outputs": [
    {
     "name": "stdout",
     "output_type": "stream",
     "text": [
      "Existe!"
     ]
    }
   ],
   "source": [
    "if (minhaSacola.ocorrencia(2))\n",
    "    cout << \"Existe!\";\n",
    "else\n",
    "    cout << \"Não existe!\";"
   ]
  },
  {
   "cell_type": "code",
   "execution_count": 20,
   "id": "parallel-delivery",
   "metadata": {},
   "outputs": [
    {
     "name": "stdout",
     "output_type": "stream",
     "text": [
      "Existe!"
     ]
    }
   ],
   "source": [
    "if (minhaSacola.ocorrencia(3))\n",
    "    cout << \"Existe!\";\n",
    "else\n",
    "    cout << \"Não existe!\";"
   ]
  },
  {
   "cell_type": "code",
   "execution_count": 21,
   "id": "timely-radio",
   "metadata": {},
   "outputs": [
    {
     "name": "stdout",
     "output_type": "stream",
     "text": [
      "Existe!"
     ]
    }
   ],
   "source": [
    "if (minhaSacola.ocorrencia(4))\n",
    "    cout << \"Existe!\";\n",
    "else\n",
    "    cout << \"Não existe!\";"
   ]
  },
  {
   "cell_type": "code",
   "execution_count": 22,
   "id": "alike-robertson",
   "metadata": {},
   "outputs": [
    {
     "name": "stdout",
     "output_type": "stream",
     "text": [
      "Não existe!"
     ]
    }
   ],
   "source": [
    "if (minhaSacola.ocorrencia(5))\n",
    "    cout << \"Existe!\";\n",
    "else\n",
    "    cout << \"Não existe!\";"
   ]
  },
  {
   "cell_type": "code",
   "execution_count": 23,
   "id": "secondary-chess",
   "metadata": {},
   "outputs": [
    {
     "name": "stdout",
     "output_type": "stream",
     "text": [
      "Não existe!"
     ]
    }
   ],
   "source": [
    "if (minhaSacola.ocorrencia(6))\n",
    "    cout << \"Existe!\";\n",
    "else\n",
    "    cout << \"Não existe!\";"
   ]
  },
  {
   "cell_type": "code",
   "execution_count": 24,
   "id": "auburn-eagle",
   "metadata": {},
   "outputs": [
    {
     "name": "stdout",
     "output_type": "stream",
     "text": [
      "0: Não existe!\n",
      "1: Existe!\n",
      "2: Existe!\n",
      "3: Existe!\n",
      "4: Existe!\n",
      "5: Não existe!\n",
      "6: Não existe!\n"
     ]
    }
   ],
   "source": [
    "for (int i = 0 ; i < 7 ; i ++) \n",
    "    if (minhaSacola.ocorrencia(i))\n",
    "        cout << i << \": Existe!\\n\";\n",
    "    else\n",
    "        cout << i << \": Não existe!\\n\";"
   ]
  },
  {
   "cell_type": "markdown",
   "id": "planned-guitar",
   "metadata": {},
   "source": [
    "### Remoção de elemento da sacola"
   ]
  },
  {
   "cell_type": "code",
   "execution_count": 25,
   "id": "abroad-server",
   "metadata": {},
   "outputs": [],
   "source": [
    "bool Sacola::remover(int x) {\n",
    "    if (vazia())\n",
    "        return false;\n",
    "\n",
    "    for (int i = 0 ;  i < contador ; i ++) {\n",
    "        if (dados[i] == x) {\n",
    "            for (int j = i ; j < contador ; j ++) {\n",
    "                dados[j] = dados[j+1];\n",
    "            }\n",
    "            contador--;\n",
    "            cout << \"cont:\" << contador << \"\\n\";\n",
    "            return true;\n",
    "        }\n",
    "    }\n",
    "    return false;\n",
    "    \n",
    "}"
   ]
  },
  {
   "cell_type": "code",
   "execution_count": 26,
   "id": "collaborative-insured",
   "metadata": {},
   "outputs": [
    {
     "name": "stdout",
     "output_type": "stream",
     "text": [
      "cont:4\n",
      "Remoção ok"
     ]
    }
   ],
   "source": [
    "if (minhaSacola.remover(4))\n",
    "    cout << \"Remoção ok\";\n",
    "else\n",
    "    cout << \"Não removeu\";"
   ]
  },
  {
   "cell_type": "code",
   "execution_count": 27,
   "id": "lesbian-reaction",
   "metadata": {},
   "outputs": [
    {
     "name": "stdout",
     "output_type": "stream",
     "text": [
      "0: Não existe!\n",
      "1: Existe!\n",
      "2: Existe!\n",
      "3: Existe!\n",
      "4: Não existe!\n",
      "5: Não existe!\n",
      "6: Não existe!\n"
     ]
    }
   ],
   "source": [
    "for (int i = 0 ; i < 7 ; i ++) \n",
    "    if (minhaSacola.ocorrencia(i))\n",
    "        cout << i << \": Existe!\\n\";\n",
    "    else\n",
    "        cout << i << \": Não existe!\\n\";"
   ]
  },
  {
   "cell_type": "code",
   "execution_count": 28,
   "id": "immediate-medicine",
   "metadata": {},
   "outputs": [
    {
     "name": "stdout",
     "output_type": "stream",
     "text": [
      "cont:3\n",
      "Remoção ok"
     ]
    }
   ],
   "source": [
    "if (minhaSacola.remover(3))\n",
    "    cout << \"Remoção ok\";\n",
    "else\n",
    "    cout << \"Não removeu\";"
   ]
  },
  {
   "cell_type": "code",
   "execution_count": 29,
   "id": "bound-remainder",
   "metadata": {},
   "outputs": [
    {
     "name": "stdout",
     "output_type": "stream",
     "text": [
      "0: Não existe!\n",
      "1: Existe!\n",
      "2: Existe!\n",
      "3: Existe!\n",
      "4: Não existe!\n",
      "5: Não existe!\n",
      "6: Não existe!\n"
     ]
    }
   ],
   "source": [
    "for (int i = 0 ; i < 7 ; i ++) \n",
    "    if (minhaSacola.ocorrencia(i))\n",
    "        cout << i << \": Existe!\\n\";\n",
    "    else\n",
    "        cout << i << \": Não existe!\\n\";"
   ]
  },
  {
   "cell_type": "code",
   "execution_count": 30,
   "id": "molecular-hardwood",
   "metadata": {},
   "outputs": [
    {
     "name": "stdout",
     "output_type": "stream",
     "text": [
      "Não removeu"
     ]
    }
   ],
   "source": [
    "if (minhaSacola.remover(5))\n",
    "    cout << \"Remoção ok\";\n",
    "else\n",
    "    cout << \"Não removeu\";"
   ]
  },
  {
   "cell_type": "code",
   "execution_count": 31,
   "id": "moved-douglas",
   "metadata": {},
   "outputs": [
    {
     "name": "stdout",
     "output_type": "stream",
     "text": [
      "cont:2\n",
      "Remoção ok"
     ]
    }
   ],
   "source": [
    "if (minhaSacola.remover(3))\n",
    "    cout << \"Remoção ok\";\n",
    "else\n",
    "    cout << \"Não removeu\";"
   ]
  },
  {
   "cell_type": "code",
   "execution_count": 32,
   "id": "given-ebony",
   "metadata": {},
   "outputs": [
    {
     "name": "stdout",
     "output_type": "stream",
     "text": [
      "0: Não existe!\n",
      "1: Existe!\n",
      "2: Existe!\n",
      "3: Não existe!\n",
      "4: Não existe!\n",
      "5: Não existe!\n",
      "6: Não existe!\n"
     ]
    }
   ],
   "source": [
    "for (int i = 0 ; i < 7 ; i ++) \n",
    "    if (minhaSacola.ocorrencia(i))\n",
    "        cout << i << \": Existe!\\n\";\n",
    "    else\n",
    "        cout << i << \": Não existe!\\n\";"
   ]
  },
  {
   "cell_type": "code",
   "execution_count": 33,
   "id": "grave-bachelor",
   "metadata": {},
   "outputs": [
    {
     "name": "stdout",
     "output_type": "stream",
     "text": [
      "cont:1\n",
      "Remoção ok"
     ]
    }
   ],
   "source": [
    "if (minhaSacola.remover(1))\n",
    "    cout << \"Remoção ok\";\n",
    "else\n",
    "    cout << \"Não removeu\";"
   ]
  },
  {
   "cell_type": "code",
   "execution_count": 34,
   "id": "north-garage",
   "metadata": {},
   "outputs": [
    {
     "name": "stdout",
     "output_type": "stream",
     "text": [
      "0: Não existe!\n",
      "1: Não existe!\n",
      "2: Existe!\n",
      "3: Não existe!\n",
      "4: Não existe!\n",
      "5: Não existe!\n",
      "6: Não existe!\n"
     ]
    }
   ],
   "source": [
    "for (int i = 0 ; i < 7 ; i ++) \n",
    "    if (minhaSacola.ocorrencia(i))\n",
    "        cout << i << \": Existe!\\n\";\n",
    "    else\n",
    "        cout << i << \": Não existe!\\n\";"
   ]
  },
  {
   "cell_type": "code",
   "execution_count": 35,
   "id": "relevant-momentum",
   "metadata": {},
   "outputs": [
    {
     "name": "stdout",
     "output_type": "stream",
     "text": [
      "cont:0\n",
      "Remoção ok"
     ]
    }
   ],
   "source": [
    "if (minhaSacola.remover(2))\n",
    "    cout << \"Remoção ok\";\n",
    "else\n",
    "    cout << \"Não removeu\";"
   ]
  },
  {
   "cell_type": "code",
   "execution_count": 36,
   "id": "multiple-europe",
   "metadata": {},
   "outputs": [
    {
     "name": "stdout",
     "output_type": "stream",
     "text": [
      "0: Não existe!\n",
      "1: Não existe!\n",
      "2: Não existe!\n",
      "3: Não existe!\n",
      "4: Não existe!\n",
      "5: Não existe!\n",
      "6: Não existe!\n"
     ]
    }
   ],
   "source": [
    "for (int i = 0 ; i < 7 ; i ++) \n",
    "    if (minhaSacola.ocorrencia(i))\n",
    "        cout << i << \": Existe!\\n\";\n",
    "    else\n",
    "        cout << i << \": Não existe!\\n\";"
   ]
  },
  {
   "cell_type": "code",
   "execution_count": 37,
   "id": "fossil-second",
   "metadata": {},
   "outputs": [
    {
     "name": "stdout",
     "output_type": "stream",
     "text": [
      "Não removeu"
     ]
    }
   ],
   "source": [
    "if (minhaSacola.remover(1))\n",
    "    cout << \"Remoção ok\";\n",
    "else\n",
    "    cout << \"Não removeu\";"
   ]
  },
  {
   "cell_type": "code",
   "execution_count": 38,
   "id": "closed-antique",
   "metadata": {},
   "outputs": [
    {
     "name": "stdout",
     "output_type": "stream",
     "text": [
      "cont:1\n",
      "Remoção ok"
     ]
    }
   ],
   "source": [
    "if (minhaSacola.inserir(2))\n",
    "    cout << \"Remoção ok\";\n",
    "else\n",
    "    cout << \"Não removeu\";"
   ]
  },
  {
   "cell_type": "code",
   "execution_count": 39,
   "id": "numerous-cleaning",
   "metadata": {},
   "outputs": [
    {
     "name": "stdout",
     "output_type": "stream",
     "text": [
      "0: Não existe!\n",
      "1: Não existe!\n",
      "2: Existe!\n",
      "3: Não existe!\n",
      "4: Não existe!\n",
      "5: Não existe!\n",
      "6: Não existe!\n"
     ]
    }
   ],
   "source": [
    "for (int i = 0 ; i < 7 ; i ++) \n",
    "    if (minhaSacola.ocorrencia(i))\n",
    "        cout << i << \": Existe!\\n\";\n",
    "    else\n",
    "        cout << i << \": Não existe!\\n\";"
   ]
  },
  {
   "cell_type": "markdown",
   "id": "sticky-fluid",
   "metadata": {},
   "source": [
    "Se a implementação for modificada, os \n",
    "programas que utilizam o ADT não terão que ser \n",
    "alterados"
   ]
  },
  {
   "cell_type": "markdown",
   "id": "brave-virus",
   "metadata": {},
   "source": [
    "## Referências:\n",
    "\n",
    "Presentation copyright 1995, The Benjamin/Cummings Publishing Company,\n",
    "For use with Data Structures and Other Objects\n",
    "by Michael Main and Walter Savitch.\n",
    "\n",
    "Some artwork in the presentation is used with permission from Presentation Task Force\n",
    "(copyright New Vision Technologies Inc) and Corel Gallery Clipart Catalog (copyright\n",
    "Corel Corporation, 3G Graphics Inc, Archive Arts, Cartesia Software, Image Club\n",
    "Graphics Inc, One Mile Up Inc, TechPool Studios, Totem Graphics Inc).\n",
    "\n",
    "Students and instructors who use Data Structures and Other Objects are welcome\n",
    "to use this presentation however they see fit, so long as this copyright notice remains\n",
    "intact.\n",
    "\n",
    "Translation to portuguese by Prof. Maria Carolina Monard, ICMC-USP.\n",
    "\n",
    "Modifications for C++ language by Prof. José Augusto Baranauskas, FFCLRP-USP, 2005\n",
    "\n",
    "Update and modifications for use in Jupyter by Prof. Mateus Tarcinalli Machado, FATEC - Ribeirão Preto, 2020"
   ]
  }
 ],
 "metadata": {
  "kernelspec": {
   "display_name": "C++11",
   "language": "C++11",
   "name": "xcpp11"
  },
  "language_info": {
   "codemirror_mode": "text/x-c++src",
   "file_extension": ".cpp",
   "mimetype": "text/x-c++src",
   "name": "c++",
   "version": "11"
  }
 },
 "nbformat": 4,
 "nbformat_minor": 5
}
