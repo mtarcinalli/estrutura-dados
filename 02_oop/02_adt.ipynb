{
 "cells": [
  {
   "cell_type": "markdown",
   "id": "bulgarian-holiday",
   "metadata": {},
   "source": [
    "## Tipos Abstratos de Dados (ADT)\n",
    "\n",
    "Os Tipos Abstratos de Dados também \n",
    "denominados Abstract Data Types (ADT), \n",
    "consistem em uma forma de definir um \n",
    "novo tipo de dado juntamente com as \n",
    "operações que manipulam este novo tipo.\n",
    "\n",
    "\n",
    "Utilizando orientação a objetos podemos criar novos Tipos Abstratos de Dados."
   ]
  },
  {
   "cell_type": "markdown",
   "id": "finite-weapon",
   "metadata": {},
   "source": [
    "### Implementação Sacola"
   ]
  },
  {
   "cell_type": "code",
   "execution_count": 109,
   "id": "collected-ecuador",
   "metadata": {},
   "outputs": [],
   "source": [
    "#include <iostream>\n",
    "using namespace std;\n",
    "\n",
    "#define MAX 5"
   ]
  },
  {
   "cell_type": "markdown",
   "id": "still-subsection",
   "metadata": {},
   "source": [
    "### Definição da Classe"
   ]
  },
  {
   "cell_type": "code",
   "execution_count": 150,
   "id": "placed-sight",
   "metadata": {},
   "outputs": [],
   "source": [
    "class Sacola { \n",
    "    public:\n",
    "        Sacola();\n",
    "        bool inserir(int x);\n",
    "        bool ocorrencia(int x);\n",
    "        bool remover(int x);\n",
    "        bool vazia();\n",
    "        bool cheia();\n",
    "    private:\n",
    "        int capacidade;\n",
    "        int dados[MAX];\n",
    "        int contador;\n",
    "};"
   ]
  },
  {
   "cell_type": "markdown",
   "id": "reflected-carrier",
   "metadata": {},
   "source": [
    "### Método Construtor"
   ]
  },
  {
   "cell_type": "code",
   "execution_count": 151,
   "id": "rotary-method",
   "metadata": {},
   "outputs": [],
   "source": [
    "Sacola::Sacola() {\n",
    "    contador = 0;\n",
    "    capacidade = MAX;\n",
    "}"
   ]
  },
  {
   "cell_type": "code",
   "execution_count": 152,
   "id": "indirect-communist",
   "metadata": {},
   "outputs": [],
   "source": [
    "Sacola minhaSacola;"
   ]
  },
  {
   "cell_type": "markdown",
   "id": "cubic-handbook",
   "metadata": {},
   "source": [
    "### Verifica se sacola está vazia"
   ]
  },
  {
   "cell_type": "code",
   "execution_count": 153,
   "id": "ancient-small",
   "metadata": {},
   "outputs": [],
   "source": [
    "bool Sacola::vazia() {\n",
    "    if (contador == 0)\n",
    "        return true;\n",
    "    else\n",
    "        return false;\n",
    "}"
   ]
  },
  {
   "cell_type": "code",
   "execution_count": 154,
   "id": "becoming-equivalent",
   "metadata": {},
   "outputs": [
    {
     "name": "stdout",
     "output_type": "stream",
     "text": [
      "Está vazia!"
     ]
    }
   ],
   "source": [
    "if (minhaSacola.vazia()) {\n",
    "    cout << \"Está vazia!\";\n",
    "}"
   ]
  },
  {
   "cell_type": "markdown",
   "id": "cordless-opinion",
   "metadata": {},
   "source": [
    "### Verifica se sacola está cheia"
   ]
  },
  {
   "cell_type": "code",
   "execution_count": 155,
   "id": "nominated-insider",
   "metadata": {},
   "outputs": [],
   "source": [
    "bool Sacola::cheia() {\n",
    "    if (contador == capacidade)\n",
    "        return true;\n",
    "    else\n",
    "        return false;\n",
    "}"
   ]
  },
  {
   "cell_type": "code",
   "execution_count": 156,
   "id": "suburban-virgin",
   "metadata": {},
   "outputs": [
    {
     "name": "stdout",
     "output_type": "stream",
     "text": [
      "Não está cheia!"
     ]
    }
   ],
   "source": [
    "if (! minhaSacola.cheia()) {\n",
    "    cout << \"Não está cheia!\";\n",
    "}"
   ]
  },
  {
   "cell_type": "markdown",
   "id": "careful-spotlight",
   "metadata": {},
   "source": [
    "### Inserção elemento na sacola"
   ]
  },
  {
   "cell_type": "code",
   "execution_count": 157,
   "id": "missing-credit",
   "metadata": {},
   "outputs": [],
   "source": [
    "bool Sacola::inserir(int x) {\n",
    "    if (cheia())\n",
    "        return false;\n",
    "    dados[contador] = x;\n",
    "    contador ++;\n",
    "    cout << \"cont:\" << contador << \"\\n\";\n",
    "    return true;\n",
    "}"
   ]
  },
  {
   "cell_type": "code",
   "execution_count": 158,
   "id": "african-sending",
   "metadata": {},
   "outputs": [
    {
     "name": "stdout",
     "output_type": "stream",
     "text": [
      "cont:1\n",
      "Inserção ok!"
     ]
    }
   ],
   "source": [
    "if (minhaSacola.inserir(1))\n",
    "    cout << \"Inserção ok!\";\n",
    "else\n",
    "    cout << \"Não iseriu!\""
   ]
  },
  {
   "cell_type": "code",
   "execution_count": 159,
   "id": "local-profession",
   "metadata": {},
   "outputs": [
    {
     "name": "stdout",
     "output_type": "stream",
     "text": [
      "cont:2\n",
      "Inserção ok!"
     ]
    }
   ],
   "source": [
    "if (minhaSacola.inserir(2))\n",
    "    cout << \"Inserção ok!\";\n",
    "else\n",
    "    cout << \"Não iseriu!\""
   ]
  },
  {
   "cell_type": "code",
   "execution_count": 160,
   "id": "interracial-horizon",
   "metadata": {},
   "outputs": [
    {
     "name": "stdout",
     "output_type": "stream",
     "text": [
      "cont:3\n",
      "Inserção ok!"
     ]
    }
   ],
   "source": [
    "if (minhaSacola.inserir(3))\n",
    "    cout << \"Inserção ok!\";\n",
    "else\n",
    "    cout << \"Não iseriu!\""
   ]
  },
  {
   "cell_type": "code",
   "execution_count": 161,
   "id": "legislative-dictionary",
   "metadata": {},
   "outputs": [
    {
     "name": "stdout",
     "output_type": "stream",
     "text": [
      "cont:4\n",
      "Inserção ok!"
     ]
    }
   ],
   "source": [
    "if (minhaSacola.inserir(3))\n",
    "    cout << \"Inserção ok!\";\n",
    "else\n",
    "    cout << \"Não iseriu!\""
   ]
  },
  {
   "cell_type": "code",
   "execution_count": 162,
   "id": "north-august",
   "metadata": {},
   "outputs": [
    {
     "name": "stdout",
     "output_type": "stream",
     "text": [
      "cont:5\n",
      "Inserção ok!"
     ]
    }
   ],
   "source": [
    "if (minhaSacola.inserir(4))\n",
    "    cout << \"Inserção ok!\";\n",
    "else\n",
    "    cout << \"Não iseriu!\""
   ]
  },
  {
   "cell_type": "code",
   "execution_count": 163,
   "id": "numerous-cartoon",
   "metadata": {},
   "outputs": [
    {
     "name": "stdout",
     "output_type": "stream",
     "text": [
      "Não iseriu!"
     ]
    }
   ],
   "source": [
    "if (minhaSacola.inserir(5))\n",
    "    cout << \"Inserção ok!\";\n",
    "else\n",
    "    cout << \"Não iseriu!\""
   ]
  },
  {
   "cell_type": "markdown",
   "id": "third-spectrum",
   "metadata": {},
   "source": [
    "### Verifica ocorrência de elemento"
   ]
  },
  {
   "cell_type": "code",
   "execution_count": 164,
   "id": "electoral-pitch",
   "metadata": {},
   "outputs": [],
   "source": [
    "bool Sacola::ocorrencia(int x) {\n",
    "    for (int i = 0 ;  i < contador ; i ++)\n",
    "        if (dados[i] == x)\n",
    "            return true;\n",
    "    return false;\n",
    "}"
   ]
  },
  {
   "cell_type": "code",
   "execution_count": 165,
   "id": "subjective-friendly",
   "metadata": {},
   "outputs": [
    {
     "name": "stdout",
     "output_type": "stream",
     "text": [
      "Existe!"
     ]
    }
   ],
   "source": [
    "if (minhaSacola.ocorrencia(4))\n",
    "    cout << \"Existe!\";\n",
    "else\n",
    "    cout << \"Não existe!\";"
   ]
  },
  {
   "cell_type": "code",
   "execution_count": 166,
   "id": "quick-facing",
   "metadata": {},
   "outputs": [
    {
     "name": "stdout",
     "output_type": "stream",
     "text": [
      "Existe!"
     ]
    }
   ],
   "source": [
    "if (minhaSacola.ocorrencia(1))\n",
    "    cout << \"Existe!\";\n",
    "else\n",
    "    cout << \"Não existe!\";"
   ]
  },
  {
   "cell_type": "code",
   "execution_count": 167,
   "id": "greek-colony",
   "metadata": {},
   "outputs": [
    {
     "name": "stdout",
     "output_type": "stream",
     "text": [
      "Existe!"
     ]
    }
   ],
   "source": [
    "if (minhaSacola.ocorrencia(2))\n",
    "    cout << \"Existe!\";\n",
    "else\n",
    "    cout << \"Não existe!\";"
   ]
  },
  {
   "cell_type": "code",
   "execution_count": 168,
   "id": "front-virginia",
   "metadata": {},
   "outputs": [
    {
     "name": "stdout",
     "output_type": "stream",
     "text": [
      "Existe!"
     ]
    }
   ],
   "source": [
    "if (minhaSacola.ocorrencia(3))\n",
    "    cout << \"Existe!\";\n",
    "else\n",
    "    cout << \"Não existe!\";"
   ]
  },
  {
   "cell_type": "code",
   "execution_count": 169,
   "id": "reserved-barcelona",
   "metadata": {},
   "outputs": [
    {
     "name": "stdout",
     "output_type": "stream",
     "text": [
      "Existe!"
     ]
    }
   ],
   "source": [
    "if (minhaSacola.ocorrencia(4))\n",
    "    cout << \"Existe!\";\n",
    "else\n",
    "    cout << \"Não existe!\";"
   ]
  },
  {
   "cell_type": "code",
   "execution_count": 170,
   "id": "simplified-dylan",
   "metadata": {},
   "outputs": [
    {
     "name": "stdout",
     "output_type": "stream",
     "text": [
      "Não existe!"
     ]
    }
   ],
   "source": [
    "if (minhaSacola.ocorrencia(5))\n",
    "    cout << \"Existe!\";\n",
    "else\n",
    "    cout << \"Não existe!\";"
   ]
  },
  {
   "cell_type": "code",
   "execution_count": 171,
   "id": "loaded-favorite",
   "metadata": {},
   "outputs": [
    {
     "name": "stdout",
     "output_type": "stream",
     "text": [
      "Não existe!"
     ]
    }
   ],
   "source": [
    "if (minhaSacola.ocorrencia(6))\n",
    "    cout << \"Existe!\";\n",
    "else\n",
    "    cout << \"Não existe!\";"
   ]
  },
  {
   "cell_type": "code",
   "execution_count": 172,
   "id": "married-walnut",
   "metadata": {},
   "outputs": [
    {
     "name": "stdout",
     "output_type": "stream",
     "text": [
      "0: Não existe!\n",
      "1: Existe!\n",
      "2: Existe!\n",
      "3: Existe!\n",
      "4: Existe!\n",
      "5: Não existe!\n",
      "6: Não existe!\n"
     ]
    }
   ],
   "source": [
    "for (int i = 0 ; i < 7 ; i ++) \n",
    "    if (minhaSacola.ocorrencia(i))\n",
    "        cout << i << \": Existe!\\n\";\n",
    "    else\n",
    "        cout << i << \": Não existe!\\n\";"
   ]
  },
  {
   "cell_type": "markdown",
   "id": "internal-uncle",
   "metadata": {},
   "source": [
    "### Remoção de elemento da sacola"
   ]
  },
  {
   "cell_type": "code",
   "execution_count": 173,
   "id": "paperback-gazette",
   "metadata": {},
   "outputs": [],
   "source": [
    "bool Sacola::remover(int x) {\n",
    "    if (vazia())\n",
    "        return false;\n",
    "\n",
    "    for (int i = 0 ;  i < contador ; i ++) {\n",
    "        if (dados[i] == x) {\n",
    "            for (int j = i ; j < contador ; j ++) {\n",
    "                dados[j] = dados[j+1];\n",
    "            }\n",
    "            contador--;\n",
    "            cout << \"cont:\" << contador << \"\\n\";\n",
    "            return true;\n",
    "        }\n",
    "    }\n",
    "    return false;\n",
    "    \n",
    "}"
   ]
  },
  {
   "cell_type": "code",
   "execution_count": 174,
   "id": "second-ranking",
   "metadata": {},
   "outputs": [
    {
     "name": "stdout",
     "output_type": "stream",
     "text": [
      "cont:4\n",
      "Remoção ok"
     ]
    }
   ],
   "source": [
    "if (minhaSacola.remover(4))\n",
    "    cout << \"Remoção ok\";\n",
    "else\n",
    "    cout << \"Não removeu\";"
   ]
  },
  {
   "cell_type": "code",
   "execution_count": 175,
   "id": "checked-clark",
   "metadata": {},
   "outputs": [
    {
     "name": "stdout",
     "output_type": "stream",
     "text": [
      "0: Não existe!\n",
      "1: Existe!\n",
      "2: Existe!\n",
      "3: Existe!\n",
      "4: Não existe!\n",
      "5: Não existe!\n",
      "6: Não existe!\n"
     ]
    }
   ],
   "source": [
    "for (int i = 0 ; i < 7 ; i ++) \n",
    "    if (minhaSacola.ocorrencia(i))\n",
    "        cout << i << \": Existe!\\n\";\n",
    "    else\n",
    "        cout << i << \": Não existe!\\n\";"
   ]
  },
  {
   "cell_type": "code",
   "execution_count": 176,
   "id": "positive-collective",
   "metadata": {},
   "outputs": [
    {
     "name": "stdout",
     "output_type": "stream",
     "text": [
      "cont:3\n",
      "Remoção ok"
     ]
    }
   ],
   "source": [
    "if (minhaSacola.remover(3))\n",
    "    cout << \"Remoção ok\";\n",
    "else\n",
    "    cout << \"Não removeu\";"
   ]
  },
  {
   "cell_type": "code",
   "execution_count": 177,
   "id": "affecting-spectrum",
   "metadata": {},
   "outputs": [
    {
     "name": "stdout",
     "output_type": "stream",
     "text": [
      "0: Não existe!\n",
      "1: Existe!\n",
      "2: Existe!\n",
      "3: Existe!\n",
      "4: Não existe!\n",
      "5: Não existe!\n",
      "6: Não existe!\n"
     ]
    }
   ],
   "source": [
    "for (int i = 0 ; i < 7 ; i ++) \n",
    "    if (minhaSacola.ocorrencia(i))\n",
    "        cout << i << \": Existe!\\n\";\n",
    "    else\n",
    "        cout << i << \": Não existe!\\n\";"
   ]
  },
  {
   "cell_type": "code",
   "execution_count": 178,
   "id": "referenced-commission",
   "metadata": {},
   "outputs": [
    {
     "name": "stdout",
     "output_type": "stream",
     "text": [
      "Não removeu"
     ]
    }
   ],
   "source": [
    "if (minhaSacola.remover(5))\n",
    "    cout << \"Remoção ok\";\n",
    "else\n",
    "    cout << \"Não removeu\";"
   ]
  },
  {
   "cell_type": "code",
   "execution_count": 179,
   "id": "charged-northern",
   "metadata": {},
   "outputs": [
    {
     "name": "stdout",
     "output_type": "stream",
     "text": [
      "cont:2\n",
      "Remoção ok"
     ]
    }
   ],
   "source": [
    "if (minhaSacola.remover(3))\n",
    "    cout << \"Remoção ok\";\n",
    "else\n",
    "    cout << \"Não removeu\";"
   ]
  },
  {
   "cell_type": "code",
   "execution_count": 180,
   "id": "ruled-section",
   "metadata": {},
   "outputs": [
    {
     "name": "stdout",
     "output_type": "stream",
     "text": [
      "0: Não existe!\n",
      "1: Existe!\n",
      "2: Existe!\n",
      "3: Não existe!\n",
      "4: Não existe!\n",
      "5: Não existe!\n",
      "6: Não existe!\n"
     ]
    }
   ],
   "source": [
    "for (int i = 0 ; i < 7 ; i ++) \n",
    "    if (minhaSacola.ocorrencia(i))\n",
    "        cout << i << \": Existe!\\n\";\n",
    "    else\n",
    "        cout << i << \": Não existe!\\n\";"
   ]
  },
  {
   "cell_type": "code",
   "execution_count": 181,
   "id": "quiet-bulletin",
   "metadata": {},
   "outputs": [
    {
     "name": "stdout",
     "output_type": "stream",
     "text": [
      "cont:1\n",
      "Remoção ok"
     ]
    }
   ],
   "source": [
    "if (minhaSacola.remover(1))\n",
    "    cout << \"Remoção ok\";\n",
    "else\n",
    "    cout << \"Não removeu\";"
   ]
  },
  {
   "cell_type": "code",
   "execution_count": 182,
   "id": "controlling-removal",
   "metadata": {},
   "outputs": [
    {
     "name": "stdout",
     "output_type": "stream",
     "text": [
      "0: Não existe!\n",
      "1: Não existe!\n",
      "2: Existe!\n",
      "3: Não existe!\n",
      "4: Não existe!\n",
      "5: Não existe!\n",
      "6: Não existe!\n"
     ]
    }
   ],
   "source": [
    "for (int i = 0 ; i < 7 ; i ++) \n",
    "    if (minhaSacola.ocorrencia(i))\n",
    "        cout << i << \": Existe!\\n\";\n",
    "    else\n",
    "        cout << i << \": Não existe!\\n\";"
   ]
  },
  {
   "cell_type": "code",
   "execution_count": 183,
   "id": "external-collector",
   "metadata": {},
   "outputs": [
    {
     "name": "stdout",
     "output_type": "stream",
     "text": [
      "cont:0\n",
      "Remoção ok"
     ]
    }
   ],
   "source": [
    "if (minhaSacola.remover(2))\n",
    "    cout << \"Remoção ok\";\n",
    "else\n",
    "    cout << \"Não removeu\";"
   ]
  },
  {
   "cell_type": "code",
   "execution_count": 184,
   "id": "compliant-absence",
   "metadata": {},
   "outputs": [
    {
     "name": "stdout",
     "output_type": "stream",
     "text": [
      "0: Não existe!\n",
      "1: Não existe!\n",
      "2: Não existe!\n",
      "3: Não existe!\n",
      "4: Não existe!\n",
      "5: Não existe!\n",
      "6: Não existe!\n"
     ]
    }
   ],
   "source": [
    "for (int i = 0 ; i < 7 ; i ++) \n",
    "    if (minhaSacola.ocorrencia(i))\n",
    "        cout << i << \": Existe!\\n\";\n",
    "    else\n",
    "        cout << i << \": Não existe!\\n\";"
   ]
  },
  {
   "cell_type": "code",
   "execution_count": 185,
   "id": "alternate-mitchell",
   "metadata": {},
   "outputs": [
    {
     "name": "stdout",
     "output_type": "stream",
     "text": [
      "Não removeu"
     ]
    }
   ],
   "source": [
    "if (minhaSacola.remover(1))\n",
    "    cout << \"Remoção ok\";\n",
    "else\n",
    "    cout << \"Não removeu\";"
   ]
  },
  {
   "cell_type": "code",
   "execution_count": 186,
   "id": "three-ministry",
   "metadata": {},
   "outputs": [
    {
     "name": "stdout",
     "output_type": "stream",
     "text": [
      "cont:1\n",
      "Remoção ok"
     ]
    }
   ],
   "source": [
    "if (minhaSacola.inserir(2))\n",
    "    cout << \"Remoção ok\";\n",
    "else\n",
    "    cout << \"Não removeu\";"
   ]
  },
  {
   "cell_type": "code",
   "execution_count": 187,
   "id": "received-gazette",
   "metadata": {},
   "outputs": [
    {
     "name": "stdout",
     "output_type": "stream",
     "text": [
      "0: Não existe!\n",
      "1: Não existe!\n",
      "2: Existe!\n",
      "3: Não existe!\n",
      "4: Não existe!\n",
      "5: Não existe!\n",
      "6: Não existe!\n"
     ]
    }
   ],
   "source": [
    "for (int i = 0 ; i < 7 ; i ++) \n",
    "    if (minhaSacola.ocorrencia(i))\n",
    "        cout << i << \": Existe!\\n\";\n",
    "    else\n",
    "        cout << i << \": Não existe!\\n\";"
   ]
  },
  {
   "cell_type": "markdown",
   "id": "miniature-damage",
   "metadata": {},
   "source": [
    "Se a implementação for modificada, os \n",
    "programas que utilizam o ADT não terão que ser \n",
    "alterados"
   ]
  },
  {
   "cell_type": "code",
   "execution_count": null,
   "id": "hairy-tiffany",
   "metadata": {},
   "outputs": [],
   "source": []
  },
  {
   "cell_type": "code",
   "execution_count": null,
   "id": "incorporate-night",
   "metadata": {},
   "outputs": [],
   "source": []
  },
  {
   "cell_type": "code",
   "execution_count": null,
   "id": "coupled-winning",
   "metadata": {},
   "outputs": [],
   "source": []
  },
  {
   "cell_type": "markdown",
   "id": "functioning-demonstration",
   "metadata": {},
   "source": [
    "Presentation copyright 1995, The Benjamin/Cummings Publishing Company,\n",
    "For use with Data Structures and Other Objects\n",
    "by Michael Main and Walter Savitch.\n",
    "\n",
    "Some artwork in the presentation is used with permission from Presentation Task Force\n",
    "(copyright New Vision Technologies Inc) and Corel Gallery Clipart Catalog (copyright\n",
    "Corel Corporation, 3G Graphics Inc, Archive Arts, Cartesia Software, Image Club\n",
    "Graphics Inc, One Mile Up Inc, TechPool Studios, Totem Graphics Inc).\n",
    "\n",
    "Students and instructors who use Data Structures and Other Objects are welcome\n",
    "to use this presentation however they see fit, so long as this copyright notice remains\n",
    "intact.\n",
    "\n",
    "Translation to portuguese by Prof. Maria Carolina Monard, ICMC-USP.\n",
    "\n",
    "Modifications for C++ language by Prof. José Augusto Baranauskas, FFCLRP-USP, 2005\n",
    "\n",
    "Update and modifications for use in Jupyter by Prof. Mateus Tarcinalli Machado, FATEC - Ribeirão Preto, 2020"
   ]
  }
 ],
 "metadata": {
  "kernelspec": {
   "display_name": "C++11",
   "language": "C++11",
   "name": "xcpp11"
  },
  "language_info": {
   "codemirror_mode": "text/x-c++src",
   "file_extension": ".cpp",
   "mimetype": "text/x-c++src",
   "name": "c++",
   "version": "11"
  }
 },
 "nbformat": 4,
 "nbformat_minor": 5
}
